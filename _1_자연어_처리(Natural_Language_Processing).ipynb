{
  "nbformat": 4,
  "nbformat_minor": 0,
  "metadata": {
    "colab": {
      "provenance": [],
      "gpuType": "T4",
      "toc_visible": true,
      "include_colab_link": true
    },
    "kernelspec": {
      "name": "python3",
      "display_name": "Python 3"
    },
    "accelerator": "GPU"
  },
  "cells": [
    {
      "cell_type": "markdown",
      "metadata": {
        "id": "view-in-github",
        "colab_type": "text"
      },
      "source": [
        "<a href=\"https://colab.research.google.com/github/yoonjong8739/NLP_study/blob/master/_1_%EC%9E%90%EC%97%B0%EC%96%B4_%EC%B2%98%EB%A6%AC(Natural_Language_Processing).ipynb\" target=\"_parent\"><img src=\"https://colab.research.google.com/assets/colab-badge.svg\" alt=\"Open In Colab\"/></a>"
      ]
    },
    {
      "cell_type": "markdown",
      "metadata": {
        "id": "YLv9iQK0HOlX"
      },
      "source": [
        "# 자연어 처리(Natural Language Processing)"
      ]
    },
    {
      "cell_type": "markdown",
      "metadata": {
        "id": "inehXda7HZhF"
      },
      "source": [
        "* 자연어는 일상 생활에서 사용하는 언어\n",
        "* 자연어 처리는 자연어의 의미를 분석 처리하는 일\n",
        "* 텍스트 분류, 감성 분석, 문서 요약, 번역, 질의 응답, 음성 인식, 챗봇과 같은 응용"
      ]
    },
    {
      "cell_type": "markdown",
      "metadata": {
        "id": "W53tu5dXuZR_"
      },
      "source": [
        "## 텍스트 처리"
      ]
    },
    {
      "cell_type": "code",
      "metadata": {
        "id": "7gXKJ2H15wF_"
      },
      "source": [
        "s = \"No pain no gain\""
      ],
      "execution_count": null,
      "outputs": []
    },
    {
      "cell_type": "code",
      "metadata": {
        "id": "eDpKqMwU6G6M",
        "colab": {
          "base_uri": "https://localhost:8080/"
        },
        "outputId": "b4c988e3-806d-4f78-e74b-81587d9f2c91"
      },
      "source": [
        "'pain' in s"
      ],
      "execution_count": null,
      "outputs": [
        {
          "output_type": "execute_result",
          "data": {
            "text/plain": [
              "True"
            ]
          },
          "metadata": {},
          "execution_count": 2
        }
      ]
    },
    {
      "cell_type": "code",
      "metadata": {
        "id": "1kXoIXAD6a7J",
        "colab": {
          "base_uri": "https://localhost:8080/"
        },
        "outputId": "335efdf3-785c-4a52-95aa-4248b90f2245"
      },
      "source": [
        "s.split()"
      ],
      "execution_count": null,
      "outputs": [
        {
          "output_type": "execute_result",
          "data": {
            "text/plain": [
              "['No', 'pain', 'no', 'gain']"
            ]
          },
          "metadata": {},
          "execution_count": 3
        }
      ]
    },
    {
      "cell_type": "code",
      "metadata": {
        "id": "71btJnM_6Jp5",
        "colab": {
          "base_uri": "https://localhost:8080/"
        },
        "outputId": "2de4fecd-5678-4842-d3ae-733ad374cb73"
      },
      "source": [
        "s.split().index('gain')  # gain의 위치"
      ],
      "execution_count": null,
      "outputs": [
        {
          "output_type": "execute_result",
          "data": {
            "text/plain": [
              "3"
            ]
          },
          "metadata": {},
          "execution_count": 4
        }
      ]
    },
    {
      "cell_type": "code",
      "metadata": {
        "id": "IRcGQS4h6nnH",
        "colab": {
          "base_uri": "https://localhost:8080/",
          "height": 35
        },
        "outputId": "f6161b89-b542-4b71-af1c-a9fa70279833"
      },
      "source": [
        "s[-4:]"
      ],
      "execution_count": null,
      "outputs": [
        {
          "output_type": "execute_result",
          "data": {
            "text/plain": [
              "'gain'"
            ],
            "application/vnd.google.colaboratory.intrinsic+json": {
              "type": "string"
            }
          },
          "metadata": {},
          "execution_count": 5
        }
      ]
    },
    {
      "cell_type": "code",
      "metadata": {
        "id": "igK5VIBI6PMo",
        "colab": {
          "base_uri": "https://localhost:8080/",
          "height": 35
        },
        "outputId": "088da179-8fec-4b90-b15c-570ce0e90b2a"
      },
      "source": [
        "s.split()[1]"
      ],
      "execution_count": null,
      "outputs": [
        {
          "output_type": "execute_result",
          "data": {
            "text/plain": [
              "'pain'"
            ],
            "application/vnd.google.colaboratory.intrinsic+json": {
              "type": "string"
            }
          },
          "metadata": {},
          "execution_count": 6
        }
      ]
    },
    {
      "cell_type": "code",
      "metadata": {
        "id": "bjIMwR776SIv",
        "colab": {
          "base_uri": "https://localhost:8080/",
          "height": 35
        },
        "outputId": "27baa220-d588-46e4-9c0b-884d0eed2708"
      },
      "source": [
        "s.split()[2][::-1]"
      ],
      "execution_count": null,
      "outputs": [
        {
          "output_type": "execute_result",
          "data": {
            "text/plain": [
              "'on'"
            ],
            "application/vnd.google.colaboratory.intrinsic+json": {
              "type": "string"
            }
          },
          "metadata": {},
          "execution_count": 7
        }
      ]
    },
    {
      "cell_type": "code",
      "metadata": {
        "id": "lqk6iozeks2f"
      },
      "source": [
        "s = '한들도 처리 가능'"
      ],
      "execution_count": null,
      "outputs": []
    },
    {
      "cell_type": "code",
      "metadata": {
        "id": "KLusoOBWkvhI",
        "colab": {
          "base_uri": "https://localhost:8080/"
        },
        "outputId": "3f0a43c1-d78c-4fcd-fde7-ea86ccfe9007"
      },
      "source": [
        "'처리' in s"
      ],
      "execution_count": null,
      "outputs": [
        {
          "output_type": "execute_result",
          "data": {
            "text/plain": [
              "True"
            ]
          },
          "metadata": {},
          "execution_count": 9
        }
      ]
    },
    {
      "cell_type": "code",
      "metadata": {
        "id": "dy75iFEMkycR",
        "colab": {
          "base_uri": "https://localhost:8080/"
        },
        "outputId": "81f3aced-debf-4683-dc05-b4f653e24cfb"
      },
      "source": [
        "s.split()"
      ],
      "execution_count": null,
      "outputs": [
        {
          "output_type": "execute_result",
          "data": {
            "text/plain": [
              "['한들도', '처리', '가능']"
            ]
          },
          "metadata": {},
          "execution_count": 10
        }
      ]
    },
    {
      "cell_type": "code",
      "metadata": {
        "id": "JrAyEDZdk1Jf",
        "colab": {
          "base_uri": "https://localhost:8080/",
          "height": 35
        },
        "outputId": "e9a06578-06c0-40f4-cbbd-b012a075b98a"
      },
      "source": [
        "s.split()[0]"
      ],
      "execution_count": null,
      "outputs": [
        {
          "output_type": "execute_result",
          "data": {
            "text/plain": [
              "'한들도'"
            ],
            "application/vnd.google.colaboratory.intrinsic+json": {
              "type": "string"
            }
          },
          "metadata": {},
          "execution_count": 11
        }
      ]
    },
    {
      "cell_type": "markdown",
      "metadata": {
        "id": "--ANCtg2uPwW"
      },
      "source": [
        "## 영어 처리"
      ]
    },
    {
      "cell_type": "markdown",
      "metadata": {
        "id": "gxPYRMKXuiAM"
      },
      "source": [
        "#### 대소문자 통합"
      ]
    },
    {
      "cell_type": "markdown",
      "metadata": {
        "id": "jkwMuEpRvFI3"
      },
      "source": [
        "* 대소문자를 통합하지 않는다면 컴퓨터는 같은 단어를 다르게 받아들임\n",
        "* 파이썬의 내장 함수 `lower()`, `upper()`를 통해 간단하게 통합 가능"
      ]
    },
    {
      "cell_type": "code",
      "metadata": {
        "id": "q9oloj0ivF34",
        "colab": {
          "base_uri": "https://localhost:8080/"
        },
        "outputId": "c562b488-69cb-4763-a81a-5f9da971ba89"
      },
      "source": [
        "s = 'AbCdEfGh'\n",
        "str_lower = s.lower()\n",
        "str_upper = s.upper()\n",
        "\n",
        "print(str_lower, str_upper)"
      ],
      "execution_count": null,
      "outputs": [
        {
          "output_type": "stream",
          "name": "stdout",
          "text": [
            "abcdefgh ABCDEFGH\n"
          ]
        }
      ]
    },
    {
      "cell_type": "markdown",
      "metadata": {
        "id": "PwDDC4HjPaWn"
      },
      "source": [
        "### 정규화(Normalization)"
      ]
    },
    {
      "cell_type": "code",
      "metadata": {
        "id": "yRo-_ohoPdAz",
        "colab": {
          "base_uri": "https://localhost:8080/"
        },
        "outputId": "f3d1f7ab-67a1-4e28-807e-0e7d10d4adf5"
      },
      "source": [
        "s = \"I visited UK from US on 22-09-20\"\n",
        "print(s)"
      ],
      "execution_count": null,
      "outputs": [
        {
          "output_type": "stream",
          "name": "stdout",
          "text": [
            "I visited UK from US on 22-09-20\n"
          ]
        }
      ]
    },
    {
      "cell_type": "code",
      "metadata": {
        "id": "4nP3cRP_Pp09",
        "colab": {
          "base_uri": "https://localhost:8080/"
        },
        "outputId": "96429e6f-cee3-4000-fbb2-4e4001ba5b8c"
      },
      "source": [
        "new_s = s.replace(\"UK\", \"United-Kingdom\").replace(\"US\", \"United States\").replace(\"-20\", \"-2020\")\n",
        "print(new_s)"
      ],
      "execution_count": null,
      "outputs": [
        {
          "output_type": "stream",
          "name": "stdout",
          "text": [
            "I visited United-Kingdom from United States on 22-09-2020\n"
          ]
        }
      ]
    },
    {
      "cell_type": "markdown",
      "metadata": {
        "id": "mwfz36YS1FCU"
      },
      "source": [
        "### 정규표현식"
      ]
    },
    {
      "cell_type": "markdown",
      "metadata": {
        "id": "myBZJRSL1JLE"
      },
      "source": [
        "* 정규 표현식은 특정 문자들을 편리하게 지정하고 추가, 삭제 가능\n",
        "* 데이터 전처리에서 정규 표현식을 많이 사용\n",
        "* 파이썬에서는 정규 표현식을 지원하는 `re` 패키지 제공"
      ]
    },
    {
      "cell_type": "markdown",
      "metadata": {
        "id": "lLT-dbGQ1NSe"
      },
      "source": [
        "* 정규 표현식 문법\n",
        "  \n",
        "| 특수문자 | 설명 |\n",
        "| - | - |\n",
        "| `.` | 앞의 문자 1개를 표현 |\n",
        "| `?` | 문자 한개를 표현하나 존재할 수도, 존재하지 않을 수도 있음(0개 또는 1개) |\n",
        "| `*` | 앞의 문자가 0개 이상 |\n",
        "| `+` | 앞의 문자가 최소 1개 이상 |\n",
        "| `^` | 뒤의 문자로 문자열이 시작 |\n",
        "| `\\$` | 앞의 문자로 문자열이 끝남 |\n",
        "| `\\{n\\}` | `n`번만큼 반복 |\n",
        "| `\\{n1, n2\\}` | `n1` 이상, `n2` 이하만큼 반복, n2를 지정하지 않으면 `n1` 이상만 반복 |\n",
        "| `\\[ abc \\]` | 안에 문자들 중 한 개의 문자와 매치, a-z처럼 범위도 지정 가능 |\n",
        "| `\\[ ^a \\]` | 해당 문자를 제외하고 매치 |\n",
        "| `a\\|b` | `a` 또는 `b`를 나타냄 |"
      ]
    },
    {
      "cell_type": "markdown",
      "metadata": {
        "id": "JGv0DLZu1PqE"
      },
      "source": [
        "* 정규 표현식에 자주 사용하는 역슬래시(\\\\)를 이용한 문자 규칙\n",
        "\n",
        "| 문자 | 설명 |\n",
        "| - | - |\n",
        "| `\\\\` | 역슬래시 자체를 의미 |\n",
        "| `\\d` | 모든 숫자를 의미, [0-9]와 동일 |\n",
        "| `\\D` | 숫자를 제외한 모든 문자를 의미, [^0-9]와 동일 |\n",
        "| `\\s` | 공백을 의미, [ \\t\\n\\r\\f\\v]와 동일|\n",
        "| `\\S` | 공백을 제외한 모든 문자를 의미, [^ \\t\\n\\r\\f\\v]와 동일 |\n",
        "| `\\w` | 문자와 숫자를 의미, [a-zA-Z0-9]와 동일 |\n",
        "| `\\W` | 문자와 숫자를 제외한 다른 문자를 의미, [^a-zA-Z0-9]와 동일 |"
      ]
    },
    {
      "cell_type": "markdown",
      "metadata": {
        "id": "CEIH8rWo1bJf"
      },
      "source": [
        "#### match\n",
        "\n",
        "* 컴파일한 정규 표현식을 이용해 문자열이 정규 표현식과 맞는지 검사"
      ]
    },
    {
      "cell_type": "code",
      "metadata": {
        "id": "V8UD0NCw8UVm"
      },
      "source": [
        "import re"
      ],
      "execution_count": null,
      "outputs": []
    },
    {
      "cell_type": "code",
      "metadata": {
        "id": "lxzhmTi11wS1",
        "colab": {
          "base_uri": "https://localhost:8080/"
        },
        "outputId": "1c6ad3bd-3f0c-4378-ee3f-3fba75743199"
      },
      "source": [
        "check = 'ab.'\n",
        "\n",
        "print(re.match(check, 'abc'))\n",
        "print(re.match(check, 'c'))\n",
        "print(re.match(check, 'ab'))"
      ],
      "execution_count": null,
      "outputs": [
        {
          "output_type": "stream",
          "name": "stdout",
          "text": [
            "<re.Match object; span=(0, 3), match='abc'>\n",
            "None\n",
            "None\n"
          ]
        }
      ]
    },
    {
      "cell_type": "markdown",
      "metadata": {
        "id": "lICVJ-q_1c_M"
      },
      "source": [
        "#### compile\n",
        "\n",
        "* compile을 사용하면 여러 번 사용할 경우 일반 사용보다 더 빠른 속도를 보임\n",
        "* compile을 통해 정규 표현식을 사용할 경우 `re`가 아닌 컴파일한 객체 이름을 통해 사용해야 함\n"
      ]
    },
    {
      "cell_type": "code",
      "metadata": {
        "id": "jDTSl5S31wms",
        "colab": {
          "base_uri": "https://localhost:8080/"
        },
        "outputId": "033db9d7-7905-4f7e-9d30-8559e6d3f10f"
      },
      "source": [
        "import re\n",
        "import time\n",
        "\n",
        "normal_s_time = time.time()\n",
        "r = 'ab.'\n",
        "for i in range(1000):\n",
        "    re.match(check, 'abc')\n",
        "print('일반 사용 시 소요 시간: {}'.format(time.time() - normal_s_time))\n",
        "\n",
        "compile_s_time = time.time()\n",
        "r = re.compile('ab.')\n",
        "for i in range(1000):\n",
        "    r.match(check)\n",
        "print(\"컴파일 사용 시 소요 시간 : {}\".format(time.time() - compile_s_time))"
      ],
      "execution_count": null,
      "outputs": [
        {
          "output_type": "stream",
          "name": "stdout",
          "text": [
            "일반 사용 시 소요 시간: 0.0013394355773925781\n",
            "컴파일 사용 시 소요 시간 : 0.0006048679351806641\n"
          ]
        }
      ]
    },
    {
      "cell_type": "markdown",
      "metadata": {
        "id": "Z6OcEzN81fNV"
      },
      "source": [
        "#### search\n",
        "\n",
        "* match와 다르게, search는 문자열의 전체를 검사"
      ]
    },
    {
      "cell_type": "code",
      "metadata": {
        "id": "Mg1iU0Kg1w70",
        "colab": {
          "base_uri": "https://localhost:8080/"
        },
        "outputId": "811d38a1-bb74-4307-d7a5-93e79b2e6a0f"
      },
      "source": [
        "check = 'ab?'\n",
        "\n",
        "print(re.search('a', check))\n",
        "print(re.match('kkkab', check))\n",
        "print(re.search('kkkab', check))\n",
        "print(re.match('ab', check))"
      ],
      "execution_count": null,
      "outputs": [
        {
          "output_type": "stream",
          "name": "stdout",
          "text": [
            "<re.Match object; span=(0, 1), match='a'>\n",
            "None\n",
            "None\n",
            "<re.Match object; span=(0, 2), match='ab'>\n"
          ]
        }
      ]
    },
    {
      "cell_type": "markdown",
      "metadata": {
        "id": "Nmkvc1741g5P"
      },
      "source": [
        "#### split\n",
        "\n",
        "* 정규표현식에 해당하는 문자열을 기준으로 문자열을 나눔"
      ]
    },
    {
      "cell_type": "code",
      "metadata": {
        "id": "6bLf5Hgs1xZk",
        "colab": {
          "base_uri": "https://localhost:8080/"
        },
        "outputId": "fde6681c-588e-4657-9f9f-ff34c00e6626"
      },
      "source": [
        "r = re.compile(' ')\n",
        "print(r.split('abc abbc abcabc'))\n",
        "\n",
        "r = re.compile('c')\n",
        "print(r.split('abc abbc abcabc'))\n",
        "\n",
        "r = re.compile('[1-9]')\n",
        "print(r.split('s1abc 2v3s 4sss 5a'))"
      ],
      "execution_count": null,
      "outputs": [
        {
          "output_type": "stream",
          "name": "stdout",
          "text": [
            "['abc', 'abbc', 'abcabc']\n",
            "['ab', ' abb', ' ab', 'ab', '']\n",
            "['s', 'abc ', 'v', 's ', 'sss ', 'a']\n"
          ]
        }
      ]
    },
    {
      "cell_type": "markdown",
      "metadata": {
        "id": "fTor-yg_1h49"
      },
      "source": [
        "#### sub\n",
        "\n",
        "* 정규 표현식과 일치하는 부분을 다른 문자열로 교체\n"
      ]
    },
    {
      "cell_type": "code",
      "metadata": {
        "id": "ZlqOk9DY1xtF",
        "colab": {
          "base_uri": "https://localhost:8080/"
        },
        "outputId": "de73a23b-9e8c-4121-ce17-8c178db0e723"
      },
      "source": [
        "print(re.sub('[a-z]', 'abcdefg', '1'))\n",
        "print(re.sub('[^a-z]', 'abc defg', '1'))"
      ],
      "execution_count": null,
      "outputs": [
        {
          "output_type": "stream",
          "name": "stdout",
          "text": [
            "1\n",
            "abc defg\n"
          ]
        }
      ]
    },
    {
      "cell_type": "markdown",
      "metadata": {
        "id": "BUzY6Vz31i8U"
      },
      "source": [
        "#### findall\n",
        "\n",
        "* 컴파일한 정규 표현식을 이용해 정규 표현식과 맞는 모든 문자(열)을 리스트로 반환\n"
      ]
    },
    {
      "cell_type": "code",
      "metadata": {
        "id": "Osi3UYYv1yHP",
        "colab": {
          "base_uri": "https://localhost:8080/"
        },
        "outputId": "40ff863a-0e06-465f-e7ba-e657b85b6a4e"
      },
      "source": [
        "print(re.findall('[\\d]', '1ab 2cd 3ef 4g'))\n",
        "print(re.findall('[\\W]', '!abcd@@#'))"
      ],
      "execution_count": null,
      "outputs": [
        {
          "output_type": "stream",
          "name": "stdout",
          "text": [
            "['1', '2', '3', '4']\n",
            "['!', '@', '@', '#']\n"
          ]
        }
      ]
    },
    {
      "cell_type": "markdown",
      "metadata": {
        "id": "NxLLmwJu1kTt"
      },
      "source": [
        "#### finditer\n",
        "\n",
        "* 컴파일한 정규 표현식을 이용해 정규 표현식과 맞는 모든 문자(열)을 `iterator` 객체로 반환\n",
        "* `iterator` 객체를 이용하면 생성된 객체를 하나씩 자동으로 가져올 수 있어 처리가 간편함"
      ]
    },
    {
      "cell_type": "code",
      "metadata": {
        "id": "6NOFG3Hy1ycd",
        "colab": {
          "base_uri": "https://localhost:8080/"
        },
        "outputId": "0802fa62-45e1-4893-c4fa-76c0acd3bf8f"
      },
      "source": [
        "iter = re.finditer('[\\d]', '1ab 2cd 3ef 4g')\n",
        "print([ i for i in iter ])\n",
        "\n",
        "iter2 = re.finditer('[\\W]', '!abcd@@#')\n",
        "print([i for i in iter2 ])"
      ],
      "execution_count": null,
      "outputs": [
        {
          "output_type": "stream",
          "name": "stdout",
          "text": [
            "[<re.Match object; span=(0, 1), match='1'>, <re.Match object; span=(4, 5), match='2'>, <re.Match object; span=(8, 9), match='3'>, <re.Match object; span=(12, 13), match='4'>]\n",
            "[<re.Match object; span=(0, 1), match='!'>, <re.Match object; span=(5, 6), match='@'>, <re.Match object; span=(6, 7), match='@'>, <re.Match object; span=(7, 8), match='#'>]\n"
          ]
        }
      ]
    },
    {
      "cell_type": "markdown",
      "metadata": {
        "id": "Sn4C67oivxxN"
      },
      "source": [
        "### 토큰화(Tokenization)"
      ]
    },
    {
      "cell_type": "markdown",
      "metadata": {
        "id": "eqPZHQZPzFvc"
      },
      "source": [
        "* 특수문자에 대한 처리\n",
        "\n",
        "  + 단어에 일반적으로 사용되는 알파벳, 숫자와는 다르게 특수문자는 별도의 처리가 필요            \n",
        "  + 일괄적으로 단어의 특수문자를 제거하는 방법도 있지만 특수문자가 단어에 특별한 의미를 가질 때 이를 학습에 반영시키지 못할 수도 있음\n",
        "  + 특수문자에 대한 일괄적인 제거보다는 데이터의 특성을 파악하고, 처리를 하는 것이 중요\n"
      ]
    },
    {
      "cell_type": "markdown",
      "metadata": {
        "id": "FrZTwnlTyzYV"
      },
      "source": [
        "* 특정 단어에 대한 토큰 분리 방법\n",
        "\n",
        "  + 한 단어지만 토큰으로 분리할 때 판단되는 문자들로 이루어진 we're, United Kingdom 등의 단어는 어떻게 분리해야 할지 선택이 필요   \n",
        "  + we're은 한 단어이나 분리해도 단어의 의미에 별 영향을 끼치진 않지만 United Kingdom은 두 단어가 모여 특정 의미를 가리켜 분리해선 안됨\n",
        "  + 사용자가 단어의 특성을 고려해 토큰을 분리하는 것이 학습에 유리"
      ]
    },
    {
      "cell_type": "markdown",
      "metadata": {
        "id": "U9_k9rA6v0KM"
      },
      "source": [
        "#### 단어 토큰화"
      ]
    },
    {
      "cell_type": "markdown",
      "metadata": {
        "id": "t02uSgcSv6IQ"
      },
      "source": [
        "* 파이썬 내장 함수인 `split`을 활용해 단어 토큰화\n",
        "* 공백을 기준으로 단어를 분리"
      ]
    },
    {
      "cell_type": "code",
      "metadata": {
        "id": "bV6CNv1Sv62F",
        "colab": {
          "base_uri": "https://localhost:8080/"
        },
        "outputId": "105fed54-8e26-4d22-c783-63dccb000218"
      },
      "source": [
        "sentence = \"Time is gold\"\n",
        "tokens = [ x for x in sentence.split(' ') ]\n",
        "tokens"
      ],
      "execution_count": null,
      "outputs": [
        {
          "output_type": "execute_result",
          "data": {
            "text/plain": [
              "['Time', 'is', 'gold']"
            ]
          },
          "metadata": {},
          "execution_count": 23
        }
      ]
    },
    {
      "cell_type": "markdown",
      "metadata": {
        "id": "x_PDCM7YwEi9"
      },
      "source": [
        "* 토큰화는 `nltk` 패키지의 `tokenize` 모듈을 사용해 손쉽게 구현 가능\n",
        "* 단어 토큰화는 `word_tokenize()` 함수를 사용해 구현 가능"
      ]
    },
    {
      "cell_type": "code",
      "metadata": {
        "id": "isgXAhV7wEo7",
        "colab": {
          "base_uri": "https://localhost:8080/"
        },
        "outputId": "ea11007c-6322-40e9-aaeb-2b278aa3b76b"
      },
      "source": [
        "import nltk\n",
        "nltk.download('punkt')"
      ],
      "execution_count": null,
      "outputs": [
        {
          "output_type": "stream",
          "name": "stderr",
          "text": [
            "[nltk_data] Downloading package punkt to /root/nltk_data...\n",
            "[nltk_data]   Unzipping tokenizers/punkt.zip.\n"
          ]
        },
        {
          "output_type": "execute_result",
          "data": {
            "text/plain": [
              "True"
            ]
          },
          "metadata": {},
          "execution_count": 24
        }
      ]
    },
    {
      "cell_type": "code",
      "metadata": {
        "id": "vXkXYwoywHAl",
        "colab": {
          "base_uri": "https://localhost:8080/"
        },
        "outputId": "dcde5e37-9fd4-4ae1-a196-c72bf03e95e1"
      },
      "source": [
        "from nltk.tokenize import word_tokenize\n",
        "\n",
        "tokens = word_tokenize(sentence)\n",
        "tokens"
      ],
      "execution_count": null,
      "outputs": [
        {
          "output_type": "execute_result",
          "data": {
            "text/plain": [
              "['Time', 'is', 'gold']"
            ]
          },
          "metadata": {},
          "execution_count": 25
        }
      ]
    },
    {
      "cell_type": "markdown",
      "metadata": {
        "id": "VcmIjFyRwJpW"
      },
      "source": [
        "#### 문장 토큰화"
      ]
    },
    {
      "cell_type": "markdown",
      "metadata": {
        "id": "7Jkvs6Jov7QF"
      },
      "source": [
        "* 문장 토큰화는 줄바꿈 문자('\\n')를 기준으로 문장을 분리"
      ]
    },
    {
      "cell_type": "code",
      "metadata": {
        "id": "MkJ60tlTv7Ux",
        "colab": {
          "base_uri": "https://localhost:8080/"
        },
        "outputId": "636b9fff-c0f2-4a9d-e1b6-4999da669fd0"
      },
      "source": [
        "sentences = 'The world is a beautiful book.\\nBut of little use to him who cannot read it.'\n",
        "print(sentences)\n",
        "\n",
        "tokens = [ x for x in sentences.split('\\n') ]\n",
        "tokens"
      ],
      "execution_count": null,
      "outputs": [
        {
          "output_type": "stream",
          "name": "stdout",
          "text": [
            "The world is a beautiful book.\n",
            "But of little use to him who cannot read it.\n"
          ]
        },
        {
          "output_type": "execute_result",
          "data": {
            "text/plain": [
              "['The world is a beautiful book.',\n",
              " 'But of little use to him who cannot read it.']"
            ]
          },
          "metadata": {},
          "execution_count": 26
        }
      ]
    },
    {
      "cell_type": "markdown",
      "metadata": {
        "id": "nDSxHUHTwVzG"
      },
      "source": [
        "* 문장 토큰화는 `sent_tokenize()` 함수를 사용해 구현 가능"
      ]
    },
    {
      "cell_type": "code",
      "metadata": {
        "id": "0oR8iHWiwV6f",
        "colab": {
          "base_uri": "https://localhost:8080/"
        },
        "outputId": "7d6233bd-cc64-4299-edbb-402c4567283a"
      },
      "source": [
        "from nltk.tokenize import sent_tokenize\n",
        "\n",
        "tokens = sent_tokenize(sentences)\n",
        "tokens"
      ],
      "execution_count": null,
      "outputs": [
        {
          "output_type": "execute_result",
          "data": {
            "text/plain": [
              "['The world is a beautiful book.',\n",
              " 'But of little use to him who cannot read it.']"
            ]
          },
          "metadata": {},
          "execution_count": 27
        }
      ]
    },
    {
      "cell_type": "markdown",
      "metadata": {
        "id": "1Ca3lOErwbGN"
      },
      "source": [
        "* 문장 토큰화에서는 온점(.)의 처리를 위해 이진 분류기를 사용할 수도 있음\n",
        "* 온점은 문장과 문장을 구분해줄 수도, 문장에 포함된 단어를 구성할 수도 있기 때문에 이를 이진 분류기로 분류해 더욱 좋은 토큰화를 구현할 수도 있음"
      ]
    },
    {
      "cell_type": "markdown",
      "metadata": {
        "id": "hVPmqCnV2Ydt"
      },
      "source": [
        "#### 정규 표현식을 이용한 토큰화"
      ]
    },
    {
      "cell_type": "markdown",
      "metadata": {
        "id": "_hkxXlZb2j0O"
      },
      "source": [
        "* 토큰화 기능을 직접 구현할 수도 있지만 정규 표현식을 이용해 간단하게 구현할 수도 있음\n",
        "* `nltk` 패키지는 정규 표현식을 사용하는 토큰화 도구인 `RegexpTokenizer`를 제공"
      ]
    },
    {
      "cell_type": "code",
      "metadata": {
        "id": "9KOEXR7R2cyV",
        "colab": {
          "base_uri": "https://localhost:8080/"
        },
        "outputId": "ec9fb13f-3947-4a9f-e9e8-a0ded43b4585"
      },
      "source": [
        "from nltk.tokenize import RegexpTokenizer\n",
        "\n",
        "sentence = 'Where there\\'s a will, there\\'s a way'\n",
        "\n",
        "tokenizer = RegexpTokenizer(\"[\\w]+\")\n",
        "tokens = tokenizer.tokenize(sentence)\n",
        "tokens"
      ],
      "execution_count": null,
      "outputs": [
        {
          "output_type": "execute_result",
          "data": {
            "text/plain": [
              "['Where', 'there', 's', 'a', 'will', 'there', 's', 'a', 'way']"
            ]
          },
          "metadata": {},
          "execution_count": 28
        }
      ]
    },
    {
      "cell_type": "code",
      "metadata": {
        "id": "Lhdy85nr2fTt",
        "colab": {
          "base_uri": "https://localhost:8080/"
        },
        "outputId": "fd75e99b-fffc-4526-808f-fb35fc76f90f"
      },
      "source": [
        "tokenizer = RegexpTokenizer(\"[\\s]+\", gaps=True)\n",
        "tokens = tokenizer.tokenize(sentence)\n",
        "tokens"
      ],
      "execution_count": null,
      "outputs": [
        {
          "output_type": "execute_result",
          "data": {
            "text/plain": [
              "['Where', \"there's\", 'a', 'will,', \"there's\", 'a', 'way']"
            ]
          },
          "metadata": {},
          "execution_count": 29
        }
      ]
    },
    {
      "cell_type": "markdown",
      "metadata": {
        "id": "KMmCGvTFirsi"
      },
      "source": [
        "#### 케라스를 이용한 토큰화"
      ]
    },
    {
      "cell_type": "code",
      "metadata": {
        "id": "pghLPLfSirOJ",
        "colab": {
          "base_uri": "https://localhost:8080/"
        },
        "outputId": "d7e9ecae-8fba-4bda-879f-ebfa6fc9ac09"
      },
      "source": [
        "from keras.preprocessing.text import text_to_word_sequence\n",
        "\n",
        "sentence = 'Where there\\'s a will, there\\'s a way'\n",
        "\n",
        "text_to_word_sequence(sentence)"
      ],
      "execution_count": null,
      "outputs": [
        {
          "output_type": "execute_result",
          "data": {
            "text/plain": [
              "['where', \"there's\", 'a', 'will', \"there's\", 'a', 'way']"
            ]
          },
          "metadata": {},
          "execution_count": 30
        }
      ]
    },
    {
      "cell_type": "markdown",
      "metadata": {
        "id": "wOZj2hkzi9Ki"
      },
      "source": [
        "#### TextBlob을 이용한 토큰화"
      ]
    },
    {
      "cell_type": "code",
      "metadata": {
        "id": "oIDyF_gLi84n",
        "colab": {
          "base_uri": "https://localhost:8080/"
        },
        "outputId": "18af06d0-39f9-45ea-a3b3-bb040a32abc3"
      },
      "source": [
        "from textblob import TextBlob\n",
        "\n",
        "sentence = 'Where there\\'s a will, there\\'s a way'\n",
        "\n",
        "blob = TextBlob(sentence)\n",
        "#blob\n",
        "blob.words"
      ],
      "execution_count": null,
      "outputs": [
        {
          "output_type": "execute_result",
          "data": {
            "text/plain": [
              "WordList(['Where', 'there', \"'s\", 'a', 'will', 'there', \"'s\", 'a', 'way'])"
            ]
          },
          "metadata": {},
          "execution_count": 31
        }
      ]
    },
    {
      "cell_type": "markdown",
      "metadata": {
        "id": "F5Vvqfynlf9Z"
      },
      "source": [
        "#### 기타 토크나이저\n",
        "\n",
        "* WhiteSpaceTokenizer: 공백을 기준으로 토큰화\n",
        "* WordPunktTokenizer: 텍스트를 알파벳 문자, 숫자, 알파벳 이외의 문자 리스트로 토큰화\n",
        "* MWETokenizer: MWE는 Multi-Word Expression의 약자로 'republic of korea'와 같이 여러 단어로 이뤄진 특정 그룹을 한 개체로 취급\n",
        "* TweetTokenizer: 트위터에서 사용되는 문장의 토큰화를 위해서 만들어졌으며, 문장 속 감성의 표현과 감정을 다룸"
      ]
    },
    {
      "cell_type": "markdown",
      "metadata": {
        "id": "pQh3deRog1It"
      },
      "source": [
        "### n-gram 추출\n",
        "\n",
        "* n-gram은 n개의 어절이나 음절을 연쇄적으로 분류해 그 빈도를 분석\n",
        "* n=1일 때는 unigram, n=2일 때는 bigram, n=3일 때는 trigram으로 불림"
      ]
    },
    {
      "cell_type": "code",
      "metadata": {
        "id": "2Jj0RiGng7bV",
        "colab": {
          "base_uri": "https://localhost:8080/"
        },
        "outputId": "5c752dca-3650-46c6-a3be-acf0e2949924"
      },
      "source": [
        "from nltk import ngrams\n",
        "\n",
        "sentence = 'There is no royal road to learning'\n",
        "bigram = list(ngrams(sentence.split(), 2))\n",
        "print(bigram)"
      ],
      "execution_count": null,
      "outputs": [
        {
          "output_type": "stream",
          "name": "stdout",
          "text": [
            "[('There', 'is'), ('is', 'no'), ('no', 'royal'), ('royal', 'road'), ('road', 'to'), ('to', 'learning')]\n"
          ]
        }
      ]
    },
    {
      "cell_type": "code",
      "metadata": {
        "id": "-sEZ6IfGh2q2",
        "colab": {
          "base_uri": "https://localhost:8080/"
        },
        "outputId": "74037ebe-0539-4f65-c767-989e19bc4b31"
      },
      "source": [
        "sentence = 'There is no royal road to learning'\n",
        "trigram = list(ngrams(sentence.split(), 3))\n",
        "print(trigram)"
      ],
      "execution_count": null,
      "outputs": [
        {
          "output_type": "stream",
          "name": "stdout",
          "text": [
            "[('There', 'is', 'no'), ('is', 'no', 'royal'), ('no', 'royal', 'road'), ('royal', 'road', 'to'), ('road', 'to', 'learning')]\n"
          ]
        }
      ]
    },
    {
      "cell_type": "code",
      "metadata": {
        "id": "0g1yxT62iMvA",
        "colab": {
          "base_uri": "https://localhost:8080/"
        },
        "outputId": "5579fac3-ae0f-4248-b38f-64fa627cfd4d"
      },
      "source": [
        "from textblob import TextBlob\n",
        "\n",
        "blob = TextBlob(sentence)\n",
        "blob.ngrams(n=2)  # bigram"
      ],
      "execution_count": null,
      "outputs": [
        {
          "output_type": "execute_result",
          "data": {
            "text/plain": [
              "[WordList(['There', 'is']),\n",
              " WordList(['is', 'no']),\n",
              " WordList(['no', 'royal']),\n",
              " WordList(['royal', 'road']),\n",
              " WordList(['road', 'to']),\n",
              " WordList(['to', 'learning'])]"
            ]
          },
          "metadata": {},
          "execution_count": 34
        }
      ]
    },
    {
      "cell_type": "code",
      "metadata": {
        "id": "2hkjduP0idli",
        "colab": {
          "base_uri": "https://localhost:8080/"
        },
        "outputId": "ca362063-df53-44e6-d83b-6ad0538f03d1"
      },
      "source": [
        "blob.ngrams(n=3)  # trigram"
      ],
      "execution_count": null,
      "outputs": [
        {
          "output_type": "execute_result",
          "data": {
            "text/plain": [
              "[WordList(['There', 'is', 'no']),\n",
              " WordList(['is', 'no', 'royal']),\n",
              " WordList(['no', 'royal', 'road']),\n",
              " WordList(['royal', 'road', 'to']),\n",
              " WordList(['road', 'to', 'learning'])]"
            ]
          },
          "metadata": {},
          "execution_count": 35
        }
      ]
    },
    {
      "cell_type": "markdown",
      "metadata": {
        "id": "1iRYvPrOZbGQ"
      },
      "source": [
        "### PoS(Parts of Speech) 태깅"
      ]
    },
    {
      "cell_type": "markdown",
      "metadata": {
        "id": "2xRajzx4_5ng"
      },
      "source": [
        "* PoS는 품사를 의미하며, PoS 태깅은 문장 내에서 단어에 해당하는 각 품사를 태깅"
      ]
    },
    {
      "cell_type": "code",
      "metadata": {
        "id": "Vo4n1kbt_4Pt",
        "colab": {
          "base_uri": "https://localhost:8080/"
        },
        "outputId": "0ac44f41-d519-4ba3-bd23-db8ad3704542"
      },
      "source": [
        "import nltk\n",
        "nltk.download('punkt')\n",
        "\n",
        "from nltk import word_tokenize"
      ],
      "execution_count": null,
      "outputs": [
        {
          "output_type": "stream",
          "name": "stderr",
          "text": [
            "[nltk_data] Downloading package punkt to /root/nltk_data...\n",
            "[nltk_data]   Package punkt is already up-to-date!\n"
          ]
        }
      ]
    },
    {
      "cell_type": "code",
      "metadata": {
        "id": "OcVS13f8ATMT",
        "colab": {
          "base_uri": "https://localhost:8080/"
        },
        "outputId": "57346e8e-0aee-4ed8-e742-aec4a068d088"
      },
      "source": [
        "words = word_tokenize('Think like man of action and act like man of thought.')\n",
        "words"
      ],
      "execution_count": null,
      "outputs": [
        {
          "output_type": "execute_result",
          "data": {
            "text/plain": [
              "['Think',\n",
              " 'like',\n",
              " 'man',\n",
              " 'of',\n",
              " 'action',\n",
              " 'and',\n",
              " 'act',\n",
              " 'like',\n",
              " 'man',\n",
              " 'of',\n",
              " 'thought',\n",
              " '.']"
            ]
          },
          "metadata": {},
          "execution_count": 37
        }
      ]
    },
    {
      "cell_type": "code",
      "metadata": {
        "id": "YvoGzfP2AjqJ",
        "colab": {
          "base_uri": "https://localhost:8080/"
        },
        "outputId": "9afa472e-3bd0-47dc-c19e-238df673c8ec"
      },
      "source": [
        "nltk.download('averaged_perceptron_tagger')\n",
        "nltk.pos_tag(words)"
      ],
      "execution_count": null,
      "outputs": [
        {
          "output_type": "stream",
          "name": "stderr",
          "text": [
            "[nltk_data] Downloading package averaged_perceptron_tagger to\n",
            "[nltk_data]     /root/nltk_data...\n",
            "[nltk_data]   Unzipping taggers/averaged_perceptron_tagger.zip.\n"
          ]
        },
        {
          "output_type": "execute_result",
          "data": {
            "text/plain": [
              "[('Think', 'VBP'),\n",
              " ('like', 'IN'),\n",
              " ('man', 'NN'),\n",
              " ('of', 'IN'),\n",
              " ('action', 'NN'),\n",
              " ('and', 'CC'),\n",
              " ('act', 'NN'),\n",
              " ('like', 'IN'),\n",
              " ('man', 'NN'),\n",
              " ('of', 'IN'),\n",
              " ('thought', 'NN'),\n",
              " ('.', '.')]"
            ]
          },
          "metadata": {},
          "execution_count": 38
        }
      ]
    },
    {
      "cell_type": "code",
      "metadata": {
        "id": "5AaI3nFwB_qL",
        "colab": {
          "base_uri": "https://localhost:8080/"
        },
        "outputId": "8ba1fc26-a806-4493-b6bc-7c1b74e7073b"
      },
      "source": [
        "word = word_tokenize('A rolling stone gathers no moss')\n",
        "nltk.pos_tag(word)"
      ],
      "execution_count": null,
      "outputs": [
        {
          "output_type": "execute_result",
          "data": {
            "text/plain": [
              "[('A', 'DT'),\n",
              " ('rolling', 'VBG'),\n",
              " ('stone', 'NN'),\n",
              " ('gathers', 'NNS'),\n",
              " ('no', 'DT'),\n",
              " ('moss', 'NN')]"
            ]
          },
          "metadata": {},
          "execution_count": 39
        }
      ]
    },
    {
      "cell_type": "markdown",
      "metadata": {
        "id": "AWUanibELmmi"
      },
      "source": [
        "* PoS 태그 리스트"
      ]
    },
    {
      "cell_type": "markdown",
      "metadata": {
        "id": "8RGD-0sVAwaV"
      },
      "source": [
        "| Number | Tag | Description | 설명 |\n",
        "| -- | -- | -- | -- |\n",
        "| 1 | `CC` | Coordinating conjunction |\n",
        "| 2 | `CD` | Cardinal number |\n",
        "| 3 | `DT` | Determiner | 한정사\n",
        "| 4 | `EX` | Existential there |\n",
        "| 5 | `FW` | Foreign word | 외래어 |\n",
        "| 6 | `IN` | Preposition or subordinating conjunction | 전치사 또는 종속 접속사 |\n",
        "| 7 | `JJ` | Adjective | 형용사 |\n",
        "| 8 | `JJR` | Adjective, comparative | 헝용사, 비교급 |\n",
        "| 9 | `JJS` | Adjective, superlative | 형용사, 최상급 |\n",
        "| 10 | `LS` | List item marker |\n",
        "| 11 | `MD` | Modal |\n",
        "| 12 | `NN` | Noun, singular or mass | 명사, 단수형 |\n",
        "| 13 | `NNS` | Noun, plural | 명사, 복수형 |\n",
        "| 14 | `NNP` | Proper noun, singular | 고유명사, 단수형 |\n",
        "| 15 | `NNPS` | Proper noun, plural | 고유명사, 복수형 |\n",
        "| 16 | `PDT` | Predeterminer | 전치한정사 |\n",
        "| 17 | `POS` | Possessive ending | 소유형용사 |\n",
        "| 18 | `PRP` | Personal pronoun | 인칭 대명사 |\n",
        "| 19 | `PRP$` | Possessive pronoun | 소유 대명사 |\n",
        "| 20 | `RB` | Adverb | 부사 |\n",
        "| 21 | `RBR` | Adverb, comparative | 부사, 비교급 |\n",
        "| 22 | `RBS` | Adverb, superlative | 부사, 최상급 |\n",
        "| 23 | `RP` | Particle |\n",
        "| 24 | `SYM` | Symbol | 기호\n",
        "| 25 | `TO` | to |\n",
        "| 26 | `UH` | Interjection | 감탄사 |\n",
        "| 27 | `VB` | Verb, base form | 동사, 원형 |\n",
        "| 28 | `VBD` | Verb, past tense | 동사, 과거형 |\n",
        "| 29 | `VBG` | Verb, gerund or present participle | 동사, 현재분사 |\n",
        "| 30 | `VBN` | Verb, past participle | 동사, 과거분사 |\n",
        "| 31 | `VBP` | Verb, non-3rd person singular present | 동사, 비3인칭 단수 |\n",
        "| 32 | `VBZ` | Verb, 3rd person singular present | 동사, 3인칭 단수 |\n",
        "| 33 | `WDT` | Wh-determiner |\n",
        "| 34 | `WP` | Wh-pronoun |\n",
        "| 35 | `WP$` | Possessive wh-pronoun |\n",
        "| 36 | `WRB` | Wh-adverb |\n"
      ]
    },
    {
      "cell_type": "markdown",
      "metadata": {
        "id": "fmDuyhjxugFN"
      },
      "source": [
        "### 불용어 제거"
      ]
    },
    {
      "cell_type": "markdown",
      "metadata": {
        "id": "Fj2rvWzwuy7o"
      },
      "source": [
        "* 영어의 전치사(on, in), 한국어의 조사(을, 를) 등은 분석에 필요하지 않은 경우가 많음\n",
        "* 길이가 짧은 단어, 등장 빈도 수가 적은 단어들도 분석에 큰 영향을 주지 않음\n",
        "* 일반적으로 사용되는 도구들은 해당 단어들을 제거해주지만 완벽하게 제거되지는 않음\n",
        "* 사용자가 불용어 사전을 만들어 해당 단어들을 제거하는 것이 좋음\n",
        "* 도구들이 걸러주지 않는 전치사, 조사 등을 불용어 사전을 만들어 불필요한 단어들을 제거\n"
      ]
    },
    {
      "cell_type": "code",
      "metadata": {
        "id": "hjFp9u9quy_t",
        "colab": {
          "base_uri": "https://localhost:8080/"
        },
        "outputId": "777b67b7-f113-43dd-ccb2-837746557344"
      },
      "source": [
        "stop_words = 'on in the'\n",
        "stop_words = stop_words.split(' ')\n",
        "stop_words"
      ],
      "execution_count": null,
      "outputs": [
        {
          "output_type": "execute_result",
          "data": {
            "text/plain": [
              "['on', 'in', 'the']"
            ]
          },
          "metadata": {},
          "execution_count": 40
        }
      ]
    },
    {
      "cell_type": "code",
      "metadata": {
        "id": "9nKwwtR6uzCr",
        "colab": {
          "base_uri": "https://localhost:8080/"
        },
        "outputId": "a022114c-fb76-45a5-fd1c-b6136ea3b5e7"
      },
      "source": [
        "sentence = 'singer on the stage'\n",
        "sentence = sentence.split(' ')\n",
        "\n",
        "nouns = []\n",
        "for noun in sentence:\n",
        "    if noun not in stop_words:\n",
        "        nouns.append(noun)\n",
        "\n",
        "print(nouns)"
      ],
      "execution_count": null,
      "outputs": [
        {
          "output_type": "stream",
          "name": "stdout",
          "text": [
            "['singer', 'stage']\n"
          ]
        }
      ]
    },
    {
      "cell_type": "markdown",
      "metadata": {
        "id": "ykTS2yeMMEXF"
      },
      "source": [
        "* `nltk` 패키지에 불용어 리스트 사용"
      ]
    },
    {
      "cell_type": "code",
      "metadata": {
        "id": "XlDpO3e-MHwa",
        "colab": {
          "base_uri": "https://localhost:8080/"
        },
        "outputId": "ea6ba324-6988-4897-faaa-7ec7d6a74a0e"
      },
      "source": [
        "import nltk\n",
        "nltk.download('stopwords')\n",
        "\n",
        "from nltk import word_tokenize\n",
        "from nltk.corpus import stopwords"
      ],
      "execution_count": null,
      "outputs": [
        {
          "output_type": "stream",
          "name": "stderr",
          "text": [
            "[nltk_data] Downloading package stopwords to /root/nltk_data...\n",
            "[nltk_data]   Unzipping corpora/stopwords.zip.\n"
          ]
        }
      ]
    },
    {
      "cell_type": "code",
      "metadata": {
        "id": "1jC408N2MRR0",
        "colab": {
          "base_uri": "https://localhost:8080/"
        },
        "outputId": "ad46d09e-034f-4c1d-9aaa-6c6d61956613"
      },
      "source": [
        "stop_words = stopwords.words('english')\n",
        "print(stop_words)"
      ],
      "execution_count": null,
      "outputs": [
        {
          "output_type": "stream",
          "name": "stdout",
          "text": [
            "['i', 'me', 'my', 'myself', 'we', 'our', 'ours', 'ourselves', 'you', \"you're\", \"you've\", \"you'll\", \"you'd\", 'your', 'yours', 'yourself', 'yourselves', 'he', 'him', 'his', 'himself', 'she', \"she's\", 'her', 'hers', 'herself', 'it', \"it's\", 'its', 'itself', 'they', 'them', 'their', 'theirs', 'themselves', 'what', 'which', 'who', 'whom', 'this', 'that', \"that'll\", 'these', 'those', 'am', 'is', 'are', 'was', 'were', 'be', 'been', 'being', 'have', 'has', 'had', 'having', 'do', 'does', 'did', 'doing', 'a', 'an', 'the', 'and', 'but', 'if', 'or', 'because', 'as', 'until', 'while', 'of', 'at', 'by', 'for', 'with', 'about', 'against', 'between', 'into', 'through', 'during', 'before', 'after', 'above', 'below', 'to', 'from', 'up', 'down', 'in', 'out', 'on', 'off', 'over', 'under', 'again', 'further', 'then', 'once', 'here', 'there', 'when', 'where', 'why', 'how', 'all', 'any', 'both', 'each', 'few', 'more', 'most', 'other', 'some', 'such', 'no', 'nor', 'not', 'only', 'own', 'same', 'so', 'than', 'too', 'very', 's', 't', 'can', 'will', 'just', 'don', \"don't\", 'should', \"should've\", 'now', 'd', 'll', 'm', 'o', 're', 've', 'y', 'ain', 'aren', \"aren't\", 'couldn', \"couldn't\", 'didn', \"didn't\", 'doesn', \"doesn't\", 'hadn', \"hadn't\", 'hasn', \"hasn't\", 'haven', \"haven't\", 'isn', \"isn't\", 'ma', 'mightn', \"mightn't\", 'mustn', \"mustn't\", 'needn', \"needn't\", 'shan', \"shan't\", 'shouldn', \"shouldn't\", 'wasn', \"wasn't\", 'weren', \"weren't\", 'won', \"won't\", 'wouldn', \"wouldn't\"]\n"
          ]
        }
      ]
    },
    {
      "cell_type": "code",
      "metadata": {
        "id": "zShCTozjMYWG",
        "colab": {
          "base_uri": "https://localhost:8080/"
        },
        "outputId": "449fb4bf-8436-46ef-f6af-2d34cdf4f451"
      },
      "source": [
        "s = 'If you do not walk today, you will have to run tomorrow.'\n",
        "words = word_tokenize(s)\n",
        "print(words)"
      ],
      "execution_count": null,
      "outputs": [
        {
          "output_type": "stream",
          "name": "stdout",
          "text": [
            "['If', 'you', 'do', 'not', 'walk', 'today', ',', 'you', 'will', 'have', 'to', 'run', 'tomorrow', '.']\n"
          ]
        }
      ]
    },
    {
      "cell_type": "code",
      "metadata": {
        "id": "qd_gC78EOPdv",
        "colab": {
          "base_uri": "https://localhost:8080/"
        },
        "outputId": "d392f325-8236-4e77-c0de-659d0e24ca23"
      },
      "source": [
        "no_stopwords = []\n",
        "for w in words:\n",
        "    if w not in stop_words:\n",
        "        no_stopwords.append(w)\n",
        "\n",
        "print(no_stopwords)"
      ],
      "execution_count": null,
      "outputs": [
        {
          "output_type": "stream",
          "name": "stdout",
          "text": [
            "['If', 'walk', 'today', ',', 'run', 'tomorrow', '.']\n"
          ]
        }
      ]
    },
    {
      "cell_type": "markdown",
      "metadata": {
        "id": "LXO6E3E--gQy"
      },
      "source": [
        "### 철자 교정"
      ]
    },
    {
      "cell_type": "markdown",
      "metadata": {
        "id": "AM6lTU2w-q7A"
      },
      "source": [
        "* 텍스트에 오탈자가 존재하는 경우가 있음\n",
        "* 예를 들어, 단어 'apple'을 'aplpe'과 같이 철자 순서가 바뀌거나 spple 같이 철자가 틀릴 수 있음\n",
        "* 사람이 적절한 추정을 통해 이해하는데는 문제가 없지만, 컴퓨터는 이러한 단어를 그대로 받아들여 처리가 필요\n",
        "* 철자 교정 알고리즘은 이미 개발되어 워드 프로세서나 다양한 서비스에서 많이 적용됨\n",
        "됨"
      ]
    },
    {
      "cell_type": "code",
      "metadata": {
        "id": "m3hUcYaYRwVP",
        "colab": {
          "base_uri": "https://localhost:8080/"
        },
        "outputId": "8d60a839-aafb-438a-f742-ec1d8ddd052a"
      },
      "source": [
        "!pip install autocorrect\n",
        "from autocorrect import Speller"
      ],
      "execution_count": null,
      "outputs": [
        {
          "output_type": "stream",
          "name": "stdout",
          "text": [
            "Collecting autocorrect\n",
            "  Downloading autocorrect-2.6.1.tar.gz (622 kB)\n",
            "\u001b[?25l     \u001b[90m━━━━━━━━━━━━━━━━━━━━━━━━━━━━━━━━━━━━━━━━\u001b[0m \u001b[32m0.0/622.8 kB\u001b[0m \u001b[31m?\u001b[0m eta \u001b[36m-:--:--\u001b[0m\r\u001b[2K     \u001b[91m━━━━━━━━━━━━━━\u001b[0m\u001b[90m╺\u001b[0m\u001b[90m━━━━━━━━━━━━━━━━━━━━━━━━\u001b[0m \u001b[32m225.3/622.8 kB\u001b[0m \u001b[31m6.5 MB/s\u001b[0m eta \u001b[36m0:00:01\u001b[0m\r\u001b[2K     \u001b[90m━━━━━━━━━━━━━━━━━━━━━━━━━━━━━━━━━━━━━━━\u001b[0m \u001b[32m622.8/622.8 kB\u001b[0m \u001b[31m9.2 MB/s\u001b[0m eta \u001b[36m0:00:00\u001b[0m\n",
            "\u001b[?25h  Preparing metadata (setup.py) ... \u001b[?25l\u001b[?25hdone\n",
            "Building wheels for collected packages: autocorrect\n",
            "  Building wheel for autocorrect (setup.py) ... \u001b[?25l\u001b[?25hdone\n",
            "  Created wheel for autocorrect: filename=autocorrect-2.6.1-py3-none-any.whl size=622363 sha256=233b84ad285ef6cf72407246c881cd7dc7d9735f5708bb553a6284885ca13782\n",
            "  Stored in directory: /root/.cache/pip/wheels/b5/7b/6d/b76b29ce11ff8e2521c8c7dd0e5bfee4fb1789d76193124343\n",
            "Successfully built autocorrect\n",
            "Installing collected packages: autocorrect\n",
            "Successfully installed autocorrect-2.6.1\n"
          ]
        }
      ]
    },
    {
      "cell_type": "code",
      "metadata": {
        "id": "4H4TaYE7REcI",
        "colab": {
          "base_uri": "https://localhost:8080/"
        },
        "outputId": "1caee250-3aab-4173-e7e1-4911bab993f5"
      },
      "source": [
        "spell = Speller(\"en\")\n",
        "\n",
        "print(spell('peoplle'))\n",
        "print(spell('poeple'))\n",
        "print(spell('peopae'))"
      ],
      "execution_count": null,
      "outputs": [
        {
          "output_type": "stream",
          "name": "stdout",
          "text": [
            "people\n",
            "people\n",
            "people\n"
          ]
        }
      ]
    },
    {
      "cell_type": "code",
      "metadata": {
        "id": "VO03TM_KSL4V",
        "colab": {
          "base_uri": "https://localhost:8080/"
        },
        "outputId": "a85fca2e-3cf1-4efd-9560-a94719113db0"
      },
      "source": [
        "s = word_tokenize(\"Earlly biird catchess the womm.\")\n",
        "print(s)\n",
        "\n",
        "ss = ' '.join([ spell(s) for s in s ])\n",
        "print(ss)"
      ],
      "execution_count": null,
      "outputs": [
        {
          "output_type": "stream",
          "name": "stdout",
          "text": [
            "['Earlly', 'biird', 'catchess', 'the', 'womm', '.']\n",
            "Early bird catches the worm .\n"
          ]
        }
      ]
    },
    {
      "cell_type": "markdown",
      "metadata": {
        "id": "H4_svyI2myE3"
      },
      "source": [
        "### 언어의 단수화와 복수화"
      ]
    },
    {
      "cell_type": "code",
      "metadata": {
        "id": "3tDE8Aeumxml",
        "colab": {
          "base_uri": "https://localhost:8080/"
        },
        "outputId": "a3f18a87-b7f0-4135-de9d-1745f3dbc338"
      },
      "source": [
        "from textblob import TextBlob\n",
        "\n",
        "words = 'apples bananas oranges'\n",
        "tb = TextBlob(words)\n",
        "\n",
        "print(tb.words)\n",
        "print(tb.words.singularize())  # 단수화"
      ],
      "execution_count": null,
      "outputs": [
        {
          "output_type": "stream",
          "name": "stdout",
          "text": [
            "['apples', 'bananas', 'oranges']\n",
            "['apple', 'banana', 'orange']\n"
          ]
        }
      ]
    },
    {
      "cell_type": "code",
      "metadata": {
        "id": "WLqLAg6Snfi8",
        "colab": {
          "base_uri": "https://localhost:8080/"
        },
        "outputId": "40d48582-cac8-41df-82d9-83e6e305c87b"
      },
      "source": [
        "words = 'car train airplane'\n",
        "tb = TextBlob(words)\n",
        "\n",
        "print(tb.words)\n",
        "print(tb.words.pluralize())  # 복수화"
      ],
      "execution_count": null,
      "outputs": [
        {
          "output_type": "stream",
          "name": "stdout",
          "text": [
            "['car', 'train', 'airplane']\n",
            "['cars', 'trains', 'airplanes']\n"
          ]
        }
      ]
    },
    {
      "cell_type": "markdown",
      "metadata": {
        "id": "Q-9i7ubNX0mD"
      },
      "source": [
        "### 어간(Stemming) 추출"
      ]
    },
    {
      "cell_type": "code",
      "metadata": {
        "id": "3_28SNykTEbf"
      },
      "source": [
        "import nltk\n",
        "stemmer = nltk.stem.PorterStemmer()"
      ],
      "execution_count": null,
      "outputs": []
    },
    {
      "cell_type": "code",
      "metadata": {
        "id": "LCwnOPFNTP2v",
        "colab": {
          "base_uri": "https://localhost:8080/",
          "height": 35
        },
        "outputId": "a2b3059a-11f3-4aec-d3bf-cae337ed4199"
      },
      "source": [
        "stemmer.stem('application')"
      ],
      "execution_count": null,
      "outputs": [
        {
          "output_type": "execute_result",
          "data": {
            "text/plain": [
              "'applic'"
            ],
            "application/vnd.google.colaboratory.intrinsic+json": {
              "type": "string"
            }
          },
          "metadata": {},
          "execution_count": 54
        }
      ]
    },
    {
      "cell_type": "code",
      "metadata": {
        "id": "O6O5VoWcTQuO",
        "colab": {
          "base_uri": "https://localhost:8080/",
          "height": 35
        },
        "outputId": "87ae6030-ec3d-4abd-962f-24bbc3a6c6aa"
      },
      "source": [
        "stemmer.stem('biginning')"
      ],
      "execution_count": null,
      "outputs": [
        {
          "output_type": "execute_result",
          "data": {
            "text/plain": [
              "'bigin'"
            ],
            "application/vnd.google.colaboratory.intrinsic+json": {
              "type": "string"
            }
          },
          "metadata": {},
          "execution_count": 55
        }
      ]
    },
    {
      "cell_type": "code",
      "metadata": {
        "id": "aHvL3FirTUQO",
        "colab": {
          "base_uri": "https://localhost:8080/",
          "height": 35
        },
        "outputId": "0c2140e9-ef43-48bb-915d-690c14b78e8b"
      },
      "source": [
        "stemmer.stem('catches')"
      ],
      "execution_count": null,
      "outputs": [
        {
          "output_type": "execute_result",
          "data": {
            "text/plain": [
              "'catch'"
            ],
            "application/vnd.google.colaboratory.intrinsic+json": {
              "type": "string"
            }
          },
          "metadata": {},
          "execution_count": 56
        }
      ]
    },
    {
      "cell_type": "code",
      "metadata": {
        "id": "4B7VXlfMTiAj",
        "colab": {
          "base_uri": "https://localhost:8080/",
          "height": 35
        },
        "outputId": "5f7fafcc-f84e-47eb-f388-ca2fd62e0151"
      },
      "source": [
        "stemmer.stem('education')"
      ],
      "execution_count": null,
      "outputs": [
        {
          "output_type": "execute_result",
          "data": {
            "text/plain": [
              "'educ'"
            ],
            "application/vnd.google.colaboratory.intrinsic+json": {
              "type": "string"
            }
          },
          "metadata": {},
          "execution_count": 57
        }
      ]
    },
    {
      "cell_type": "markdown",
      "metadata": {
        "id": "9-zauW83XwJ8"
      },
      "source": [
        "### 표제어(Lemmatization) 추출"
      ]
    },
    {
      "cell_type": "code",
      "metadata": {
        "id": "FTHh2W06TlPm",
        "colab": {
          "base_uri": "https://localhost:8080/"
        },
        "outputId": "4f729e5a-4050-4700-8128-0024657c2b19"
      },
      "source": [
        "import nltk\n",
        "nltk.download('wordnet')\n",
        "\n",
        "from nltk.stem.wordnet import WordNetLemmatizer\n",
        "lemmatizer = WordNetLemmatizer()"
      ],
      "execution_count": null,
      "outputs": [
        {
          "output_type": "stream",
          "name": "stderr",
          "text": [
            "[nltk_data] Downloading package wordnet to /root/nltk_data...\n"
          ]
        }
      ]
    },
    {
      "cell_type": "code",
      "metadata": {
        "id": "LF_jyPwaTzV5",
        "colab": {
          "base_uri": "https://localhost:8080/",
          "height": 35
        },
        "outputId": "dcf2fe4c-b47f-4c2b-e7ad-f45da65265ea"
      },
      "source": [
        "lemmatizer.lemmatize('application')"
      ],
      "execution_count": null,
      "outputs": [
        {
          "output_type": "execute_result",
          "data": {
            "text/plain": [
              "'application'"
            ],
            "application/vnd.google.colaboratory.intrinsic+json": {
              "type": "string"
            }
          },
          "metadata": {},
          "execution_count": 59
        }
      ]
    },
    {
      "cell_type": "code",
      "metadata": {
        "id": "WrFilM4jWF9p",
        "colab": {
          "base_uri": "https://localhost:8080/",
          "height": 35
        },
        "outputId": "5cbc9faa-bed1-4664-d9da-28221327eb90"
      },
      "source": [
        "lemmatizer.lemmatize('beginning')"
      ],
      "execution_count": null,
      "outputs": [
        {
          "output_type": "execute_result",
          "data": {
            "text/plain": [
              "'beginning'"
            ],
            "application/vnd.google.colaboratory.intrinsic+json": {
              "type": "string"
            }
          },
          "metadata": {},
          "execution_count": 60
        }
      ]
    },
    {
      "cell_type": "code",
      "metadata": {
        "id": "T1pwiZSgWV8Y",
        "colab": {
          "base_uri": "https://localhost:8080/",
          "height": 35
        },
        "outputId": "a85ef23b-3a05-47ee-c9f1-c9684569b48c"
      },
      "source": [
        "lemmatizer.lemmatize('catches')"
      ],
      "execution_count": null,
      "outputs": [
        {
          "output_type": "execute_result",
          "data": {
            "text/plain": [
              "'catch'"
            ],
            "application/vnd.google.colaboratory.intrinsic+json": {
              "type": "string"
            }
          },
          "metadata": {},
          "execution_count": 61
        }
      ]
    },
    {
      "cell_type": "code",
      "metadata": {
        "id": "MoKJNaJ8WT2x",
        "colab": {
          "base_uri": "https://localhost:8080/",
          "height": 35
        },
        "outputId": "2679cc3f-ce6e-4b6e-acea-d694d9b5afae"
      },
      "source": [
        "lemmatizer.lemmatize('education')"
      ],
      "execution_count": null,
      "outputs": [
        {
          "output_type": "execute_result",
          "data": {
            "text/plain": [
              "'education'"
            ],
            "application/vnd.google.colaboratory.intrinsic+json": {
              "type": "string"
            }
          },
          "metadata": {},
          "execution_count": 62
        }
      ]
    },
    {
      "cell_type": "markdown",
      "metadata": {
        "id": "YauGaSZHWg3R"
      },
      "source": [
        "### 개체명 인식(Named Entity Recognition)\n",
        "\n"
      ]
    },
    {
      "cell_type": "code",
      "metadata": {
        "id": "t5tcQw9FW8fi",
        "colab": {
          "base_uri": "https://localhost:8080/"
        },
        "outputId": "5bbc4f57-382e-470a-ebec-6782662f729e"
      },
      "source": [
        "import nltk\n",
        "from nltk import word_tokenize\n",
        "nltk.download('maxent_ne_chunker')\n",
        "nltk.download('words')"
      ],
      "execution_count": null,
      "outputs": [
        {
          "output_type": "stream",
          "name": "stderr",
          "text": [
            "[nltk_data] Downloading package maxent_ne_chunker to\n",
            "[nltk_data]     /root/nltk_data...\n",
            "[nltk_data]   Unzipping chunkers/maxent_ne_chunker.zip.\n",
            "[nltk_data] Downloading package words to /root/nltk_data...\n",
            "[nltk_data]   Unzipping corpora/words.zip.\n"
          ]
        },
        {
          "output_type": "execute_result",
          "data": {
            "text/plain": [
              "True"
            ]
          },
          "metadata": {},
          "execution_count": 63
        }
      ]
    },
    {
      "cell_type": "code",
      "metadata": {
        "id": "WqWjHuthXWp4",
        "colab": {
          "base_uri": "https://localhost:8080/"
        },
        "outputId": "21b616a6-2479-444b-bf54-69ef2d876671"
      },
      "source": [
        "s = \"Rome was not built in a day.\"\n",
        "print(s)"
      ],
      "execution_count": null,
      "outputs": [
        {
          "output_type": "stream",
          "name": "stdout",
          "text": [
            "Rome was not built in a day.\n"
          ]
        }
      ]
    },
    {
      "cell_type": "code",
      "metadata": {
        "id": "NnnBqd-YXkwa",
        "colab": {
          "base_uri": "https://localhost:8080/"
        },
        "outputId": "687231d5-1f0c-4b24-ed5b-018a137f23d0"
      },
      "source": [
        "tags = nltk.pos_tag(word_tokenize(s))\n",
        "print(tags)"
      ],
      "execution_count": null,
      "outputs": [
        {
          "output_type": "stream",
          "name": "stdout",
          "text": [
            "[('Rome', 'NNP'), ('was', 'VBD'), ('not', 'RB'), ('built', 'VBN'), ('in', 'IN'), ('a', 'DT'), ('day', 'NN'), ('.', '.')]\n"
          ]
        }
      ]
    },
    {
      "cell_type": "code",
      "metadata": {
        "id": "kjnWKrpPYWax",
        "colab": {
          "base_uri": "https://localhost:8080/"
        },
        "outputId": "2ee47435-d2e1-4a79-9a8b-6a6e730bce8d"
      },
      "source": [
        "entities = nltk.ne_chunk(tags, binary=True)\n",
        "print(entities)"
      ],
      "execution_count": null,
      "outputs": [
        {
          "output_type": "stream",
          "name": "stdout",
          "text": [
            "(S (NE Rome/NNP) was/VBD not/RB built/VBN in/IN a/DT day/NN ./.)\n"
          ]
        }
      ]
    },
    {
      "cell_type": "markdown",
      "metadata": {
        "id": "IOVaBRHZauv8"
      },
      "source": [
        "### 단어 중의성(Lexical Ambiguity)"
      ]
    },
    {
      "cell_type": "code",
      "metadata": {
        "id": "j9Y7u8Kqawho",
        "colab": {
          "base_uri": "https://localhost:8080/"
        },
        "outputId": "c3e73abf-0071-453d-b69c-6878781e965b"
      },
      "source": [
        "import nltk\n",
        "from nltk.wsd import lesk\n",
        "\n",
        "s = 'I saw bats.'\n",
        "print(word_tokenize(s))\n",
        "print(lesk(word_tokenize(s), 'saw'))\n",
        "print(lesk(word_tokenize(s), 'bats'))"
      ],
      "execution_count": null,
      "outputs": [
        {
          "output_type": "stream",
          "name": "stdout",
          "text": [
            "['I', 'saw', 'bats', '.']\n",
            "Synset('saw.v.01')\n",
            "Synset('squash_racket.n.01')\n"
          ]
        }
      ]
    },
    {
      "cell_type": "markdown",
      "metadata": {
        "id": "FU4T_80TuSdp"
      },
      "source": [
        "## 한국어 처리"
      ]
    },
    {
      "cell_type": "markdown",
      "metadata": {
        "id": "8qeUwjUq3lkH"
      },
      "source": [
        "### 정규표현식"
      ]
    },
    {
      "cell_type": "markdown",
      "metadata": {
        "id": "1HSV73e530v8"
      },
      "source": [
        "* 한국어 정규 표현식도 대부분의 문법은 영어 정규 표현식과 같음\n",
        "* 한국어는 자음과 모음이 분리되어 있기 때문에, 문법을 지정할 때는 자음과 모음을 동시에 고려해야 함"
      ]
    },
    {
      "cell_type": "markdown",
      "metadata": {
        "id": "DKYR7b3U44RM"
      },
      "source": [
        "#### match\n",
        "\n",
        "* 컴파일한 정규 표현식을 이용해 문자열이 정규 표현식과 맞는지 검사"
      ]
    },
    {
      "cell_type": "code",
      "metadata": {
        "id": "AgwMiWUe4zJN",
        "colab": {
          "base_uri": "https://localhost:8080/"
        },
        "outputId": "87b69f32-a31a-4da4-fd9a-4f3a15258c85"
      },
      "source": [
        "import re\n",
        "\n",
        "check = '[ㄱ-ㅎ]+'\n",
        "\n",
        "print(re.match(check, 'ㅎ 안녕하세요.'))\n",
        "print(re.match(check, '안녕하세요. ㅎ'))"
      ],
      "execution_count": null,
      "outputs": [
        {
          "output_type": "stream",
          "name": "stdout",
          "text": [
            "<re.Match object; span=(0, 1), match='ㅎ'>\n",
            "None\n"
          ]
        }
      ]
    },
    {
      "cell_type": "markdown",
      "metadata": {
        "id": "oVxRcA8Z457T"
      },
      "source": [
        "#### search\n",
        "\n",
        "* match와 다르게, search는 문자열의 전체를 검사"
      ]
    },
    {
      "cell_type": "code",
      "metadata": {
        "id": "WWS4rgxq48N7",
        "colab": {
          "base_uri": "https://localhost:8080/"
        },
        "outputId": "6c80436c-e9f2-461b-abbc-c81321570c62"
      },
      "source": [
        "check = '[ㄱ-ㅎ|ㅏ-ㅣ]'\n",
        "\n",
        "print(re.search(check, 'ㄱㅏ 안녕하세요'))\n",
        "print(re.match(check, '안 ㄱㅏ'))\n",
        "print(re.search(check, '안 ㄱㅏ'))"
      ],
      "execution_count": null,
      "outputs": [
        {
          "output_type": "stream",
          "name": "stdout",
          "text": [
            "<re.Match object; span=(0, 1), match='ㄱ'>\n",
            "None\n",
            "<re.Match object; span=(2, 3), match='ㄱ'>\n"
          ]
        }
      ]
    },
    {
      "cell_type": "markdown",
      "metadata": {
        "id": "eCWlVO4S48Ts"
      },
      "source": [
        "#### sub\n",
        "\n",
        "* 정규 표현식과 일치하는 부분을 다른 문자열로 교체"
      ]
    },
    {
      "cell_type": "code",
      "metadata": {
        "id": "5Kv_oNRs48fU",
        "colab": {
          "base_uri": "https://localhost:8080/"
        },
        "outputId": "b4bfee69-b59f-4ffb-ddd0-0bcea9d4f9ec"
      },
      "source": [
        "import re\n",
        "\n",
        "print(re.sub('[가-힣]', '가나다라마바사', '1'))\n",
        "print(re.sub('[^가-힣]', '가나다라마바사', '1'))"
      ],
      "execution_count": null,
      "outputs": [
        {
          "output_type": "stream",
          "name": "stdout",
          "text": [
            "1\n",
            "가나다라마바사\n"
          ]
        }
      ]
    },
    {
      "cell_type": "markdown",
      "metadata": {
        "id": "Pe_7bBBdvlXQ"
      },
      "source": [
        "### 토큰화(Tokenization)"
      ]
    },
    {
      "cell_type": "markdown",
      "metadata": {
        "id": "6aEfI5YHysxv"
      },
      "source": [
        "* 한국어를 학습 데이터를 사용할 때는 언어의 특성으로 인해 추가로 고려해야 할 사항이 존재\n",
        "* 한국어는 띄어쓰기를 준수하지 않아도 의미가 전달되는 경우가 많아 띄어쓰기가 지켜지지 않을 가능성이 존재\n",
        "* 띄어쓰기가 지켜지지 않으면 정상적인 토큰 분리가 이루어지지 않음\n",
        "* 한국어는 형태소라는 개념이 존재해 추가로 고려해주어야만 함\n",
        "* '그는', '그가' 등의 단어들은 같은 의미를 가리키지만 텍스트 처리에서는 다르게 받아들일 수 있어 처리를 해줘야 함"
      ]
    },
    {
      "cell_type": "markdown",
      "metadata": {
        "id": "765_lRMqwlZg"
      },
      "source": [
        "#### 한국어 자연어 처리 konlpy와 형태소 분석기 MeCab 설치\n",
        "\n",
        "* https://raw.githubusercontent.com/konlpy/konlpy/master/scripts/mecab.sh"
      ]
    },
    {
      "cell_type": "code",
      "metadata": {
        "id": "8CoLF80pwnc9",
        "colab": {
          "base_uri": "https://localhost:8080/"
        },
        "outputId": "c689b5bf-bf82-4806-f0ce-38ed80917fa2"
      },
      "source": [
        "!set -x \\\n",
        "&& pip install konlpy\n",
        "#&& curl -s https://raw.githubusercontent.com/konlpy/konlpy/master/scripts/mecab.sh | bash -x"
      ],
      "execution_count": null,
      "outputs": [
        {
          "output_type": "stream",
          "name": "stdout",
          "text": [
            "+ pip install konlpy\n",
            "Collecting konlpy\n",
            "  Downloading konlpy-0.6.0-py2.py3-none-any.whl (19.4 MB)\n",
            "\u001b[2K     \u001b[90m━━━━━━━━━━━━━━━━━━━━━━━━━━━━━━━━━━━━━━━━\u001b[0m \u001b[32m19.4/19.4 MB\u001b[0m \u001b[31m43.8 MB/s\u001b[0m eta \u001b[36m0:00:00\u001b[0m\n",
            "\u001b[?25hCollecting JPype1>=0.7.0 (from konlpy)\n",
            "  Downloading JPype1-1.4.1-cp310-cp310-manylinux_2_12_x86_64.manylinux2010_x86_64.whl (465 kB)\n",
            "\u001b[2K     \u001b[90m━━━━━━━━━━━━━━━━━━━━━━━━━━━━━━━━━━━━━━\u001b[0m \u001b[32m465.3/465.3 kB\u001b[0m \u001b[31m44.1 MB/s\u001b[0m eta \u001b[36m0:00:00\u001b[0m\n",
            "\u001b[?25hRequirement already satisfied: lxml>=4.1.0 in /usr/local/lib/python3.10/dist-packages (from konlpy) (4.9.3)\n",
            "Requirement already satisfied: numpy>=1.6 in /usr/local/lib/python3.10/dist-packages (from konlpy) (1.22.4)\n",
            "Requirement already satisfied: packaging in /usr/local/lib/python3.10/dist-packages (from JPype1>=0.7.0->konlpy) (23.1)\n",
            "Installing collected packages: JPype1, konlpy\n",
            "Successfully installed JPype1-1.4.1 konlpy-0.6.0\n",
            "+ curl -s https://raw.githubusercontent.com/konlpy/konlpy/master/scripts/mecab.sh\n",
            "+ bash -x\n",
            "+ mecab_dicdir=/usr/local/lib/mecab/dic/mecab-ko-dic\n",
            "+ set -e\n",
            "++ uname\n",
            "+ os=Linux\n",
            "+ [[ ! Linux == \\L\\i\\n\\u\\x ]]\n",
            "+ hash sudo\n",
            "+ sudo=sudo\n",
            "+ python=python3\n",
            "+ hash pyenv\n",
            "+ at_user_site=\n",
            "++ check_python_site_location_is_writable\n",
            "++ python3 -\n",
            "+ [[ 1 == \\0 ]]\n",
            "+ hash automake\n",
            "+ hash mecab\n",
            "+ echo 'Install mecab-ko'\n",
            "Install mecab-ko\n",
            "+ install_mecab_ko\n",
            "+ cd /tmp\n",
            "+ curl -LO https://bitbucket.org/eunjeon/mecab-ko/downloads/mecab-0.996-ko-0.9.2.tar.gz\n",
            "  % Total    % Received % Xferd  Average Speed   Time    Time     Time  Current\n",
            "                                 Dload  Upload   Total   Spent    Left  Speed\n",
            "  0     0    0     0    0     0      0      0 --:--:-- --:--:-- --:--:--     0\n",
            "100 1381k  100 1381k    0     0   864k      0  0:00:01  0:00:01 --:--:-- 8819k\n",
            "+ tar zxfv mecab-0.996-ko-0.9.2.tar.gz\n",
            "mecab-0.996-ko-0.9.2/\n",
            "mecab-0.996-ko-0.9.2/example/\n",
            "mecab-0.996-ko-0.9.2/example/example.cpp\n",
            "mecab-0.996-ko-0.9.2/example/example_lattice.cpp\n",
            "mecab-0.996-ko-0.9.2/example/example_lattice.c\n",
            "mecab-0.996-ko-0.9.2/example/example.c\n",
            "mecab-0.996-ko-0.9.2/example/thread_test.cpp\n",
            "mecab-0.996-ko-0.9.2/mecab-config.in\n",
            "mecab-0.996-ko-0.9.2/man/\n",
            "mecab-0.996-ko-0.9.2/man/Makefile.am\n",
            "mecab-0.996-ko-0.9.2/man/mecab.1\n",
            "mecab-0.996-ko-0.9.2/man/Makefile.in\n",
            "mecab-0.996-ko-0.9.2/mecab.iss.in\n",
            "mecab-0.996-ko-0.9.2/config.guess\n",
            "mecab-0.996-ko-0.9.2/README\n",
            "mecab-0.996-ko-0.9.2/COPYING\n",
            "mecab-0.996-ko-0.9.2/CHANGES.md\n",
            "mecab-0.996-ko-0.9.2/README.md\n",
            "mecab-0.996-ko-0.9.2/INSTALL\n",
            "mecab-0.996-ko-0.9.2/config.sub\n",
            "mecab-0.996-ko-0.9.2/configure.in\n",
            "mecab-0.996-ko-0.9.2/swig/\n",
            "mecab-0.996-ko-0.9.2/swig/Makefile\n",
            "mecab-0.996-ko-0.9.2/swig/version.h.in\n",
            "mecab-0.996-ko-0.9.2/swig/version.h\n",
            "mecab-0.996-ko-0.9.2/swig/MeCab.i\n",
            "mecab-0.996-ko-0.9.2/aclocal.m4\n",
            "mecab-0.996-ko-0.9.2/LGPL\n",
            "mecab-0.996-ko-0.9.2/Makefile.am\n",
            "mecab-0.996-ko-0.9.2/configure\n",
            "mecab-0.996-ko-0.9.2/tests/\n",
            "mecab-0.996-ko-0.9.2/tests/autolink/\n",
            "mecab-0.996-ko-0.9.2/tests/autolink/unk.def\n",
            "mecab-0.996-ko-0.9.2/tests/autolink/dicrc\n",
            "mecab-0.996-ko-0.9.2/tests/autolink/dic.csv\n",
            "mecab-0.996-ko-0.9.2/tests/autolink/test\n",
            "mecab-0.996-ko-0.9.2/tests/autolink/char.def\n",
            "mecab-0.996-ko-0.9.2/tests/autolink/matrix.def\n",
            "mecab-0.996-ko-0.9.2/tests/autolink/test.gld\n",
            "mecab-0.996-ko-0.9.2/tests/t9/\n",
            "mecab-0.996-ko-0.9.2/tests/t9/unk.def\n",
            "mecab-0.996-ko-0.9.2/tests/t9/ipadic.pl\n",
            "mecab-0.996-ko-0.9.2/tests/t9/dicrc\n",
            "mecab-0.996-ko-0.9.2/tests/t9/dic.csv\n",
            "mecab-0.996-ko-0.9.2/tests/t9/test\n",
            "mecab-0.996-ko-0.9.2/tests/t9/char.def\n",
            "mecab-0.996-ko-0.9.2/tests/t9/matrix.def\n",
            "mecab-0.996-ko-0.9.2/tests/t9/mkdic.pl\n",
            "mecab-0.996-ko-0.9.2/tests/t9/test.gld\n",
            "mecab-0.996-ko-0.9.2/tests/cost-train/\n",
            "mecab-0.996-ko-0.9.2/tests/cost-train/ipa.train\n",
            "mecab-0.996-ko-0.9.2/tests/cost-train/ipa.test\n",
            "mecab-0.996-ko-0.9.2/tests/cost-train/seed/\n",
            "mecab-0.996-ko-0.9.2/tests/cost-train/seed/rewrite.def\n",
            "mecab-0.996-ko-0.9.2/tests/cost-train/seed/feature.def\n",
            "mecab-0.996-ko-0.9.2/tests/cost-train/seed/unk.def\n",
            "mecab-0.996-ko-0.9.2/tests/cost-train/seed/dicrc\n",
            "mecab-0.996-ko-0.9.2/tests/cost-train/seed/dic.csv\n",
            "mecab-0.996-ko-0.9.2/tests/cost-train/seed/char.def\n",
            "mecab-0.996-ko-0.9.2/tests/cost-train/seed/matrix.def\n",
            "mecab-0.996-ko-0.9.2/tests/run-eval.sh\n",
            "mecab-0.996-ko-0.9.2/tests/run-cost-train.sh\n",
            "mecab-0.996-ko-0.9.2/tests/Makefile.am\n",
            "mecab-0.996-ko-0.9.2/tests/katakana/\n",
            "mecab-0.996-ko-0.9.2/tests/katakana/unk.def\n",
            "mecab-0.996-ko-0.9.2/tests/katakana/dicrc\n",
            "mecab-0.996-ko-0.9.2/tests/katakana/dic.csv\n",
            "mecab-0.996-ko-0.9.2/tests/katakana/test\n",
            "mecab-0.996-ko-0.9.2/tests/katakana/char.def\n",
            "mecab-0.996-ko-0.9.2/tests/katakana/matrix.def\n",
            "mecab-0.996-ko-0.9.2/tests/katakana/test.gld\n",
            "mecab-0.996-ko-0.9.2/tests/eval/\n",
            "mecab-0.996-ko-0.9.2/tests/eval/answer\n",
            "mecab-0.996-ko-0.9.2/tests/eval/system\n",
            "mecab-0.996-ko-0.9.2/tests/eval/test.gld\n",
            "mecab-0.996-ko-0.9.2/tests/shiin/\n",
            "mecab-0.996-ko-0.9.2/tests/shiin/unk.def\n",
            "mecab-0.996-ko-0.9.2/tests/shiin/dicrc\n",
            "mecab-0.996-ko-0.9.2/tests/shiin/dic.csv\n",
            "mecab-0.996-ko-0.9.2/tests/shiin/test\n",
            "mecab-0.996-ko-0.9.2/tests/shiin/char.def\n",
            "mecab-0.996-ko-0.9.2/tests/shiin/matrix.def\n",
            "mecab-0.996-ko-0.9.2/tests/shiin/mkdic.pl\n",
            "mecab-0.996-ko-0.9.2/tests/shiin/test.gld\n",
            "mecab-0.996-ko-0.9.2/tests/latin/\n",
            "mecab-0.996-ko-0.9.2/tests/latin/unk.def\n",
            "mecab-0.996-ko-0.9.2/tests/latin/dicrc\n",
            "mecab-0.996-ko-0.9.2/tests/latin/dic.csv\n",
            "mecab-0.996-ko-0.9.2/tests/latin/test\n",
            "mecab-0.996-ko-0.9.2/tests/latin/char.def\n",
            "mecab-0.996-ko-0.9.2/tests/latin/matrix.def\n",
            "mecab-0.996-ko-0.9.2/tests/latin/test.gld\n",
            "mecab-0.996-ko-0.9.2/tests/chartype/\n",
            "mecab-0.996-ko-0.9.2/tests/chartype/unk.def\n",
            "mecab-0.996-ko-0.9.2/tests/chartype/dicrc\n",
            "mecab-0.996-ko-0.9.2/tests/chartype/dic.csv\n",
            "mecab-0.996-ko-0.9.2/tests/chartype/test\n",
            "mecab-0.996-ko-0.9.2/tests/chartype/char.def\n",
            "mecab-0.996-ko-0.9.2/tests/chartype/matrix.def\n",
            "mecab-0.996-ko-0.9.2/tests/chartype/test.gld\n",
            "mecab-0.996-ko-0.9.2/tests/run-dics.sh\n",
            "mecab-0.996-ko-0.9.2/tests/ngram/\n",
            "mecab-0.996-ko-0.9.2/tests/ngram/unk.def\n",
            "mecab-0.996-ko-0.9.2/tests/ngram/dicrc\n",
            "mecab-0.996-ko-0.9.2/tests/ngram/dic.csv\n",
            "mecab-0.996-ko-0.9.2/tests/ngram/test\n",
            "mecab-0.996-ko-0.9.2/tests/ngram/char.def\n",
            "mecab-0.996-ko-0.9.2/tests/ngram/matrix.def\n",
            "mecab-0.996-ko-0.9.2/tests/ngram/test.gld\n",
            "mecab-0.996-ko-0.9.2/tests/Makefile.in\n",
            "mecab-0.996-ko-0.9.2/ltmain.sh\n",
            "mecab-0.996-ko-0.9.2/config.rpath\n",
            "mecab-0.996-ko-0.9.2/config.h.in\n",
            "mecab-0.996-ko-0.9.2/mecabrc.in\n",
            "mecab-0.996-ko-0.9.2/GPL\n",
            "mecab-0.996-ko-0.9.2/Makefile.train\n",
            "mecab-0.996-ko-0.9.2/ChangeLog\n",
            "mecab-0.996-ko-0.9.2/install-sh\n",
            "mecab-0.996-ko-0.9.2/AUTHORS\n",
            "mecab-0.996-ko-0.9.2/doc/\n",
            "mecab-0.996-ko-0.9.2/doc/bindings.html\n",
            "mecab-0.996-ko-0.9.2/doc/posid.html\n",
            "mecab-0.996-ko-0.9.2/doc/unk.html\n",
            "mecab-0.996-ko-0.9.2/doc/learn.html\n",
            "mecab-0.996-ko-0.9.2/doc/format.html\n",
            "mecab-0.996-ko-0.9.2/doc/libmecab.html\n",
            "mecab-0.996-ko-0.9.2/doc/mecab.css\n",
            "mecab-0.996-ko-0.9.2/doc/feature.html\n",
            "mecab-0.996-ko-0.9.2/doc/Makefile.am\n",
            "mecab-0.996-ko-0.9.2/doc/soft.html\n",
            "mecab-0.996-ko-0.9.2/doc/en/\n",
            "mecab-0.996-ko-0.9.2/doc/en/bindings.html\n",
            "mecab-0.996-ko-0.9.2/doc/dic-detail.html\n",
            "mecab-0.996-ko-0.9.2/doc/flow.png\n",
            "mecab-0.996-ko-0.9.2/doc/mecab.html\n",
            "mecab-0.996-ko-0.9.2/doc/index.html\n",
            "mecab-0.996-ko-0.9.2/doc/result.png\n",
            "mecab-0.996-ko-0.9.2/doc/doxygen/\n",
            "mecab-0.996-ko-0.9.2/doc/doxygen/tab_a.png\n",
            "mecab-0.996-ko-0.9.2/doc/doxygen/globals_eval.html\n",
            "mecab-0.996-ko-0.9.2/doc/doxygen/classMeCab_1_1Tagger-members.html\n",
            "mecab-0.996-ko-0.9.2/doc/doxygen/functions_vars.html\n",
            "mecab-0.996-ko-0.9.2/doc/doxygen/doxygen.css\n",
            "mecab-0.996-ko-0.9.2/doc/doxygen/tab_r.gif\n",
            "mecab-0.996-ko-0.9.2/doc/doxygen/classMeCab_1_1Lattice.html\n",
            "mecab-0.996-ko-0.9.2/doc/doxygen/functions.html\n",
            "mecab-0.996-ko-0.9.2/doc/doxygen/classMeCab_1_1Tagger.html\n",
            "mecab-0.996-ko-0.9.2/doc/doxygen/mecab_8h_source.html\n",
            "mecab-0.996-ko-0.9.2/doc/doxygen/tabs.css\n",
            "mecab-0.996-ko-0.9.2/doc/doxygen/nav_f.png\n",
            "mecab-0.996-ko-0.9.2/doc/doxygen/tab_b.png\n",
            "mecab-0.996-ko-0.9.2/doc/doxygen/globals.html\n",
            "mecab-0.996-ko-0.9.2/doc/doxygen/nav_h.png\n",
            "mecab-0.996-ko-0.9.2/doc/doxygen/tab_h.png\n",
            "mecab-0.996-ko-0.9.2/doc/doxygen/classMeCab_1_1Model.html\n",
            "mecab-0.996-ko-0.9.2/doc/doxygen/globals_func.html\n",
            "mecab-0.996-ko-0.9.2/doc/doxygen/closed.png\n",
            "mecab-0.996-ko-0.9.2/doc/doxygen/tab_l.gif\n",
            "mecab-0.996-ko-0.9.2/doc/doxygen/structmecab__path__t-members.html\n",
            "mecab-0.996-ko-0.9.2/doc/doxygen/functions_func.html\n",
            "mecab-0.996-ko-0.9.2/doc/doxygen/globals_type.html\n",
            "mecab-0.996-ko-0.9.2/doc/doxygen/classMeCab_1_1Lattice-members.html\n",
            "mecab-0.996-ko-0.9.2/doc/doxygen/structmecab__node__t.html\n",
            "mecab-0.996-ko-0.9.2/doc/doxygen/namespacemembers_func.html\n",
            "mecab-0.996-ko-0.9.2/doc/doxygen/tab_s.png\n",
            "mecab-0.996-ko-0.9.2/doc/doxygen/structmecab__dictionary__info__t-members.html\n",
            "mecab-0.996-ko-0.9.2/doc/doxygen/namespacemembers_type.html\n",
            "mecab-0.996-ko-0.9.2/doc/doxygen/classMeCab_1_1Model-members.html\n",
            "mecab-0.996-ko-0.9.2/doc/doxygen/structmecab__dictionary__info__t.html\n",
            "mecab-0.996-ko-0.9.2/doc/doxygen/namespaces.html\n",
            "mecab-0.996-ko-0.9.2/doc/doxygen/namespacemembers.html\n",
            "mecab-0.996-ko-0.9.2/doc/doxygen/namespaceMeCab.html\n",
            "mecab-0.996-ko-0.9.2/doc/doxygen/structmecab__path__t.html\n",
            "mecab-0.996-ko-0.9.2/doc/doxygen/files.html\n",
            "mecab-0.996-ko-0.9.2/doc/doxygen/structmecab__node__t-members.html\n",
            "mecab-0.996-ko-0.9.2/doc/doxygen/index.html\n",
            "mecab-0.996-ko-0.9.2/doc/doxygen/annotated.html\n",
            "mecab-0.996-ko-0.9.2/doc/doxygen/globals_defs.html\n",
            "mecab-0.996-ko-0.9.2/doc/doxygen/classes.html\n",
            "mecab-0.996-ko-0.9.2/doc/doxygen/mecab_8h-source.html\n",
            "mecab-0.996-ko-0.9.2/doc/doxygen/doxygen.png\n",
            "mecab-0.996-ko-0.9.2/doc/doxygen/tab_b.gif\n",
            "mecab-0.996-ko-0.9.2/doc/doxygen/bc_s.png\n",
            "mecab-0.996-ko-0.9.2/doc/doxygen/open.png\n",
            "mecab-0.996-ko-0.9.2/doc/doxygen/mecab_8h.html\n",
            "mecab-0.996-ko-0.9.2/doc/dic.html\n",
            "mecab-0.996-ko-0.9.2/doc/partial.html\n",
            "mecab-0.996-ko-0.9.2/doc/feature.png\n",
            "mecab-0.996-ko-0.9.2/doc/Makefile.in\n",
            "mecab-0.996-ko-0.9.2/missing\n",
            "mecab-0.996-ko-0.9.2/BSD\n",
            "mecab-0.996-ko-0.9.2/NEWS\n",
            "mecab-0.996-ko-0.9.2/mkinstalldirs\n",
            "mecab-0.996-ko-0.9.2/src/\n",
            "mecab-0.996-ko-0.9.2/src/dictionary.h\n",
            "mecab-0.996-ko-0.9.2/src/writer.h\n",
            "mecab-0.996-ko-0.9.2/src/utils.h\n",
            "mecab-0.996-ko-0.9.2/src/string_buffer.cpp\n",
            "mecab-0.996-ko-0.9.2/src/tokenizer.cpp\n",
            "mecab-0.996-ko-0.9.2/src/make.bat\n",
            "mecab-0.996-ko-0.9.2/src/mecab.h\n",
            "mecab-0.996-ko-0.9.2/src/freelist.h\n",
            "mecab-0.996-ko-0.9.2/src/string_buffer.h\n",
            "mecab-0.996-ko-0.9.2/src/learner_tagger.h\n",
            "mecab-0.996-ko-0.9.2/src/dictionary_compiler.cpp\n",
            "mecab-0.996-ko-0.9.2/src/eval.cpp\n",
            "mecab-0.996-ko-0.9.2/src/mecab-system-eval.cpp\n",
            "mecab-0.996-ko-0.9.2/src/darts.h\n",
            "mecab-0.996-ko-0.9.2/src/param.h\n",
            "mecab-0.996-ko-0.9.2/src/char_property.h\n",
            "mecab-0.996-ko-0.9.2/src/learner_node.h\n",
            "mecab-0.996-ko-0.9.2/src/mecab-dict-gen.cpp\n",
            "mecab-0.996-ko-0.9.2/src/mecab-dict-index.cpp\n",
            "mecab-0.996-ko-0.9.2/src/winmain.h\n",
            "mecab-0.996-ko-0.9.2/src/thread.h\n",
            "mecab-0.996-ko-0.9.2/src/context_id.cpp\n",
            "mecab-0.996-ko-0.9.2/src/Makefile.am\n",
            "mecab-0.996-ko-0.9.2/src/connector.h\n",
            "mecab-0.996-ko-0.9.2/src/common.h\n",
            "mecab-0.996-ko-0.9.2/src/dictionary_rewriter.cpp\n",
            "mecab-0.996-ko-0.9.2/src/Makefile.msvc.in\n",
            "mecab-0.996-ko-0.9.2/src/dictionary_rewriter.h\n",
            "mecab-0.996-ko-0.9.2/src/feature_index.h\n",
            "mecab-0.996-ko-0.9.2/src/iconv_utils.cpp\n",
            "mecab-0.996-ko-0.9.2/src/char_property.cpp\n",
            "mecab-0.996-ko-0.9.2/src/mecab-test-gen.cpp\n",
            "mecab-0.996-ko-0.9.2/src/tagger.cpp\n",
            "mecab-0.996-ko-0.9.2/src/mecab-cost-train.cpp\n",
            "mecab-0.996-ko-0.9.2/src/learner.cpp\n",
            "mecab-0.996-ko-0.9.2/src/dictionary.cpp\n",
            "mecab-0.996-ko-0.9.2/src/lbfgs.cpp\n",
            "mecab-0.996-ko-0.9.2/src/ucs.h\n",
            "mecab-0.996-ko-0.9.2/src/writer.cpp\n",
            "mecab-0.996-ko-0.9.2/src/learner_tagger.cpp\n",
            "mecab-0.996-ko-0.9.2/src/lbfgs.h\n",
            "mecab-0.996-ko-0.9.2/src/libmecab.cpp\n",
            "mecab-0.996-ko-0.9.2/src/tokenizer.h\n",
            "mecab-0.996-ko-0.9.2/src/mecab.cpp\n",
            "mecab-0.996-ko-0.9.2/src/utils.cpp\n",
            "mecab-0.996-ko-0.9.2/src/dictionary_generator.cpp\n",
            "mecab-0.996-ko-0.9.2/src/param.cpp\n",
            "mecab-0.996-ko-0.9.2/src/context_id.h\n",
            "mecab-0.996-ko-0.9.2/src/mmap.h\n",
            "mecab-0.996-ko-0.9.2/src/viterbi.h\n",
            "mecab-0.996-ko-0.9.2/src/viterbi.cpp\n",
            "mecab-0.996-ko-0.9.2/src/stream_wrapper.h\n",
            "mecab-0.996-ko-0.9.2/src/feature_index.cpp\n",
            "mecab-0.996-ko-0.9.2/src/nbest_generator.h\n",
            "mecab-0.996-ko-0.9.2/src/ucstable.h\n",
            "mecab-0.996-ko-0.9.2/src/nbest_generator.cpp\n",
            "mecab-0.996-ko-0.9.2/src/iconv_utils.h\n",
            "mecab-0.996-ko-0.9.2/src/connector.cpp\n",
            "mecab-0.996-ko-0.9.2/src/Makefile.in\n",
            "mecab-0.996-ko-0.9.2/src/scoped_ptr.h\n",
            "mecab-0.996-ko-0.9.2/Makefile.in\n",
            "+ cd mecab-0.996-ko-0.9.2\n",
            "+ ./configure\n",
            "checking for a BSD-compatible install... /usr/bin/install -c\n",
            "checking whether build environment is sane... yes\n",
            "checking for a thread-safe mkdir -p... /usr/bin/mkdir -p\n",
            "checking for gawk... no\n",
            "checking for mawk... mawk\n",
            "checking whether make sets $(MAKE)... yes\n",
            "checking for gcc... gcc\n",
            "checking whether the C compiler works... yes\n",
            "checking for C compiler default output file name... a.out\n",
            "checking for suffix of executables... \n",
            "checking whether we are cross compiling... no\n",
            "checking for suffix of object files... o\n",
            "checking whether we are using the GNU C compiler... yes\n",
            "checking whether gcc accepts -g... yes\n",
            "checking for gcc option to accept ISO C89... none needed\n",
            "checking for style of include used by make... GNU\n",
            "checking dependency style of gcc... none\n",
            "checking for g++... g++\n",
            "checking whether we are using the GNU C++ compiler... yes\n",
            "checking whether g++ accepts -g... yes\n",
            "checking dependency style of g++... none\n",
            "checking how to run the C preprocessor... gcc -E\n",
            "checking for grep that handles long lines and -e... /usr/bin/grep\n",
            "checking for egrep... /usr/bin/grep -E\n",
            "checking whether gcc needs -traditional... no\n",
            "checking whether make sets $(MAKE)... (cached) yes\n",
            "checking build system type... x86_64-unknown-linux-gnu\n",
            "checking host system type... x86_64-unknown-linux-gnu\n",
            "checking how to print strings... printf\n",
            "checking for a sed that does not truncate output... /usr/bin/sed\n",
            "checking for fgrep... /usr/bin/grep -F\n",
            "checking for ld used by gcc... /usr/bin/ld\n",
            "checking if the linker (/usr/bin/ld) is GNU ld... yes\n",
            "checking for BSD- or MS-compatible name lister (nm)... /usr/bin/nm -B\n",
            "checking the name lister (/usr/bin/nm -B) interface... BSD nm\n",
            "checking whether ln -s works... yes\n",
            "checking the maximum length of command line arguments... 1572864\n",
            "checking whether the shell understands some XSI constructs... yes\n",
            "checking whether the shell understands \"+=\"... yes\n",
            "checking how to convert x86_64-unknown-linux-gnu file names to x86_64-unknown-linux-gnu format... func_convert_file_noop\n",
            "checking how to convert x86_64-unknown-linux-gnu file names to toolchain format... func_convert_file_noop\n",
            "checking for /usr/bin/ld option to reload object files... -r\n",
            "checking for objdump... objdump\n",
            "checking how to recognize dependent libraries... pass_all\n",
            "checking for dlltool... dlltool\n",
            "checking how to associate runtime and link libraries... printf %s\\n\n",
            "checking for ar... ar\n",
            "checking for archiver @FILE support... @\n",
            "checking for strip... strip\n",
            "checking for ranlib... ranlib\n",
            "checking command to parse /usr/bin/nm -B output from gcc object... ok\n",
            "checking for sysroot... no\n",
            "checking for mt... no\n",
            "checking if : is a manifest tool... no\n",
            "checking for ANSI C header files... yes\n",
            "checking for sys/types.h... yes\n",
            "checking for sys/stat.h... yes\n",
            "checking for stdlib.h... yes\n",
            "checking for string.h... yes\n",
            "checking for memory.h... yes\n",
            "checking for strings.h... yes\n",
            "checking for inttypes.h... yes\n",
            "checking for stdint.h... yes\n",
            "checking for unistd.h... yes\n",
            "checking for dlfcn.h... yes\n",
            "checking for objdir... .libs\n",
            "checking if gcc supports -fno-rtti -fno-exceptions... no\n",
            "checking for gcc option to produce PIC... -fPIC -DPIC\n",
            "checking if gcc PIC flag -fPIC -DPIC works... yes\n",
            "checking if gcc static flag -static works... yes\n",
            "checking if gcc supports -c -o file.o... yes\n",
            "checking if gcc supports -c -o file.o... (cached) yes\n",
            "checking whether the gcc linker (/usr/bin/ld -m elf_x86_64) supports shared libraries... yes\n",
            "checking whether -lc should be explicitly linked in... no\n",
            "checking dynamic linker characteristics... GNU/Linux ld.so\n",
            "checking how to hardcode library paths into programs... immediate\n",
            "checking whether stripping libraries is possible... yes\n",
            "checking if libtool supports shared libraries... yes\n",
            "checking whether to build shared libraries... yes\n",
            "checking whether to build static libraries... yes\n",
            "checking how to run the C++ preprocessor... g++ -E\n",
            "checking for ld used by g++... /usr/bin/ld -m elf_x86_64\n",
            "checking if the linker (/usr/bin/ld -m elf_x86_64) is GNU ld... yes\n",
            "checking whether the g++ linker (/usr/bin/ld -m elf_x86_64) supports shared libraries... yes\n",
            "checking for g++ option to produce PIC... -fPIC -DPIC\n",
            "checking if g++ PIC flag -fPIC -DPIC works... yes\n",
            "checking if g++ static flag -static works... yes\n",
            "checking if g++ supports -c -o file.o... yes\n",
            "checking if g++ supports -c -o file.o... (cached) yes\n",
            "checking whether the g++ linker (/usr/bin/ld -m elf_x86_64) supports shared libraries... yes\n",
            "checking dynamic linker characteristics... (cached) GNU/Linux ld.so\n",
            "checking how to hardcode library paths into programs... immediate\n",
            "checking for library containing strerror... none required\n",
            "checking whether byte ordering is bigendian... no\n",
            "checking for ld used by GCC... /usr/bin/ld -m elf_x86_64\n",
            "checking if the linker (/usr/bin/ld -m elf_x86_64) is GNU ld... yes\n",
            "checking for shared library run path origin... done\n",
            "checking for iconv... yes\n",
            "checking for working iconv... yes\n",
            "checking for iconv declaration... \n",
            "         extern size_t iconv (iconv_t cd, char * *inbuf, size_t *inbytesleft, char * *outbuf, size_t *outbytesleft);\n",
            "checking for ANSI C header files... (cached) yes\n",
            "checking for an ANSI C-conforming const... yes\n",
            "checking whether byte ordering is bigendian... (cached) no\n",
            "checking for string.h... (cached) yes\n",
            "checking for stdlib.h... (cached) yes\n",
            "checking for unistd.h... (cached) yes\n",
            "checking fcntl.h usability... yes\n",
            "checking fcntl.h presence... yes\n",
            "checking for fcntl.h... yes\n",
            "checking for stdint.h... (cached) yes\n",
            "checking for sys/stat.h... (cached) yes\n",
            "checking sys/mman.h usability... yes\n",
            "checking sys/mman.h presence... yes\n",
            "checking for sys/mman.h... yes\n",
            "checking sys/times.h usability... yes\n",
            "checking sys/times.h presence... yes\n",
            "checking for sys/times.h... yes\n",
            "checking for sys/types.h... (cached) yes\n",
            "checking dirent.h usability... yes\n",
            "checking dirent.h presence... yes\n",
            "checking for dirent.h... yes\n",
            "checking ctype.h usability... yes\n",
            "checking ctype.h presence... yes\n",
            "checking for ctype.h... yes\n",
            "checking for sys/types.h... (cached) yes\n",
            "checking io.h usability... no\n",
            "checking io.h presence... no\n",
            "checking for io.h... no\n",
            "checking windows.h usability... no\n",
            "checking windows.h presence... no\n",
            "checking for windows.h... no\n",
            "checking pthread.h usability... yes\n",
            "checking pthread.h presence... yes\n",
            "checking for pthread.h... yes\n",
            "checking for off_t... yes\n",
            "checking for size_t... yes\n",
            "checking size of char... 1\n",
            "checking size of short... 2\n",
            "checking size of int... 4\n",
            "checking size of long... 8\n",
            "checking size of long long... 8\n",
            "checking size of size_t... 8\n",
            "checking for size_t... (cached) yes\n",
            "checking for unsigned long long int... yes\n",
            "checking for stdlib.h... (cached) yes\n",
            "checking for unistd.h... (cached) yes\n",
            "checking for sys/param.h... yes\n",
            "checking for getpagesize... yes\n",
            "checking for working mmap... yes\n",
            "checking for main in -lstdc++... yes\n",
            "checking for pthread_create in -lpthread... yes\n",
            "checking for pthread_join in -lpthread... yes\n",
            "checking for getenv... yes\n",
            "checking for opendir... yes\n",
            "checking whether make is GNU Make... yes\n",
            "checking if g++ supports stl <vector> (required)... yes\n",
            "checking if g++ supports stl <list> (required)... yes\n",
            "checking if g++ supports stl <map> (required)... yes\n",
            "checking if g++ supports stl <set> (required)... yes\n",
            "checking if g++ supports stl <queue> (required)... yes\n",
            "checking if g++ supports stl <functional> (required)... yes\n",
            "checking if g++ supports stl <algorithm> (required)... yes\n",
            "checking if g++ supports stl <string> (required)... yes\n",
            "checking if g++ supports stl <iostream> (required)... yes\n",
            "checking if g++ supports stl <sstream> (required)... yes\n",
            "checking if g++ supports stl <fstream> (required)... yes\n",
            "checking if g++ supports template <class T> (required)... yes\n",
            "checking if g++ supports const_cast<> (required)... yes\n",
            "checking if g++ supports static_cast<> (required)... yes\n",
            "checking if g++ supports reinterpret_cast<> (required)... yes\n",
            "checking if g++ supports namespaces (required) ... yes\n",
            "checking if g++ supports __thread (optional)... yes\n",
            "checking if g++ supports template <class T> (required)... yes\n",
            "checking if g++ supports GCC native atomic operations (optional)... yes\n",
            "checking if g++ supports OSX native atomic operations (optional)... no\n",
            "checking if g++ environment provides all required features... yes\n",
            "configure: creating ./config.status\n",
            "config.status: creating Makefile\n",
            "config.status: creating src/Makefile\n",
            "config.status: creating src/Makefile.msvc\n",
            "config.status: creating man/Makefile\n",
            "config.status: creating doc/Makefile\n",
            "config.status: creating tests/Makefile\n",
            "config.status: creating swig/version.h\n",
            "config.status: creating mecab.iss\n",
            "config.status: creating mecab-config\n",
            "config.status: creating mecabrc\n",
            "config.status: creating config.h\n",
            "config.status: executing depfiles commands\n",
            "config.status: executing libtool commands\n",
            "config.status: executing default commands\n",
            "+ make\n",
            "make  all-recursive\n",
            "make[1]: Entering directory '/tmp/mecab-0.996-ko-0.9.2'\n",
            "Making all in src\n",
            "make[2]: Entering directory '/tmp/mecab-0.996-ko-0.9.2/src'\n",
            "/bin/bash ../libtool --tag=CXX   --mode=compile g++ -DHAVE_CONFIG_H -I. -I.. -DDIC_VERSION=102   -DMECAB_DEFAULT_RC=\"\\\"/usr/local/etc/mecabrc\\\"\"    -O3 -Wall  -c -o viterbi.lo viterbi.cpp\n",
            "libtool: compile:  g++ -DHAVE_CONFIG_H -I. -I.. -DDIC_VERSION=102 -DMECAB_DEFAULT_RC=\\\"/usr/local/etc/mecabrc\\\" -O3 -Wall -c viterbi.cpp  -fPIC -DPIC -o .libs/viterbi.o\n",
            "In file included from \u001b[01m\u001b[Kdictionary.h:11\u001b[m\u001b[K,\n",
            "                 from \u001b[01m\u001b[Ktokenizer.h:11\u001b[m\u001b[K,\n",
            "                 from \u001b[01m\u001b[Kviterbi.cpp:18\u001b[m\u001b[K:\n",
            "\u001b[01m\u001b[Kdarts.h:\u001b[m\u001b[K In member function '\u001b[01m\u001b[KT MeCab::Darts::DoubleArrayImpl<node_type_, node_u_type_, array_type_, array_u_type_, length_func_>::exactMatchSearch(const key_type*, size_t, size_t) const\u001b[m\u001b[K':\n",
            "\u001b[01m\u001b[Kdarts.h:407:27:\u001b[m\u001b[K \u001b[01;35m\u001b[Kwarning: \u001b[m\u001b[KISO C++17 does not allow '\u001b[01m\u001b[Kregister\u001b[m\u001b[K' storage class specifier [\u001b[01;35m\u001b[K\u001b]8;;https://gcc.gnu.org/onlinedocs/gcc/Warning-Options.html#index-Wregister\u0007-Wregister\u001b]8;;\u0007\u001b[m\u001b[K]\n",
            "  407 |     register array_type_  \u001b[01;35m\u001b[Kb\u001b[m\u001b[K = array_[node_pos].base;\n",
            "      |                           \u001b[01;35m\u001b[K^\u001b[m\u001b[K\n",
            "\u001b[01m\u001b[Kdarts.h:408:28:\u001b[m\u001b[K \u001b[01;35m\u001b[Kwarning: \u001b[m\u001b[KISO C++17 does not allow '\u001b[01m\u001b[Kregister\u001b[m\u001b[K' storage class specifier [\u001b[01;35m\u001b[K\u001b]8;;https://gcc.gnu.org/onlinedocs/gcc/Warning-Options.html#index-Wregister\u0007-Wregister\u001b]8;;\u0007\u001b[m\u001b[K]\n",
            "  408 |     register array_u_type_ \u001b[01;35m\u001b[Kp\u001b[m\u001b[K;\n",
            "      |                            \u001b[01;35m\u001b[K^\u001b[m\u001b[K\n",
            "\u001b[01m\u001b[Kdarts.h:410:26:\u001b[m\u001b[K \u001b[01;35m\u001b[Kwarning: \u001b[m\u001b[KISO C++17 does not allow '\u001b[01m\u001b[Kregister\u001b[m\u001b[K' storage class specifier [\u001b[01;35m\u001b[K\u001b]8;;https://gcc.gnu.org/onlinedocs/gcc/Warning-Options.html#index-Wregister\u0007-Wregister\u001b]8;;\u0007\u001b[m\u001b[K]\n",
            "  410 |     for (register size_t \u001b[01;35m\u001b[Ki\u001b[m\u001b[K = 0; i < len; ++i) {\n",
            "      |                          \u001b[01;35m\u001b[K^\u001b[m\u001b[K\n",
            "\u001b[01m\u001b[Kdarts.h:\u001b[m\u001b[K In member function '\u001b[01m\u001b[Ksize_t MeCab::Darts::DoubleArrayImpl<node_type_, node_u_type_, array_type_, array_u_type_, length_func_>::commonPrefixSearch(const key_type*, T*, size_t, size_t, size_t) const\u001b[m\u001b[K':\n",
            "\u001b[01m\u001b[Kdarts.h:434:27:\u001b[m\u001b[K \u001b[01;35m\u001b[Kwarning: \u001b[m\u001b[KISO C++17 does not allow '\u001b[01m\u001b[Kregister\u001b[m\u001b[K' storage class specifier [\u001b[01;35m\u001b[K\u001b]8;;https://gcc.gnu.org/onlinedocs/gcc/Warning-Options.html#index-Wregister\u0007-Wregister\u001b]8;;\u0007\u001b[m\u001b[K]\n",
            "  434 |     register array_type_  \u001b[01;35m\u001b[Kb\u001b[m\u001b[K   = array_[node_pos].base;\n",
            "      |                           \u001b[01;35m\u001b[K^\u001b[m\u001b[K\n",
            "\u001b[01m\u001b[Kdarts.h:435:25:\u001b[m\u001b[K \u001b[01;35m\u001b[Kwarning: \u001b[m\u001b[KISO C++17 does not allow '\u001b[01m\u001b[Kregister\u001b[m\u001b[K' storage class specifier [\u001b[01;35m\u001b[K\u001b]8;;https://gcc.gnu.org/onlinedocs/gcc/Warning-Options.html#index-Wregister\u0007-Wregister\u001b]8;;\u0007\u001b[m\u001b[K]\n",
            "  435 |     register size_t     \u001b[01;35m\u001b[Knum\u001b[m\u001b[K = 0;\n",
            "      |                         \u001b[01;35m\u001b[K^~~\u001b[m\u001b[K\n",
            "\u001b[01m\u001b[Kdarts.h:436:27:\u001b[m\u001b[K \u001b[01;35m\u001b[Kwarning: \u001b[m\u001b[KISO C++17 does not allow '\u001b[01m\u001b[Kregister\u001b[m\u001b[K' storage class specifier [\u001b[01;35m\u001b[K\u001b]8;;https://gcc.gnu.org/onlinedocs/gcc/Warning-Options.html#index-Wregister\u0007-Wregister\u001b]8;;\u0007\u001b[m\u001b[K]\n",
            "  436 |     register array_type_  \u001b[01;35m\u001b[Kn\u001b[m\u001b[K;\n",
            "      |                           \u001b[01;35m\u001b[K^\u001b[m\u001b[K\n",
            "\u001b[01m\u001b[Kdarts.h:437:28:\u001b[m\u001b[K \u001b[01;35m\u001b[Kwarning: \u001b[m\u001b[KISO C++17 does not allow '\u001b[01m\u001b[Kregister\u001b[m\u001b[K' storage class specifier [\u001b[01;35m\u001b[K\u001b]8;;https://gcc.gnu.org/onlinedocs/gcc/Warning-Options.html#index-Wregister\u0007-Wregister\u001b]8;;\u0007\u001b[m\u001b[K]\n",
            "  437 |     register array_u_type_ \u001b[01;35m\u001b[Kp\u001b[m\u001b[K;\n",
            "      |                            \u001b[01;35m\u001b[K^\u001b[m\u001b[K\n",
            "\u001b[01m\u001b[Kdarts.h:439:26:\u001b[m\u001b[K \u001b[01;35m\u001b[Kwarning: \u001b[m\u001b[KISO C++17 does not allow '\u001b[01m\u001b[Kregister\u001b[m\u001b[K' storage class specifier [\u001b[01;35m\u001b[K\u001b]8;;https://gcc.gnu.org/onlinedocs/gcc/Warning-Options.html#index-Wregister\u0007-Wregister\u001b]8;;\u0007\u001b[m\u001b[K]\n",
            "  439 |     for (register size_t \u001b[01;35m\u001b[Ki\u001b[m\u001b[K = 0; i < len; ++i) {\n",
            "      |                          \u001b[01;35m\u001b[K^\u001b[m\u001b[K\n",
            "\u001b[01m\u001b[Kdarts.h:\u001b[m\u001b[K In member function '\u001b[01m\u001b[KMeCab::Darts::DoubleArrayImpl<node_type_, node_u_type_, array_type_, array_u_type_, length_func_>::value_type MeCab::Darts::DoubleArrayImpl<node_type_, node_u_type_, array_type_, array_u_type_, length_func_>::traverse(const key_type*, size_t&, size_t&, size_t) const\u001b[m\u001b[K':\n",
            "\u001b[01m\u001b[Kdarts.h:472:27:\u001b[m\u001b[K \u001b[01;35m\u001b[Kwarning: \u001b[m\u001b[KISO C++17 does not allow '\u001b[01m\u001b[Kregister\u001b[m\u001b[K' storage class specifier [\u001b[01;35m\u001b[K\u001b]8;;https://gcc.gnu.org/onlinedocs/gcc/Warning-Options.html#index-Wregister\u0007-Wregister\u001b]8;;\u0007\u001b[m\u001b[K]\n",
            "  472 |     register array_type_  \u001b[01;35m\u001b[Kb\u001b[m\u001b[K = array_[node_pos].base;\n",
            "      |                           \u001b[01;35m\u001b[K^\u001b[m\u001b[K\n",
            "\u001b[01m\u001b[Kdarts.h:473:28:\u001b[m\u001b[K \u001b[01;35m\u001b[Kwarning: \u001b[m\u001b[KISO C++17 does not allow '\u001b[01m\u001b[Kregister\u001b[m\u001b[K' storage class specifier [\u001b[01;35m\u001b[K\u001b]8;;https://gcc.gnu.org/onlinedocs/gcc/Warning-Options.html#index-Wregister\u0007-Wregister\u001b]8;;\u0007\u001b[m\u001b[K]\n",
            "  473 |     register array_u_type_ \u001b[01;35m\u001b[Kp\u001b[m\u001b[K;\n",
            "      |                            \u001b[01;35m\u001b[K^\u001b[m\u001b[K\n",
            "In file included from \u001b[01m\u001b[Kdictionary.h:12\u001b[m\u001b[K,\n",
            "                 from \u001b[01m\u001b[Ktokenizer.h:11\u001b[m\u001b[K,\n",
            "                 from \u001b[01m\u001b[Kviterbi.cpp:18\u001b[m\u001b[K:\n",
            "\u001b[01m\u001b[Kchar_property.h:\u001b[m\u001b[K In member function '\u001b[01m\u001b[Kconst char* MeCab::CharProperty::seekToOtherType(const char*, const char*, MeCab::CharInfo, MeCab::CharInfo*, size_t*, size_t*) const\u001b[m\u001b[K':\n",
            "\u001b[01m\u001b[Kchar_property.h:40:26:\u001b[m\u001b[K \u001b[01;35m\u001b[Kwarning: \u001b[m\u001b[KISO C++17 does not allow '\u001b[01m\u001b[Kregister\u001b[m\u001b[K' storage class specifier [\u001b[01;35m\u001b[K\u001b]8;;https://gcc.gnu.org/onlinedocs/gcc/Warning-Options.html#index-Wregister\u0007-Wregister\u001b]8;;\u0007\u001b[m\u001b[K]\n",
            "   40 |     register const char *\u001b[01;35m\u001b[Kp\u001b[m\u001b[K =  begin;\n",
            "      |                          \u001b[01;35m\u001b[K^\u001b[m\u001b[K\n",
            "\u001b[01m\u001b[Kviterbi.cpp:\u001b[m\u001b[K In function '\u001b[01m\u001b[Kbool MeCab::{anonymous}::connect(size_t, MeCab::Node*, MeCab::Node**, MeCab::Node**, const MeCab::Connector*, MeCab::Allocator<mecab_node_t, mecab_path_t>*)\u001b[m\u001b[K':\n",
            "\u001b[01m\u001b[Kviterbi.cpp:321:19:\u001b[m\u001b[K \u001b[01;35m\u001b[Kwarning: \u001b[m\u001b[KISO C++17 does not allow '\u001b[01m\u001b[Kregister\u001b[m\u001b[K' storage class specifier [\u001b[01;35m\u001b[K\u001b]8;;https://gcc.gnu.org/onlinedocs/gcc/Warning-Options.html#index-Wregister\u0007-Wregister\u001b]8;;\u0007\u001b[m\u001b[K]\n",
            "  321 |     register long \u001b[01;35m\u001b[Kbest_cost\u001b[m\u001b[K = 2147483647;\n",
            "      |                   \u001b[01;35m\u001b[K^~~~~~~~~\u001b[m\u001b[K\n",
            "\u001b[01m\u001b[Kviterbi.cpp:324:20:\u001b[m\u001b[K \u001b[01;35m\u001b[Kwarning: \u001b[m\u001b[KISO C++17 does not allow '\u001b[01m\u001b[Kregister\u001b[m\u001b[K' storage class specifier [\u001b[01;35m\u001b[K\u001b]8;;https://gcc.gnu.org/onlinedocs/gcc/Warning-Options.html#index-Wregister\u0007-Wregister\u001b]8;;\u0007\u001b[m\u001b[K]\n",
            "  324 |       register int \u001b[01;35m\u001b[Klcost\u001b[m\u001b[K = connector->cost(lnode, rnode);  // local cost\n",
            "      |                    \u001b[01;35m\u001b[K^~~~~\u001b[m\u001b[K\n",
            "\u001b[01m\u001b[Kviterbi.cpp:325:21:\u001b[m\u001b[K \u001b[01;35m\u001b[Kwarning: \u001b[m\u001b[KISO C++17 does not allow '\u001b[01m\u001b[Kregister\u001b[m\u001b[K' storage class specifier [\u001b[01;35m\u001b[K\u001b]8;;https://gcc.gnu.org/onlinedocs/gcc/Warning-Options.html#index-Wregister\u0007-Wregister\u001b]8;;\u0007\u001b[m\u001b[K]\n",
            "  325 |       register long \u001b[01;35m\u001b[Kcost\u001b[m\u001b[K = lnode->cost + lcost;\n",
            "      |                     \u001b[01;35m\u001b[K^~~~\u001b[m\u001b[K\n",
            "In file included from \u001b[01m\u001b[Kdictionary.h:11\u001b[m\u001b[K,\n",
            "                 from \u001b[01m\u001b[Ktokenizer.h:11\u001b[m\u001b[K,\n",
            "                 from \u001b[01m\u001b[Kviterbi.cpp:18\u001b[m\u001b[K:\n",
            "darts.h: In instantiation of '\u001b[01m\u001b[Ksize_t MeCab::Darts::DoubleArrayImpl<node_type_, node_u_type_, array_type_, array_u_type_, length_func_>::commonPrefixSearch(const key_type*, T*, size_t, size_t, size_t) const [with T = MeCab::Darts::DoubleArrayImpl<char, unsigned char, int, unsigned int>::result_pair_type; node_type_ = char; node_u_type_ = unsigned char; array_type_ = int; array_u_type_ = unsigned int; length_func_ = MeCab::Darts::Length<char>; size_t = long unsigned int; MeCab::Darts::DoubleArrayImpl<node_type_, node_u_type_, array_type_, array_u_type_, length_func_>::key_type = char]\u001b[m\u001b[K':\n",
            "\u001b[01m\u001b[Kdictionary.h:37:34:\u001b[m\u001b[K   required from here\n",
            "\u001b[01m\u001b[Kdarts.h:434:27:\u001b[m\u001b[K \u001b[01;35m\u001b[Kwarning: \u001b[m\u001b[KISO C++17 does not allow '\u001b[01m\u001b[Kregister\u001b[m\u001b[K' storage class specifier [\u001b[01;35m\u001b[K\u001b]8;;https://gcc.gnu.org/onlinedocs/gcc/Warning-Options.html#index-Wregister\u0007-Wregister\u001b]8;;\u0007\u001b[m\u001b[K]\n",
            "  434 |     register array_type_  \u001b[01;35m\u001b[Kb\u001b[m\u001b[K   = array_[node_pos].base;\n",
            "      |                           \u001b[01;35m\u001b[K^\u001b[m\u001b[K\n",
            "\u001b[01m\u001b[Kdarts.h:435:25:\u001b[m\u001b[K \u001b[01;35m\u001b[Kwarning: \u001b[m\u001b[KISO C++17 does not allow '\u001b[01m\u001b[Kregister\u001b[m\u001b[K' storage class specifier [\u001b[01;35m\u001b[K\u001b]8;;https://gcc.gnu.org/onlinedocs/gcc/Warning-Options.html#index-Wregister\u0007-Wregister\u001b]8;;\u0007\u001b[m\u001b[K]\n",
            "  435 |     register size_t     \u001b[01;35m\u001b[Knum\u001b[m\u001b[K = 0;\n",
            "      |                         \u001b[01;35m\u001b[K^~~\u001b[m\u001b[K\n",
            "\u001b[01m\u001b[Kdarts.h:436:27:\u001b[m\u001b[K \u001b[01;35m\u001b[Kwarning: \u001b[m\u001b[KISO C++17 does not allow '\u001b[01m\u001b[Kregister\u001b[m\u001b[K' storage class specifier [\u001b[01;35m\u001b[K\u001b]8;;https://gcc.gnu.org/onlinedocs/gcc/Warning-Options.html#index-Wregister\u0007-Wregister\u001b]8;;\u0007\u001b[m\u001b[K]\n",
            "  436 |     register array_type_  \u001b[01;35m\u001b[Kn\u001b[m\u001b[K;\n",
            "      |                           \u001b[01;35m\u001b[K^\u001b[m\u001b[K\n",
            "\u001b[01m\u001b[Kdarts.h:437:28:\u001b[m\u001b[K \u001b[01;35m\u001b[Kwarning: \u001b[m\u001b[KISO C++17 does not allow '\u001b[01m\u001b[Kregister\u001b[m\u001b[K' storage class specifier [\u001b[01;35m\u001b[K\u001b]8;;https://gcc.gnu.org/onlinedocs/gcc/Warning-Options.html#index-Wregister\u0007-Wregister\u001b]8;;\u0007\u001b[m\u001b[K]\n",
            "  437 |     register array_u_type_ \u001b[01;35m\u001b[Kp\u001b[m\u001b[K;\n",
            "      |                            \u001b[01;35m\u001b[K^\u001b[m\u001b[K\n",
            "\u001b[01m\u001b[Kdarts.h:439:26:\u001b[m\u001b[K \u001b[01;35m\u001b[Kwarning: \u001b[m\u001b[KISO C++17 does not allow '\u001b[01m\u001b[Kregister\u001b[m\u001b[K' storage class specifier [\u001b[01;35m\u001b[K\u001b]8;;https://gcc.gnu.org/onlinedocs/gcc/Warning-Options.html#index-Wregister\u0007-Wregister\u001b]8;;\u0007\u001b[m\u001b[K]\n",
            "  439 |     for (register size_t \u001b[01;35m\u001b[Ki\u001b[m\u001b[K = 0; i < len; ++i) {\n",
            "      |                          \u001b[01;35m\u001b[K^\u001b[m\u001b[K\n",
            "darts.h: In instantiation of '\u001b[01m\u001b[KT MeCab::Darts::DoubleArrayImpl<node_type_, node_u_type_, array_type_, array_u_type_, length_func_>::exactMatchSearch(const key_type*, size_t, size_t) const [with T = MeCab::Darts::DoubleArrayImpl<char, unsigned char, int, unsigned int>::result_pair_type; node_type_ = char; node_u_type_ = unsigned char; array_type_ = int; array_u_type_ = unsigned int; length_func_ = MeCab::Darts::Length<char>; MeCab::Darts::DoubleArrayImpl<node_type_, node_u_type_, array_type_, array_u_type_, length_func_>::key_type = char; size_t = long unsigned int]\u001b[m\u001b[K':\n",
            "\u001b[01m\u001b[Kdarts.h:394:33:\u001b[m\u001b[K   required from '\u001b[01m\u001b[Kvoid MeCab::Darts::DoubleArrayImpl<node_type_, node_u_type_, array_type_, array_u_type_, length_func_>::exactMatchSearch(const key_type*, T&, size_t, size_t) const [with T = MeCab::Darts::DoubleArrayImpl<char, unsigned char, int, unsigned int>::result_pair_type; node_type_ = char; node_u_type_ = unsigned char; array_type_ = int; array_u_type_ = unsigned int; length_func_ = MeCab::Darts::Length<char>; MeCab::Darts::DoubleArrayImpl<node_type_, node_u_type_, array_type_, array_u_type_, length_func_>::key_type = char; size_t = long unsigned int]\u001b[m\u001b[K'\n",
            "\u001b[01m\u001b[Kdictionary.h:42:25:\u001b[m\u001b[K   required from here\n",
            "\u001b[01m\u001b[Kdarts.h:407:27:\u001b[m\u001b[K \u001b[01;35m\u001b[Kwarning: \u001b[m\u001b[KISO C++17 does not allow '\u001b[01m\u001b[Kregister\u001b[m\u001b[K' storage class specifier [\u001b[01;35m\u001b[K\u001b]8;;https://gcc.gnu.org/onlinedocs/gcc/Warning-Options.html#index-Wregister\u0007-Wregister\u001b]8;;\u0007\u001b[m\u001b[K]\n",
            "  407 |     register array_type_  \u001b[01;35m\u001b[Kb\u001b[m\u001b[K = array_[node_pos].base;\n",
            "      |                           \u001b[01;35m\u001b[K^\u001b[m\u001b[K\n",
            "\u001b[01m\u001b[Kdarts.h:408:28:\u001b[m\u001b[K \u001b[01;35m\u001b[Kwarning: \u001b[m\u001b[KISO C++17 does not allow '\u001b[01m\u001b[Kregister\u001b[m\u001b[K' storage class specifier [\u001b[01;35m\u001b[K\u001b]8;;https://gcc.gnu.org/onlinedocs/gcc/Warning-Options.html#index-Wregister\u0007-Wregister\u001b]8;;\u0007\u001b[m\u001b[K]\n",
            "  408 |     register array_u_type_ \u001b[01;35m\u001b[Kp\u001b[m\u001b[K;\n",
            "      |                            \u001b[01;35m\u001b[K^\u001b[m\u001b[K\n",
            "\u001b[01m\u001b[Kdarts.h:410:26:\u001b[m\u001b[K \u001b[01;35m\u001b[Kwarning: \u001b[m\u001b[KISO C++17 does not allow '\u001b[01m\u001b[Kregister\u001b[m\u001b[K' storage class specifier [\u001b[01;35m\u001b[K\u001b]8;;https://gcc.gnu.org/onlinedocs/gcc/Warning-Options.html#index-Wregister\u0007-Wregister\u001b]8;;\u0007\u001b[m\u001b[K]\n",
            "  410 |     for (register size_t \u001b[01;35m\u001b[Ki\u001b[m\u001b[K = 0; i < len; ++i) {\n",
            "      |                          \u001b[01;35m\u001b[K^\u001b[m\u001b[K\n",
            "viterbi.cpp: In instantiation of '\u001b[01m\u001b[Kbool MeCab::{anonymous}::connect(size_t, MeCab::Node*, MeCab::Node**, MeCab::Node**, const MeCab::Connector*, MeCab::Allocator<mecab_node_t, mecab_path_t>*) [with bool IsAllPath = true; size_t = long unsigned int; MeCab::Node = mecab_node_t]\u001b[m\u001b[K':\n",
            "\u001b[01m\u001b[Kviterbi.cpp:379:30:\u001b[m\u001b[K   required from '\u001b[01m\u001b[Kbool MeCab::Viterbi::viterbi(MeCab::Lattice*) const [with bool IsAllPath = true; bool IsPartial = true]\u001b[m\u001b[K'\n",
            "\u001b[01m\u001b[Kviterbi.cpp:84:35:\u001b[m\u001b[K   required from here\n",
            "\u001b[01m\u001b[Kviterbi.cpp:321:19:\u001b[m\u001b[K \u001b[01;35m\u001b[Kwarning: \u001b[m\u001b[KISO C++17 does not allow '\u001b[01m\u001b[Kregister\u001b[m\u001b[K' storage class specifier [\u001b[01;35m\u001b[K\u001b]8;;https://gcc.gnu.org/onlinedocs/gcc/Warning-Options.html#index-Wregister\u0007-Wregister\u001b]8;;\u0007\u001b[m\u001b[K]\n",
            "  321 |     register long \u001b[01;35m\u001b[Kbest_cost\u001b[m\u001b[K = 2147483647;\n",
            "      |                   \u001b[01;35m\u001b[K^~~~~~~~~\u001b[m\u001b[K\n",
            "\u001b[01m\u001b[Kviterbi.cpp:324:20:\u001b[m\u001b[K \u001b[01;35m\u001b[Kwarning: \u001b[m\u001b[KISO C++17 does not allow '\u001b[01m\u001b[Kregister\u001b[m\u001b[K' storage class specifier [\u001b[01;35m\u001b[K\u001b]8;;https://gcc.gnu.org/onlinedocs/gcc/Warning-Options.html#index-Wregister\u0007-Wregister\u001b]8;;\u0007\u001b[m\u001b[K]\n",
            "  324 |       register int \u001b[01;35m\u001b[Klcost\u001b[m\u001b[K = connector->cost(lnode, rnode);  // local cost\n",
            "      |                    \u001b[01;35m\u001b[K^~~~~\u001b[m\u001b[K\n",
            "\u001b[01m\u001b[Kviterbi.cpp:325:21:\u001b[m\u001b[K \u001b[01;35m\u001b[Kwarning: \u001b[m\u001b[KISO C++17 does not allow '\u001b[01m\u001b[Kregister\u001b[m\u001b[K' storage class specifier [\u001b[01;35m\u001b[K\u001b]8;;https://gcc.gnu.org/onlinedocs/gcc/Warning-Options.html#index-Wregister\u0007-Wregister\u001b]8;;\u0007\u001b[m\u001b[K]\n",
            "  325 |       register long \u001b[01;35m\u001b[Kcost\u001b[m\u001b[K = lnode->cost + lcost;\n",
            "      |                     \u001b[01;35m\u001b[K^~~~\u001b[m\u001b[K\n",
            "viterbi.cpp: In instantiation of '\u001b[01m\u001b[Kbool MeCab::{anonymous}::connect(size_t, MeCab::Node*, MeCab::Node**, MeCab::Node**, const MeCab::Connector*, MeCab::Allocator<mecab_node_t, mecab_path_t>*) [with bool IsAllPath = false; size_t = long unsigned int; MeCab::Node = mecab_node_t]\u001b[m\u001b[K':\n",
            "\u001b[01m\u001b[Kviterbi.cpp:379:30:\u001b[m\u001b[K   required from '\u001b[01m\u001b[Kbool MeCab::Viterbi::viterbi(MeCab::Lattice*) const [with bool IsAllPath = false; bool IsPartial = true]\u001b[m\u001b[K'\n",
            "\u001b[01m\u001b[Kviterbi.cpp:91:36:\u001b[m\u001b[K   required from here\n",
            "\u001b[01m\u001b[Kviterbi.cpp:321:19:\u001b[m\u001b[K \u001b[01;35m\u001b[Kwarning: \u001b[m\u001b[KISO C++17 does not allow '\u001b[01m\u001b[Kregister\u001b[m\u001b[K' storage class specifier [\u001b[01;35m\u001b[K\u001b]8;;https://gcc.gnu.org/onlinedocs/gcc/Warning-Options.html#index-Wregister\u0007-Wregister\u001b]8;;\u0007\u001b[m\u001b[K]\n",
            "  321 |     register long \u001b[01;35m\u001b[Kbest_cost\u001b[m\u001b[K = 2147483647;\n",
            "      |                   \u001b[01;35m\u001b[K^~~~~~~~~\u001b[m\u001b[K\n",
            "\u001b[01m\u001b[Kviterbi.cpp:324:20:\u001b[m\u001b[K \u001b[01;35m\u001b[Kwarning: \u001b[m\u001b[KISO C++17 does not allow '\u001b[01m\u001b[Kregister\u001b[m\u001b[K' storage class specifier [\u001b[01;35m\u001b[K\u001b]8;;https://gcc.gnu.org/onlinedocs/gcc/Warning-Options.html#index-Wregister\u0007-Wregister\u001b]8;;\u0007\u001b[m\u001b[K]\n",
            "  324 |       register int \u001b[01;35m\u001b[Klcost\u001b[m\u001b[K = connector->cost(lnode, rnode);  // local cost\n",
            "      |                    \u001b[01;35m\u001b[K^~~~~\u001b[m\u001b[K\n",
            "\u001b[01m\u001b[Kviterbi.cpp:325:21:\u001b[m\u001b[K \u001b[01;35m\u001b[Kwarning: \u001b[m\u001b[KISO C++17 does not allow '\u001b[01m\u001b[Kregister\u001b[m\u001b[K' storage class specifier [\u001b[01;35m\u001b[K\u001b]8;;https://gcc.gnu.org/onlinedocs/gcc/Warning-Options.html#index-Wregister\u0007-Wregister\u001b]8;;\u0007\u001b[m\u001b[K]\n",
            "  325 |       register long \u001b[01;35m\u001b[Kcost\u001b[m\u001b[K = lnode->cost + lcost;\n",
            "      |                     \u001b[01;35m\u001b[K^~~~\u001b[m\u001b[K\n",
            "In file included from \u001b[01m\u001b[Kviterbi.cpp:14\u001b[m\u001b[K:\n",
            "\u001b[01m\u001b[Kparam.h:\u001b[m\u001b[K At global scope:\n",
            "\u001b[01m\u001b[Kparam.h:30:13:\u001b[m\u001b[K \u001b[01;35m\u001b[Kwarning: \u001b[m\u001b[K'\u001b[01m\u001b[KTarget {anonymous}::lexical_cast(Source) [with Target = std::__cxx11::basic_string<char>; Source = std::__cxx11::basic_string<char>]\u001b[m\u001b[K' defined but not used [\u001b[01;35m\u001b[K\u001b]8;;https://gcc.gnu.org/onlinedocs/gcc/Warning-Options.html#index-Wunused-function\u0007-Wunused-function\u001b]8;;\u0007\u001b[m\u001b[K]\n",
            "   30 | std::string \u001b[01;35m\u001b[Klexical_cast<std::string, std::string>\u001b[m\u001b[K(std::string arg) {\n",
            "      |             \u001b[01;35m\u001b[K^~~~~~~~~~~~~~~~~~~~~~~~~~~~~~~~~~~~~~\u001b[m\u001b[K\n",
            "libtool: compile:  g++ -DHAVE_CONFIG_H -I. -I.. -DDIC_VERSION=102 -DMECAB_DEFAULT_RC=\\\"/usr/local/etc/mecabrc\\\" -O3 -Wall -c viterbi.cpp -o viterbi.o >/dev/null 2>&1\n",
            "/bin/bash ../libtool --tag=CXX   --mode=compile g++ -DHAVE_CONFIG_H -I. -I.. -DDIC_VERSION=102   -DMECAB_DEFAULT_RC=\"\\\"/usr/local/etc/mecabrc\\\"\"    -O3 -Wall  -c -o tagger.lo tagger.cpp\n",
            "libtool: compile:  g++ -DHAVE_CONFIG_H -I. -I.. -DDIC_VERSION=102 -DMECAB_DEFAULT_RC=\\\"/usr/local/etc/mecabrc\\\" -O3 -Wall -c tagger.cpp  -fPIC -DPIC -o .libs/tagger.o\n",
            "In file included from \u001b[01m\u001b[Kdictionary.h:11\u001b[m\u001b[K,\n",
            "                 from \u001b[01m\u001b[Ktokenizer.h:11\u001b[m\u001b[K,\n",
            "                 from \u001b[01m\u001b[Ktagger.cpp:18\u001b[m\u001b[K:\n",
            "\u001b[01m\u001b[Kdarts.h:\u001b[m\u001b[K In member function '\u001b[01m\u001b[KT MeCab::Darts::DoubleArrayImpl<node_type_, node_u_type_, array_type_, array_u_type_, length_func_>::exactMatchSearch(const key_type*, size_t, size_t) const\u001b[m\u001b[K':\n",
            "\u001b[01m\u001b[Kdarts.h:407:27:\u001b[m\u001b[K \u001b[01;35m\u001b[Kwarning: \u001b[m\u001b[KISO C++17 does not allow '\u001b[01m\u001b[Kregister\u001b[m\u001b[K' storage class specifier [\u001b[01;35m\u001b[K\u001b]8;;https://gcc.gnu.org/onlinedocs/gcc/Warning-Options.html#index-Wregister\u0007-Wregister\u001b]8;;\u0007\u001b[m\u001b[K]\n",
            "  407 |     register array_type_  \u001b[01;35m\u001b[Kb\u001b[m\u001b[K = array_[node_pos].base;\n",
            "      |                           \u001b[01;35m\u001b[K^\u001b[m\u001b[K\n",
            "\u001b[01m\u001b[Kdarts.h:408:28:\u001b[m\u001b[K \u001b[01;35m\u001b[Kwarning: \u001b[m\u001b[KISO C++17 does not allow '\u001b[01m\u001b[Kregister\u001b[m\u001b[K' storage class specifier [\u001b[01;35m\u001b[K\u001b]8;;https://gcc.gnu.org/onlinedocs/gcc/Warning-Options.html#index-Wregister\u0007-Wregister\u001b]8;;\u0007\u001b[m\u001b[K]\n",
            "  408 |     register array_u_type_ \u001b[01;35m\u001b[Kp\u001b[m\u001b[K;\n",
            "      |                            \u001b[01;35m\u001b[K^\u001b[m\u001b[K\n",
            "\u001b[01m\u001b[Kdarts.h:410:26:\u001b[m\u001b[K \u001b[01;35m\u001b[Kwarning: \u001b[m\u001b[KISO C++17 does not allow '\u001b[01m\u001b[Kregister\u001b[m\u001b[K' storage class specifier [\u001b[01;35m\u001b[K\u001b]8;;https://gcc.gnu.org/onlinedocs/gcc/Warning-Options.html#index-Wregister\u0007-Wregister\u001b]8;;\u0007\u001b[m\u001b[K]\n",
            "  410 |     for (register size_t \u001b[01;35m\u001b[Ki\u001b[m\u001b[K = 0; i < len; ++i) {\n",
            "      |                          \u001b[01;35m\u001b[K^\u001b[m\u001b[K\n",
            "\u001b[01m\u001b[Kdarts.h:\u001b[m\u001b[K In member function '\u001b[01m\u001b[Ksize_t MeCab::Darts::DoubleArrayImpl<node_type_, node_u_type_, array_type_, array_u_type_, length_func_>::commonPrefixSearch(const key_type*, T*, size_t, size_t, size_t) const\u001b[m\u001b[K':\n",
            "\u001b[01m\u001b[Kdarts.h:434:27:\u001b[m\u001b[K \u001b[01;35m\u001b[Kwarning: \u001b[m\u001b[KISO C++17 does not allow '\u001b[01m\u001b[Kregister\u001b[m\u001b[K' storage class specifier [\u001b[01;35m\u001b[K\u001b]8;;https://gcc.gnu.org/onlinedocs/gcc/Warning-Options.html#index-Wregister\u0007-Wregister\u001b]8;;\u0007\u001b[m\u001b[K]\n",
            "  434 |     register array_type_  \u001b[01;35m\u001b[Kb\u001b[m\u001b[K   = array_[node_pos].base;\n",
            "      |                           \u001b[01;35m\u001b[K^\u001b[m\u001b[K\n",
            "\u001b[01m\u001b[Kdarts.h:435:25:\u001b[m\u001b[K \u001b[01;35m\u001b[Kwarning: \u001b[m\u001b[KISO C++17 does not allow '\u001b[01m\u001b[Kregister\u001b[m\u001b[K' storage class specifier [\u001b[01;35m\u001b[K\u001b]8;;https://gcc.gnu.org/onlinedocs/gcc/Warning-Options.html#index-Wregister\u0007-Wregister\u001b]8;;\u0007\u001b[m\u001b[K]\n",
            "  435 |     register size_t     \u001b[01;35m\u001b[Knum\u001b[m\u001b[K = 0;\n",
            "      |                         \u001b[01;35m\u001b[K^~~\u001b[m\u001b[K\n",
            "\u001b[01m\u001b[Kdarts.h:436:27:\u001b[m\u001b[K \u001b[01;35m\u001b[Kwarning: \u001b[m\u001b[KISO C++17 does not allow '\u001b[01m\u001b[Kregister\u001b[m\u001b[K' storage class specifier [\u001b[01;35m\u001b[K\u001b]8;;https://gcc.gnu.org/onlinedocs/gcc/Warning-Options.html#index-Wregister\u0007-Wregister\u001b]8;;\u0007\u001b[m\u001b[K]\n",
            "  436 |     register array_type_  \u001b[01;35m\u001b[Kn\u001b[m\u001b[K;\n",
            "      |                           \u001b[01;35m\u001b[K^\u001b[m\u001b[K\n",
            "\u001b[01m\u001b[Kdarts.h:437:28:\u001b[m\u001b[K \u001b[01;35m\u001b[Kwarning: \u001b[m\u001b[KISO C++17 does not allow '\u001b[01m\u001b[Kregister\u001b[m\u001b[K' storage class specifier [\u001b[01;35m\u001b[K\u001b]8;;https://gcc.gnu.org/onlinedocs/gcc/Warning-Options.html#index-Wregister\u0007-Wregister\u001b]8;;\u0007\u001b[m\u001b[K]\n",
            "  437 |     register array_u_type_ \u001b[01;35m\u001b[Kp\u001b[m\u001b[K;\n",
            "      |                            \u001b[01;35m\u001b[K^\u001b[m\u001b[K\n",
            "\u001b[01m\u001b[Kdarts.h:439:26:\u001b[m\u001b[K \u001b[01;35m\u001b[Kwarning: \u001b[m\u001b[KISO C++17 does not allow '\u001b[01m\u001b[Kregister\u001b[m\u001b[K' storage class specifier [\u001b[01;35m\u001b[K\u001b]8;;https://gcc.gnu.org/onlinedocs/gcc/Warning-Options.html#index-Wregister\u0007-Wregister\u001b]8;;\u0007\u001b[m\u001b[K]\n",
            "  439 |     for (register size_t \u001b[01;35m\u001b[Ki\u001b[m\u001b[K = 0; i < len; ++i) {\n",
            "      |                          \u001b[01;35m\u001b[K^\u001b[m\u001b[K\n",
            "\u001b[01m\u001b[Kdarts.h:\u001b[m\u001b[K In member function '\u001b[01m\u001b[KMeCab::Darts::DoubleArrayImpl<node_type_, node_u_type_, array_type_, array_u_type_, length_func_>::value_type MeCab::Darts::DoubleArrayImpl<node_type_, node_u_type_, array_type_, array_u_type_, length_func_>::traverse(const key_type*, size_t&, size_t&, size_t) const\u001b[m\u001b[K':\n",
            "\u001b[01m\u001b[Kdarts.h:472:27:\u001b[m\u001b[K \u001b[01;35m\u001b[Kwarning: \u001b[m\u001b[KISO C++17 does not allow '\u001b[01m\u001b[Kregister\u001b[m\u001b[K' storage class specifier [\u001b[01;35m\u001b[K\u001b]8;;https://gcc.gnu.org/onlinedocs/gcc/Warning-Options.html#index-Wregister\u0007-Wregister\u001b]8;;\u0007\u001b[m\u001b[K]\n",
            "  472 |     register array_type_  \u001b[01;35m\u001b[Kb\u001b[m\u001b[K = array_[node_pos].base;\n",
            "      |                           \u001b[01;35m\u001b[K^\u001b[m\u001b[K\n",
            "\u001b[01m\u001b[Kdarts.h:473:28:\u001b[m\u001b[K \u001b[01;35m\u001b[Kwarning: \u001b[m\u001b[KISO C++17 does not allow '\u001b[01m\u001b[Kregister\u001b[m\u001b[K' storage class specifier [\u001b[01;35m\u001b[K\u001b]8;;https://gcc.gnu.org/onlinedocs/gcc/Warning-Options.html#index-Wregister\u0007-Wregister\u001b]8;;\u0007\u001b[m\u001b[K]\n",
            "  473 |     register array_u_type_ \u001b[01;35m\u001b[Kp\u001b[m\u001b[K;\n",
            "      |                            \u001b[01;35m\u001b[K^\u001b[m\u001b[K\n",
            "In file included from \u001b[01m\u001b[Kdictionary.h:12\u001b[m\u001b[K,\n",
            "                 from \u001b[01m\u001b[Ktokenizer.h:11\u001b[m\u001b[K,\n",
            "                 from \u001b[01m\u001b[Ktagger.cpp:18\u001b[m\u001b[K:\n",
            "\u001b[01m\u001b[Kchar_property.h:\u001b[m\u001b[K In member function '\u001b[01m\u001b[Kconst char* MeCab::CharProperty::seekToOtherType(const char*, const char*, MeCab::CharInfo, MeCab::CharInfo*, size_t*, size_t*) const\u001b[m\u001b[K':\n",
            "\u001b[01m\u001b[Kchar_property.h:40:26:\u001b[m\u001b[K \u001b[01;35m\u001b[Kwarning: \u001b[m\u001b[KISO C++17 does not allow '\u001b[01m\u001b[Kregister\u001b[m\u001b[K' storage class specifier [\u001b[01;35m\u001b[K\u001b]8;;https://gcc.gnu.org/onlinedocs/gcc/Warning-Options.html#index-Wregister\u0007-Wregister\u001b]8;;\u0007\u001b[m\u001b[K]\n",
            "   40 |     register const char *\u001b[01;35m\u001b[Kp\u001b[m\u001b[K =  begin;\n",
            "      |                          \u001b[01;35m\u001b[K^\u001b[m\u001b[K\n",
            "In file included from \u001b[01m\u001b[Kdictionary.h:11\u001b[m\u001b[K,\n",
            "                 from \u001b[01m\u001b[Ktokenizer.h:11\u001b[m\u001b[K,\n",
            "                 from \u001b[01m\u001b[Ktagger.cpp:18\u001b[m\u001b[K:\n",
            "darts.h: In instantiation of '\u001b[01m\u001b[Ksize_t MeCab::Darts::DoubleArrayImpl<node_type_, node_u_type_, array_type_, array_u_type_, length_func_>::commonPrefixSearch(const key_type*, T*, size_t, size_t, size_t) const [with T = MeCab::Darts::DoubleArrayImpl<char, unsigned char, int, unsigned int>::result_pair_type; node_type_ = char; node_u_type_ = unsigned char; array_type_ = int; array_u_type_ = unsigned int; length_func_ = MeCab::Darts::Length<char>; size_t = long unsigned int; MeCab::Darts::DoubleArrayImpl<node_type_, node_u_type_, array_type_, array_u_type_, length_func_>::key_type = char]\u001b[m\u001b[K':\n",
            "\u001b[01m\u001b[Kdictionary.h:37:34:\u001b[m\u001b[K   required from here\n",
            "\u001b[01m\u001b[Kdarts.h:434:27:\u001b[m\u001b[K \u001b[01;35m\u001b[Kwarning: \u001b[m\u001b[KISO C++17 does not allow '\u001b[01m\u001b[Kregister\u001b[m\u001b[K' storage class specifier [\u001b[01;35m\u001b[K\u001b]8;;https://gcc.gnu.org/onlinedocs/gcc/Warning-Options.html#index-Wregister\u0007-Wregister\u001b]8;;\u0007\u001b[m\u001b[K]\n",
            "  434 |     register array_type_  \u001b[01;35m\u001b[Kb\u001b[m\u001b[K   = array_[node_pos].base;\n",
            "      |                           \u001b[01;35m\u001b[K^\u001b[m\u001b[K\n",
            "\u001b[01m\u001b[Kdarts.h:435:25:\u001b[m\u001b[K \u001b[01;35m\u001b[Kwarning: \u001b[m\u001b[KISO C++17 does not allow '\u001b[01m\u001b[Kregister\u001b[m\u001b[K' storage class specifier [\u001b[01;35m\u001b[K\u001b]8;;https://gcc.gnu.org/onlinedocs/gcc/Warning-Options.html#index-Wregister\u0007-Wregister\u001b]8;;\u0007\u001b[m\u001b[K]\n",
            "  435 |     register size_t     \u001b[01;35m\u001b[Knum\u001b[m\u001b[K = 0;\n",
            "      |                         \u001b[01;35m\u001b[K^~~\u001b[m\u001b[K\n",
            "\u001b[01m\u001b[Kdarts.h:436:27:\u001b[m\u001b[K \u001b[01;35m\u001b[Kwarning: \u001b[m\u001b[KISO C++17 does not allow '\u001b[01m\u001b[Kregister\u001b[m\u001b[K' storage class specifier [\u001b[01;35m\u001b[K\u001b]8;;https://gcc.gnu.org/onlinedocs/gcc/Warning-Options.html#index-Wregister\u0007-Wregister\u001b]8;;\u0007\u001b[m\u001b[K]\n",
            "  436 |     register array_type_  \u001b[01;35m\u001b[Kn\u001b[m\u001b[K;\n",
            "      |                           \u001b[01;35m\u001b[K^\u001b[m\u001b[K\n",
            "\u001b[01m\u001b[Kdarts.h:437:28:\u001b[m\u001b[K \u001b[01;35m\u001b[Kwarning: \u001b[m\u001b[KISO C++17 does not allow '\u001b[01m\u001b[Kregister\u001b[m\u001b[K' storage class specifier [\u001b[01;35m\u001b[K\u001b]8;;https://gcc.gnu.org/onlinedocs/gcc/Warning-Options.html#index-Wregister\u0007-Wregister\u001b]8;;\u0007\u001b[m\u001b[K]\n",
            "  437 |     register array_u_type_ \u001b[01;35m\u001b[Kp\u001b[m\u001b[K;\n",
            "      |                            \u001b[01;35m\u001b[K^\u001b[m\u001b[K\n",
            "\u001b[01m\u001b[Kdarts.h:439:26:\u001b[m\u001b[K \u001b[01;35m\u001b[Kwarning: \u001b[m\u001b[KISO C++17 does not allow '\u001b[01m\u001b[Kregister\u001b[m\u001b[K' storage class specifier [\u001b[01;35m\u001b[K\u001b]8;;https://gcc.gnu.org/onlinedocs/gcc/Warning-Options.html#index-Wregister\u0007-Wregister\u001b]8;;\u0007\u001b[m\u001b[K]\n",
            "  439 |     for (register size_t \u001b[01;35m\u001b[Ki\u001b[m\u001b[K = 0; i < len; ++i) {\n",
            "      |                          \u001b[01;35m\u001b[K^\u001b[m\u001b[K\n",
            "darts.h: In instantiation of '\u001b[01m\u001b[KT MeCab::Darts::DoubleArrayImpl<node_type_, node_u_type_, array_type_, array_u_type_, length_func_>::exactMatchSearch(const key_type*, size_t, size_t) const [with T = MeCab::Darts::DoubleArrayImpl<char, unsigned char, int, unsigned int>::result_pair_type; node_type_ = char; node_u_type_ = unsigned char; array_type_ = int; array_u_type_ = unsigned int; length_func_ = MeCab::Darts::Length<char>; MeCab::Darts::DoubleArrayImpl<node_type_, node_u_type_, array_type_, array_u_type_, length_func_>::key_type = char; size_t = long unsigned int]\u001b[m\u001b[K':\n",
            "\u001b[01m\u001b[Kdarts.h:394:33:\u001b[m\u001b[K   required from '\u001b[01m\u001b[Kvoid MeCab::Darts::DoubleArrayImpl<node_type_, node_u_type_, array_type_, array_u_type_, length_func_>::exactMatchSearch(const key_type*, T&, size_t, size_t) const [with T = MeCab::Darts::DoubleArrayImpl<char, unsigned char, int, unsigned int>::result_pair_type; node_type_ = char; node_u_type_ = unsigned char; array_type_ = int; array_u_type_ = unsigned int; length_func_ = MeCab::Darts::Length<char>; MeCab::Darts::DoubleArrayImpl<node_type_, node_u_type_, array_type_, array_u_type_, length_func_>::key_type = char; size_t = long unsigned int]\u001b[m\u001b[K'\n",
            "\u001b[01m\u001b[Kdictionary.h:42:25:\u001b[m\u001b[K   required from here\n",
            "\u001b[01m\u001b[Kdarts.h:407:27:\u001b[m\u001b[K \u001b[01;35m\u001b[Kwarning: \u001b[m\u001b[KISO C++17 does not allow '\u001b[01m\u001b[Kregister\u001b[m\u001b[K' storage class specifier [\u001b[01;35m\u001b[K\u001b]8;;https://gcc.gnu.org/onlinedocs/gcc/Warning-Options.html#index-Wregister\u0007-Wregister\u001b]8;;\u0007\u001b[m\u001b[K]\n",
            "  407 |     register array_type_  \u001b[01;35m\u001b[Kb\u001b[m\u001b[K = array_[node_pos].base;\n",
            "      |                           \u001b[01;35m\u001b[K^\u001b[m\u001b[K\n",
            "\u001b[01m\u001b[Kdarts.h:408:28:\u001b[m\u001b[K \u001b[01;35m\u001b[Kwarning: \u001b[m\u001b[KISO C++17 does not allow '\u001b[01m\u001b[Kregister\u001b[m\u001b[K' storage class specifier [\u001b[01;35m\u001b[K\u001b]8;;https://gcc.gnu.org/onlinedocs/gcc/Warning-Options.html#index-Wregister\u0007-Wregister\u001b]8;;\u0007\u001b[m\u001b[K]\n",
            "  408 |     register array_u_type_ \u001b[01;35m\u001b[Kp\u001b[m\u001b[K;\n",
            "      |                            \u001b[01;35m\u001b[K^\u001b[m\u001b[K\n",
            "\u001b[01m\u001b[Kdarts.h:410:26:\u001b[m\u001b[K \u001b[01;35m\u001b[Kwarning: \u001b[m\u001b[KISO C++17 does not allow '\u001b[01m\u001b[Kregister\u001b[m\u001b[K' storage class specifier [\u001b[01;35m\u001b[K\u001b]8;;https://gcc.gnu.org/onlinedocs/gcc/Warning-Options.html#index-Wregister\u0007-Wregister\u001b]8;;\u0007\u001b[m\u001b[K]\n",
            "  410 |     for (register size_t \u001b[01;35m\u001b[Ki\u001b[m\u001b[K = 0; i < len; ++i) {\n",
            "      |                          \u001b[01;35m\u001b[K^\u001b[m\u001b[K\n",
            "libtool: compile:  g++ -DHAVE_CONFIG_H -I. -I.. -DDIC_VERSION=102 -DMECAB_DEFAULT_RC=\\\"/usr/local/etc/mecabrc\\\" -O3 -Wall -c tagger.cpp -o tagger.o >/dev/null 2>&1\n",
            "/bin/bash ../libtool --tag=CXX   --mode=compile g++ -DHAVE_CONFIG_H -I. -I.. -DDIC_VERSION=102   -DMECAB_DEFAULT_RC=\"\\\"/usr/local/etc/mecabrc\\\"\"    -O3 -Wall  -c -o utils.lo utils.cpp\n",
            "libtool: compile:  g++ -DHAVE_CONFIG_H -I. -I.. -DDIC_VERSION=102 -DMECAB_DEFAULT_RC=\\\"/usr/local/etc/mecabrc\\\" -O3 -Wall -c utils.cpp  -fPIC -DPIC -o .libs/utils.o\n",
            "libtool: compile:  g++ -DHAVE_CONFIG_H -I. -I.. -DDIC_VERSION=102 -DMECAB_DEFAULT_RC=\\\"/usr/local/etc/mecabrc\\\" -O3 -Wall -c utils.cpp -o utils.o >/dev/null 2>&1\n",
            "/bin/bash ../libtool --tag=CXX   --mode=compile g++ -DHAVE_CONFIG_H -I. -I.. -DDIC_VERSION=102   -DMECAB_DEFAULT_RC=\"\\\"/usr/local/etc/mecabrc\\\"\"    -O3 -Wall  -c -o eval.lo eval.cpp\n",
            "libtool: compile:  g++ -DHAVE_CONFIG_H -I. -I.. -DDIC_VERSION=102 -DMECAB_DEFAULT_RC=\\\"/usr/local/etc/mecabrc\\\" -O3 -Wall -c eval.cpp  -fPIC -DPIC -o .libs/eval.o\n",
            "In file included from \u001b[01m\u001b[K/usr/include/string.h:535\u001b[m\u001b[K,\n",
            "                 from \u001b[01m\u001b[K/usr/include/c++/11/cstring:42\u001b[m\u001b[K,\n",
            "                 from \u001b[01m\u001b[Kcommon.h:13\u001b[m\u001b[K,\n",
            "                 from \u001b[01m\u001b[Keval.cpp:11\u001b[m\u001b[K:\n",
            "In function '\u001b[01m\u001b[Kchar* strncpy(char*, const char*, size_t)\u001b[m\u001b[K',\n",
            "    inlined from '\u001b[01m\u001b[Kstatic bool MeCab::Eval::parseLevel(const char*, std::vector<int>*)\u001b[m\u001b[K' at \u001b[01m\u001b[Keval.cpp:63:17\u001b[m\u001b[K,\n",
            "    inlined from '\u001b[01m\u001b[Kstatic bool MeCab::Eval::eval(int, char**)\u001b[m\u001b[K' at \u001b[01m\u001b[Keval.cpp:134:15\u001b[m\u001b[K:\n",
            "\u001b[01m\u001b[K/usr/include/x86_64-linux-gnu/bits/string_fortified.h:95:34:\u001b[m\u001b[K \u001b[01;35m\u001b[Kwarning: \u001b[m\u001b[K'\u001b[01m\u001b[Kchar* __builtin_strncpy(char*, const char*, long unsigned int)\u001b[m\u001b[K' specified bound 8192 equals destination size [\u001b[01;35m\u001b[K\u001b]8;;https://gcc.gnu.org/onlinedocs/gcc/Warning-Options.html#index-Wstringop-truncation\u0007-Wstringop-truncation\u001b]8;;\u0007\u001b[m\u001b[K]\n",
            "   95 |   return \u001b[01;35m\u001b[K__builtin___strncpy_chk (__dest, __src, __len,\u001b[m\u001b[K\n",
            "      |          \u001b[01;35m\u001b[K~~~~~~~~~~~~~~~~~~~~~~~~^~~~~~~~~~~~~~~~~~~~~~\u001b[m\u001b[K\n",
            "   96 | \u001b[01;35m\u001b[K                                  __glibc_objsize (__dest))\u001b[m\u001b[K;\n",
            "      |                                   \u001b[01;35m\u001b[K~~~~~~~~~~~~~~~~~~~~~~~~~\u001b[m\u001b[K\n",
            "libtool: compile:  g++ -DHAVE_CONFIG_H -I. -I.. -DDIC_VERSION=102 -DMECAB_DEFAULT_RC=\\\"/usr/local/etc/mecabrc\\\" -O3 -Wall -c eval.cpp -o eval.o >/dev/null 2>&1\n",
            "/bin/bash ../libtool --tag=CXX   --mode=compile g++ -DHAVE_CONFIG_H -I. -I.. -DDIC_VERSION=102   -DMECAB_DEFAULT_RC=\"\\\"/usr/local/etc/mecabrc\\\"\"    -O3 -Wall  -c -o iconv_utils.lo iconv_utils.cpp\n",
            "libtool: compile:  g++ -DHAVE_CONFIG_H -I. -I.. -DDIC_VERSION=102 -DMECAB_DEFAULT_RC=\\\"/usr/local/etc/mecabrc\\\" -O3 -Wall -c iconv_utils.cpp  -fPIC -DPIC -o .libs/iconv_utils.o\n",
            "In file included from \u001b[01m\u001b[Kiconv_utils.cpp:18\u001b[m\u001b[K:\n",
            "\u001b[01m\u001b[Kchar_property.h:\u001b[m\u001b[K In member function '\u001b[01m\u001b[Kconst char* MeCab::CharProperty::seekToOtherType(const char*, const char*, MeCab::CharInfo, MeCab::CharInfo*, size_t*, size_t*) const\u001b[m\u001b[K':\n",
            "\u001b[01m\u001b[Kchar_property.h:40:26:\u001b[m\u001b[K \u001b[01;35m\u001b[Kwarning: \u001b[m\u001b[KISO C++17 does not allow '\u001b[01m\u001b[Kregister\u001b[m\u001b[K' storage class specifier [\u001b[01;35m\u001b[K\u001b]8;;https://gcc.gnu.org/onlinedocs/gcc/Warning-Options.html#index-Wregister\u0007-Wregister\u001b]8;;\u0007\u001b[m\u001b[K]\n",
            "   40 |     register const char *\u001b[01;35m\u001b[Kp\u001b[m\u001b[K =  begin;\n",
            "      |                          \u001b[01;35m\u001b[K^\u001b[m\u001b[K\n",
            "libtool: compile:  g++ -DHAVE_CONFIG_H -I. -I.. -DDIC_VERSION=102 -DMECAB_DEFAULT_RC=\\\"/usr/local/etc/mecabrc\\\" -O3 -Wall -c iconv_utils.cpp -o iconv_utils.o >/dev/null 2>&1\n",
            "/bin/bash ../libtool --tag=CXX   --mode=compile g++ -DHAVE_CONFIG_H -I. -I.. -DDIC_VERSION=102   -DMECAB_DEFAULT_RC=\"\\\"/usr/local/etc/mecabrc\\\"\"    -O3 -Wall  -c -o dictionary_rewriter.lo dictionary_rewriter.cpp\n",
            "libtool: compile:  g++ -DHAVE_CONFIG_H -I. -I.. -DDIC_VERSION=102 -DMECAB_DEFAULT_RC=\\\"/usr/local/etc/mecabrc\\\" -O3 -Wall -c dictionary_rewriter.cpp  -fPIC -DPIC -o .libs/dictionary_rewriter.o\n",
            "In file included from \u001b[01m\u001b[K/usr/include/string.h:535\u001b[m\u001b[K,\n",
            "                 from \u001b[01m\u001b[K/usr/include/c++/11/cstring:42\u001b[m\u001b[K,\n",
            "                 from \u001b[01m\u001b[Kdictionary_rewriter.cpp:6\u001b[m\u001b[K:\n",
            "In function '\u001b[01m\u001b[Kchar* strncpy(char*, const char*, size_t)\u001b[m\u001b[K',\n",
            "    inlined from '\u001b[01m\u001b[Kbool {anonymous}::match_rewrite_pattern(const char*, const char*)\u001b[m\u001b[K' at \u001b[01m\u001b[Kdictionary_rewriter.cpp:47:17\u001b[m\u001b[K,\n",
            "    inlined from '\u001b[01m\u001b[Kbool MeCab::RewritePattern::rewrite(size_t, const char**, std::string*) const\u001b[m\u001b[K' at \u001b[01m\u001b[Kdictionary_rewriter.cpp:81:31\u001b[m\u001b[K:\n",
            "\u001b[01m\u001b[K/usr/include/x86_64-linux-gnu/bits/string_fortified.h:95:34:\u001b[m\u001b[K \u001b[01;35m\u001b[Kwarning: \u001b[m\u001b[K'\u001b[01m\u001b[Kchar* __builtin_strncpy(char*, const char*, long unsigned int)\u001b[m\u001b[K' specified bound 8192 equals destination size [\u001b[01;35m\u001b[K\u001b]8;;https://gcc.gnu.org/onlinedocs/gcc/Warning-Options.html#index-Wstringop-truncation\u0007-Wstringop-truncation\u001b]8;;\u0007\u001b[m\u001b[K]\n",
            "   95 |   return \u001b[01;35m\u001b[K__builtin___strncpy_chk (__dest, __src, __len,\u001b[m\u001b[K\n",
            "      |          \u001b[01;35m\u001b[K~~~~~~~~~~~~~~~~~~~~~~~~^~~~~~~~~~~~~~~~~~~~~~\u001b[m\u001b[K\n",
            "   96 | \u001b[01;35m\u001b[K                                  __glibc_objsize (__dest))\u001b[m\u001b[K;\n",
            "      |                                   \u001b[01;35m\u001b[K~~~~~~~~~~~~~~~~~~~~~~~~~\u001b[m\u001b[K\n",
            "In function '\u001b[01m\u001b[Kchar* strncpy(char*, const char*, size_t)\u001b[m\u001b[K',\n",
            "    inlined from '\u001b[01m\u001b[Kbool MeCab::RewritePattern::set_pattern(const char*, const char*)\u001b[m\u001b[K' at \u001b[01m\u001b[Kdictionary_rewriter.cpp:67:15\u001b[m\u001b[K:\n",
            "\u001b[01m\u001b[K/usr/include/x86_64-linux-gnu/bits/string_fortified.h:95:34:\u001b[m\u001b[K \u001b[01;35m\u001b[Kwarning: \u001b[m\u001b[K'\u001b[01m\u001b[Kchar* __builtin_strncpy(char*, const char*, long unsigned int)\u001b[m\u001b[K' specified bound 8192 equals destination size [\u001b[01;35m\u001b[K\u001b]8;;https://gcc.gnu.org/onlinedocs/gcc/Warning-Options.html#index-Wstringop-truncation\u0007-Wstringop-truncation\u001b]8;;\u0007\u001b[m\u001b[K]\n",
            "   95 |   return \u001b[01;35m\u001b[K__builtin___strncpy_chk (__dest, __src, __len,\u001b[m\u001b[K\n",
            "      |          \u001b[01;35m\u001b[K~~~~~~~~~~~~~~~~~~~~~~~~^~~~~~~~~~~~~~~~~~~~~~\u001b[m\u001b[K\n",
            "   96 | \u001b[01;35m\u001b[K                                  __glibc_objsize (__dest))\u001b[m\u001b[K;\n",
            "      |                                   \u001b[01;35m\u001b[K~~~~~~~~~~~~~~~~~~~~~~~~~\u001b[m\u001b[K\n",
            "In function '\u001b[01m\u001b[Kchar* strncpy(char*, const char*, size_t)\u001b[m\u001b[K',\n",
            "    inlined from '\u001b[01m\u001b[Kbool MeCab::RewritePattern::set_pattern(const char*, const char*)\u001b[m\u001b[K' at \u001b[01m\u001b[Kdictionary_rewriter.cpp:70:15\u001b[m\u001b[K:\n",
            "\u001b[01m\u001b[K/usr/include/x86_64-linux-gnu/bits/string_fortified.h:95:34:\u001b[m\u001b[K \u001b[01;35m\u001b[Kwarning: \u001b[m\u001b[K'\u001b[01m\u001b[Kchar* __builtin_strncpy(char*, const char*, long unsigned int)\u001b[m\u001b[K' specified bound 8192 equals destination size [\u001b[01;35m\u001b[K\u001b]8;;https://gcc.gnu.org/onlinedocs/gcc/Warning-Options.html#index-Wstringop-truncation\u0007-Wstringop-truncation\u001b]8;;\u0007\u001b[m\u001b[K]\n",
            "   95 |   return \u001b[01;35m\u001b[K__builtin___strncpy_chk (__dest, __src, __len,\u001b[m\u001b[K\n",
            "      |          \u001b[01;35m\u001b[K~~~~~~~~~~~~~~~~~~~~~~~~^~~~~~~~~~~~~~~~~~~~~~\u001b[m\u001b[K\n",
            "   96 | \u001b[01;35m\u001b[K                                  __glibc_objsize (__dest))\u001b[m\u001b[K;\n",
            "      |                                   \u001b[01;35m\u001b[K~~~~~~~~~~~~~~~~~~~~~~~~~\u001b[m\u001b[K\n",
            "libtool: compile:  g++ -DHAVE_CONFIG_H -I. -I.. -DDIC_VERSION=102 -DMECAB_DEFAULT_RC=\\\"/usr/local/etc/mecabrc\\\" -O3 -Wall -c dictionary_rewriter.cpp -o dictionary_rewriter.o >/dev/null 2>&1\n",
            "/bin/bash ../libtool --tag=CXX   --mode=compile g++ -DHAVE_CONFIG_H -I. -I.. -DDIC_VERSION=102   -DMECAB_DEFAULT_RC=\"\\\"/usr/local/etc/mecabrc\\\"\"    -O3 -Wall  -c -o dictionary_generator.lo dictionary_generator.cpp\n",
            "libtool: compile:  g++ -DHAVE_CONFIG_H -I. -I.. -DDIC_VERSION=102 -DMECAB_DEFAULT_RC=\\\"/usr/local/etc/mecabrc\\\" -O3 -Wall -c dictionary_generator.cpp  -fPIC -DPIC -o .libs/dictionary_generator.o\n",
            "In file included from \u001b[01m\u001b[Kdictionary_generator.cpp:11\u001b[m\u001b[K:\n",
            "\u001b[01m\u001b[Kchar_property.h:\u001b[m\u001b[K In member function '\u001b[01m\u001b[Kconst char* MeCab::CharProperty::seekToOtherType(const char*, const char*, MeCab::CharInfo, MeCab::CharInfo*, size_t*, size_t*) const\u001b[m\u001b[K':\n",
            "\u001b[01m\u001b[Kchar_property.h:40:26:\u001b[m\u001b[K \u001b[01;35m\u001b[Kwarning: \u001b[m\u001b[KISO C++17 does not allow '\u001b[01m\u001b[Kregister\u001b[m\u001b[K' storage class specifier [\u001b[01;35m\u001b[K\u001b]8;;https://gcc.gnu.org/onlinedocs/gcc/Warning-Options.html#index-Wregister\u0007-Wregister\u001b]8;;\u0007\u001b[m\u001b[K]\n",
            "   40 |     register const char *\u001b[01;35m\u001b[Kp\u001b[m\u001b[K =  begin;\n",
            "      |                          \u001b[01;35m\u001b[K^\u001b[m\u001b[K\n",
            "In file included from \u001b[01m\u001b[Kdictionary.h:11\u001b[m\u001b[K,\n",
            "                 from \u001b[01m\u001b[Kdictionary_generator.cpp:14\u001b[m\u001b[K:\n",
            "\u001b[01m\u001b[Kdarts.h:\u001b[m\u001b[K In member function '\u001b[01m\u001b[KT MeCab::Darts::DoubleArrayImpl<node_type_, node_u_type_, array_type_, array_u_type_, length_func_>::exactMatchSearch(const key_type*, size_t, size_t) const\u001b[m\u001b[K':\n",
            "\u001b[01m\u001b[Kdarts.h:407:27:\u001b[m\u001b[K \u001b[01;35m\u001b[Kwarning: \u001b[m\u001b[KISO C++17 does not allow '\u001b[01m\u001b[Kregister\u001b[m\u001b[K' storage class specifier [\u001b[01;35m\u001b[K\u001b]8;;https://gcc.gnu.org/onlinedocs/gcc/Warning-Options.html#index-Wregister\u0007-Wregister\u001b]8;;\u0007\u001b[m\u001b[K]\n",
            "  407 |     register array_type_  \u001b[01;35m\u001b[Kb\u001b[m\u001b[K = array_[node_pos].base;\n",
            "      |                           \u001b[01;35m\u001b[K^\u001b[m\u001b[K\n",
            "\u001b[01m\u001b[Kdarts.h:408:28:\u001b[m\u001b[K \u001b[01;35m\u001b[Kwarning: \u001b[m\u001b[KISO C++17 does not allow '\u001b[01m\u001b[Kregister\u001b[m\u001b[K' storage class specifier [\u001b[01;35m\u001b[K\u001b]8;;https://gcc.gnu.org/onlinedocs/gcc/Warning-Options.html#index-Wregister\u0007-Wregister\u001b]8;;\u0007\u001b[m\u001b[K]\n",
            "  408 |     register array_u_type_ \u001b[01;35m\u001b[Kp\u001b[m\u001b[K;\n",
            "      |                            \u001b[01;35m\u001b[K^\u001b[m\u001b[K\n",
            "\u001b[01m\u001b[Kdarts.h:410:26:\u001b[m\u001b[K \u001b[01;35m\u001b[Kwarning: \u001b[m\u001b[KISO C++17 does not allow '\u001b[01m\u001b[Kregister\u001b[m\u001b[K' storage class specifier [\u001b[01;35m\u001b[K\u001b]8;;https://gcc.gnu.org/onlinedocs/gcc/Warning-Options.html#index-Wregister\u0007-Wregister\u001b]8;;\u0007\u001b[m\u001b[K]\n",
            "  410 |     for (register size_t \u001b[01;35m\u001b[Ki\u001b[m\u001b[K = 0; i < len; ++i) {\n",
            "      |                          \u001b[01;35m\u001b[K^\u001b[m\u001b[K\n",
            "\u001b[01m\u001b[Kdarts.h:\u001b[m\u001b[K In member function '\u001b[01m\u001b[Ksize_t MeCab::Darts::DoubleArrayImpl<node_type_, node_u_type_, array_type_, array_u_type_, length_func_>::commonPrefixSearch(const key_type*, T*, size_t, size_t, size_t) const\u001b[m\u001b[K':\n",
            "\u001b[01m\u001b[Kdarts.h:434:27:\u001b[m\u001b[K \u001b[01;35m\u001b[Kwarning: \u001b[m\u001b[KISO C++17 does not allow '\u001b[01m\u001b[Kregister\u001b[m\u001b[K' storage class specifier [\u001b[01;35m\u001b[K\u001b]8;;https://gcc.gnu.org/onlinedocs/gcc/Warning-Options.html#index-Wregister\u0007-Wregister\u001b]8;;\u0007\u001b[m\u001b[K]\n",
            "  434 |     register array_type_  \u001b[01;35m\u001b[Kb\u001b[m\u001b[K   = array_[node_pos].base;\n",
            "      |                           \u001b[01;35m\u001b[K^\u001b[m\u001b[K\n",
            "\u001b[01m\u001b[Kdarts.h:435:25:\u001b[m\u001b[K \u001b[01;35m\u001b[Kwarning: \u001b[m\u001b[KISO C++17 does not allow '\u001b[01m\u001b[Kregister\u001b[m\u001b[K' storage class specifier [\u001b[01;35m\u001b[K\u001b]8;;https://gcc.gnu.org/onlinedocs/gcc/Warning-Options.html#index-Wregister\u0007-Wregister\u001b]8;;\u0007\u001b[m\u001b[K]\n",
            "  435 |     register size_t     \u001b[01;35m\u001b[Knum\u001b[m\u001b[K = 0;\n",
            "      |                         \u001b[01;35m\u001b[K^~~\u001b[m\u001b[K\n",
            "\u001b[01m\u001b[Kdarts.h:436:27:\u001b[m\u001b[K \u001b[01;35m\u001b[Kwarning: \u001b[m\u001b[KISO C++17 does not allow '\u001b[01m\u001b[Kregister\u001b[m\u001b[K' storage class specifier [\u001b[01;35m\u001b[K\u001b]8;;https://gcc.gnu.org/onlinedocs/gcc/Warning-Options.html#index-Wregister\u0007-Wregister\u001b]8;;\u0007\u001b[m\u001b[K]\n",
            "  436 |     register array_type_  \u001b[01;35m\u001b[Kn\u001b[m\u001b[K;\n",
            "      |                           \u001b[01;35m\u001b[K^\u001b[m\u001b[K\n",
            "\u001b[01m\u001b[Kdarts.h:437:28:\u001b[m\u001b[K \u001b[01;35m\u001b[Kwarning: \u001b[m\u001b[KISO C++17 does not allow '\u001b[01m\u001b[Kregister\u001b[m\u001b[K' storage class specifier [\u001b[01;35m\u001b[K\u001b]8;;https://gcc.gnu.org/onlinedocs/gcc/Warning-Options.html#index-Wregister\u0007-Wregister\u001b]8;;\u0007\u001b[m\u001b[K]\n",
            "  437 |     register array_u_type_ \u001b[01;35m\u001b[Kp\u001b[m\u001b[K;\n",
            "      |                            \u001b[01;35m\u001b[K^\u001b[m\u001b[K\n",
            "\u001b[01m\u001b[Kdarts.h:439:26:\u001b[m\u001b[K \u001b[01;35m\u001b[Kwarning: \u001b[m\u001b[KISO C++17 does not allow '\u001b[01m\u001b[Kregister\u001b[m\u001b[K' storage class specifier [\u001b[01;35m\u001b[K\u001b]8;;https://gcc.gnu.org/onlinedocs/gcc/Warning-Options.html#index-Wregister\u0007-Wregister\u001b]8;;\u0007\u001b[m\u001b[K]\n",
            "  439 |     for (register size_t \u001b[01;35m\u001b[Ki\u001b[m\u001b[K = 0; i < len; ++i) {\n",
            "      |                          \u001b[01;35m\u001b[K^\u001b[m\u001b[K\n",
            "\u001b[01m\u001b[Kdarts.h:\u001b[m\u001b[K In member function '\u001b[01m\u001b[KMeCab::Darts::DoubleArrayImpl<node_type_, node_u_type_, array_type_, array_u_type_, length_func_>::value_type MeCab::Darts::DoubleArrayImpl<node_type_, node_u_type_, array_type_, array_u_type_, length_func_>::traverse(const key_type*, size_t&, size_t&, size_t) const\u001b[m\u001b[K':\n",
            "\u001b[01m\u001b[Kdarts.h:472:27:\u001b[m\u001b[K \u001b[01;35m\u001b[Kwarning: \u001b[m\u001b[KISO C++17 does not allow '\u001b[01m\u001b[Kregister\u001b[m\u001b[K' storage class specifier [\u001b[01;35m\u001b[K\u001b]8;;https://gcc.gnu.org/onlinedocs/gcc/Warning-Options.html#index-Wregister\u0007-Wregister\u001b]8;;\u0007\u001b[m\u001b[K]\n",
            "  472 |     register array_type_  \u001b[01;35m\u001b[Kb\u001b[m\u001b[K = array_[node_pos].base;\n",
            "      |                           \u001b[01;35m\u001b[K^\u001b[m\u001b[K\n",
            "\u001b[01m\u001b[Kdarts.h:473:28:\u001b[m\u001b[K \u001b[01;35m\u001b[Kwarning: \u001b[m\u001b[KISO C++17 does not allow '\u001b[01m\u001b[Kregister\u001b[m\u001b[K' storage class specifier [\u001b[01;35m\u001b[K\u001b]8;;https://gcc.gnu.org/onlinedocs/gcc/Warning-Options.html#index-Wregister\u0007-Wregister\u001b]8;;\u0007\u001b[m\u001b[K]\n",
            "  473 |     register array_u_type_ \u001b[01;35m\u001b[Kp\u001b[m\u001b[K;\n",
            "      |                            \u001b[01;35m\u001b[K^\u001b[m\u001b[K\n",
            "darts.h: In instantiation of '\u001b[01m\u001b[Ksize_t MeCab::Darts::DoubleArrayImpl<node_type_, node_u_type_, array_type_, array_u_type_, length_func_>::commonPrefixSearch(const key_type*, T*, size_t, size_t, size_t) const [with T = MeCab::Darts::DoubleArrayImpl<char, unsigned char, int, unsigned int>::result_pair_type; node_type_ = char; node_u_type_ = unsigned char; array_type_ = int; array_u_type_ = unsigned int; length_func_ = MeCab::Darts::Length<char>; size_t = long unsigned int; MeCab::Darts::DoubleArrayImpl<node_type_, node_u_type_, array_type_, array_u_type_, length_func_>::key_type = char]\u001b[m\u001b[K':\n",
            "\u001b[01m\u001b[Kdictionary.h:37:34:\u001b[m\u001b[K   required from here\n",
            "\u001b[01m\u001b[Kdarts.h:434:27:\u001b[m\u001b[K \u001b[01;35m\u001b[Kwarning: \u001b[m\u001b[KISO C++17 does not allow '\u001b[01m\u001b[Kregister\u001b[m\u001b[K' storage class specifier [\u001b[01;35m\u001b[K\u001b]8;;https://gcc.gnu.org/onlinedocs/gcc/Warning-Options.html#index-Wregister\u0007-Wregister\u001b]8;;\u0007\u001b[m\u001b[K]\n",
            "  434 |     register array_type_  \u001b[01;35m\u001b[Kb\u001b[m\u001b[K   = array_[node_pos].base;\n",
            "      |                           \u001b[01;35m\u001b[K^\u001b[m\u001b[K\n",
            "\u001b[01m\u001b[Kdarts.h:435:25:\u001b[m\u001b[K \u001b[01;35m\u001b[Kwarning: \u001b[m\u001b[KISO C++17 does not allow '\u001b[01m\u001b[Kregister\u001b[m\u001b[K' storage class specifier [\u001b[01;35m\u001b[K\u001b]8;;https://gcc.gnu.org/onlinedocs/gcc/Warning-Options.html#index-Wregister\u0007-Wregister\u001b]8;;\u0007\u001b[m\u001b[K]\n",
            "  435 |     register size_t     \u001b[01;35m\u001b[Knum\u001b[m\u001b[K = 0;\n",
            "      |                         \u001b[01;35m\u001b[K^~~\u001b[m\u001b[K\n",
            "\u001b[01m\u001b[Kdarts.h:436:27:\u001b[m\u001b[K \u001b[01;35m\u001b[Kwarning: \u001b[m\u001b[KISO C++17 does not allow '\u001b[01m\u001b[Kregister\u001b[m\u001b[K' storage class specifier [\u001b[01;35m\u001b[K\u001b]8;;https://gcc.gnu.org/onlinedocs/gcc/Warning-Options.html#index-Wregister\u0007-Wregister\u001b]8;;\u0007\u001b[m\u001b[K]\n",
            "  436 |     register array_type_  \u001b[01;35m\u001b[Kn\u001b[m\u001b[K;\n",
            "      |                           \u001b[01;35m\u001b[K^\u001b[m\u001b[K\n",
            "\u001b[01m\u001b[Kdarts.h:437:28:\u001b[m\u001b[K \u001b[01;35m\u001b[Kwarning: \u001b[m\u001b[KISO C++17 does not allow '\u001b[01m\u001b[Kregister\u001b[m\u001b[K' storage class specifier [\u001b[01;35m\u001b[K\u001b]8;;https://gcc.gnu.org/onlinedocs/gcc/Warning-Options.html#index-Wregister\u0007-Wregister\u001b]8;;\u0007\u001b[m\u001b[K]\n",
            "  437 |     register array_u_type_ \u001b[01;35m\u001b[Kp\u001b[m\u001b[K;\n",
            "      |                            \u001b[01;35m\u001b[K^\u001b[m\u001b[K\n",
            "\u001b[01m\u001b[Kdarts.h:439:26:\u001b[m\u001b[K \u001b[01;35m\u001b[Kwarning: \u001b[m\u001b[KISO C++17 does not allow '\u001b[01m\u001b[Kregister\u001b[m\u001b[K' storage class specifier [\u001b[01;35m\u001b[K\u001b]8;;https://gcc.gnu.org/onlinedocs/gcc/Warning-Options.html#index-Wregister\u0007-Wregister\u001b]8;;\u0007\u001b[m\u001b[K]\n",
            "  439 |     for (register size_t \u001b[01;35m\u001b[Ki\u001b[m\u001b[K = 0; i < len; ++i) {\n",
            "      |                          \u001b[01;35m\u001b[K^\u001b[m\u001b[K\n",
            "darts.h: In instantiation of '\u001b[01m\u001b[KT MeCab::Darts::DoubleArrayImpl<node_type_, node_u_type_, array_type_, array_u_type_, length_func_>::exactMatchSearch(const key_type*, size_t, size_t) const [with T = MeCab::Darts::DoubleArrayImpl<char, unsigned char, int, unsigned int>::result_pair_type; node_type_ = char; node_u_type_ = unsigned char; array_type_ = int; array_u_type_ = unsigned int; length_func_ = MeCab::Darts::Length<char>; MeCab::Darts::DoubleArrayImpl<node_type_, node_u_type_, array_type_, array_u_type_, length_func_>::key_type = char; size_t = long unsigned int]\u001b[m\u001b[K':\n",
            "\u001b[01m\u001b[Kdarts.h:394:33:\u001b[m\u001b[K   required from '\u001b[01m\u001b[Kvoid MeCab::Darts::DoubleArrayImpl<node_type_, node_u_type_, array_type_, array_u_type_, length_func_>::exactMatchSearch(const key_type*, T&, size_t, size_t) const [with T = MeCab::Darts::DoubleArrayImpl<char, unsigned char, int, unsigned int>::result_pair_type; node_type_ = char; node_u_type_ = unsigned char; array_type_ = int; array_u_type_ = unsigned int; length_func_ = MeCab::Darts::Length<char>; MeCab::Darts::DoubleArrayImpl<node_type_, node_u_type_, array_type_, array_u_type_, length_func_>::key_type = char; size_t = long unsigned int]\u001b[m\u001b[K'\n",
            "\u001b[01m\u001b[Kdictionary.h:42:25:\u001b[m\u001b[K   required from here\n",
            "\u001b[01m\u001b[Kdarts.h:407:27:\u001b[m\u001b[K \u001b[01;35m\u001b[Kwarning: \u001b[m\u001b[KISO C++17 does not allow '\u001b[01m\u001b[Kregister\u001b[m\u001b[K' storage class specifier [\u001b[01;35m\u001b[K\u001b]8;;https://gcc.gnu.org/onlinedocs/gcc/Warning-Options.html#index-Wregister\u0007-Wregister\u001b]8;;\u0007\u001b[m\u001b[K]\n",
            "  407 |     register array_type_  \u001b[01;35m\u001b[Kb\u001b[m\u001b[K = array_[node_pos].base;\n",
            "      |                           \u001b[01;35m\u001b[K^\u001b[m\u001b[K\n",
            "\u001b[01m\u001b[Kdarts.h:408:28:\u001b[m\u001b[K \u001b[01;35m\u001b[Kwarning: \u001b[m\u001b[KISO C++17 does not allow '\u001b[01m\u001b[Kregister\u001b[m\u001b[K' storage class specifier [\u001b[01;35m\u001b[K\u001b]8;;https://gcc.gnu.org/onlinedocs/gcc/Warning-Options.html#index-Wregister\u0007-Wregister\u001b]8;;\u0007\u001b[m\u001b[K]\n",
            "  408 |     register array_u_type_ \u001b[01;35m\u001b[Kp\u001b[m\u001b[K;\n",
            "      |                            \u001b[01;35m\u001b[K^\u001b[m\u001b[K\n",
            "\u001b[01m\u001b[Kdarts.h:410:26:\u001b[m\u001b[K \u001b[01;35m\u001b[Kwarning: \u001b[m\u001b[KISO C++17 does not allow '\u001b[01m\u001b[Kregister\u001b[m\u001b[K' storage class specifier [\u001b[01;35m\u001b[K\u001b]8;;https://gcc.gnu.org/onlinedocs/gcc/Warning-Options.html#index-Wregister\u0007-Wregister\u001b]8;;\u0007\u001b[m\u001b[K]\n",
            "  410 |     for (register size_t \u001b[01;35m\u001b[Ki\u001b[m\u001b[K = 0; i < len; ++i) {\n",
            "      |                          \u001b[01;35m\u001b[K^\u001b[m\u001b[K\n",
            "libtool: compile:  g++ -DHAVE_CONFIG_H -I. -I.. -DDIC_VERSION=102 -DMECAB_DEFAULT_RC=\\\"/usr/local/etc/mecabrc\\\" -O3 -Wall -c dictionary_generator.cpp -o dictionary_generator.o >/dev/null 2>&1\n",
            "/bin/bash ../libtool --tag=CXX   --mode=compile g++ -DHAVE_CONFIG_H -I. -I.. -DDIC_VERSION=102   -DMECAB_DEFAULT_RC=\"\\\"/usr/local/etc/mecabrc\\\"\"    -O3 -Wall  -c -o dictionary_compiler.lo dictionary_compiler.cpp\n",
            "libtool: compile:  g++ -DHAVE_CONFIG_H -I. -I.. -DDIC_VERSION=102 -DMECAB_DEFAULT_RC=\\\"/usr/local/etc/mecabrc\\\" -O3 -Wall -c dictionary_compiler.cpp  -fPIC -DPIC -o .libs/dictionary_compiler.o\n",
            "In file included from \u001b[01m\u001b[Kdictionary_compiler.cpp:9\u001b[m\u001b[K:\n",
            "\u001b[01m\u001b[Kchar_property.h:\u001b[m\u001b[K In member function '\u001b[01m\u001b[Kconst char* MeCab::CharProperty::seekToOtherType(const char*, const char*, MeCab::CharInfo, MeCab::CharInfo*, size_t*, size_t*) const\u001b[m\u001b[K':\n",
            "\u001b[01m\u001b[Kchar_property.h:40:26:\u001b[m\u001b[K \u001b[01;35m\u001b[Kwarning: \u001b[m\u001b[KISO C++17 does not allow '\u001b[01m\u001b[Kregister\u001b[m\u001b[K' storage class specifier [\u001b[01;35m\u001b[K\u001b]8;;https://gcc.gnu.org/onlinedocs/gcc/Warning-Options.html#index-Wregister\u0007-Wregister\u001b]8;;\u0007\u001b[m\u001b[K]\n",
            "   40 |     register const char *\u001b[01;35m\u001b[Kp\u001b[m\u001b[K =  begin;\n",
            "      |                          \u001b[01;35m\u001b[K^\u001b[m\u001b[K\n",
            "In file included from \u001b[01m\u001b[Kdictionary.h:11\u001b[m\u001b[K,\n",
            "                 from \u001b[01m\u001b[Kdictionary_compiler.cpp:11\u001b[m\u001b[K:\n",
            "\u001b[01m\u001b[Kdarts.h:\u001b[m\u001b[K In member function '\u001b[01m\u001b[KT MeCab::Darts::DoubleArrayImpl<node_type_, node_u_type_, array_type_, array_u_type_, length_func_>::exactMatchSearch(const key_type*, size_t, size_t) const\u001b[m\u001b[K':\n",
            "\u001b[01m\u001b[Kdarts.h:407:27:\u001b[m\u001b[K \u001b[01;35m\u001b[Kwarning: \u001b[m\u001b[KISO C++17 does not allow '\u001b[01m\u001b[Kregister\u001b[m\u001b[K' storage class specifier [\u001b[01;35m\u001b[K\u001b]8;;https://gcc.gnu.org/onlinedocs/gcc/Warning-Options.html#index-Wregister\u0007-Wregister\u001b]8;;\u0007\u001b[m\u001b[K]\n",
            "  407 |     register array_type_  \u001b[01;35m\u001b[Kb\u001b[m\u001b[K = array_[node_pos].base;\n",
            "      |                           \u001b[01;35m\u001b[K^\u001b[m\u001b[K\n",
            "\u001b[01m\u001b[Kdarts.h:408:28:\u001b[m\u001b[K \u001b[01;35m\u001b[Kwarning: \u001b[m\u001b[KISO C++17 does not allow '\u001b[01m\u001b[Kregister\u001b[m\u001b[K' storage class specifier [\u001b[01;35m\u001b[K\u001b]8;;https://gcc.gnu.org/onlinedocs/gcc/Warning-Options.html#index-Wregister\u0007-Wregister\u001b]8;;\u0007\u001b[m\u001b[K]\n",
            "  408 |     register array_u_type_ \u001b[01;35m\u001b[Kp\u001b[m\u001b[K;\n",
            "      |                            \u001b[01;35m\u001b[K^\u001b[m\u001b[K\n",
            "\u001b[01m\u001b[Kdarts.h:410:26:\u001b[m\u001b[K \u001b[01;35m\u001b[Kwarning: \u001b[m\u001b[KISO C++17 does not allow '\u001b[01m\u001b[Kregister\u001b[m\u001b[K' storage class specifier [\u001b[01;35m\u001b[K\u001b]8;;https://gcc.gnu.org/onlinedocs/gcc/Warning-Options.html#index-Wregister\u0007-Wregister\u001b]8;;\u0007\u001b[m\u001b[K]\n",
            "  410 |     for (register size_t \u001b[01;35m\u001b[Ki\u001b[m\u001b[K = 0; i < len; ++i) {\n",
            "      |                          \u001b[01;35m\u001b[K^\u001b[m\u001b[K\n",
            "\u001b[01m\u001b[Kdarts.h:\u001b[m\u001b[K In member function '\u001b[01m\u001b[Ksize_t MeCab::Darts::DoubleArrayImpl<node_type_, node_u_type_, array_type_, array_u_type_, length_func_>::commonPrefixSearch(const key_type*, T*, size_t, size_t, size_t) const\u001b[m\u001b[K':\n",
            "\u001b[01m\u001b[Kdarts.h:434:27:\u001b[m\u001b[K \u001b[01;35m\u001b[Kwarning: \u001b[m\u001b[KISO C++17 does not allow '\u001b[01m\u001b[Kregister\u001b[m\u001b[K' storage class specifier [\u001b[01;35m\u001b[K\u001b]8;;https://gcc.gnu.org/onlinedocs/gcc/Warning-Options.html#index-Wregister\u0007-Wregister\u001b]8;;\u0007\u001b[m\u001b[K]\n",
            "  434 |     register array_type_  \u001b[01;35m\u001b[Kb\u001b[m\u001b[K   = array_[node_pos].base;\n",
            "      |                           \u001b[01;35m\u001b[K^\u001b[m\u001b[K\n",
            "\u001b[01m\u001b[Kdarts.h:435:25:\u001b[m\u001b[K \u001b[01;35m\u001b[Kwarning: \u001b[m\u001b[KISO C++17 does not allow '\u001b[01m\u001b[Kregister\u001b[m\u001b[K' storage class specifier [\u001b[01;35m\u001b[K\u001b]8;;https://gcc.gnu.org/onlinedocs/gcc/Warning-Options.html#index-Wregister\u0007-Wregister\u001b]8;;\u0007\u001b[m\u001b[K]\n",
            "  435 |     register size_t     \u001b[01;35m\u001b[Knum\u001b[m\u001b[K = 0;\n",
            "      |                         \u001b[01;35m\u001b[K^~~\u001b[m\u001b[K\n",
            "\u001b[01m\u001b[Kdarts.h:436:27:\u001b[m\u001b[K \u001b[01;35m\u001b[Kwarning: \u001b[m\u001b[KISO C++17 does not allow '\u001b[01m\u001b[Kregister\u001b[m\u001b[K' storage class specifier [\u001b[01;35m\u001b[K\u001b]8;;https://gcc.gnu.org/onlinedocs/gcc/Warning-Options.html#index-Wregister\u0007-Wregister\u001b]8;;\u0007\u001b[m\u001b[K]\n",
            "  436 |     register array_type_  \u001b[01;35m\u001b[Kn\u001b[m\u001b[K;\n",
            "      |                           \u001b[01;35m\u001b[K^\u001b[m\u001b[K\n",
            "\u001b[01m\u001b[Kdarts.h:437:28:\u001b[m\u001b[K \u001b[01;35m\u001b[Kwarning: \u001b[m\u001b[KISO C++17 does not allow '\u001b[01m\u001b[Kregister\u001b[m\u001b[K' storage class specifier [\u001b[01;35m\u001b[K\u001b]8;;https://gcc.gnu.org/onlinedocs/gcc/Warning-Options.html#index-Wregister\u0007-Wregister\u001b]8;;\u0007\u001b[m\u001b[K]\n",
            "  437 |     register array_u_type_ \u001b[01;35m\u001b[Kp\u001b[m\u001b[K;\n",
            "      |                            \u001b[01;35m\u001b[K^\u001b[m\u001b[K\n",
            "\u001b[01m\u001b[Kdarts.h:439:26:\u001b[m\u001b[K \u001b[01;35m\u001b[Kwarning: \u001b[m\u001b[KISO C++17 does not allow '\u001b[01m\u001b[Kregister\u001b[m\u001b[K' storage class specifier [\u001b[01;35m\u001b[K\u001b]8;;https://gcc.gnu.org/onlinedocs/gcc/Warning-Options.html#index-Wregister\u0007-Wregister\u001b]8;;\u0007\u001b[m\u001b[K]\n",
            "  439 |     for (register size_t \u001b[01;35m\u001b[Ki\u001b[m\u001b[K = 0; i < len; ++i) {\n",
            "      |                          \u001b[01;35m\u001b[K^\u001b[m\u001b[K\n",
            "\u001b[01m\u001b[Kdarts.h:\u001b[m\u001b[K In member function '\u001b[01m\u001b[KMeCab::Darts::DoubleArrayImpl<node_type_, node_u_type_, array_type_, array_u_type_, length_func_>::value_type MeCab::Darts::DoubleArrayImpl<node_type_, node_u_type_, array_type_, array_u_type_, length_func_>::traverse(const key_type*, size_t&, size_t&, size_t) const\u001b[m\u001b[K':\n",
            "\u001b[01m\u001b[Kdarts.h:472:27:\u001b[m\u001b[K \u001b[01;35m\u001b[Kwarning: \u001b[m\u001b[KISO C++17 does not allow '\u001b[01m\u001b[Kregister\u001b[m\u001b[K' storage class specifier [\u001b[01;35m\u001b[K\u001b]8;;https://gcc.gnu.org/onlinedocs/gcc/Warning-Options.html#index-Wregister\u0007-Wregister\u001b]8;;\u0007\u001b[m\u001b[K]\n",
            "  472 |     register array_type_  \u001b[01;35m\u001b[Kb\u001b[m\u001b[K = array_[node_pos].base;\n",
            "      |                           \u001b[01;35m\u001b[K^\u001b[m\u001b[K\n",
            "\u001b[01m\u001b[Kdarts.h:473:28:\u001b[m\u001b[K \u001b[01;35m\u001b[Kwarning: \u001b[m\u001b[KISO C++17 does not allow '\u001b[01m\u001b[Kregister\u001b[m\u001b[K' storage class specifier [\u001b[01;35m\u001b[K\u001b]8;;https://gcc.gnu.org/onlinedocs/gcc/Warning-Options.html#index-Wregister\u0007-Wregister\u001b]8;;\u0007\u001b[m\u001b[K]\n",
            "  473 |     register array_u_type_ \u001b[01;35m\u001b[Kp\u001b[m\u001b[K;\n",
            "      |                            \u001b[01;35m\u001b[K^\u001b[m\u001b[K\n",
            "darts.h: In instantiation of '\u001b[01m\u001b[Ksize_t MeCab::Darts::DoubleArrayImpl<node_type_, node_u_type_, array_type_, array_u_type_, length_func_>::commonPrefixSearch(const key_type*, T*, size_t, size_t, size_t) const [with T = MeCab::Darts::DoubleArrayImpl<char, unsigned char, int, unsigned int>::result_pair_type; node_type_ = char; node_u_type_ = unsigned char; array_type_ = int; array_u_type_ = unsigned int; length_func_ = MeCab::Darts::Length<char>; size_t = long unsigned int; MeCab::Darts::DoubleArrayImpl<node_type_, node_u_type_, array_type_, array_u_type_, length_func_>::key_type = char]\u001b[m\u001b[K':\n",
            "\u001b[01m\u001b[Kdictionary.h:37:34:\u001b[m\u001b[K   required from here\n",
            "\u001b[01m\u001b[Kdarts.h:434:27:\u001b[m\u001b[K \u001b[01;35m\u001b[Kwarning: \u001b[m\u001b[KISO C++17 does not allow '\u001b[01m\u001b[Kregister\u001b[m\u001b[K' storage class specifier [\u001b[01;35m\u001b[K\u001b]8;;https://gcc.gnu.org/onlinedocs/gcc/Warning-Options.html#index-Wregister\u0007-Wregister\u001b]8;;\u0007\u001b[m\u001b[K]\n",
            "  434 |     register array_type_  \u001b[01;35m\u001b[Kb\u001b[m\u001b[K   = array_[node_pos].base;\n",
            "      |                           \u001b[01;35m\u001b[K^\u001b[m\u001b[K\n",
            "\u001b[01m\u001b[Kdarts.h:435:25:\u001b[m\u001b[K \u001b[01;35m\u001b[Kwarning: \u001b[m\u001b[KISO C++17 does not allow '\u001b[01m\u001b[Kregister\u001b[m\u001b[K' storage class specifier [\u001b[01;35m\u001b[K\u001b]8;;https://gcc.gnu.org/onlinedocs/gcc/Warning-Options.html#index-Wregister\u0007-Wregister\u001b]8;;\u0007\u001b[m\u001b[K]\n",
            "  435 |     register size_t     \u001b[01;35m\u001b[Knum\u001b[m\u001b[K = 0;\n",
            "      |                         \u001b[01;35m\u001b[K^~~\u001b[m\u001b[K\n",
            "\u001b[01m\u001b[Kdarts.h:436:27:\u001b[m\u001b[K \u001b[01;35m\u001b[Kwarning: \u001b[m\u001b[KISO C++17 does not allow '\u001b[01m\u001b[Kregister\u001b[m\u001b[K' storage class specifier [\u001b[01;35m\u001b[K\u001b]8;;https://gcc.gnu.org/onlinedocs/gcc/Warning-Options.html#index-Wregister\u0007-Wregister\u001b]8;;\u0007\u001b[m\u001b[K]\n",
            "  436 |     register array_type_  \u001b[01;35m\u001b[Kn\u001b[m\u001b[K;\n",
            "      |                           \u001b[01;35m\u001b[K^\u001b[m\u001b[K\n",
            "\u001b[01m\u001b[Kdarts.h:437:28:\u001b[m\u001b[K \u001b[01;35m\u001b[Kwarning: \u001b[m\u001b[KISO C++17 does not allow '\u001b[01m\u001b[Kregister\u001b[m\u001b[K' storage class specifier [\u001b[01;35m\u001b[K\u001b]8;;https://gcc.gnu.org/onlinedocs/gcc/Warning-Options.html#index-Wregister\u0007-Wregister\u001b]8;;\u0007\u001b[m\u001b[K]\n",
            "  437 |     register array_u_type_ \u001b[01;35m\u001b[Kp\u001b[m\u001b[K;\n",
            "      |                            \u001b[01;35m\u001b[K^\u001b[m\u001b[K\n",
            "\u001b[01m\u001b[Kdarts.h:439:26:\u001b[m\u001b[K \u001b[01;35m\u001b[Kwarning: \u001b[m\u001b[KISO C++17 does not allow '\u001b[01m\u001b[Kregister\u001b[m\u001b[K' storage class specifier [\u001b[01;35m\u001b[K\u001b]8;;https://gcc.gnu.org/onlinedocs/gcc/Warning-Options.html#index-Wregister\u0007-Wregister\u001b]8;;\u0007\u001b[m\u001b[K]\n",
            "  439 |     for (register size_t \u001b[01;35m\u001b[Ki\u001b[m\u001b[K = 0; i < len; ++i) {\n",
            "      |                          \u001b[01;35m\u001b[K^\u001b[m\u001b[K\n",
            "darts.h: In instantiation of '\u001b[01m\u001b[KT MeCab::Darts::DoubleArrayImpl<node_type_, node_u_type_, array_type_, array_u_type_, length_func_>::exactMatchSearch(const key_type*, size_t, size_t) const [with T = MeCab::Darts::DoubleArrayImpl<char, unsigned char, int, unsigned int>::result_pair_type; node_type_ = char; node_u_type_ = unsigned char; array_type_ = int; array_u_type_ = unsigned int; length_func_ = MeCab::Darts::Length<char>; MeCab::Darts::DoubleArrayImpl<node_type_, node_u_type_, array_type_, array_u_type_, length_func_>::key_type = char; size_t = long unsigned int]\u001b[m\u001b[K':\n",
            "\u001b[01m\u001b[Kdarts.h:394:33:\u001b[m\u001b[K   required from '\u001b[01m\u001b[Kvoid MeCab::Darts::DoubleArrayImpl<node_type_, node_u_type_, array_type_, array_u_type_, length_func_>::exactMatchSearch(const key_type*, T&, size_t, size_t) const [with T = MeCab::Darts::DoubleArrayImpl<char, unsigned char, int, unsigned int>::result_pair_type; node_type_ = char; node_u_type_ = unsigned char; array_type_ = int; array_u_type_ = unsigned int; length_func_ = MeCab::Darts::Length<char>; MeCab::Darts::DoubleArrayImpl<node_type_, node_u_type_, array_type_, array_u_type_, length_func_>::key_type = char; size_t = long unsigned int]\u001b[m\u001b[K'\n",
            "\u001b[01m\u001b[Kdictionary.h:42:25:\u001b[m\u001b[K   required from here\n",
            "\u001b[01m\u001b[Kdarts.h:407:27:\u001b[m\u001b[K \u001b[01;35m\u001b[Kwarning: \u001b[m\u001b[KISO C++17 does not allow '\u001b[01m\u001b[Kregister\u001b[m\u001b[K' storage class specifier [\u001b[01;35m\u001b[K\u001b]8;;https://gcc.gnu.org/onlinedocs/gcc/Warning-Options.html#index-Wregister\u0007-Wregister\u001b]8;;\u0007\u001b[m\u001b[K]\n",
            "  407 |     register array_type_  \u001b[01;35m\u001b[Kb\u001b[m\u001b[K = array_[node_pos].base;\n",
            "      |                           \u001b[01;35m\u001b[K^\u001b[m\u001b[K\n",
            "\u001b[01m\u001b[Kdarts.h:408:28:\u001b[m\u001b[K \u001b[01;35m\u001b[Kwarning: \u001b[m\u001b[KISO C++17 does not allow '\u001b[01m\u001b[Kregister\u001b[m\u001b[K' storage class specifier [\u001b[01;35m\u001b[K\u001b]8;;https://gcc.gnu.org/onlinedocs/gcc/Warning-Options.html#index-Wregister\u0007-Wregister\u001b]8;;\u0007\u001b[m\u001b[K]\n",
            "  408 |     register array_u_type_ \u001b[01;35m\u001b[Kp\u001b[m\u001b[K;\n",
            "      |                            \u001b[01;35m\u001b[K^\u001b[m\u001b[K\n",
            "\u001b[01m\u001b[Kdarts.h:410:26:\u001b[m\u001b[K \u001b[01;35m\u001b[Kwarning: \u001b[m\u001b[KISO C++17 does not allow '\u001b[01m\u001b[Kregister\u001b[m\u001b[K' storage class specifier [\u001b[01;35m\u001b[K\u001b]8;;https://gcc.gnu.org/onlinedocs/gcc/Warning-Options.html#index-Wregister\u0007-Wregister\u001b]8;;\u0007\u001b[m\u001b[K]\n",
            "  410 |     for (register size_t \u001b[01;35m\u001b[Ki\u001b[m\u001b[K = 0; i < len; ++i) {\n",
            "      |                          \u001b[01;35m\u001b[K^\u001b[m\u001b[K\n",
            "libtool: compile:  g++ -DHAVE_CONFIG_H -I. -I.. -DDIC_VERSION=102 -DMECAB_DEFAULT_RC=\\\"/usr/local/etc/mecabrc\\\" -O3 -Wall -c dictionary_compiler.cpp -o dictionary_compiler.o >/dev/null 2>&1\n",
            "/bin/bash ../libtool --tag=CXX   --mode=compile g++ -DHAVE_CONFIG_H -I. -I.. -DDIC_VERSION=102   -DMECAB_DEFAULT_RC=\"\\\"/usr/local/etc/mecabrc\\\"\"    -O3 -Wall  -c -o context_id.lo context_id.cpp\n",
            "libtool: compile:  g++ -DHAVE_CONFIG_H -I. -I.. -DDIC_VERSION=102 -DMECAB_DEFAULT_RC=\\\"/usr/local/etc/mecabrc\\\" -O3 -Wall -c context_id.cpp  -fPIC -DPIC -o .libs/context_id.o\n",
            "libtool: compile:  g++ -DHAVE_CONFIG_H -I. -I.. -DDIC_VERSION=102 -DMECAB_DEFAULT_RC=\\\"/usr/local/etc/mecabrc\\\" -O3 -Wall -c context_id.cpp -o context_id.o >/dev/null 2>&1\n",
            "/bin/bash ../libtool --tag=CXX   --mode=compile g++ -DHAVE_CONFIG_H -I. -I.. -DDIC_VERSION=102   -DMECAB_DEFAULT_RC=\"\\\"/usr/local/etc/mecabrc\\\"\"    -O3 -Wall  -c -o connector.lo connector.cpp\n",
            "libtool: compile:  g++ -DHAVE_CONFIG_H -I. -I.. -DDIC_VERSION=102 -DMECAB_DEFAULT_RC=\\\"/usr/local/etc/mecabrc\\\" -O3 -Wall -c connector.cpp  -fPIC -DPIC -o .libs/connector.o\n",
            "libtool: compile:  g++ -DHAVE_CONFIG_H -I. -I.. -DDIC_VERSION=102 -DMECAB_DEFAULT_RC=\\\"/usr/local/etc/mecabrc\\\" -O3 -Wall -c connector.cpp -o connector.o >/dev/null 2>&1\n",
            "/bin/bash ../libtool --tag=CXX   --mode=compile g++ -DHAVE_CONFIG_H -I. -I.. -DDIC_VERSION=102   -DMECAB_DEFAULT_RC=\"\\\"/usr/local/etc/mecabrc\\\"\"    -O3 -Wall  -c -o nbest_generator.lo nbest_generator.cpp\n",
            "libtool: compile:  g++ -DHAVE_CONFIG_H -I. -I.. -DDIC_VERSION=102 -DMECAB_DEFAULT_RC=\\\"/usr/local/etc/mecabrc\\\" -O3 -Wall -c nbest_generator.cpp  -fPIC -DPIC -o .libs/nbest_generator.o\n",
            "libtool: compile:  g++ -DHAVE_CONFIG_H -I. -I.. -DDIC_VERSION=102 -DMECAB_DEFAULT_RC=\\\"/usr/local/etc/mecabrc\\\" -O3 -Wall -c nbest_generator.cpp -o nbest_generator.o >/dev/null 2>&1\n",
            "/bin/bash ../libtool --tag=CXX   --mode=compile g++ -DHAVE_CONFIG_H -I. -I.. -DDIC_VERSION=102   -DMECAB_DEFAULT_RC=\"\\\"/usr/local/etc/mecabrc\\\"\"    -O3 -Wall  -c -o writer.lo writer.cpp\n",
            "libtool: compile:  g++ -DHAVE_CONFIG_H -I. -I.. -DDIC_VERSION=102 -DMECAB_DEFAULT_RC=\\\"/usr/local/etc/mecabrc\\\" -O3 -Wall -c writer.cpp  -fPIC -DPIC -o .libs/writer.o\n",
            "In file included from \u001b[01m\u001b[K/usr/include/string.h:535\u001b[m\u001b[K,\n",
            "                 from \u001b[01m\u001b[K/usr/include/c++/11/cstring:42\u001b[m\u001b[K,\n",
            "                 from \u001b[01m\u001b[Kwriter.cpp:7\u001b[m\u001b[K:\n",
            "In function '\u001b[01m\u001b[Kchar* strncpy(char*, const char*, size_t)\u001b[m\u001b[K',\n",
            "    inlined from '\u001b[01m\u001b[Kbool MeCab::Writer::writeNode(MeCab::Lattice*, const char*, const Node*, MeCab::StringBuffer*) const\u001b[m\u001b[K' at \u001b[01m\u001b[Kwriter.cpp:352:27\u001b[m\u001b[K:\n",
            "\u001b[01m\u001b[K/usr/include/x86_64-linux-gnu/bits/string_fortified.h:95:34:\u001b[m\u001b[K \u001b[01;35m\u001b[Kwarning: \u001b[m\u001b[K'\u001b[01m\u001b[Kchar* __builtin_strncpy(char*, const char*, long unsigned int)\u001b[m\u001b[K' specified bound 8192 equals destination size [\u001b[01;35m\u001b[K\u001b]8;;https://gcc.gnu.org/onlinedocs/gcc/Warning-Options.html#index-Wstringop-truncation\u0007-Wstringop-truncation\u001b]8;;\u0007\u001b[m\u001b[K]\n",
            "   95 |   return \u001b[01;35m\u001b[K__builtin___strncpy_chk (__dest, __src, __len,\u001b[m\u001b[K\n",
            "      |          \u001b[01;35m\u001b[K~~~~~~~~~~~~~~~~~~~~~~~~^~~~~~~~~~~~~~~~~~~~~~\u001b[m\u001b[K\n",
            "   96 | \u001b[01;35m\u001b[K                                  __glibc_objsize (__dest))\u001b[m\u001b[K;\n",
            "      |                                   \u001b[01;35m\u001b[K~~~~~~~~~~~~~~~~~~~~~~~~~\u001b[m\u001b[K\n",
            "libtool: compile:  g++ -DHAVE_CONFIG_H -I. -I.. -DDIC_VERSION=102 -DMECAB_DEFAULT_RC=\\\"/usr/local/etc/mecabrc\\\" -O3 -Wall -c writer.cpp -o writer.o >/dev/null 2>&1\n",
            "/bin/bash ../libtool --tag=CXX   --mode=compile g++ -DHAVE_CONFIG_H -I. -I.. -DDIC_VERSION=102   -DMECAB_DEFAULT_RC=\"\\\"/usr/local/etc/mecabrc\\\"\"    -O3 -Wall  -c -o string_buffer.lo string_buffer.cpp\n",
            "libtool: compile:  g++ -DHAVE_CONFIG_H -I. -I.. -DDIC_VERSION=102 -DMECAB_DEFAULT_RC=\\\"/usr/local/etc/mecabrc\\\" -O3 -Wall -c string_buffer.cpp  -fPIC -DPIC -o .libs/string_buffer.o\n",
            "libtool: compile:  g++ -DHAVE_CONFIG_H -I. -I.. -DDIC_VERSION=102 -DMECAB_DEFAULT_RC=\\\"/usr/local/etc/mecabrc\\\" -O3 -Wall -c string_buffer.cpp -o string_buffer.o >/dev/null 2>&1\n",
            "/bin/bash ../libtool --tag=CXX   --mode=compile g++ -DHAVE_CONFIG_H -I. -I.. -DDIC_VERSION=102   -DMECAB_DEFAULT_RC=\"\\\"/usr/local/etc/mecabrc\\\"\"    -O3 -Wall  -c -o param.lo param.cpp\n",
            "libtool: compile:  g++ -DHAVE_CONFIG_H -I. -I.. -DDIC_VERSION=102 -DMECAB_DEFAULT_RC=\\\"/usr/local/etc/mecabrc\\\" -O3 -Wall -c param.cpp  -fPIC -DPIC -o .libs/param.o\n",
            "In file included from \u001b[01m\u001b[K/usr/include/string.h:535\u001b[m\u001b[K,\n",
            "                 from \u001b[01m\u001b[K/usr/include/c++/11/cstring:42\u001b[m\u001b[K,\n",
            "                 from \u001b[01m\u001b[Kcommon.h:13\u001b[m\u001b[K,\n",
            "                 from \u001b[01m\u001b[Kparam.cpp:8\u001b[m\u001b[K:\n",
            "In function '\u001b[01m\u001b[Kchar* strncpy(char*, const char*, size_t)\u001b[m\u001b[K',\n",
            "    inlined from '\u001b[01m\u001b[Kbool MeCab::Param::open(const char*, const MeCab::Option*)\u001b[m\u001b[K' at \u001b[01m\u001b[Kparam.cpp:194:15\u001b[m\u001b[K:\n",
            "\u001b[01m\u001b[K/usr/include/x86_64-linux-gnu/bits/string_fortified.h:95:34:\u001b[m\u001b[K \u001b[01;35m\u001b[Kwarning: \u001b[m\u001b[K'\u001b[01m\u001b[Kchar* __builtin_strncpy(char*, const char*, long unsigned int)\u001b[m\u001b[K' specified bound 8192 equals destination size [\u001b[01;35m\u001b[K\u001b]8;;https://gcc.gnu.org/onlinedocs/gcc/Warning-Options.html#index-Wstringop-truncation\u0007-Wstringop-truncation\u001b]8;;\u0007\u001b[m\u001b[K]\n",
            "   95 |   return \u001b[01;35m\u001b[K__builtin___strncpy_chk (__dest, __src, __len,\u001b[m\u001b[K\n",
            "      |          \u001b[01;35m\u001b[K~~~~~~~~~~~~~~~~~~~~~~~~^~~~~~~~~~~~~~~~~~~~~~\u001b[m\u001b[K\n",
            "   96 | \u001b[01;35m\u001b[K                                  __glibc_objsize (__dest))\u001b[m\u001b[K;\n",
            "      |                                   \u001b[01;35m\u001b[K~~~~~~~~~~~~~~~~~~~~~~~~~\u001b[m\u001b[K\n",
            "libtool: compile:  g++ -DHAVE_CONFIG_H -I. -I.. -DDIC_VERSION=102 -DMECAB_DEFAULT_RC=\\\"/usr/local/etc/mecabrc\\\" -O3 -Wall -c param.cpp -o param.o >/dev/null 2>&1\n",
            "/bin/bash ../libtool --tag=CXX   --mode=compile g++ -DHAVE_CONFIG_H -I. -I.. -DDIC_VERSION=102   -DMECAB_DEFAULT_RC=\"\\\"/usr/local/etc/mecabrc\\\"\"    -O3 -Wall  -c -o tokenizer.lo tokenizer.cpp\n",
            "libtool: compile:  g++ -DHAVE_CONFIG_H -I. -I.. -DDIC_VERSION=102 -DMECAB_DEFAULT_RC=\\\"/usr/local/etc/mecabrc\\\" -O3 -Wall -c tokenizer.cpp  -fPIC -DPIC -o .libs/tokenizer.o\n",
            "In file included from \u001b[01m\u001b[Ktokenizer.cpp:8\u001b[m\u001b[K:\n",
            "\u001b[01m\u001b[Kdarts.h:\u001b[m\u001b[K In member function '\u001b[01m\u001b[KT MeCab::Darts::DoubleArrayImpl<node_type_, node_u_type_, array_type_, array_u_type_, length_func_>::exactMatchSearch(const key_type*, size_t, size_t) const\u001b[m\u001b[K':\n",
            "\u001b[01m\u001b[Kdarts.h:407:27:\u001b[m\u001b[K \u001b[01;35m\u001b[Kwarning: \u001b[m\u001b[KISO C++17 does not allow '\u001b[01m\u001b[Kregister\u001b[m\u001b[K' storage class specifier [\u001b[01;35m\u001b[K\u001b]8;;https://gcc.gnu.org/onlinedocs/gcc/Warning-Options.html#index-Wregister\u0007-Wregister\u001b]8;;\u0007\u001b[m\u001b[K]\n",
            "  407 |     register array_type_  \u001b[01;35m\u001b[Kb\u001b[m\u001b[K = array_[node_pos].base;\n",
            "      |                           \u001b[01;35m\u001b[K^\u001b[m\u001b[K\n",
            "\u001b[01m\u001b[Kdarts.h:408:28:\u001b[m\u001b[K \u001b[01;35m\u001b[Kwarning: \u001b[m\u001b[KISO C++17 does not allow '\u001b[01m\u001b[Kregister\u001b[m\u001b[K' storage class specifier [\u001b[01;35m\u001b[K\u001b]8;;https://gcc.gnu.org/onlinedocs/gcc/Warning-Options.html#index-Wregister\u0007-Wregister\u001b]8;;\u0007\u001b[m\u001b[K]\n",
            "  408 |     register array_u_type_ \u001b[01;35m\u001b[Kp\u001b[m\u001b[K;\n",
            "      |                            \u001b[01;35m\u001b[K^\u001b[m\u001b[K\n",
            "\u001b[01m\u001b[Kdarts.h:410:26:\u001b[m\u001b[K \u001b[01;35m\u001b[Kwarning: \u001b[m\u001b[KISO C++17 does not allow '\u001b[01m\u001b[Kregister\u001b[m\u001b[K' storage class specifier [\u001b[01;35m\u001b[K\u001b]8;;https://gcc.gnu.org/onlinedocs/gcc/Warning-Options.html#index-Wregister\u0007-Wregister\u001b]8;;\u0007\u001b[m\u001b[K]\n",
            "  410 |     for (register size_t \u001b[01;35m\u001b[Ki\u001b[m\u001b[K = 0; i < len; ++i) {\n",
            "      |                          \u001b[01;35m\u001b[K^\u001b[m\u001b[K\n",
            "\u001b[01m\u001b[Kdarts.h:\u001b[m\u001b[K In member function '\u001b[01m\u001b[Ksize_t MeCab::Darts::DoubleArrayImpl<node_type_, node_u_type_, array_type_, array_u_type_, length_func_>::commonPrefixSearch(const key_type*, T*, size_t, size_t, size_t) const\u001b[m\u001b[K':\n",
            "\u001b[01m\u001b[Kdarts.h:434:27:\u001b[m\u001b[K \u001b[01;35m\u001b[Kwarning: \u001b[m\u001b[KISO C++17 does not allow '\u001b[01m\u001b[Kregister\u001b[m\u001b[K' storage class specifier [\u001b[01;35m\u001b[K\u001b]8;;https://gcc.gnu.org/onlinedocs/gcc/Warning-Options.html#index-Wregister\u0007-Wregister\u001b]8;;\u0007\u001b[m\u001b[K]\n",
            "  434 |     register array_type_  \u001b[01;35m\u001b[Kb\u001b[m\u001b[K   = array_[node_pos].base;\n",
            "      |                           \u001b[01;35m\u001b[K^\u001b[m\u001b[K\n",
            "\u001b[01m\u001b[Kdarts.h:435:25:\u001b[m\u001b[K \u001b[01;35m\u001b[Kwarning: \u001b[m\u001b[KISO C++17 does not allow '\u001b[01m\u001b[Kregister\u001b[m\u001b[K' storage class specifier [\u001b[01;35m\u001b[K\u001b]8;;https://gcc.gnu.org/onlinedocs/gcc/Warning-Options.html#index-Wregister\u0007-Wregister\u001b]8;;\u0007\u001b[m\u001b[K]\n",
            "  435 |     register size_t     \u001b[01;35m\u001b[Knum\u001b[m\u001b[K = 0;\n",
            "      |                         \u001b[01;35m\u001b[K^~~\u001b[m\u001b[K\n",
            "\u001b[01m\u001b[Kdarts.h:436:27:\u001b[m\u001b[K \u001b[01;35m\u001b[Kwarning: \u001b[m\u001b[KISO C++17 does not allow '\u001b[01m\u001b[Kregister\u001b[m\u001b[K' storage class specifier [\u001b[01;35m\u001b[K\u001b]8;;https://gcc.gnu.org/onlinedocs/gcc/Warning-Options.html#index-Wregister\u0007-Wregister\u001b]8;;\u0007\u001b[m\u001b[K]\n",
            "  436 |     register array_type_  \u001b[01;35m\u001b[Kn\u001b[m\u001b[K;\n",
            "      |                           \u001b[01;35m\u001b[K^\u001b[m\u001b[K\n",
            "\u001b[01m\u001b[Kdarts.h:437:28:\u001b[m\u001b[K \u001b[01;35m\u001b[Kwarning: \u001b[m\u001b[KISO C++17 does not allow '\u001b[01m\u001b[Kregister\u001b[m\u001b[K' storage class specifier [\u001b[01;35m\u001b[K\u001b]8;;https://gcc.gnu.org/onlinedocs/gcc/Warning-Options.html#index-Wregister\u0007-Wregister\u001b]8;;\u0007\u001b[m\u001b[K]\n",
            "  437 |     register array_u_type_ \u001b[01;35m\u001b[Kp\u001b[m\u001b[K;\n",
            "      |                            \u001b[01;35m\u001b[K^\u001b[m\u001b[K\n",
            "\u001b[01m\u001b[Kdarts.h:439:26:\u001b[m\u001b[K \u001b[01;35m\u001b[Kwarning: \u001b[m\u001b[KISO C++17 does not allow '\u001b[01m\u001b[Kregister\u001b[m\u001b[K' storage class specifier [\u001b[01;35m\u001b[K\u001b]8;;https://gcc.gnu.org/onlinedocs/gcc/Warning-Options.html#index-Wregister\u0007-Wregister\u001b]8;;\u0007\u001b[m\u001b[K]\n",
            "  439 |     for (register size_t \u001b[01;35m\u001b[Ki\u001b[m\u001b[K = 0; i < len; ++i) {\n",
            "      |                          \u001b[01;35m\u001b[K^\u001b[m\u001b[K\n",
            "\u001b[01m\u001b[Kdarts.h:\u001b[m\u001b[K In member function '\u001b[01m\u001b[KMeCab::Darts::DoubleArrayImpl<node_type_, node_u_type_, array_type_, array_u_type_, length_func_>::value_type MeCab::Darts::DoubleArrayImpl<node_type_, node_u_type_, array_type_, array_u_type_, length_func_>::traverse(const key_type*, size_t&, size_t&, size_t) const\u001b[m\u001b[K':\n",
            "\u001b[01m\u001b[Kdarts.h:472:27:\u001b[m\u001b[K \u001b[01;35m\u001b[Kwarning: \u001b[m\u001b[KISO C++17 does not allow '\u001b[01m\u001b[Kregister\u001b[m\u001b[K' storage class specifier [\u001b[01;35m\u001b[K\u001b]8;;https://gcc.gnu.org/onlinedocs/gcc/Warning-Options.html#index-Wregister\u0007-Wregister\u001b]8;;\u0007\u001b[m\u001b[K]\n",
            "  472 |     register array_type_  \u001b[01;35m\u001b[Kb\u001b[m\u001b[K = array_[node_pos].base;\n",
            "      |                           \u001b[01;35m\u001b[K^\u001b[m\u001b[K\n",
            "\u001b[01m\u001b[Kdarts.h:473:28:\u001b[m\u001b[K \u001b[01;35m\u001b[Kwarning: \u001b[m\u001b[KISO C++17 does not allow '\u001b[01m\u001b[Kregister\u001b[m\u001b[K' storage class specifier [\u001b[01;35m\u001b[K\u001b]8;;https://gcc.gnu.org/onlinedocs/gcc/Warning-Options.html#index-Wregister\u0007-Wregister\u001b]8;;\u0007\u001b[m\u001b[K]\n",
            "  473 |     register array_u_type_ \u001b[01;35m\u001b[Kp\u001b[m\u001b[K;\n",
            "      |                            \u001b[01;35m\u001b[K^\u001b[m\u001b[K\n",
            "In file included from \u001b[01m\u001b[Kdictionary.h:12\u001b[m\u001b[K,\n",
            "                 from \u001b[01m\u001b[Ktokenizer.h:11\u001b[m\u001b[K,\n",
            "                 from \u001b[01m\u001b[Ktokenizer.cpp:12\u001b[m\u001b[K:\n",
            "\u001b[01m\u001b[Kchar_property.h:\u001b[m\u001b[K In member function '\u001b[01m\u001b[Kconst char* MeCab::CharProperty::seekToOtherType(const char*, const char*, MeCab::CharInfo, MeCab::CharInfo*, size_t*, size_t*) const\u001b[m\u001b[K':\n",
            "\u001b[01m\u001b[Kchar_property.h:40:26:\u001b[m\u001b[K \u001b[01;35m\u001b[Kwarning: \u001b[m\u001b[KISO C++17 does not allow '\u001b[01m\u001b[Kregister\u001b[m\u001b[K' storage class specifier [\u001b[01;35m\u001b[K\u001b]8;;https://gcc.gnu.org/onlinedocs/gcc/Warning-Options.html#index-Wregister\u0007-Wregister\u001b]8;;\u0007\u001b[m\u001b[K]\n",
            "   40 |     register const char *\u001b[01;35m\u001b[Kp\u001b[m\u001b[K =  begin;\n",
            "      |                          \u001b[01;35m\u001b[K^\u001b[m\u001b[K\n",
            "In file included from \u001b[01m\u001b[Ktokenizer.cpp:8\u001b[m\u001b[K:\n",
            "darts.h: In instantiation of '\u001b[01m\u001b[Ksize_t MeCab::Darts::DoubleArrayImpl<node_type_, node_u_type_, array_type_, array_u_type_, length_func_>::commonPrefixSearch(const key_type*, T*, size_t, size_t, size_t) const [with T = MeCab::Darts::DoubleArrayImpl<char, unsigned char, int, unsigned int>::result_pair_type; node_type_ = char; node_u_type_ = unsigned char; array_type_ = int; array_u_type_ = unsigned int; length_func_ = MeCab::Darts::Length<char>; size_t = long unsigned int; MeCab::Darts::DoubleArrayImpl<node_type_, node_u_type_, array_type_, array_u_type_, length_func_>::key_type = char]\u001b[m\u001b[K':\n",
            "\u001b[01m\u001b[Kdictionary.h:37:34:\u001b[m\u001b[K   required from here\n",
            "\u001b[01m\u001b[Kdarts.h:434:27:\u001b[m\u001b[K \u001b[01;35m\u001b[Kwarning: \u001b[m\u001b[KISO C++17 does not allow '\u001b[01m\u001b[Kregister\u001b[m\u001b[K' storage class specifier [\u001b[01;35m\u001b[K\u001b]8;;https://gcc.gnu.org/onlinedocs/gcc/Warning-Options.html#index-Wregister\u0007-Wregister\u001b]8;;\u0007\u001b[m\u001b[K]\n",
            "  434 |     register array_type_  \u001b[01;35m\u001b[Kb\u001b[m\u001b[K   = array_[node_pos].base;\n",
            "      |                           \u001b[01;35m\u001b[K^\u001b[m\u001b[K\n",
            "\u001b[01m\u001b[Kdarts.h:435:25:\u001b[m\u001b[K \u001b[01;35m\u001b[Kwarning: \u001b[m\u001b[KISO C++17 does not allow '\u001b[01m\u001b[Kregister\u001b[m\u001b[K' storage class specifier [\u001b[01;35m\u001b[K\u001b]8;;https://gcc.gnu.org/onlinedocs/gcc/Warning-Options.html#index-Wregister\u0007-Wregister\u001b]8;;\u0007\u001b[m\u001b[K]\n",
            "  435 |     register size_t     \u001b[01;35m\u001b[Knum\u001b[m\u001b[K = 0;\n",
            "      |                         \u001b[01;35m\u001b[K^~~\u001b[m\u001b[K\n",
            "\u001b[01m\u001b[Kdarts.h:436:27:\u001b[m\u001b[K \u001b[01;35m\u001b[Kwarning: \u001b[m\u001b[KISO C++17 does not allow '\u001b[01m\u001b[Kregister\u001b[m\u001b[K' storage class specifier [\u001b[01;35m\u001b[K\u001b]8;;https://gcc.gnu.org/onlinedocs/gcc/Warning-Options.html#index-Wregister\u0007-Wregister\u001b]8;;\u0007\u001b[m\u001b[K]\n",
            "  436 |     register array_type_  \u001b[01;35m\u001b[Kn\u001b[m\u001b[K;\n",
            "      |                           \u001b[01;35m\u001b[K^\u001b[m\u001b[K\n",
            "\u001b[01m\u001b[Kdarts.h:437:28:\u001b[m\u001b[K \u001b[01;35m\u001b[Kwarning: \u001b[m\u001b[KISO C++17 does not allow '\u001b[01m\u001b[Kregister\u001b[m\u001b[K' storage class specifier [\u001b[01;35m\u001b[K\u001b]8;;https://gcc.gnu.org/onlinedocs/gcc/Warning-Options.html#index-Wregister\u0007-Wregister\u001b]8;;\u0007\u001b[m\u001b[K]\n",
            "  437 |     register array_u_type_ \u001b[01;35m\u001b[Kp\u001b[m\u001b[K;\n",
            "      |                            \u001b[01;35m\u001b[K^\u001b[m\u001b[K\n",
            "\u001b[01m\u001b[Kdarts.h:439:26:\u001b[m\u001b[K \u001b[01;35m\u001b[Kwarning: \u001b[m\u001b[KISO C++17 does not allow '\u001b[01m\u001b[Kregister\u001b[m\u001b[K' storage class specifier [\u001b[01;35m\u001b[K\u001b]8;;https://gcc.gnu.org/onlinedocs/gcc/Warning-Options.html#index-Wregister\u0007-Wregister\u001b]8;;\u0007\u001b[m\u001b[K]\n",
            "  439 |     for (register size_t \u001b[01;35m\u001b[Ki\u001b[m\u001b[K = 0; i < len; ++i) {\n",
            "      |                          \u001b[01;35m\u001b[K^\u001b[m\u001b[K\n",
            "darts.h: In instantiation of '\u001b[01m\u001b[KT MeCab::Darts::DoubleArrayImpl<node_type_, node_u_type_, array_type_, array_u_type_, length_func_>::exactMatchSearch(const key_type*, size_t, size_t) const [with T = MeCab::Darts::DoubleArrayImpl<char, unsigned char, int, unsigned int>::result_pair_type; node_type_ = char; node_u_type_ = unsigned char; array_type_ = int; array_u_type_ = unsigned int; length_func_ = MeCab::Darts::Length<char>; MeCab::Darts::DoubleArrayImpl<node_type_, node_u_type_, array_type_, array_u_type_, length_func_>::key_type = char; size_t = long unsigned int]\u001b[m\u001b[K':\n",
            "\u001b[01m\u001b[Kdarts.h:394:33:\u001b[m\u001b[K   required from '\u001b[01m\u001b[Kvoid MeCab::Darts::DoubleArrayImpl<node_type_, node_u_type_, array_type_, array_u_type_, length_func_>::exactMatchSearch(const key_type*, T&, size_t, size_t) const [with T = MeCab::Darts::DoubleArrayImpl<char, unsigned char, int, unsigned int>::result_pair_type; node_type_ = char; node_u_type_ = unsigned char; array_type_ = int; array_u_type_ = unsigned int; length_func_ = MeCab::Darts::Length<char>; MeCab::Darts::DoubleArrayImpl<node_type_, node_u_type_, array_type_, array_u_type_, length_func_>::key_type = char; size_t = long unsigned int]\u001b[m\u001b[K'\n",
            "\u001b[01m\u001b[Kdictionary.h:42:25:\u001b[m\u001b[K   required from here\n",
            "\u001b[01m\u001b[Kdarts.h:407:27:\u001b[m\u001b[K \u001b[01;35m\u001b[Kwarning: \u001b[m\u001b[KISO C++17 does not allow '\u001b[01m\u001b[Kregister\u001b[m\u001b[K' storage class specifier [\u001b[01;35m\u001b[K\u001b]8;;https://gcc.gnu.org/onlinedocs/gcc/Warning-Options.html#index-Wregister\u0007-Wregister\u001b]8;;\u0007\u001b[m\u001b[K]\n",
            "  407 |     register array_type_  \u001b[01;35m\u001b[Kb\u001b[m\u001b[K = array_[node_pos].base;\n",
            "      |                           \u001b[01;35m\u001b[K^\u001b[m\u001b[K\n",
            "\u001b[01m\u001b[Kdarts.h:408:28:\u001b[m\u001b[K \u001b[01;35m\u001b[Kwarning: \u001b[m\u001b[KISO C++17 does not allow '\u001b[01m\u001b[Kregister\u001b[m\u001b[K' storage class specifier [\u001b[01;35m\u001b[K\u001b]8;;https://gcc.gnu.org/onlinedocs/gcc/Warning-Options.html#index-Wregister\u0007-Wregister\u001b]8;;\u0007\u001b[m\u001b[K]\n",
            "  408 |     register array_u_type_ \u001b[01;35m\u001b[Kp\u001b[m\u001b[K;\n",
            "      |                            \u001b[01;35m\u001b[K^\u001b[m\u001b[K\n",
            "\u001b[01m\u001b[Kdarts.h:410:26:\u001b[m\u001b[K \u001b[01;35m\u001b[Kwarning: \u001b[m\u001b[KISO C++17 does not allow '\u001b[01m\u001b[Kregister\u001b[m\u001b[K' storage class specifier [\u001b[01;35m\u001b[K\u001b]8;;https://gcc.gnu.org/onlinedocs/gcc/Warning-Options.html#index-Wregister\u0007-Wregister\u001b]8;;\u0007\u001b[m\u001b[K]\n",
            "  410 |     for (register size_t \u001b[01;35m\u001b[Ki\u001b[m\u001b[K = 0; i < len; ++i) {\n",
            "      |                          \u001b[01;35m\u001b[K^\u001b[m\u001b[K\n",
            "In file included from \u001b[01m\u001b[K/usr/include/string.h:535\u001b[m\u001b[K,\n",
            "                 from \u001b[01m\u001b[K/usr/include/c++/11/cstring:42\u001b[m\u001b[K,\n",
            "                 from \u001b[01m\u001b[Kcommon.h:13\u001b[m\u001b[K,\n",
            "                 from \u001b[01m\u001b[Ktokenizer.cpp:6\u001b[m\u001b[K:\n",
            "In function '\u001b[01m\u001b[Kchar* strncpy(char*, const char*, size_t)\u001b[m\u001b[K',\n",
            "    inlined from '\u001b[01m\u001b[Kbool MeCab::{anonymous}::partial_match(const char*, const char*)\u001b[m\u001b[K' at \u001b[01m\u001b[Ktokenizer.cpp:193:15\u001b[m\u001b[K,\n",
            "    inlined from '\u001b[01m\u001b[Kbool MeCab::{anonymous}::is_valid_node(const MeCab::Lattice*, N*) [with N = mecab_node_t]\u001b[m\u001b[K' at \u001b[01m\u001b[Ktokenizer.cpp:224:20\u001b[m\u001b[K:\n",
            "\u001b[01m\u001b[K/usr/include/x86_64-linux-gnu/bits/string_fortified.h:95:34:\u001b[m\u001b[K \u001b[01;35m\u001b[Kwarning: \u001b[m\u001b[K'\u001b[01m\u001b[Kchar* __builtin_strncpy(char*, const char*, long unsigned int)\u001b[m\u001b[K' specified bound 8192 equals destination size [\u001b[01;35m\u001b[K\u001b]8;;https://gcc.gnu.org/onlinedocs/gcc/Warning-Options.html#index-Wstringop-truncation\u0007-Wstringop-truncation\u001b]8;;\u0007\u001b[m\u001b[K]\n",
            "   95 |   return \u001b[01;35m\u001b[K__builtin___strncpy_chk (__dest, __src, __len,\u001b[m\u001b[K\n",
            "      |          \u001b[01;35m\u001b[K~~~~~~~~~~~~~~~~~~~~~~~~^~~~~~~~~~~~~~~~~~~~~~\u001b[m\u001b[K\n",
            "   96 | \u001b[01;35m\u001b[K                                  __glibc_objsize (__dest))\u001b[m\u001b[K;\n",
            "      |                                   \u001b[01;35m\u001b[K~~~~~~~~~~~~~~~~~~~~~~~~~\u001b[m\u001b[K\n",
            "In function '\u001b[01m\u001b[Kchar* strncpy(char*, const char*, size_t)\u001b[m\u001b[K',\n",
            "    inlined from '\u001b[01m\u001b[Kbool MeCab::{anonymous}::partial_match(const char*, const char*)\u001b[m\u001b[K' at \u001b[01m\u001b[Ktokenizer.cpp:194:15\u001b[m\u001b[K,\n",
            "    inlined from '\u001b[01m\u001b[Kbool MeCab::{anonymous}::is_valid_node(const MeCab::Lattice*, N*) [with N = mecab_node_t]\u001b[m\u001b[K' at \u001b[01m\u001b[Ktokenizer.cpp:224:20\u001b[m\u001b[K:\n",
            "\u001b[01m\u001b[K/usr/include/x86_64-linux-gnu/bits/string_fortified.h:95:34:\u001b[m\u001b[K \u001b[01;35m\u001b[Kwarning: \u001b[m\u001b[K'\u001b[01m\u001b[Kchar* __builtin_strncpy(char*, const char*, long unsigned int)\u001b[m\u001b[K' specified bound 8192 equals destination size [\u001b[01;35m\u001b[K\u001b]8;;https://gcc.gnu.org/onlinedocs/gcc/Warning-Options.html#index-Wstringop-truncation\u0007-Wstringop-truncation\u001b]8;;\u0007\u001b[m\u001b[K]\n",
            "   95 |   return \u001b[01;35m\u001b[K__builtin___strncpy_chk (__dest, __src, __len,\u001b[m\u001b[K\n",
            "      |          \u001b[01;35m\u001b[K~~~~~~~~~~~~~~~~~~~~~~~~^~~~~~~~~~~~~~~~~~~~~~\u001b[m\u001b[K\n",
            "   96 | \u001b[01;35m\u001b[K                                  __glibc_objsize (__dest))\u001b[m\u001b[K;\n",
            "      |                                   \u001b[01;35m\u001b[K~~~~~~~~~~~~~~~~~~~~~~~~~\u001b[m\u001b[K\n",
            "In function '\u001b[01m\u001b[Kchar* strncpy(char*, const char*, size_t)\u001b[m\u001b[K',\n",
            "    inlined from '\u001b[01m\u001b[Kbool MeCab::Tokenizer<N, P>::open(const MeCab::Param&) [with N = mecab_node_t; P = mecab_path_t]\u001b[m\u001b[K' at \u001b[01m\u001b[Ktokenizer.cpp:123:17\u001b[m\u001b[K:\n",
            "\u001b[01m\u001b[K/usr/include/x86_64-linux-gnu/bits/string_fortified.h:95:34:\u001b[m\u001b[K \u001b[01;35m\u001b[Kwarning: \u001b[m\u001b[K'\u001b[01m\u001b[Kchar* __builtin_strncpy(char*, const char*, long unsigned int)\u001b[m\u001b[K' specified bound 8192 equals destination size [\u001b[01;35m\u001b[K\u001b]8;;https://gcc.gnu.org/onlinedocs/gcc/Warning-Options.html#index-Wstringop-truncation\u0007-Wstringop-truncation\u001b]8;;\u0007\u001b[m\u001b[K]\n",
            "   95 |   return \u001b[01;35m\u001b[K__builtin___strncpy_chk (__dest, __src, __len,\u001b[m\u001b[K\n",
            "      |          \u001b[01;35m\u001b[K~~~~~~~~~~~~~~~~~~~~~~~~^~~~~~~~~~~~~~~~~~~~~~\u001b[m\u001b[K\n",
            "   96 | \u001b[01;35m\u001b[K                                  __glibc_objsize (__dest))\u001b[m\u001b[K;\n",
            "      |                                   \u001b[01;35m\u001b[K~~~~~~~~~~~~~~~~~~~~~~~~~\u001b[m\u001b[K\n",
            "In function '\u001b[01m\u001b[Kchar* strncpy(char*, const char*, size_t)\u001b[m\u001b[K',\n",
            "    inlined from '\u001b[01m\u001b[Kbool MeCab::Tokenizer<N, P>::open(const MeCab::Param&) [with N = mecab_learner_node_t; P = mecab_learner_path_t]\u001b[m\u001b[K' at \u001b[01m\u001b[Ktokenizer.cpp:123:17\u001b[m\u001b[K:\n",
            "\u001b[01m\u001b[K/usr/include/x86_64-linux-gnu/bits/string_fortified.h:95:34:\u001b[m\u001b[K \u001b[01;35m\u001b[Kwarning: \u001b[m\u001b[K'\u001b[01m\u001b[Kchar* __builtin_strncpy(char*, const char*, long unsigned int)\u001b[m\u001b[K' specified bound 8192 equals destination size [\u001b[01;35m\u001b[K\u001b]8;;https://gcc.gnu.org/onlinedocs/gcc/Warning-Options.html#index-Wstringop-truncation\u0007-Wstringop-truncation\u001b]8;;\u0007\u001b[m\u001b[K]\n",
            "   95 |   return \u001b[01;35m\u001b[K__builtin___strncpy_chk (__dest, __src, __len,\u001b[m\u001b[K\n",
            "      |          \u001b[01;35m\u001b[K~~~~~~~~~~~~~~~~~~~~~~~~^~~~~~~~~~~~~~~~~~~~~~\u001b[m\u001b[K\n",
            "   96 | \u001b[01;35m\u001b[K                                  __glibc_objsize (__dest))\u001b[m\u001b[K;\n",
            "      |                                   \u001b[01;35m\u001b[K~~~~~~~~~~~~~~~~~~~~~~~~~\u001b[m\u001b[K\n",
            "libtool: compile:  g++ -DHAVE_CONFIG_H -I. -I.. -DDIC_VERSION=102 -DMECAB_DEFAULT_RC=\\\"/usr/local/etc/mecabrc\\\" -O3 -Wall -c tokenizer.cpp -o tokenizer.o >/dev/null 2>&1\n",
            "/bin/bash ../libtool --tag=CXX   --mode=compile g++ -DHAVE_CONFIG_H -I. -I.. -DDIC_VERSION=102   -DMECAB_DEFAULT_RC=\"\\\"/usr/local/etc/mecabrc\\\"\"    -O3 -Wall  -c -o char_property.lo char_property.cpp\n",
            "libtool: compile:  g++ -DHAVE_CONFIG_H -I. -I.. -DDIC_VERSION=102 -DMECAB_DEFAULT_RC=\\\"/usr/local/etc/mecabrc\\\" -O3 -Wall -c char_property.cpp  -fPIC -DPIC -o .libs/char_property.o\n",
            "In file included from \u001b[01m\u001b[Kchar_property.cpp:11\u001b[m\u001b[K:\n",
            "\u001b[01m\u001b[Kchar_property.h:\u001b[m\u001b[K In member function '\u001b[01m\u001b[Kconst char* MeCab::CharProperty::seekToOtherType(const char*, const char*, MeCab::CharInfo, MeCab::CharInfo*, size_t*, size_t*) const\u001b[m\u001b[K':\n",
            "\u001b[01m\u001b[Kchar_property.h:40:26:\u001b[m\u001b[K \u001b[01;35m\u001b[Kwarning: \u001b[m\u001b[KISO C++17 does not allow '\u001b[01m\u001b[Kregister\u001b[m\u001b[K' storage class specifier [\u001b[01;35m\u001b[K\u001b]8;;https://gcc.gnu.org/onlinedocs/gcc/Warning-Options.html#index-Wregister\u0007-Wregister\u001b]8;;\u0007\u001b[m\u001b[K]\n",
            "   40 |     register const char *\u001b[01;35m\u001b[Kp\u001b[m\u001b[K =  begin;\n",
            "      |                          \u001b[01;35m\u001b[K^\u001b[m\u001b[K\n",
            "\u001b[01m\u001b[Kchar_property.cpp:\u001b[m\u001b[K In static member function '\u001b[01m\u001b[Kstatic bool MeCab::CharProperty::compile(const char*, const char*, const char*)\u001b[m\u001b[K':\n",
            "\u001b[01m\u001b[Kchar_property.cpp:194:18:\u001b[m\u001b[K \u001b[01;35m\u001b[Kwarning: \u001b[m\u001b[K'\u001b[01m\u001b[Kvoid* memset(void*, int, size_t)\u001b[m\u001b[K' clearing an object of non-trivial type '\u001b[01m\u001b[Kstruct MeCab::CharInfo\u001b[m\u001b[K'; use assignment or value-initialization instead [\u001b[01;35m\u001b[K\u001b]8;;https://gcc.gnu.org/onlinedocs/gcc/Warning-Options.html#index-Wclass-memaccess\u0007-Wclass-memaccess\u001b]8;;\u0007\u001b[m\u001b[K]\n",
            "  194 |       \u001b[01;35m\u001b[Kstd::memset(&c, 0, sizeof(c))\u001b[m\u001b[K;\n",
            "      |       \u001b[01;35m\u001b[K~~~~~~~~~~~^~~~~~~~~~~~~~~~~~\u001b[m\u001b[K\n",
            "In file included from \u001b[01m\u001b[Kchar_property.cpp:11\u001b[m\u001b[K:\n",
            "\u001b[01m\u001b[Kchar_property.h:16:8:\u001b[m\u001b[K \u001b[01;36m\u001b[Knote: \u001b[m\u001b[K'\u001b[01m\u001b[Kstruct MeCab::CharInfo\u001b[m\u001b[K' declared here\n",
            "   16 | struct \u001b[01;36m\u001b[KCharInfo\u001b[m\u001b[K {\n",
            "      |        \u001b[01;36m\u001b[K^~~~~~~~\u001b[m\u001b[K\n",
            "libtool: compile:  g++ -DHAVE_CONFIG_H -I. -I.. -DDIC_VERSION=102 -DMECAB_DEFAULT_RC=\\\"/usr/local/etc/mecabrc\\\" -O3 -Wall -c char_property.cpp -o char_property.o >/dev/null 2>&1\n",
            "/bin/bash ../libtool --tag=CXX   --mode=compile g++ -DHAVE_CONFIG_H -I. -I.. -DDIC_VERSION=102   -DMECAB_DEFAULT_RC=\"\\\"/usr/local/etc/mecabrc\\\"\"    -O3 -Wall  -c -o dictionary.lo dictionary.cpp\n",
            "libtool: compile:  g++ -DHAVE_CONFIG_H -I. -I.. -DDIC_VERSION=102 -DMECAB_DEFAULT_RC=\\\"/usr/local/etc/mecabrc\\\" -O3 -Wall -c dictionary.cpp  -fPIC -DPIC -o .libs/dictionary.o\n",
            "In file included from \u001b[01m\u001b[Kdictionary.cpp:10\u001b[m\u001b[K:\n",
            "\u001b[01m\u001b[Kchar_property.h:\u001b[m\u001b[K In member function '\u001b[01m\u001b[Kconst char* MeCab::CharProperty::seekToOtherType(const char*, const char*, MeCab::CharInfo, MeCab::CharInfo*, size_t*, size_t*) const\u001b[m\u001b[K':\n",
            "\u001b[01m\u001b[Kchar_property.h:40:26:\u001b[m\u001b[K \u001b[01;35m\u001b[Kwarning: \u001b[m\u001b[KISO C++17 does not allow '\u001b[01m\u001b[Kregister\u001b[m\u001b[K' storage class specifier [\u001b[01;35m\u001b[K\u001b]8;;https://gcc.gnu.org/onlinedocs/gcc/Warning-Options.html#index-Wregister\u0007-Wregister\u001b]8;;\u0007\u001b[m\u001b[K]\n",
            "   40 |     register const char *\u001b[01;35m\u001b[Kp\u001b[m\u001b[K =  begin;\n",
            "      |                          \u001b[01;35m\u001b[K^\u001b[m\u001b[K\n",
            "In file included from \u001b[01m\u001b[Kdictionary.h:11\u001b[m\u001b[K,\n",
            "                 from \u001b[01m\u001b[Kdictionary.cpp:12\u001b[m\u001b[K:\n",
            "\u001b[01m\u001b[Kdarts.h:\u001b[m\u001b[K In member function '\u001b[01m\u001b[KT MeCab::Darts::DoubleArrayImpl<node_type_, node_u_type_, array_type_, array_u_type_, length_func_>::exactMatchSearch(const key_type*, size_t, size_t) const\u001b[m\u001b[K':\n",
            "\u001b[01m\u001b[Kdarts.h:407:27:\u001b[m\u001b[K \u001b[01;35m\u001b[Kwarning: \u001b[m\u001b[KISO C++17 does not allow '\u001b[01m\u001b[Kregister\u001b[m\u001b[K' storage class specifier [\u001b[01;35m\u001b[K\u001b]8;;https://gcc.gnu.org/onlinedocs/gcc/Warning-Options.html#index-Wregister\u0007-Wregister\u001b]8;;\u0007\u001b[m\u001b[K]\n",
            "  407 |     register array_type_  \u001b[01;35m\u001b[Kb\u001b[m\u001b[K = array_[node_pos].base;\n",
            "      |                           \u001b[01;35m\u001b[K^\u001b[m\u001b[K\n",
            "\u001b[01m\u001b[Kdarts.h:408:28:\u001b[m\u001b[K \u001b[01;35m\u001b[Kwarning: \u001b[m\u001b[KISO C++17 does not allow '\u001b[01m\u001b[Kregister\u001b[m\u001b[K' storage class specifier [\u001b[01;35m\u001b[K\u001b]8;;https://gcc.gnu.org/onlinedocs/gcc/Warning-Options.html#index-Wregister\u0007-Wregister\u001b]8;;\u0007\u001b[m\u001b[K]\n",
            "  408 |     register array_u_type_ \u001b[01;35m\u001b[Kp\u001b[m\u001b[K;\n",
            "      |                            \u001b[01;35m\u001b[K^\u001b[m\u001b[K\n",
            "\u001b[01m\u001b[Kdarts.h:410:26:\u001b[m\u001b[K \u001b[01;35m\u001b[Kwarning: \u001b[m\u001b[KISO C++17 does not allow '\u001b[01m\u001b[Kregister\u001b[m\u001b[K' storage class specifier [\u001b[01;35m\u001b[K\u001b]8;;https://gcc.gnu.org/onlinedocs/gcc/Warning-Options.html#index-Wregister\u0007-Wregister\u001b]8;;\u0007\u001b[m\u001b[K]\n",
            "  410 |     for (register size_t \u001b[01;35m\u001b[Ki\u001b[m\u001b[K = 0; i < len; ++i) {\n",
            "      |                          \u001b[01;35m\u001b[K^\u001b[m\u001b[K\n",
            "\u001b[01m\u001b[Kdarts.h:\u001b[m\u001b[K In member function '\u001b[01m\u001b[Ksize_t MeCab::Darts::DoubleArrayImpl<node_type_, node_u_type_, array_type_, array_u_type_, length_func_>::commonPrefixSearch(const key_type*, T*, size_t, size_t, size_t) const\u001b[m\u001b[K':\n",
            "\u001b[01m\u001b[Kdarts.h:434:27:\u001b[m\u001b[K \u001b[01;35m\u001b[Kwarning: \u001b[m\u001b[KISO C++17 does not allow '\u001b[01m\u001b[Kregister\u001b[m\u001b[K' storage class specifier [\u001b[01;35m\u001b[K\u001b]8;;https://gcc.gnu.org/onlinedocs/gcc/Warning-Options.html#index-Wregister\u0007-Wregister\u001b]8;;\u0007\u001b[m\u001b[K]\n",
            "  434 |     register array_type_  \u001b[01;35m\u001b[Kb\u001b[m\u001b[K   = array_[node_pos].base;\n",
            "      |                           \u001b[01;35m\u001b[K^\u001b[m\u001b[K\n",
            "\u001b[01m\u001b[Kdarts.h:435:25:\u001b[m\u001b[K \u001b[01;35m\u001b[Kwarning: \u001b[m\u001b[KISO C++17 does not allow '\u001b[01m\u001b[Kregister\u001b[m\u001b[K' storage class specifier [\u001b[01;35m\u001b[K\u001b]8;;https://gcc.gnu.org/onlinedocs/gcc/Warning-Options.html#index-Wregister\u0007-Wregister\u001b]8;;\u0007\u001b[m\u001b[K]\n",
            "  435 |     register size_t     \u001b[01;35m\u001b[Knum\u001b[m\u001b[K = 0;\n",
            "      |                         \u001b[01;35m\u001b[K^~~\u001b[m\u001b[K\n",
            "\u001b[01m\u001b[Kdarts.h:436:27:\u001b[m\u001b[K \u001b[01;35m\u001b[Kwarning: \u001b[m\u001b[KISO C++17 does not allow '\u001b[01m\u001b[Kregister\u001b[m\u001b[K' storage class specifier [\u001b[01;35m\u001b[K\u001b]8;;https://gcc.gnu.org/onlinedocs/gcc/Warning-Options.html#index-Wregister\u0007-Wregister\u001b]8;;\u0007\u001b[m\u001b[K]\n",
            "  436 |     register array_type_  \u001b[01;35m\u001b[Kn\u001b[m\u001b[K;\n",
            "      |                           \u001b[01;35m\u001b[K^\u001b[m\u001b[K\n",
            "\u001b[01m\u001b[Kdarts.h:437:28:\u001b[m\u001b[K \u001b[01;35m\u001b[Kwarning: \u001b[m\u001b[KISO C++17 does not allow '\u001b[01m\u001b[Kregister\u001b[m\u001b[K' storage class specifier [\u001b[01;35m\u001b[K\u001b]8;;https://gcc.gnu.org/onlinedocs/gcc/Warning-Options.html#index-Wregister\u0007-Wregister\u001b]8;;\u0007\u001b[m\u001b[K]\n",
            "  437 |     register array_u_type_ \u001b[01;35m\u001b[Kp\u001b[m\u001b[K;\n",
            "      |                            \u001b[01;35m\u001b[K^\u001b[m\u001b[K\n",
            "\u001b[01m\u001b[Kdarts.h:439:26:\u001b[m\u001b[K \u001b[01;35m\u001b[Kwarning: \u001b[m\u001b[KISO C++17 does not allow '\u001b[01m\u001b[Kregister\u001b[m\u001b[K' storage class specifier [\u001b[01;35m\u001b[K\u001b]8;;https://gcc.gnu.org/onlinedocs/gcc/Warning-Options.html#index-Wregister\u0007-Wregister\u001b]8;;\u0007\u001b[m\u001b[K]\n",
            "  439 |     for (register size_t \u001b[01;35m\u001b[Ki\u001b[m\u001b[K = 0; i < len; ++i) {\n",
            "      |                          \u001b[01;35m\u001b[K^\u001b[m\u001b[K\n",
            "\u001b[01m\u001b[Kdarts.h:\u001b[m\u001b[K In member function '\u001b[01m\u001b[KMeCab::Darts::DoubleArrayImpl<node_type_, node_u_type_, array_type_, array_u_type_, length_func_>::value_type MeCab::Darts::DoubleArrayImpl<node_type_, node_u_type_, array_type_, array_u_type_, length_func_>::traverse(const key_type*, size_t&, size_t&, size_t) const\u001b[m\u001b[K':\n",
            "\u001b[01m\u001b[Kdarts.h:472:27:\u001b[m\u001b[K \u001b[01;35m\u001b[Kwarning: \u001b[m\u001b[KISO C++17 does not allow '\u001b[01m\u001b[Kregister\u001b[m\u001b[K' storage class specifier [\u001b[01;35m\u001b[K\u001b]8;;https://gcc.gnu.org/onlinedocs/gcc/Warning-Options.html#index-Wregister\u0007-Wregister\u001b]8;;\u0007\u001b[m\u001b[K]\n",
            "  472 |     register array_type_  \u001b[01;35m\u001b[Kb\u001b[m\u001b[K = array_[node_pos].base;\n",
            "      |                           \u001b[01;35m\u001b[K^\u001b[m\u001b[K\n",
            "\u001b[01m\u001b[Kdarts.h:473:28:\u001b[m\u001b[K \u001b[01;35m\u001b[Kwarning: \u001b[m\u001b[KISO C++17 does not allow '\u001b[01m\u001b[Kregister\u001b[m\u001b[K' storage class specifier [\u001b[01;35m\u001b[K\u001b]8;;https://gcc.gnu.org/onlinedocs/gcc/Warning-Options.html#index-Wregister\u0007-Wregister\u001b]8;;\u0007\u001b[m\u001b[K]\n",
            "  473 |     register array_u_type_ \u001b[01;35m\u001b[Kp\u001b[m\u001b[K;\n",
            "      |                            \u001b[01;35m\u001b[K^\u001b[m\u001b[K\n",
            "darts.h: In instantiation of '\u001b[01m\u001b[Ksize_t MeCab::Darts::DoubleArrayImpl<node_type_, node_u_type_, array_type_, array_u_type_, length_func_>::commonPrefixSearch(const key_type*, T*, size_t, size_t, size_t) const [with T = MeCab::Darts::DoubleArrayImpl<char, unsigned char, int, unsigned int>::result_pair_type; node_type_ = char; node_u_type_ = unsigned char; array_type_ = int; array_u_type_ = unsigned int; length_func_ = MeCab::Darts::Length<char>; size_t = long unsigned int; MeCab::Darts::DoubleArrayImpl<node_type_, node_u_type_, array_type_, array_u_type_, length_func_>::key_type = char]\u001b[m\u001b[K':\n",
            "\u001b[01m\u001b[Kdictionary.h:37:34:\u001b[m\u001b[K   required from here\n",
            "\u001b[01m\u001b[Kdarts.h:434:27:\u001b[m\u001b[K \u001b[01;35m\u001b[Kwarning: \u001b[m\u001b[KISO C++17 does not allow '\u001b[01m\u001b[Kregister\u001b[m\u001b[K' storage class specifier [\u001b[01;35m\u001b[K\u001b]8;;https://gcc.gnu.org/onlinedocs/gcc/Warning-Options.html#index-Wregister\u0007-Wregister\u001b]8;;\u0007\u001b[m\u001b[K]\n",
            "  434 |     register array_type_  \u001b[01;35m\u001b[Kb\u001b[m\u001b[K   = array_[node_pos].base;\n",
            "      |                           \u001b[01;35m\u001b[K^\u001b[m\u001b[K\n",
            "\u001b[01m\u001b[Kdarts.h:435:25:\u001b[m\u001b[K \u001b[01;35m\u001b[Kwarning: \u001b[m\u001b[KISO C++17 does not allow '\u001b[01m\u001b[Kregister\u001b[m\u001b[K' storage class specifier [\u001b[01;35m\u001b[K\u001b]8;;https://gcc.gnu.org/onlinedocs/gcc/Warning-Options.html#index-Wregister\u0007-Wregister\u001b]8;;\u0007\u001b[m\u001b[K]\n",
            "  435 |     register size_t     \u001b[01;35m\u001b[Knum\u001b[m\u001b[K = 0;\n",
            "      |                         \u001b[01;35m\u001b[K^~~\u001b[m\u001b[K\n",
            "\u001b[01m\u001b[Kdarts.h:436:27:\u001b[m\u001b[K \u001b[01;35m\u001b[Kwarning: \u001b[m\u001b[KISO C++17 does not allow '\u001b[01m\u001b[Kregister\u001b[m\u001b[K' storage class specifier [\u001b[01;35m\u001b[K\u001b]8;;https://gcc.gnu.org/onlinedocs/gcc/Warning-Options.html#index-Wregister\u0007-Wregister\u001b]8;;\u0007\u001b[m\u001b[K]\n",
            "  436 |     register array_type_  \u001b[01;35m\u001b[Kn\u001b[m\u001b[K;\n",
            "      |                           \u001b[01;35m\u001b[K^\u001b[m\u001b[K\n",
            "\u001b[01m\u001b[Kdarts.h:437:28:\u001b[m\u001b[K \u001b[01;35m\u001b[Kwarning: \u001b[m\u001b[KISO C++17 does not allow '\u001b[01m\u001b[Kregister\u001b[m\u001b[K' storage class specifier [\u001b[01;35m\u001b[K\u001b]8;;https://gcc.gnu.org/onlinedocs/gcc/Warning-Options.html#index-Wregister\u0007-Wregister\u001b]8;;\u0007\u001b[m\u001b[K]\n",
            "  437 |     register array_u_type_ \u001b[01;35m\u001b[Kp\u001b[m\u001b[K;\n",
            "      |                            \u001b[01;35m\u001b[K^\u001b[m\u001b[K\n",
            "\u001b[01m\u001b[Kdarts.h:439:26:\u001b[m\u001b[K \u001b[01;35m\u001b[Kwarning: \u001b[m\u001b[KISO C++17 does not allow '\u001b[01m\u001b[Kregister\u001b[m\u001b[K' storage class specifier [\u001b[01;35m\u001b[K\u001b]8;;https://gcc.gnu.org/onlinedocs/gcc/Warning-Options.html#index-Wregister\u0007-Wregister\u001b]8;;\u0007\u001b[m\u001b[K]\n",
            "  439 |     for (register size_t \u001b[01;35m\u001b[Ki\u001b[m\u001b[K = 0; i < len; ++i) {\n",
            "      |                          \u001b[01;35m\u001b[K^\u001b[m\u001b[K\n",
            "darts.h: In instantiation of '\u001b[01m\u001b[KT MeCab::Darts::DoubleArrayImpl<node_type_, node_u_type_, array_type_, array_u_type_, length_func_>::exactMatchSearch(const key_type*, size_t, size_t) const [with T = MeCab::Darts::DoubleArrayImpl<char, unsigned char, int, unsigned int>::result_pair_type; node_type_ = char; node_u_type_ = unsigned char; array_type_ = int; array_u_type_ = unsigned int; length_func_ = MeCab::Darts::Length<char>; MeCab::Darts::DoubleArrayImpl<node_type_, node_u_type_, array_type_, array_u_type_, length_func_>::key_type = char; size_t = long unsigned int]\u001b[m\u001b[K':\n",
            "\u001b[01m\u001b[Kdarts.h:394:33:\u001b[m\u001b[K   required from '\u001b[01m\u001b[Kvoid MeCab::Darts::DoubleArrayImpl<node_type_, node_u_type_, array_type_, array_u_type_, length_func_>::exactMatchSearch(const key_type*, T&, size_t, size_t) const [with T = MeCab::Darts::DoubleArrayImpl<char, unsigned char, int, unsigned int>::result_pair_type; node_type_ = char; node_u_type_ = unsigned char; array_type_ = int; array_u_type_ = unsigned int; length_func_ = MeCab::Darts::Length<char>; MeCab::Darts::DoubleArrayImpl<node_type_, node_u_type_, array_type_, array_u_type_, length_func_>::key_type = char; size_t = long unsigned int]\u001b[m\u001b[K'\n",
            "\u001b[01m\u001b[Kdictionary.h:42:25:\u001b[m\u001b[K   required from here\n",
            "\u001b[01m\u001b[Kdarts.h:407:27:\u001b[m\u001b[K \u001b[01;35m\u001b[Kwarning: \u001b[m\u001b[KISO C++17 does not allow '\u001b[01m\u001b[Kregister\u001b[m\u001b[K' storage class specifier [\u001b[01;35m\u001b[K\u001b]8;;https://gcc.gnu.org/onlinedocs/gcc/Warning-Options.html#index-Wregister\u0007-Wregister\u001b]8;;\u0007\u001b[m\u001b[K]\n",
            "  407 |     register array_type_  \u001b[01;35m\u001b[Kb\u001b[m\u001b[K = array_[node_pos].base;\n",
            "      |                           \u001b[01;35m\u001b[K^\u001b[m\u001b[K\n",
            "\u001b[01m\u001b[Kdarts.h:408:28:\u001b[m\u001b[K \u001b[01;35m\u001b[Kwarning: \u001b[m\u001b[KISO C++17 does not allow '\u001b[01m\u001b[Kregister\u001b[m\u001b[K' storage class specifier [\u001b[01;35m\u001b[K\u001b]8;;https://gcc.gnu.org/onlinedocs/gcc/Warning-Options.html#index-Wregister\u0007-Wregister\u001b]8;;\u0007\u001b[m\u001b[K]\n",
            "  408 |     register array_u_type_ \u001b[01;35m\u001b[Kp\u001b[m\u001b[K;\n",
            "      |                            \u001b[01;35m\u001b[K^\u001b[m\u001b[K\n",
            "\u001b[01m\u001b[Kdarts.h:410:26:\u001b[m\u001b[K \u001b[01;35m\u001b[Kwarning: \u001b[m\u001b[KISO C++17 does not allow '\u001b[01m\u001b[Kregister\u001b[m\u001b[K' storage class specifier [\u001b[01;35m\u001b[K\u001b]8;;https://gcc.gnu.org/onlinedocs/gcc/Warning-Options.html#index-Wregister\u0007-Wregister\u001b]8;;\u0007\u001b[m\u001b[K]\n",
            "  410 |     for (register size_t \u001b[01;35m\u001b[Ki\u001b[m\u001b[K = 0; i < len; ++i) {\n",
            "      |                          \u001b[01;35m\u001b[K^\u001b[m\u001b[K\n",
            "libtool: compile:  g++ -DHAVE_CONFIG_H -I. -I.. -DDIC_VERSION=102 -DMECAB_DEFAULT_RC=\\\"/usr/local/etc/mecabrc\\\" -O3 -Wall -c dictionary.cpp -o dictionary.o >/dev/null 2>&1\n",
            "/bin/bash ../libtool --tag=CXX   --mode=compile g++ -DHAVE_CONFIG_H -I. -I.. -DDIC_VERSION=102   -DMECAB_DEFAULT_RC=\"\\\"/usr/local/etc/mecabrc\\\"\"    -O3 -Wall  -c -o feature_index.lo feature_index.cpp\n",
            "libtool: compile:  g++ -DHAVE_CONFIG_H -I. -I.. -DDIC_VERSION=102 -DMECAB_DEFAULT_RC=\\\"/usr/local/etc/mecabrc\\\" -O3 -Wall -c feature_index.cpp  -fPIC -DPIC -o .libs/feature_index.o\n",
            "In file included from \u001b[01m\u001b[Kfeature_index.h:13\u001b[m\u001b[K,\n",
            "                 from \u001b[01m\u001b[Kfeature_index.cpp:11\u001b[m\u001b[K:\n",
            "\u001b[01m\u001b[Kdarts.h:\u001b[m\u001b[K In member function '\u001b[01m\u001b[KT MeCab::Darts::DoubleArrayImpl<node_type_, node_u_type_, array_type_, array_u_type_, length_func_>::exactMatchSearch(const key_type*, size_t, size_t) const\u001b[m\u001b[K':\n",
            "\u001b[01m\u001b[Kdarts.h:407:27:\u001b[m\u001b[K \u001b[01;35m\u001b[Kwarning: \u001b[m\u001b[KISO C++17 does not allow '\u001b[01m\u001b[Kregister\u001b[m\u001b[K' storage class specifier [\u001b[01;35m\u001b[K\u001b]8;;https://gcc.gnu.org/onlinedocs/gcc/Warning-Options.html#index-Wregister\u0007-Wregister\u001b]8;;\u0007\u001b[m\u001b[K]\n",
            "  407 |     register array_type_  \u001b[01;35m\u001b[Kb\u001b[m\u001b[K = array_[node_pos].base;\n",
            "      |                           \u001b[01;35m\u001b[K^\u001b[m\u001b[K\n",
            "\u001b[01m\u001b[Kdarts.h:408:28:\u001b[m\u001b[K \u001b[01;35m\u001b[Kwarning: \u001b[m\u001b[KISO C++17 does not allow '\u001b[01m\u001b[Kregister\u001b[m\u001b[K' storage class specifier [\u001b[01;35m\u001b[K\u001b]8;;https://gcc.gnu.org/onlinedocs/gcc/Warning-Options.html#index-Wregister\u0007-Wregister\u001b]8;;\u0007\u001b[m\u001b[K]\n",
            "  408 |     register array_u_type_ \u001b[01;35m\u001b[Kp\u001b[m\u001b[K;\n",
            "      |                            \u001b[01;35m\u001b[K^\u001b[m\u001b[K\n",
            "\u001b[01m\u001b[Kdarts.h:410:26:\u001b[m\u001b[K \u001b[01;35m\u001b[Kwarning: \u001b[m\u001b[KISO C++17 does not allow '\u001b[01m\u001b[Kregister\u001b[m\u001b[K' storage class specifier [\u001b[01;35m\u001b[K\u001b]8;;https://gcc.gnu.org/onlinedocs/gcc/Warning-Options.html#index-Wregister\u0007-Wregister\u001b]8;;\u0007\u001b[m\u001b[K]\n",
            "  410 |     for (register size_t \u001b[01;35m\u001b[Ki\u001b[m\u001b[K = 0; i < len; ++i) {\n",
            "      |                          \u001b[01;35m\u001b[K^\u001b[m\u001b[K\n",
            "\u001b[01m\u001b[Kdarts.h:\u001b[m\u001b[K In member function '\u001b[01m\u001b[Ksize_t MeCab::Darts::DoubleArrayImpl<node_type_, node_u_type_, array_type_, array_u_type_, length_func_>::commonPrefixSearch(const key_type*, T*, size_t, size_t, size_t) const\u001b[m\u001b[K':\n",
            "\u001b[01m\u001b[Kdarts.h:434:27:\u001b[m\u001b[K \u001b[01;35m\u001b[Kwarning: \u001b[m\u001b[KISO C++17 does not allow '\u001b[01m\u001b[Kregister\u001b[m\u001b[K' storage class specifier [\u001b[01;35m\u001b[K\u001b]8;;https://gcc.gnu.org/onlinedocs/gcc/Warning-Options.html#index-Wregister\u0007-Wregister\u001b]8;;\u0007\u001b[m\u001b[K]\n",
            "  434 |     register array_type_  \u001b[01;35m\u001b[Kb\u001b[m\u001b[K   = array_[node_pos].base;\n",
            "      |                           \u001b[01;35m\u001b[K^\u001b[m\u001b[K\n",
            "\u001b[01m\u001b[Kdarts.h:435:25:\u001b[m\u001b[K \u001b[01;35m\u001b[Kwarning: \u001b[m\u001b[KISO C++17 does not allow '\u001b[01m\u001b[Kregister\u001b[m\u001b[K' storage class specifier [\u001b[01;35m\u001b[K\u001b]8;;https://gcc.gnu.org/onlinedocs/gcc/Warning-Options.html#index-Wregister\u0007-Wregister\u001b]8;;\u0007\u001b[m\u001b[K]\n",
            "  435 |     register size_t     \u001b[01;35m\u001b[Knum\u001b[m\u001b[K = 0;\n",
            "      |                         \u001b[01;35m\u001b[K^~~\u001b[m\u001b[K\n",
            "\u001b[01m\u001b[Kdarts.h:436:27:\u001b[m\u001b[K \u001b[01;35m\u001b[Kwarning: \u001b[m\u001b[KISO C++17 does not allow '\u001b[01m\u001b[Kregister\u001b[m\u001b[K' storage class specifier [\u001b[01;35m\u001b[K\u001b]8;;https://gcc.gnu.org/onlinedocs/gcc/Warning-Options.html#index-Wregister\u0007-Wregister\u001b]8;;\u0007\u001b[m\u001b[K]\n",
            "  436 |     register array_type_  \u001b[01;35m\u001b[Kn\u001b[m\u001b[K;\n",
            "      |                           \u001b[01;35m\u001b[K^\u001b[m\u001b[K\n",
            "\u001b[01m\u001b[Kdarts.h:437:28:\u001b[m\u001b[K \u001b[01;35m\u001b[Kwarning: \u001b[m\u001b[KISO C++17 does not allow '\u001b[01m\u001b[Kregister\u001b[m\u001b[K' storage class specifier [\u001b[01;35m\u001b[K\u001b]8;;https://gcc.gnu.org/onlinedocs/gcc/Warning-Options.html#index-Wregister\u0007-Wregister\u001b]8;;\u0007\u001b[m\u001b[K]\n",
            "  437 |     register array_u_type_ \u001b[01;35m\u001b[Kp\u001b[m\u001b[K;\n",
            "      |                            \u001b[01;35m\u001b[K^\u001b[m\u001b[K\n",
            "\u001b[01m\u001b[Kdarts.h:439:26:\u001b[m\u001b[K \u001b[01;35m\u001b[Kwarning: \u001b[m\u001b[KISO C++17 does not allow '\u001b[01m\u001b[Kregister\u001b[m\u001b[K' storage class specifier [\u001b[01;35m\u001b[K\u001b]8;;https://gcc.gnu.org/onlinedocs/gcc/Warning-Options.html#index-Wregister\u0007-Wregister\u001b]8;;\u0007\u001b[m\u001b[K]\n",
            "  439 |     for (register size_t \u001b[01;35m\u001b[Ki\u001b[m\u001b[K = 0; i < len; ++i) {\n",
            "      |                          \u001b[01;35m\u001b[K^\u001b[m\u001b[K\n",
            "\u001b[01m\u001b[Kdarts.h:\u001b[m\u001b[K In member function '\u001b[01m\u001b[KMeCab::Darts::DoubleArrayImpl<node_type_, node_u_type_, array_type_, array_u_type_, length_func_>::value_type MeCab::Darts::DoubleArrayImpl<node_type_, node_u_type_, array_type_, array_u_type_, length_func_>::traverse(const key_type*, size_t&, size_t&, size_t) const\u001b[m\u001b[K':\n",
            "\u001b[01m\u001b[Kdarts.h:472:27:\u001b[m\u001b[K \u001b[01;35m\u001b[Kwarning: \u001b[m\u001b[KISO C++17 does not allow '\u001b[01m\u001b[Kregister\u001b[m\u001b[K' storage class specifier [\u001b[01;35m\u001b[K\u001b]8;;https://gcc.gnu.org/onlinedocs/gcc/Warning-Options.html#index-Wregister\u0007-Wregister\u001b]8;;\u0007\u001b[m\u001b[K]\n",
            "  472 |     register array_type_  \u001b[01;35m\u001b[Kb\u001b[m\u001b[K = array_[node_pos].base;\n",
            "      |                           \u001b[01;35m\u001b[K^\u001b[m\u001b[K\n",
            "\u001b[01m\u001b[Kdarts.h:473:28:\u001b[m\u001b[K \u001b[01;35m\u001b[Kwarning: \u001b[m\u001b[KISO C++17 does not allow '\u001b[01m\u001b[Kregister\u001b[m\u001b[K' storage class specifier [\u001b[01;35m\u001b[K\u001b]8;;https://gcc.gnu.org/onlinedocs/gcc/Warning-Options.html#index-Wregister\u0007-Wregister\u001b]8;;\u0007\u001b[m\u001b[K]\n",
            "  473 |     register array_u_type_ \u001b[01;35m\u001b[Kp\u001b[m\u001b[K;\n",
            "      |                            \u001b[01;35m\u001b[K^\u001b[m\u001b[K\n",
            "In file included from \u001b[01m\u001b[K/usr/include/string.h:535\u001b[m\u001b[K,\n",
            "                 from \u001b[01m\u001b[K/usr/include/c++/11/cstring:42\u001b[m\u001b[K,\n",
            "                 from \u001b[01m\u001b[Kfeature_index.cpp:7\u001b[m\u001b[K:\n",
            "In function '\u001b[01m\u001b[Kchar* strncpy(char*, const char*, size_t)\u001b[m\u001b[K',\n",
            "    inlined from '\u001b[01m\u001b[Kbool MeCab::FeatureIndex::buildUnigramFeature(MeCab::LearnerPath*, const char*)\u001b[m\u001b[K' at \u001b[01m\u001b[Kfeature_index.cpp:337:15\u001b[m\u001b[K:\n",
            "\u001b[01m\u001b[K/usr/include/x86_64-linux-gnu/bits/string_fortified.h:95:34:\u001b[m\u001b[K \u001b[01;35m\u001b[Kwarning: \u001b[m\u001b[K'\u001b[01m\u001b[Kchar* __builtin_strncpy(char*, const char*, long unsigned int)\u001b[m\u001b[K' specified bound 2048 equals destination size [\u001b[01;35m\u001b[K\u001b]8;;https://gcc.gnu.org/onlinedocs/gcc/Warning-Options.html#index-Wstringop-truncation\u0007-Wstringop-truncation\u001b]8;;\u0007\u001b[m\u001b[K]\n",
            "   95 |   return \u001b[01;35m\u001b[K__builtin___strncpy_chk (__dest, __src, __len,\u001b[m\u001b[K\n",
            "      |          \u001b[01;35m\u001b[K~~~~~~~~~~~~~~~~~~~~~~~~^~~~~~~~~~~~~~~~~~~~~~\u001b[m\u001b[K\n",
            "   96 | \u001b[01;35m\u001b[K                                  __glibc_objsize (__dest))\u001b[m\u001b[K;\n",
            "      |                                   \u001b[01;35m\u001b[K~~~~~~~~~~~~~~~~~~~~~~~~~\u001b[m\u001b[K\n",
            "In function '\u001b[01m\u001b[Kchar* strncpy(char*, const char*, size_t)\u001b[m\u001b[K',\n",
            "    inlined from '\u001b[01m\u001b[Kbool MeCab::FeatureIndex::buildBigramFeature(MeCab::LearnerPath*, const char*, const char*)\u001b[m\u001b[K' at \u001b[01m\u001b[Kfeature_index.cpp:389:15\u001b[m\u001b[K:\n",
            "\u001b[01m\u001b[K/usr/include/x86_64-linux-gnu/bits/string_fortified.h:95:34:\u001b[m\u001b[K \u001b[01;35m\u001b[Kwarning: \u001b[m\u001b[K'\u001b[01m\u001b[Kchar* __builtin_strncpy(char*, const char*, long unsigned int)\u001b[m\u001b[K' specified bound 2048 equals destination size [\u001b[01;35m\u001b[K\u001b]8;;https://gcc.gnu.org/onlinedocs/gcc/Warning-Options.html#index-Wstringop-truncation\u0007-Wstringop-truncation\u001b]8;;\u0007\u001b[m\u001b[K]\n",
            "   95 |   return \u001b[01;35m\u001b[K__builtin___strncpy_chk (__dest, __src, __len,\u001b[m\u001b[K\n",
            "      |          \u001b[01;35m\u001b[K~~~~~~~~~~~~~~~~~~~~~~~~^~~~~~~~~~~~~~~~~~~~~~\u001b[m\u001b[K\n",
            "   96 | \u001b[01;35m\u001b[K                                  __glibc_objsize (__dest))\u001b[m\u001b[K;\n",
            "      |                                   \u001b[01;35m\u001b[K~~~~~~~~~~~~~~~~~~~~~~~~~\u001b[m\u001b[K\n",
            "In function '\u001b[01m\u001b[Kchar* strncpy(char*, const char*, size_t)\u001b[m\u001b[K',\n",
            "    inlined from '\u001b[01m\u001b[Kbool MeCab::FeatureIndex::buildBigramFeature(MeCab::LearnerPath*, const char*, const char*)\u001b[m\u001b[K' at \u001b[01m\u001b[Kfeature_index.cpp:390:15\u001b[m\u001b[K:\n",
            "\u001b[01m\u001b[K/usr/include/x86_64-linux-gnu/bits/string_fortified.h:95:34:\u001b[m\u001b[K \u001b[01;35m\u001b[Kwarning: \u001b[m\u001b[K'\u001b[01m\u001b[Kchar* __builtin_strncpy(char*, const char*, long unsigned int)\u001b[m\u001b[K' specified bound 2048 equals destination size [\u001b[01;35m\u001b[K\u001b]8;;https://gcc.gnu.org/onlinedocs/gcc/Warning-Options.html#index-Wstringop-truncation\u0007-Wstringop-truncation\u001b]8;;\u0007\u001b[m\u001b[K]\n",
            "   95 |   return \u001b[01;35m\u001b[K__builtin___strncpy_chk (__dest, __src, __len,\u001b[m\u001b[K\n",
            "      |          \u001b[01;35m\u001b[K~~~~~~~~~~~~~~~~~~~~~~~~^~~~~~~~~~~~~~~~~~~~~~\u001b[m\u001b[K\n",
            "   96 | \u001b[01;35m\u001b[K                                  __glibc_objsize (__dest))\u001b[m\u001b[K;\n",
            "      |                                   \u001b[01;35m\u001b[K~~~~~~~~~~~~~~~~~~~~~~~~~\u001b[m\u001b[K\n",
            "libtool: compile:  g++ -DHAVE_CONFIG_H -I. -I.. -DDIC_VERSION=102 -DMECAB_DEFAULT_RC=\\\"/usr/local/etc/mecabrc\\\" -O3 -Wall -c feature_index.cpp -o feature_index.o >/dev/null 2>&1\n",
            "/bin/bash ../libtool --tag=CXX   --mode=compile g++ -DHAVE_CONFIG_H -I. -I.. -DDIC_VERSION=102   -DMECAB_DEFAULT_RC=\"\\\"/usr/local/etc/mecabrc\\\"\"    -O3 -Wall  -c -o lbfgs.lo lbfgs.cpp\n",
            "libtool: compile:  g++ -DHAVE_CONFIG_H -I. -I.. -DDIC_VERSION=102 -DMECAB_DEFAULT_RC=\\\"/usr/local/etc/mecabrc\\\" -O3 -Wall -c lbfgs.cpp  -fPIC -DPIC -o .libs/lbfgs.o\n",
            "libtool: compile:  g++ -DHAVE_CONFIG_H -I. -I.. -DDIC_VERSION=102 -DMECAB_DEFAULT_RC=\\\"/usr/local/etc/mecabrc\\\" -O3 -Wall -c lbfgs.cpp -o lbfgs.o >/dev/null 2>&1\n",
            "/bin/bash ../libtool --tag=CXX   --mode=compile g++ -DHAVE_CONFIG_H -I. -I.. -DDIC_VERSION=102   -DMECAB_DEFAULT_RC=\"\\\"/usr/local/etc/mecabrc\\\"\"    -O3 -Wall  -c -o learner_tagger.lo learner_tagger.cpp\n",
            "libtool: compile:  g++ -DHAVE_CONFIG_H -I. -I.. -DDIC_VERSION=102 -DMECAB_DEFAULT_RC=\\\"/usr/local/etc/mecabrc\\\" -O3 -Wall -c learner_tagger.cpp  -fPIC -DPIC -o .libs/learner_tagger.o\n",
            "In file included from \u001b[01m\u001b[Kfeature_index.h:13\u001b[m\u001b[K,\n",
            "                 from \u001b[01m\u001b[Klearner_tagger.h:12\u001b[m\u001b[K,\n",
            "                 from \u001b[01m\u001b[Klearner_tagger.cpp:13\u001b[m\u001b[K:\n",
            "\u001b[01m\u001b[Kdarts.h:\u001b[m\u001b[K In member function '\u001b[01m\u001b[KT MeCab::Darts::DoubleArrayImpl<node_type_, node_u_type_, array_type_, array_u_type_, length_func_>::exactMatchSearch(const key_type*, size_t, size_t) const\u001b[m\u001b[K':\n",
            "\u001b[01m\u001b[Kdarts.h:407:27:\u001b[m\u001b[K \u001b[01;35m\u001b[Kwarning: \u001b[m\u001b[KISO C++17 does not allow '\u001b[01m\u001b[Kregister\u001b[m\u001b[K' storage class specifier [\u001b[01;35m\u001b[K\u001b]8;;https://gcc.gnu.org/onlinedocs/gcc/Warning-Options.html#index-Wregister\u0007-Wregister\u001b]8;;\u0007\u001b[m\u001b[K]\n",
            "  407 |     register array_type_  \u001b[01;35m\u001b[Kb\u001b[m\u001b[K = array_[node_pos].base;\n",
            "      |                           \u001b[01;35m\u001b[K^\u001b[m\u001b[K\n",
            "\u001b[01m\u001b[Kdarts.h:408:28:\u001b[m\u001b[K \u001b[01;35m\u001b[Kwarning: \u001b[m\u001b[KISO C++17 does not allow '\u001b[01m\u001b[Kregister\u001b[m\u001b[K' storage class specifier [\u001b[01;35m\u001b[K\u001b]8;;https://gcc.gnu.org/onlinedocs/gcc/Warning-Options.html#index-Wregister\u0007-Wregister\u001b]8;;\u0007\u001b[m\u001b[K]\n",
            "  408 |     register array_u_type_ \u001b[01;35m\u001b[Kp\u001b[m\u001b[K;\n",
            "      |                            \u001b[01;35m\u001b[K^\u001b[m\u001b[K\n",
            "\u001b[01m\u001b[Kdarts.h:410:26:\u001b[m\u001b[K \u001b[01;35m\u001b[Kwarning: \u001b[m\u001b[KISO C++17 does not allow '\u001b[01m\u001b[Kregister\u001b[m\u001b[K' storage class specifier [\u001b[01;35m\u001b[K\u001b]8;;https://gcc.gnu.org/onlinedocs/gcc/Warning-Options.html#index-Wregister\u0007-Wregister\u001b]8;;\u0007\u001b[m\u001b[K]\n",
            "  410 |     for (register size_t \u001b[01;35m\u001b[Ki\u001b[m\u001b[K = 0; i < len; ++i) {\n",
            "      |                          \u001b[01;35m\u001b[K^\u001b[m\u001b[K\n",
            "\u001b[01m\u001b[Kdarts.h:\u001b[m\u001b[K In member function '\u001b[01m\u001b[Ksize_t MeCab::Darts::DoubleArrayImpl<node_type_, node_u_type_, array_type_, array_u_type_, length_func_>::commonPrefixSearch(const key_type*, T*, size_t, size_t, size_t) const\u001b[m\u001b[K':\n",
            "\u001b[01m\u001b[Kdarts.h:434:27:\u001b[m\u001b[K \u001b[01;35m\u001b[Kwarning: \u001b[m\u001b[KISO C++17 does not allow '\u001b[01m\u001b[Kregister\u001b[m\u001b[K' storage class specifier [\u001b[01;35m\u001b[K\u001b]8;;https://gcc.gnu.org/onlinedocs/gcc/Warning-Options.html#index-Wregister\u0007-Wregister\u001b]8;;\u0007\u001b[m\u001b[K]\n",
            "  434 |     register array_type_  \u001b[01;35m\u001b[Kb\u001b[m\u001b[K   = array_[node_pos].base;\n",
            "      |                           \u001b[01;35m\u001b[K^\u001b[m\u001b[K\n",
            "\u001b[01m\u001b[Kdarts.h:435:25:\u001b[m\u001b[K \u001b[01;35m\u001b[Kwarning: \u001b[m\u001b[KISO C++17 does not allow '\u001b[01m\u001b[Kregister\u001b[m\u001b[K' storage class specifier [\u001b[01;35m\u001b[K\u001b]8;;https://gcc.gnu.org/onlinedocs/gcc/Warning-Options.html#index-Wregister\u0007-Wregister\u001b]8;;\u0007\u001b[m\u001b[K]\n",
            "  435 |     register size_t     \u001b[01;35m\u001b[Knum\u001b[m\u001b[K = 0;\n",
            "      |                         \u001b[01;35m\u001b[K^~~\u001b[m\u001b[K\n",
            "\u001b[01m\u001b[Kdarts.h:436:27:\u001b[m\u001b[K \u001b[01;35m\u001b[Kwarning: \u001b[m\u001b[KISO C++17 does not allow '\u001b[01m\u001b[Kregister\u001b[m\u001b[K' storage class specifier [\u001b[01;35m\u001b[K\u001b]8;;https://gcc.gnu.org/onlinedocs/gcc/Warning-Options.html#index-Wregister\u0007-Wregister\u001b]8;;\u0007\u001b[m\u001b[K]\n",
            "  436 |     register array_type_  \u001b[01;35m\u001b[Kn\u001b[m\u001b[K;\n",
            "      |                           \u001b[01;35m\u001b[K^\u001b[m\u001b[K\n",
            "\u001b[01m\u001b[Kdarts.h:437:28:\u001b[m\u001b[K \u001b[01;35m\u001b[Kwarning: \u001b[m\u001b[KISO C++17 does not allow '\u001b[01m\u001b[Kregister\u001b[m\u001b[K' storage class specifier [\u001b[01;35m\u001b[K\u001b]8;;https://gcc.gnu.org/onlinedocs/gcc/Warning-Options.html#index-Wregister\u0007-Wregister\u001b]8;;\u0007\u001b[m\u001b[K]\n",
            "  437 |     register array_u_type_ \u001b[01;35m\u001b[Kp\u001b[m\u001b[K;\n",
            "      |                            \u001b[01;35m\u001b[K^\u001b[m\u001b[K\n",
            "\u001b[01m\u001b[Kdarts.h:439:26:\u001b[m\u001b[K \u001b[01;35m\u001b[Kwarning: \u001b[m\u001b[KISO C++17 does not allow '\u001b[01m\u001b[Kregister\u001b[m\u001b[K' storage class specifier [\u001b[01;35m\u001b[K\u001b]8;;https://gcc.gnu.org/onlinedocs/gcc/Warning-Options.html#index-Wregister\u0007-Wregister\u001b]8;;\u0007\u001b[m\u001b[K]\n",
            "  439 |     for (register size_t \u001b[01;35m\u001b[Ki\u001b[m\u001b[K = 0; i < len; ++i) {\n",
            "      |                          \u001b[01;35m\u001b[K^\u001b[m\u001b[K\n",
            "\u001b[01m\u001b[Kdarts.h:\u001b[m\u001b[K In member function '\u001b[01m\u001b[KMeCab::Darts::DoubleArrayImpl<node_type_, node_u_type_, array_type_, array_u_type_, length_func_>::value_type MeCab::Darts::DoubleArrayImpl<node_type_, node_u_type_, array_type_, array_u_type_, length_func_>::traverse(const key_type*, size_t&, size_t&, size_t) const\u001b[m\u001b[K':\n",
            "\u001b[01m\u001b[Kdarts.h:472:27:\u001b[m\u001b[K \u001b[01;35m\u001b[Kwarning: \u001b[m\u001b[KISO C++17 does not allow '\u001b[01m\u001b[Kregister\u001b[m\u001b[K' storage class specifier [\u001b[01;35m\u001b[K\u001b]8;;https://gcc.gnu.org/onlinedocs/gcc/Warning-Options.html#index-Wregister\u0007-Wregister\u001b]8;;\u0007\u001b[m\u001b[K]\n",
            "  472 |     register array_type_  \u001b[01;35m\u001b[Kb\u001b[m\u001b[K = array_[node_pos].base;\n",
            "      |                           \u001b[01;35m\u001b[K^\u001b[m\u001b[K\n",
            "\u001b[01m\u001b[Kdarts.h:473:28:\u001b[m\u001b[K \u001b[01;35m\u001b[Kwarning: \u001b[m\u001b[KISO C++17 does not allow '\u001b[01m\u001b[Kregister\u001b[m\u001b[K' storage class specifier [\u001b[01;35m\u001b[K\u001b]8;;https://gcc.gnu.org/onlinedocs/gcc/Warning-Options.html#index-Wregister\u0007-Wregister\u001b]8;;\u0007\u001b[m\u001b[K]\n",
            "  473 |     register array_u_type_ \u001b[01;35m\u001b[Kp\u001b[m\u001b[K;\n",
            "      |                            \u001b[01;35m\u001b[K^\u001b[m\u001b[K\n",
            "In file included from \u001b[01m\u001b[Kdictionary.h:12\u001b[m\u001b[K,\n",
            "                 from \u001b[01m\u001b[Ktokenizer.h:11\u001b[m\u001b[K,\n",
            "                 from \u001b[01m\u001b[Klearner_tagger.h:13\u001b[m\u001b[K,\n",
            "                 from \u001b[01m\u001b[Klearner_tagger.cpp:13\u001b[m\u001b[K:\n",
            "\u001b[01m\u001b[Kchar_property.h:\u001b[m\u001b[K In member function '\u001b[01m\u001b[Kconst char* MeCab::CharProperty::seekToOtherType(const char*, const char*, MeCab::CharInfo, MeCab::CharInfo*, size_t*, size_t*) const\u001b[m\u001b[K':\n",
            "\u001b[01m\u001b[Kchar_property.h:40:26:\u001b[m\u001b[K \u001b[01;35m\u001b[Kwarning: \u001b[m\u001b[KISO C++17 does not allow '\u001b[01m\u001b[Kregister\u001b[m\u001b[K' storage class specifier [\u001b[01;35m\u001b[K\u001b]8;;https://gcc.gnu.org/onlinedocs/gcc/Warning-Options.html#index-Wregister\u0007-Wregister\u001b]8;;\u0007\u001b[m\u001b[K]\n",
            "   40 |     register const char *\u001b[01;35m\u001b[Kp\u001b[m\u001b[K =  begin;\n",
            "      |                          \u001b[01;35m\u001b[K^\u001b[m\u001b[K\n",
            "In file included from \u001b[01m\u001b[Kfeature_index.h:13\u001b[m\u001b[K,\n",
            "                 from \u001b[01m\u001b[Klearner_tagger.h:12\u001b[m\u001b[K,\n",
            "                 from \u001b[01m\u001b[Klearner_tagger.cpp:13\u001b[m\u001b[K:\n",
            "darts.h: In instantiation of '\u001b[01m\u001b[Ksize_t MeCab::Darts::DoubleArrayImpl<node_type_, node_u_type_, array_type_, array_u_type_, length_func_>::commonPrefixSearch(const key_type*, T*, size_t, size_t, size_t) const [with T = MeCab::Darts::DoubleArrayImpl<char, unsigned char, int, unsigned int>::result_pair_type; node_type_ = char; node_u_type_ = unsigned char; array_type_ = int; array_u_type_ = unsigned int; length_func_ = MeCab::Darts::Length<char>; size_t = long unsigned int; MeCab::Darts::DoubleArrayImpl<node_type_, node_u_type_, array_type_, array_u_type_, length_func_>::key_type = char]\u001b[m\u001b[K':\n",
            "\u001b[01m\u001b[Kdictionary.h:37:34:\u001b[m\u001b[K   required from here\n",
            "\u001b[01m\u001b[Kdarts.h:434:27:\u001b[m\u001b[K \u001b[01;35m\u001b[Kwarning: \u001b[m\u001b[KISO C++17 does not allow '\u001b[01m\u001b[Kregister\u001b[m\u001b[K' storage class specifier [\u001b[01;35m\u001b[K\u001b]8;;https://gcc.gnu.org/onlinedocs/gcc/Warning-Options.html#index-Wregister\u0007-Wregister\u001b]8;;\u0007\u001b[m\u001b[K]\n",
            "  434 |     register array_type_  \u001b[01;35m\u001b[Kb\u001b[m\u001b[K   = array_[node_pos].base;\n",
            "      |                           \u001b[01;35m\u001b[K^\u001b[m\u001b[K\n",
            "\u001b[01m\u001b[Kdarts.h:435:25:\u001b[m\u001b[K \u001b[01;35m\u001b[Kwarning: \u001b[m\u001b[KISO C++17 does not allow '\u001b[01m\u001b[Kregister\u001b[m\u001b[K' storage class specifier [\u001b[01;35m\u001b[K\u001b]8;;https://gcc.gnu.org/onlinedocs/gcc/Warning-Options.html#index-Wregister\u0007-Wregister\u001b]8;;\u0007\u001b[m\u001b[K]\n",
            "  435 |     register size_t     \u001b[01;35m\u001b[Knum\u001b[m\u001b[K = 0;\n",
            "      |                         \u001b[01;35m\u001b[K^~~\u001b[m\u001b[K\n",
            "\u001b[01m\u001b[Kdarts.h:436:27:\u001b[m\u001b[K \u001b[01;35m\u001b[Kwarning: \u001b[m\u001b[KISO C++17 does not allow '\u001b[01m\u001b[Kregister\u001b[m\u001b[K' storage class specifier [\u001b[01;35m\u001b[K\u001b]8;;https://gcc.gnu.org/onlinedocs/gcc/Warning-Options.html#index-Wregister\u0007-Wregister\u001b]8;;\u0007\u001b[m\u001b[K]\n",
            "  436 |     register array_type_  \u001b[01;35m\u001b[Kn\u001b[m\u001b[K;\n",
            "      |                           \u001b[01;35m\u001b[K^\u001b[m\u001b[K\n",
            "\u001b[01m\u001b[Kdarts.h:437:28:\u001b[m\u001b[K \u001b[01;35m\u001b[Kwarning: \u001b[m\u001b[KISO C++17 does not allow '\u001b[01m\u001b[Kregister\u001b[m\u001b[K' storage class specifier [\u001b[01;35m\u001b[K\u001b]8;;https://gcc.gnu.org/onlinedocs/gcc/Warning-Options.html#index-Wregister\u0007-Wregister\u001b]8;;\u0007\u001b[m\u001b[K]\n",
            "  437 |     register array_u_type_ \u001b[01;35m\u001b[Kp\u001b[m\u001b[K;\n",
            "      |                            \u001b[01;35m\u001b[K^\u001b[m\u001b[K\n",
            "\u001b[01m\u001b[Kdarts.h:439:26:\u001b[m\u001b[K \u001b[01;35m\u001b[Kwarning: \u001b[m\u001b[KISO C++17 does not allow '\u001b[01m\u001b[Kregister\u001b[m\u001b[K' storage class specifier [\u001b[01;35m\u001b[K\u001b]8;;https://gcc.gnu.org/onlinedocs/gcc/Warning-Options.html#index-Wregister\u0007-Wregister\u001b]8;;\u0007\u001b[m\u001b[K]\n",
            "  439 |     for (register size_t \u001b[01;35m\u001b[Ki\u001b[m\u001b[K = 0; i < len; ++i) {\n",
            "      |                          \u001b[01;35m\u001b[K^\u001b[m\u001b[K\n",
            "darts.h: In instantiation of '\u001b[01m\u001b[KT MeCab::Darts::DoubleArrayImpl<node_type_, node_u_type_, array_type_, array_u_type_, length_func_>::exactMatchSearch(const key_type*, size_t, size_t) const [with T = MeCab::Darts::DoubleArrayImpl<char, unsigned char, int, unsigned int>::result_pair_type; node_type_ = char; node_u_type_ = unsigned char; array_type_ = int; array_u_type_ = unsigned int; length_func_ = MeCab::Darts::Length<char>; MeCab::Darts::DoubleArrayImpl<node_type_, node_u_type_, array_type_, array_u_type_, length_func_>::key_type = char; size_t = long unsigned int]\u001b[m\u001b[K':\n",
            "\u001b[01m\u001b[Kdarts.h:394:33:\u001b[m\u001b[K   required from '\u001b[01m\u001b[Kvoid MeCab::Darts::DoubleArrayImpl<node_type_, node_u_type_, array_type_, array_u_type_, length_func_>::exactMatchSearch(const key_type*, T&, size_t, size_t) const [with T = MeCab::Darts::DoubleArrayImpl<char, unsigned char, int, unsigned int>::result_pair_type; node_type_ = char; node_u_type_ = unsigned char; array_type_ = int; array_u_type_ = unsigned int; length_func_ = MeCab::Darts::Length<char>; MeCab::Darts::DoubleArrayImpl<node_type_, node_u_type_, array_type_, array_u_type_, length_func_>::key_type = char; size_t = long unsigned int]\u001b[m\u001b[K'\n",
            "\u001b[01m\u001b[Kdictionary.h:42:25:\u001b[m\u001b[K   required from here\n",
            "\u001b[01m\u001b[Kdarts.h:407:27:\u001b[m\u001b[K \u001b[01;35m\u001b[Kwarning: \u001b[m\u001b[KISO C++17 does not allow '\u001b[01m\u001b[Kregister\u001b[m\u001b[K' storage class specifier [\u001b[01;35m\u001b[K\u001b]8;;https://gcc.gnu.org/onlinedocs/gcc/Warning-Options.html#index-Wregister\u0007-Wregister\u001b]8;;\u0007\u001b[m\u001b[K]\n",
            "  407 |     register array_type_  \u001b[01;35m\u001b[Kb\u001b[m\u001b[K = array_[node_pos].base;\n",
            "      |                           \u001b[01;35m\u001b[K^\u001b[m\u001b[K\n",
            "\u001b[01m\u001b[Kdarts.h:408:28:\u001b[m\u001b[K \u001b[01;35m\u001b[Kwarning: \u001b[m\u001b[KISO C++17 does not allow '\u001b[01m\u001b[Kregister\u001b[m\u001b[K' storage class specifier [\u001b[01;35m\u001b[K\u001b]8;;https://gcc.gnu.org/onlinedocs/gcc/Warning-Options.html#index-Wregister\u0007-Wregister\u001b]8;;\u0007\u001b[m\u001b[K]\n",
            "  408 |     register array_u_type_ \u001b[01;35m\u001b[Kp\u001b[m\u001b[K;\n",
            "      |                            \u001b[01;35m\u001b[K^\u001b[m\u001b[K\n",
            "\u001b[01m\u001b[Kdarts.h:410:26:\u001b[m\u001b[K \u001b[01;35m\u001b[Kwarning: \u001b[m\u001b[KISO C++17 does not allow '\u001b[01m\u001b[Kregister\u001b[m\u001b[K' storage class specifier [\u001b[01;35m\u001b[K\u001b]8;;https://gcc.gnu.org/onlinedocs/gcc/Warning-Options.html#index-Wregister\u0007-Wregister\u001b]8;;\u0007\u001b[m\u001b[K]\n",
            "  410 |     for (register size_t \u001b[01;35m\u001b[Ki\u001b[m\u001b[K = 0; i < len; ++i) {\n",
            "      |                          \u001b[01;35m\u001b[K^\u001b[m\u001b[K\n",
            "\u001b[01m\u001b[Klearner_tagger.cpp:\u001b[m\u001b[K At global scope:\n",
            "\u001b[01m\u001b[Klearner_tagger.cpp:25:7:\u001b[m\u001b[K \u001b[01;35m\u001b[Kwarning: \u001b[m\u001b[K'\u001b[01m\u001b[Kchar* MeCab::{anonymous}::mystrdup(const string&)\u001b[m\u001b[K' defined but not used [\u001b[01;35m\u001b[K\u001b]8;;https://gcc.gnu.org/onlinedocs/gcc/Warning-Options.html#index-Wunused-function\u0007-Wunused-function\u001b]8;;\u0007\u001b[m\u001b[K]\n",
            "   25 | char *\u001b[01;35m\u001b[Kmystrdup\u001b[m\u001b[K(const std::string &str) {\n",
            "      |       \u001b[01;35m\u001b[K^~~~~~~~\u001b[m\u001b[K\n",
            "libtool: compile:  g++ -DHAVE_CONFIG_H -I. -I.. -DDIC_VERSION=102 -DMECAB_DEFAULT_RC=\\\"/usr/local/etc/mecabrc\\\" -O3 -Wall -c learner_tagger.cpp -o learner_tagger.o >/dev/null 2>&1\n",
            "/bin/bash ../libtool --tag=CXX   --mode=compile g++ -DHAVE_CONFIG_H -I. -I.. -DDIC_VERSION=102   -DMECAB_DEFAULT_RC=\"\\\"/usr/local/etc/mecabrc\\\"\"    -O3 -Wall  -c -o learner.lo learner.cpp\n",
            "libtool: compile:  g++ -DHAVE_CONFIG_H -I. -I.. -DDIC_VERSION=102 -DMECAB_DEFAULT_RC=\\\"/usr/local/etc/mecabrc\\\" -O3 -Wall -c learner.cpp  -fPIC -DPIC -o .libs/learner.o\n",
            "In file included from \u001b[01m\u001b[Kfeature_index.h:13\u001b[m\u001b[K,\n",
            "                 from \u001b[01m\u001b[Klearner.cpp:10\u001b[m\u001b[K:\n",
            "\u001b[01m\u001b[Kdarts.h:\u001b[m\u001b[K In member function '\u001b[01m\u001b[KT MeCab::Darts::DoubleArrayImpl<node_type_, node_u_type_, array_type_, array_u_type_, length_func_>::exactMatchSearch(const key_type*, size_t, size_t) const\u001b[m\u001b[K':\n",
            "\u001b[01m\u001b[Kdarts.h:407:27:\u001b[m\u001b[K \u001b[01;35m\u001b[Kwarning: \u001b[m\u001b[KISO C++17 does not allow '\u001b[01m\u001b[Kregister\u001b[m\u001b[K' storage class specifier [\u001b[01;35m\u001b[K\u001b]8;;https://gcc.gnu.org/onlinedocs/gcc/Warning-Options.html#index-Wregister\u0007-Wregister\u001b]8;;\u0007\u001b[m\u001b[K]\n",
            "  407 |     register array_type_  \u001b[01;35m\u001b[Kb\u001b[m\u001b[K = array_[node_pos].base;\n",
            "      |                           \u001b[01;35m\u001b[K^\u001b[m\u001b[K\n",
            "\u001b[01m\u001b[Kdarts.h:408:28:\u001b[m\u001b[K \u001b[01;35m\u001b[Kwarning: \u001b[m\u001b[KISO C++17 does not allow '\u001b[01m\u001b[Kregister\u001b[m\u001b[K' storage class specifier [\u001b[01;35m\u001b[K\u001b]8;;https://gcc.gnu.org/onlinedocs/gcc/Warning-Options.html#index-Wregister\u0007-Wregister\u001b]8;;\u0007\u001b[m\u001b[K]\n",
            "  408 |     register array_u_type_ \u001b[01;35m\u001b[Kp\u001b[m\u001b[K;\n",
            "      |                            \u001b[01;35m\u001b[K^\u001b[m\u001b[K\n",
            "\u001b[01m\u001b[Kdarts.h:410:26:\u001b[m\u001b[K \u001b[01;35m\u001b[Kwarning: \u001b[m\u001b[KISO C++17 does not allow '\u001b[01m\u001b[Kregister\u001b[m\u001b[K' storage class specifier [\u001b[01;35m\u001b[K\u001b]8;;https://gcc.gnu.org/onlinedocs/gcc/Warning-Options.html#index-Wregister\u0007-Wregister\u001b]8;;\u0007\u001b[m\u001b[K]\n",
            "  410 |     for (register size_t \u001b[01;35m\u001b[Ki\u001b[m\u001b[K = 0; i < len; ++i) {\n",
            "      |                          \u001b[01;35m\u001b[K^\u001b[m\u001b[K\n",
            "\u001b[01m\u001b[Kdarts.h:\u001b[m\u001b[K In member function '\u001b[01m\u001b[Ksize_t MeCab::Darts::DoubleArrayImpl<node_type_, node_u_type_, array_type_, array_u_type_, length_func_>::commonPrefixSearch(const key_type*, T*, size_t, size_t, size_t) const\u001b[m\u001b[K':\n",
            "\u001b[01m\u001b[Kdarts.h:434:27:\u001b[m\u001b[K \u001b[01;35m\u001b[Kwarning: \u001b[m\u001b[KISO C++17 does not allow '\u001b[01m\u001b[Kregister\u001b[m\u001b[K' storage class specifier [\u001b[01;35m\u001b[K\u001b]8;;https://gcc.gnu.org/onlinedocs/gcc/Warning-Options.html#index-Wregister\u0007-Wregister\u001b]8;;\u0007\u001b[m\u001b[K]\n",
            "  434 |     register array_type_  \u001b[01;35m\u001b[Kb\u001b[m\u001b[K   = array_[node_pos].base;\n",
            "      |                           \u001b[01;35m\u001b[K^\u001b[m\u001b[K\n",
            "\u001b[01m\u001b[Kdarts.h:435:25:\u001b[m\u001b[K \u001b[01;35m\u001b[Kwarning: \u001b[m\u001b[KISO C++17 does not allow '\u001b[01m\u001b[Kregister\u001b[m\u001b[K' storage class specifier [\u001b[01;35m\u001b[K\u001b]8;;https://gcc.gnu.org/onlinedocs/gcc/Warning-Options.html#index-Wregister\u0007-Wregister\u001b]8;;\u0007\u001b[m\u001b[K]\n",
            "  435 |     register size_t     \u001b[01;35m\u001b[Knum\u001b[m\u001b[K = 0;\n",
            "      |                         \u001b[01;35m\u001b[K^~~\u001b[m\u001b[K\n",
            "\u001b[01m\u001b[Kdarts.h:436:27:\u001b[m\u001b[K \u001b[01;35m\u001b[Kwarning: \u001b[m\u001b[KISO C++17 does not allow '\u001b[01m\u001b[Kregister\u001b[m\u001b[K' storage class specifier [\u001b[01;35m\u001b[K\u001b]8;;https://gcc.gnu.org/onlinedocs/gcc/Warning-Options.html#index-Wregister\u0007-Wregister\u001b]8;;\u0007\u001b[m\u001b[K]\n",
            "  436 |     register array_type_  \u001b[01;35m\u001b[Kn\u001b[m\u001b[K;\n",
            "      |                           \u001b[01;35m\u001b[K^\u001b[m\u001b[K\n",
            "\u001b[01m\u001b[Kdarts.h:437:28:\u001b[m\u001b[K \u001b[01;35m\u001b[Kwarning: \u001b[m\u001b[KISO C++17 does not allow '\u001b[01m\u001b[Kregister\u001b[m\u001b[K' storage class specifier [\u001b[01;35m\u001b[K\u001b]8;;https://gcc.gnu.org/onlinedocs/gcc/Warning-Options.html#index-Wregister\u0007-Wregister\u001b]8;;\u0007\u001b[m\u001b[K]\n",
            "  437 |     register array_u_type_ \u001b[01;35m\u001b[Kp\u001b[m\u001b[K;\n",
            "      |                            \u001b[01;35m\u001b[K^\u001b[m\u001b[K\n",
            "\u001b[01m\u001b[Kdarts.h:439:26:\u001b[m\u001b[K \u001b[01;35m\u001b[Kwarning: \u001b[m\u001b[KISO C++17 does not allow '\u001b[01m\u001b[Kregister\u001b[m\u001b[K' storage class specifier [\u001b[01;35m\u001b[K\u001b]8;;https://gcc.gnu.org/onlinedocs/gcc/Warning-Options.html#index-Wregister\u0007-Wregister\u001b]8;;\u0007\u001b[m\u001b[K]\n",
            "  439 |     for (register size_t \u001b[01;35m\u001b[Ki\u001b[m\u001b[K = 0; i < len; ++i) {\n",
            "      |                          \u001b[01;35m\u001b[K^\u001b[m\u001b[K\n",
            "\u001b[01m\u001b[Kdarts.h:\u001b[m\u001b[K In member function '\u001b[01m\u001b[KMeCab::Darts::DoubleArrayImpl<node_type_, node_u_type_, array_type_, array_u_type_, length_func_>::value_type MeCab::Darts::DoubleArrayImpl<node_type_, node_u_type_, array_type_, array_u_type_, length_func_>::traverse(const key_type*, size_t&, size_t&, size_t) const\u001b[m\u001b[K':\n",
            "\u001b[01m\u001b[Kdarts.h:472:27:\u001b[m\u001b[K \u001b[01;35m\u001b[Kwarning: \u001b[m\u001b[KISO C++17 does not allow '\u001b[01m\u001b[Kregister\u001b[m\u001b[K' storage class specifier [\u001b[01;35m\u001b[K\u001b]8;;https://gcc.gnu.org/onlinedocs/gcc/Warning-Options.html#index-Wregister\u0007-Wregister\u001b]8;;\u0007\u001b[m\u001b[K]\n",
            "  472 |     register array_type_  \u001b[01;35m\u001b[Kb\u001b[m\u001b[K = array_[node_pos].base;\n",
            "      |                           \u001b[01;35m\u001b[K^\u001b[m\u001b[K\n",
            "\u001b[01m\u001b[Kdarts.h:473:28:\u001b[m\u001b[K \u001b[01;35m\u001b[Kwarning: \u001b[m\u001b[KISO C++17 does not allow '\u001b[01m\u001b[Kregister\u001b[m\u001b[K' storage class specifier [\u001b[01;35m\u001b[K\u001b]8;;https://gcc.gnu.org/onlinedocs/gcc/Warning-Options.html#index-Wregister\u0007-Wregister\u001b]8;;\u0007\u001b[m\u001b[K]\n",
            "  473 |     register array_u_type_ \u001b[01;35m\u001b[Kp\u001b[m\u001b[K;\n",
            "      |                            \u001b[01;35m\u001b[K^\u001b[m\u001b[K\n",
            "In file included from \u001b[01m\u001b[Kdictionary.h:12\u001b[m\u001b[K,\n",
            "                 from \u001b[01m\u001b[Ktokenizer.h:11\u001b[m\u001b[K,\n",
            "                 from \u001b[01m\u001b[Klearner_tagger.h:13\u001b[m\u001b[K,\n",
            "                 from \u001b[01m\u001b[Klearner.cpp:13\u001b[m\u001b[K:\n",
            "\u001b[01m\u001b[Kchar_property.h:\u001b[m\u001b[K In member function '\u001b[01m\u001b[Kconst char* MeCab::CharProperty::seekToOtherType(const char*, const char*, MeCab::CharInfo, MeCab::CharInfo*, size_t*, size_t*) const\u001b[m\u001b[K':\n",
            "\u001b[01m\u001b[Kchar_property.h:40:26:\u001b[m\u001b[K \u001b[01;35m\u001b[Kwarning: \u001b[m\u001b[KISO C++17 does not allow '\u001b[01m\u001b[Kregister\u001b[m\u001b[K' storage class specifier [\u001b[01;35m\u001b[K\u001b]8;;https://gcc.gnu.org/onlinedocs/gcc/Warning-Options.html#index-Wregister\u0007-Wregister\u001b]8;;\u0007\u001b[m\u001b[K]\n",
            "   40 |     register const char *\u001b[01;35m\u001b[Kp\u001b[m\u001b[K =  begin;\n",
            "      |                          \u001b[01;35m\u001b[K^\u001b[m\u001b[K\n",
            "In file included from \u001b[01m\u001b[Kfeature_index.h:13\u001b[m\u001b[K,\n",
            "                 from \u001b[01m\u001b[Klearner.cpp:10\u001b[m\u001b[K:\n",
            "darts.h: In instantiation of '\u001b[01m\u001b[Ksize_t MeCab::Darts::DoubleArrayImpl<node_type_, node_u_type_, array_type_, array_u_type_, length_func_>::commonPrefixSearch(const key_type*, T*, size_t, size_t, size_t) const [with T = MeCab::Darts::DoubleArrayImpl<char, unsigned char, int, unsigned int>::result_pair_type; node_type_ = char; node_u_type_ = unsigned char; array_type_ = int; array_u_type_ = unsigned int; length_func_ = MeCab::Darts::Length<char>; size_t = long unsigned int; MeCab::Darts::DoubleArrayImpl<node_type_, node_u_type_, array_type_, array_u_type_, length_func_>::key_type = char]\u001b[m\u001b[K':\n",
            "\u001b[01m\u001b[Kdictionary.h:37:34:\u001b[m\u001b[K   required from here\n",
            "\u001b[01m\u001b[Kdarts.h:434:27:\u001b[m\u001b[K \u001b[01;35m\u001b[Kwarning: \u001b[m\u001b[KISO C++17 does not allow '\u001b[01m\u001b[Kregister\u001b[m\u001b[K' storage class specifier [\u001b[01;35m\u001b[K\u001b]8;;https://gcc.gnu.org/onlinedocs/gcc/Warning-Options.html#index-Wregister\u0007-Wregister\u001b]8;;\u0007\u001b[m\u001b[K]\n",
            "  434 |     register array_type_  \u001b[01;35m\u001b[Kb\u001b[m\u001b[K   = array_[node_pos].base;\n",
            "      |                           \u001b[01;35m\u001b[K^\u001b[m\u001b[K\n",
            "\u001b[01m\u001b[Kdarts.h:435:25:\u001b[m\u001b[K \u001b[01;35m\u001b[Kwarning: \u001b[m\u001b[KISO C++17 does not allow '\u001b[01m\u001b[Kregister\u001b[m\u001b[K' storage class specifier [\u001b[01;35m\u001b[K\u001b]8;;https://gcc.gnu.org/onlinedocs/gcc/Warning-Options.html#index-Wregister\u0007-Wregister\u001b]8;;\u0007\u001b[m\u001b[K]\n",
            "  435 |     register size_t     \u001b[01;35m\u001b[Knum\u001b[m\u001b[K = 0;\n",
            "      |                         \u001b[01;35m\u001b[K^~~\u001b[m\u001b[K\n",
            "\u001b[01m\u001b[Kdarts.h:436:27:\u001b[m\u001b[K \u001b[01;35m\u001b[Kwarning: \u001b[m\u001b[KISO C++17 does not allow '\u001b[01m\u001b[Kregister\u001b[m\u001b[K' storage class specifier [\u001b[01;35m\u001b[K\u001b]8;;https://gcc.gnu.org/onlinedocs/gcc/Warning-Options.html#index-Wregister\u0007-Wregister\u001b]8;;\u0007\u001b[m\u001b[K]\n",
            "  436 |     register array_type_  \u001b[01;35m\u001b[Kn\u001b[m\u001b[K;\n",
            "      |                           \u001b[01;35m\u001b[K^\u001b[m\u001b[K\n",
            "\u001b[01m\u001b[Kdarts.h:437:28:\u001b[m\u001b[K \u001b[01;35m\u001b[Kwarning: \u001b[m\u001b[KISO C++17 does not allow '\u001b[01m\u001b[Kregister\u001b[m\u001b[K' storage class specifier [\u001b[01;35m\u001b[K\u001b]8;;https://gcc.gnu.org/onlinedocs/gcc/Warning-Options.html#index-Wregister\u0007-Wregister\u001b]8;;\u0007\u001b[m\u001b[K]\n",
            "  437 |     register array_u_type_ \u001b[01;35m\u001b[Kp\u001b[m\u001b[K;\n",
            "      |                            \u001b[01;35m\u001b[K^\u001b[m\u001b[K\n",
            "\u001b[01m\u001b[Kdarts.h:439:26:\u001b[m\u001b[K \u001b[01;35m\u001b[Kwarning: \u001b[m\u001b[KISO C++17 does not allow '\u001b[01m\u001b[Kregister\u001b[m\u001b[K' storage class specifier [\u001b[01;35m\u001b[K\u001b]8;;https://gcc.gnu.org/onlinedocs/gcc/Warning-Options.html#index-Wregister\u0007-Wregister\u001b]8;;\u0007\u001b[m\u001b[K]\n",
            "  439 |     for (register size_t \u001b[01;35m\u001b[Ki\u001b[m\u001b[K = 0; i < len; ++i) {\n",
            "      |                          \u001b[01;35m\u001b[K^\u001b[m\u001b[K\n",
            "darts.h: In instantiation of '\u001b[01m\u001b[KT MeCab::Darts::DoubleArrayImpl<node_type_, node_u_type_, array_type_, array_u_type_, length_func_>::exactMatchSearch(const key_type*, size_t, size_t) const [with T = MeCab::Darts::DoubleArrayImpl<char, unsigned char, int, unsigned int>::result_pair_type; node_type_ = char; node_u_type_ = unsigned char; array_type_ = int; array_u_type_ = unsigned int; length_func_ = MeCab::Darts::Length<char>; MeCab::Darts::DoubleArrayImpl<node_type_, node_u_type_, array_type_, array_u_type_, length_func_>::key_type = char; size_t = long unsigned int]\u001b[m\u001b[K':\n",
            "\u001b[01m\u001b[Kdarts.h:394:33:\u001b[m\u001b[K   required from '\u001b[01m\u001b[Kvoid MeCab::Darts::DoubleArrayImpl<node_type_, node_u_type_, array_type_, array_u_type_, length_func_>::exactMatchSearch(const key_type*, T&, size_t, size_t) const [with T = MeCab::Darts::DoubleArrayImpl<char, unsigned char, int, unsigned int>::result_pair_type; node_type_ = char; node_u_type_ = unsigned char; array_type_ = int; array_u_type_ = unsigned int; length_func_ = MeCab::Darts::Length<char>; MeCab::Darts::DoubleArrayImpl<node_type_, node_u_type_, array_type_, array_u_type_, length_func_>::key_type = char; size_t = long unsigned int]\u001b[m\u001b[K'\n",
            "\u001b[01m\u001b[Kdictionary.h:42:25:\u001b[m\u001b[K   required from here\n",
            "\u001b[01m\u001b[Kdarts.h:407:27:\u001b[m\u001b[K \u001b[01;35m\u001b[Kwarning: \u001b[m\u001b[KISO C++17 does not allow '\u001b[01m\u001b[Kregister\u001b[m\u001b[K' storage class specifier [\u001b[01;35m\u001b[K\u001b]8;;https://gcc.gnu.org/onlinedocs/gcc/Warning-Options.html#index-Wregister\u0007-Wregister\u001b]8;;\u0007\u001b[m\u001b[K]\n",
            "  407 |     register array_type_  \u001b[01;35m\u001b[Kb\u001b[m\u001b[K = array_[node_pos].base;\n",
            "      |                           \u001b[01;35m\u001b[K^\u001b[m\u001b[K\n",
            "\u001b[01m\u001b[Kdarts.h:408:28:\u001b[m\u001b[K \u001b[01;35m\u001b[Kwarning: \u001b[m\u001b[KISO C++17 does not allow '\u001b[01m\u001b[Kregister\u001b[m\u001b[K' storage class specifier [\u001b[01;35m\u001b[K\u001b]8;;https://gcc.gnu.org/onlinedocs/gcc/Warning-Options.html#index-Wregister\u0007-Wregister\u001b]8;;\u0007\u001b[m\u001b[K]\n",
            "  408 |     register array_u_type_ \u001b[01;35m\u001b[Kp\u001b[m\u001b[K;\n",
            "      |                            \u001b[01;35m\u001b[K^\u001b[m\u001b[K\n",
            "\u001b[01m\u001b[Kdarts.h:410:26:\u001b[m\u001b[K \u001b[01;35m\u001b[Kwarning: \u001b[m\u001b[KISO C++17 does not allow '\u001b[01m\u001b[Kregister\u001b[m\u001b[K' storage class specifier [\u001b[01;35m\u001b[K\u001b]8;;https://gcc.gnu.org/onlinedocs/gcc/Warning-Options.html#index-Wregister\u0007-Wregister\u001b]8;;\u0007\u001b[m\u001b[K]\n",
            "  410 |     for (register size_t \u001b[01;35m\u001b[Ki\u001b[m\u001b[K = 0; i < len; ++i) {\n",
            "      |                          \u001b[01;35m\u001b[K^\u001b[m\u001b[K\n",
            "libtool: compile:  g++ -DHAVE_CONFIG_H -I. -I.. -DDIC_VERSION=102 -DMECAB_DEFAULT_RC=\\\"/usr/local/etc/mecabrc\\\" -O3 -Wall -c learner.cpp -o learner.o >/dev/null 2>&1\n",
            "/bin/bash ../libtool --tag=CXX   --mode=compile g++ -DHAVE_CONFIG_H -I. -I.. -DDIC_VERSION=102   -DMECAB_DEFAULT_RC=\"\\\"/usr/local/etc/mecabrc\\\"\"    -O3 -Wall  -c -o libmecab.lo libmecab.cpp\n",
            "libtool: compile:  g++ -DHAVE_CONFIG_H -I. -I.. -DDIC_VERSION=102 -DMECAB_DEFAULT_RC=\\\"/usr/local/etc/mecabrc\\\" -O3 -Wall -c libmecab.cpp  -fPIC -DPIC -o .libs/libmecab.o\n",
            "In file included from \u001b[01m\u001b[Kdictionary.h:11\u001b[m\u001b[K,\n",
            "                 from \u001b[01m\u001b[Ktokenizer.h:11\u001b[m\u001b[K,\n",
            "                 from \u001b[01m\u001b[Klibmecab.cpp:11\u001b[m\u001b[K:\n",
            "\u001b[01m\u001b[Kdarts.h:\u001b[m\u001b[K In member function '\u001b[01m\u001b[KT MeCab::Darts::DoubleArrayImpl<node_type_, node_u_type_, array_type_, array_u_type_, length_func_>::exactMatchSearch(const key_type*, size_t, size_t) const\u001b[m\u001b[K':\n",
            "\u001b[01m\u001b[Kdarts.h:407:27:\u001b[m\u001b[K \u001b[01;35m\u001b[Kwarning: \u001b[m\u001b[KISO C++17 does not allow '\u001b[01m\u001b[Kregister\u001b[m\u001b[K' storage class specifier [\u001b[01;35m\u001b[K\u001b]8;;https://gcc.gnu.org/onlinedocs/gcc/Warning-Options.html#index-Wregister\u0007-Wregister\u001b]8;;\u0007\u001b[m\u001b[K]\n",
            "  407 |     register array_type_  \u001b[01;35m\u001b[Kb\u001b[m\u001b[K = array_[node_pos].base;\n",
            "      |                           \u001b[01;35m\u001b[K^\u001b[m\u001b[K\n",
            "\u001b[01m\u001b[Kdarts.h:408:28:\u001b[m\u001b[K \u001b[01;35m\u001b[Kwarning: \u001b[m\u001b[KISO C++17 does not allow '\u001b[01m\u001b[Kregister\u001b[m\u001b[K' storage class specifier [\u001b[01;35m\u001b[K\u001b]8;;https://gcc.gnu.org/onlinedocs/gcc/Warning-Options.html#index-Wregister\u0007-Wregister\u001b]8;;\u0007\u001b[m\u001b[K]\n",
            "  408 |     register array_u_type_ \u001b[01;35m\u001b[Kp\u001b[m\u001b[K;\n",
            "      |                            \u001b[01;35m\u001b[K^\u001b[m\u001b[K\n",
            "\u001b[01m\u001b[Kdarts.h:410:26:\u001b[m\u001b[K \u001b[01;35m\u001b[Kwarning: \u001b[m\u001b[KISO C++17 does not allow '\u001b[01m\u001b[Kregister\u001b[m\u001b[K' storage class specifier [\u001b[01;35m\u001b[K\u001b]8;;https://gcc.gnu.org/onlinedocs/gcc/Warning-Options.html#index-Wregister\u0007-Wregister\u001b]8;;\u0007\u001b[m\u001b[K]\n",
            "  410 |     for (register size_t \u001b[01;35m\u001b[Ki\u001b[m\u001b[K = 0; i < len; ++i) {\n",
            "      |                          \u001b[01;35m\u001b[K^\u001b[m\u001b[K\n",
            "\u001b[01m\u001b[Kdarts.h:\u001b[m\u001b[K In member function '\u001b[01m\u001b[Ksize_t MeCab::Darts::DoubleArrayImpl<node_type_, node_u_type_, array_type_, array_u_type_, length_func_>::commonPrefixSearch(const key_type*, T*, size_t, size_t, size_t) const\u001b[m\u001b[K':\n",
            "\u001b[01m\u001b[Kdarts.h:434:27:\u001b[m\u001b[K \u001b[01;35m\u001b[Kwarning: \u001b[m\u001b[KISO C++17 does not allow '\u001b[01m\u001b[Kregister\u001b[m\u001b[K' storage class specifier [\u001b[01;35m\u001b[K\u001b]8;;https://gcc.gnu.org/onlinedocs/gcc/Warning-Options.html#index-Wregister\u0007-Wregister\u001b]8;;\u0007\u001b[m\u001b[K]\n",
            "  434 |     register array_type_  \u001b[01;35m\u001b[Kb\u001b[m\u001b[K   = array_[node_pos].base;\n",
            "      |                           \u001b[01;35m\u001b[K^\u001b[m\u001b[K\n",
            "\u001b[01m\u001b[Kdarts.h:435:25:\u001b[m\u001b[K \u001b[01;35m\u001b[Kwarning: \u001b[m\u001b[KISO C++17 does not allow '\u001b[01m\u001b[Kregister\u001b[m\u001b[K' storage class specifier [\u001b[01;35m\u001b[K\u001b]8;;https://gcc.gnu.org/onlinedocs/gcc/Warning-Options.html#index-Wregister\u0007-Wregister\u001b]8;;\u0007\u001b[m\u001b[K]\n",
            "  435 |     register size_t     \u001b[01;35m\u001b[Knum\u001b[m\u001b[K = 0;\n",
            "      |                         \u001b[01;35m\u001b[K^~~\u001b[m\u001b[K\n",
            "\u001b[01m\u001b[Kdarts.h:436:27:\u001b[m\u001b[K \u001b[01;35m\u001b[Kwarning: \u001b[m\u001b[KISO C++17 does not allow '\u001b[01m\u001b[Kregister\u001b[m\u001b[K' storage class specifier [\u001b[01;35m\u001b[K\u001b]8;;https://gcc.gnu.org/onlinedocs/gcc/Warning-Options.html#index-Wregister\u0007-Wregister\u001b]8;;\u0007\u001b[m\u001b[K]\n",
            "  436 |     register array_type_  \u001b[01;35m\u001b[Kn\u001b[m\u001b[K;\n",
            "      |                           \u001b[01;35m\u001b[K^\u001b[m\u001b[K\n",
            "\u001b[01m\u001b[Kdarts.h:437:28:\u001b[m\u001b[K \u001b[01;35m\u001b[Kwarning: \u001b[m\u001b[KISO C++17 does not allow '\u001b[01m\u001b[Kregister\u001b[m\u001b[K' storage class specifier [\u001b[01;35m\u001b[K\u001b]8;;https://gcc.gnu.org/onlinedocs/gcc/Warning-Options.html#index-Wregister\u0007-Wregister\u001b]8;;\u0007\u001b[m\u001b[K]\n",
            "  437 |     register array_u_type_ \u001b[01;35m\u001b[Kp\u001b[m\u001b[K;\n",
            "      |                            \u001b[01;35m\u001b[K^\u001b[m\u001b[K\n",
            "\u001b[01m\u001b[Kdarts.h:439:26:\u001b[m\u001b[K \u001b[01;35m\u001b[Kwarning: \u001b[m\u001b[KISO C++17 does not allow '\u001b[01m\u001b[Kregister\u001b[m\u001b[K' storage class specifier [\u001b[01;35m\u001b[K\u001b]8;;https://gcc.gnu.org/onlinedocs/gcc/Warning-Options.html#index-Wregister\u0007-Wregister\u001b]8;;\u0007\u001b[m\u001b[K]\n",
            "  439 |     for (register size_t \u001b[01;35m\u001b[Ki\u001b[m\u001b[K = 0; i < len; ++i) {\n",
            "      |                          \u001b[01;35m\u001b[K^\u001b[m\u001b[K\n",
            "\u001b[01m\u001b[Kdarts.h:\u001b[m\u001b[K In member function '\u001b[01m\u001b[KMeCab::Darts::DoubleArrayImpl<node_type_, node_u_type_, array_type_, array_u_type_, length_func_>::value_type MeCab::Darts::DoubleArrayImpl<node_type_, node_u_type_, array_type_, array_u_type_, length_func_>::traverse(const key_type*, size_t&, size_t&, size_t) const\u001b[m\u001b[K':\n",
            "\u001b[01m\u001b[Kdarts.h:472:27:\u001b[m\u001b[K \u001b[01;35m\u001b[Kwarning: \u001b[m\u001b[KISO C++17 does not allow '\u001b[01m\u001b[Kregister\u001b[m\u001b[K' storage class specifier [\u001b[01;35m\u001b[K\u001b]8;;https://gcc.gnu.org/onlinedocs/gcc/Warning-Options.html#index-Wregister\u0007-Wregister\u001b]8;;\u0007\u001b[m\u001b[K]\n",
            "  472 |     register array_type_  \u001b[01;35m\u001b[Kb\u001b[m\u001b[K = array_[node_pos].base;\n",
            "      |                           \u001b[01;35m\u001b[K^\u001b[m\u001b[K\n",
            "\u001b[01m\u001b[Kdarts.h:473:28:\u001b[m\u001b[K \u001b[01;35m\u001b[Kwarning: \u001b[m\u001b[KISO C++17 does not allow '\u001b[01m\u001b[Kregister\u001b[m\u001b[K' storage class specifier [\u001b[01;35m\u001b[K\u001b]8;;https://gcc.gnu.org/onlinedocs/gcc/Warning-Options.html#index-Wregister\u0007-Wregister\u001b]8;;\u0007\u001b[m\u001b[K]\n",
            "  473 |     register array_u_type_ \u001b[01;35m\u001b[Kp\u001b[m\u001b[K;\n",
            "      |                            \u001b[01;35m\u001b[K^\u001b[m\u001b[K\n",
            "In file included from \u001b[01m\u001b[Kdictionary.h:12\u001b[m\u001b[K,\n",
            "                 from \u001b[01m\u001b[Ktokenizer.h:11\u001b[m\u001b[K,\n",
            "                 from \u001b[01m\u001b[Klibmecab.cpp:11\u001b[m\u001b[K:\n",
            "\u001b[01m\u001b[Kchar_property.h:\u001b[m\u001b[K In member function '\u001b[01m\u001b[Kconst char* MeCab::CharProperty::seekToOtherType(const char*, const char*, MeCab::CharInfo, MeCab::CharInfo*, size_t*, size_t*) const\u001b[m\u001b[K':\n",
            "\u001b[01m\u001b[Kchar_property.h:40:26:\u001b[m\u001b[K \u001b[01;35m\u001b[Kwarning: \u001b[m\u001b[KISO C++17 does not allow '\u001b[01m\u001b[Kregister\u001b[m\u001b[K' storage class specifier [\u001b[01;35m\u001b[K\u001b]8;;https://gcc.gnu.org/onlinedocs/gcc/Warning-Options.html#index-Wregister\u0007-Wregister\u001b]8;;\u0007\u001b[m\u001b[K]\n",
            "   40 |     register const char *\u001b[01;35m\u001b[Kp\u001b[m\u001b[K =  begin;\n",
            "      |                          \u001b[01;35m\u001b[K^\u001b[m\u001b[K\n",
            "In file included from \u001b[01m\u001b[Kdictionary.h:11\u001b[m\u001b[K,\n",
            "                 from \u001b[01m\u001b[Ktokenizer.h:11\u001b[m\u001b[K,\n",
            "                 from \u001b[01m\u001b[Klibmecab.cpp:11\u001b[m\u001b[K:\n",
            "darts.h: In instantiation of '\u001b[01m\u001b[Ksize_t MeCab::Darts::DoubleArrayImpl<node_type_, node_u_type_, array_type_, array_u_type_, length_func_>::commonPrefixSearch(const key_type*, T*, size_t, size_t, size_t) const [with T = MeCab::Darts::DoubleArrayImpl<char, unsigned char, int, unsigned int>::result_pair_type; node_type_ = char; node_u_type_ = unsigned char; array_type_ = int; array_u_type_ = unsigned int; length_func_ = MeCab::Darts::Length<char>; size_t = long unsigned int; MeCab::Darts::DoubleArrayImpl<node_type_, node_u_type_, array_type_, array_u_type_, length_func_>::key_type = char]\u001b[m\u001b[K':\n",
            "\u001b[01m\u001b[Kdictionary.h:37:34:\u001b[m\u001b[K   required from here\n",
            "\u001b[01m\u001b[Kdarts.h:434:27:\u001b[m\u001b[K \u001b[01;35m\u001b[Kwarning: \u001b[m\u001b[KISO C++17 does not allow '\u001b[01m\u001b[Kregister\u001b[m\u001b[K' storage class specifier [\u001b[01;35m\u001b[K\u001b]8;;https://gcc.gnu.org/onlinedocs/gcc/Warning-Options.html#index-Wregister\u0007-Wregister\u001b]8;;\u0007\u001b[m\u001b[K]\n",
            "  434 |     register array_type_  \u001b[01;35m\u001b[Kb\u001b[m\u001b[K   = array_[node_pos].base;\n",
            "      |                           \u001b[01;35m\u001b[K^\u001b[m\u001b[K\n",
            "\u001b[01m\u001b[Kdarts.h:435:25:\u001b[m\u001b[K \u001b[01;35m\u001b[Kwarning: \u001b[m\u001b[KISO C++17 does not allow '\u001b[01m\u001b[Kregister\u001b[m\u001b[K' storage class specifier [\u001b[01;35m\u001b[K\u001b]8;;https://gcc.gnu.org/onlinedocs/gcc/Warning-Options.html#index-Wregister\u0007-Wregister\u001b]8;;\u0007\u001b[m\u001b[K]\n",
            "  435 |     register size_t     \u001b[01;35m\u001b[Knum\u001b[m\u001b[K = 0;\n",
            "      |                         \u001b[01;35m\u001b[K^~~\u001b[m\u001b[K\n",
            "\u001b[01m\u001b[Kdarts.h:436:27:\u001b[m\u001b[K \u001b[01;35m\u001b[Kwarning: \u001b[m\u001b[KISO C++17 does not allow '\u001b[01m\u001b[Kregister\u001b[m\u001b[K' storage class specifier [\u001b[01;35m\u001b[K\u001b]8;;https://gcc.gnu.org/onlinedocs/gcc/Warning-Options.html#index-Wregister\u0007-Wregister\u001b]8;;\u0007\u001b[m\u001b[K]\n",
            "  436 |     register array_type_  \u001b[01;35m\u001b[Kn\u001b[m\u001b[K;\n",
            "      |                           \u001b[01;35m\u001b[K^\u001b[m\u001b[K\n",
            "\u001b[01m\u001b[Kdarts.h:437:28:\u001b[m\u001b[K \u001b[01;35m\u001b[Kwarning: \u001b[m\u001b[KISO C++17 does not allow '\u001b[01m\u001b[Kregister\u001b[m\u001b[K' storage class specifier [\u001b[01;35m\u001b[K\u001b]8;;https://gcc.gnu.org/onlinedocs/gcc/Warning-Options.html#index-Wregister\u0007-Wregister\u001b]8;;\u0007\u001b[m\u001b[K]\n",
            "  437 |     register array_u_type_ \u001b[01;35m\u001b[Kp\u001b[m\u001b[K;\n",
            "      |                            \u001b[01;35m\u001b[K^\u001b[m\u001b[K\n",
            "\u001b[01m\u001b[Kdarts.h:439:26:\u001b[m\u001b[K \u001b[01;35m\u001b[Kwarning: \u001b[m\u001b[KISO C++17 does not allow '\u001b[01m\u001b[Kregister\u001b[m\u001b[K' storage class specifier [\u001b[01;35m\u001b[K\u001b]8;;https://gcc.gnu.org/onlinedocs/gcc/Warning-Options.html#index-Wregister\u0007-Wregister\u001b]8;;\u0007\u001b[m\u001b[K]\n",
            "  439 |     for (register size_t \u001b[01;35m\u001b[Ki\u001b[m\u001b[K = 0; i < len; ++i) {\n",
            "      |                          \u001b[01;35m\u001b[K^\u001b[m\u001b[K\n",
            "darts.h: In instantiation of '\u001b[01m\u001b[KT MeCab::Darts::DoubleArrayImpl<node_type_, node_u_type_, array_type_, array_u_type_, length_func_>::exactMatchSearch(const key_type*, size_t, size_t) const [with T = MeCab::Darts::DoubleArrayImpl<char, unsigned char, int, unsigned int>::result_pair_type; node_type_ = char; node_u_type_ = unsigned char; array_type_ = int; array_u_type_ = unsigned int; length_func_ = MeCab::Darts::Length<char>; MeCab::Darts::DoubleArrayImpl<node_type_, node_u_type_, array_type_, array_u_type_, length_func_>::key_type = char; size_t = long unsigned int]\u001b[m\u001b[K':\n",
            "\u001b[01m\u001b[Kdarts.h:394:33:\u001b[m\u001b[K   required from '\u001b[01m\u001b[Kvoid MeCab::Darts::DoubleArrayImpl<node_type_, node_u_type_, array_type_, array_u_type_, length_func_>::exactMatchSearch(const key_type*, T&, size_t, size_t) const [with T = MeCab::Darts::DoubleArrayImpl<char, unsigned char, int, unsigned int>::result_pair_type; node_type_ = char; node_u_type_ = unsigned char; array_type_ = int; array_u_type_ = unsigned int; length_func_ = MeCab::Darts::Length<char>; MeCab::Darts::DoubleArrayImpl<node_type_, node_u_type_, array_type_, array_u_type_, length_func_>::key_type = char; size_t = long unsigned int]\u001b[m\u001b[K'\n",
            "\u001b[01m\u001b[Kdictionary.h:42:25:\u001b[m\u001b[K   required from here\n",
            "\u001b[01m\u001b[Kdarts.h:407:27:\u001b[m\u001b[K \u001b[01;35m\u001b[Kwarning: \u001b[m\u001b[KISO C++17 does not allow '\u001b[01m\u001b[Kregister\u001b[m\u001b[K' storage class specifier [\u001b[01;35m\u001b[K\u001b]8;;https://gcc.gnu.org/onlinedocs/gcc/Warning-Options.html#index-Wregister\u0007-Wregister\u001b]8;;\u0007\u001b[m\u001b[K]\n",
            "  407 |     register array_type_  \u001b[01;35m\u001b[Kb\u001b[m\u001b[K = array_[node_pos].base;\n",
            "      |                           \u001b[01;35m\u001b[K^\u001b[m\u001b[K\n",
            "\u001b[01m\u001b[Kdarts.h:408:28:\u001b[m\u001b[K \u001b[01;35m\u001b[Kwarning: \u001b[m\u001b[KISO C++17 does not allow '\u001b[01m\u001b[Kregister\u001b[m\u001b[K' storage class specifier [\u001b[01;35m\u001b[K\u001b]8;;https://gcc.gnu.org/onlinedocs/gcc/Warning-Options.html#index-Wregister\u0007-Wregister\u001b]8;;\u0007\u001b[m\u001b[K]\n",
            "  408 |     register array_u_type_ \u001b[01;35m\u001b[Kp\u001b[m\u001b[K;\n",
            "      |                            \u001b[01;35m\u001b[K^\u001b[m\u001b[K\n",
            "\u001b[01m\u001b[Kdarts.h:410:26:\u001b[m\u001b[K \u001b[01;35m\u001b[Kwarning: \u001b[m\u001b[KISO C++17 does not allow '\u001b[01m\u001b[Kregister\u001b[m\u001b[K' storage class specifier [\u001b[01;35m\u001b[K\u001b]8;;https://gcc.gnu.org/onlinedocs/gcc/Warning-Options.html#index-Wregister\u0007-Wregister\u001b]8;;\u0007\u001b[m\u001b[K]\n",
            "  410 |     for (register size_t \u001b[01;35m\u001b[Ki\u001b[m\u001b[K = 0; i < len; ++i) {\n",
            "      |                          \u001b[01;35m\u001b[K^\u001b[m\u001b[K\n",
            "libtool: compile:  g++ -DHAVE_CONFIG_H -I. -I.. -DDIC_VERSION=102 -DMECAB_DEFAULT_RC=\\\"/usr/local/etc/mecabrc\\\" -O3 -Wall -c libmecab.cpp -o libmecab.o >/dev/null 2>&1\n",
            "/bin/bash ../libtool --tag=CXX   --mode=link g++  -O3 -Wall  -no-undefined -version-info 2:0:0  -o libmecab.la -rpath /usr/local/lib viterbi.lo tagger.lo utils.lo eval.lo iconv_utils.lo dictionary_rewriter.lo dictionary_generator.lo dictionary_compiler.lo context_id.lo connector.lo nbest_generator.lo writer.lo string_buffer.lo param.lo tokenizer.lo char_property.lo dictionary.lo feature_index.lo lbfgs.lo learner_tagger.lo learner.lo libmecab.lo  -lpthread -lpthread  -lstdc++ \n",
            "libtool: link: g++  -fPIC -DPIC -shared -nostdlib /usr/lib/gcc/x86_64-linux-gnu/11/../../../x86_64-linux-gnu/crti.o /usr/lib/gcc/x86_64-linux-gnu/11/crtbeginS.o  .libs/viterbi.o .libs/tagger.o .libs/utils.o .libs/eval.o .libs/iconv_utils.o .libs/dictionary_rewriter.o .libs/dictionary_generator.o .libs/dictionary_compiler.o .libs/context_id.o .libs/connector.o .libs/nbest_generator.o .libs/writer.o .libs/string_buffer.o .libs/param.o .libs/tokenizer.o .libs/char_property.o .libs/dictionary.o .libs/feature_index.o .libs/lbfgs.o .libs/learner_tagger.o .libs/learner.o .libs/libmecab.o   -lpthread -L/usr/lib/gcc/x86_64-linux-gnu/11 -L/usr/lib/gcc/x86_64-linux-gnu/11/../../../x86_64-linux-gnu -L/usr/lib/gcc/x86_64-linux-gnu/11/../../../../lib -L/lib/x86_64-linux-gnu -L/lib/../lib -L/usr/lib/x86_64-linux-gnu -L/usr/lib/../lib -L/usr/local/cuda/lib64/stubs -L/usr/lib/gcc/x86_64-linux-gnu/11/../../.. -lstdc++ -lm -lc -lgcc_s /usr/lib/gcc/x86_64-linux-gnu/11/crtendS.o /usr/lib/gcc/x86_64-linux-gnu/11/../../../x86_64-linux-gnu/crtn.o  -O3   -Wl,-soname -Wl,libmecab.so.2 -o .libs/libmecab.so.2.0.0\n",
            "libtool: link: (cd \".libs\" && rm -f \"libmecab.so.2\" && ln -s \"libmecab.so.2.0.0\" \"libmecab.so.2\")\n",
            "libtool: link: (cd \".libs\" && rm -f \"libmecab.so\" && ln -s \"libmecab.so.2.0.0\" \"libmecab.so\")\n",
            "libtool: link: ar cru .libs/libmecab.a  viterbi.o tagger.o utils.o eval.o iconv_utils.o dictionary_rewriter.o dictionary_generator.o dictionary_compiler.o context_id.o connector.o nbest_generator.o writer.o string_buffer.o param.o tokenizer.o char_property.o dictionary.o feature_index.o lbfgs.o learner_tagger.o learner.o libmecab.o\n",
            "ar: `u' modifier ignored since `D' is the default (see `U')\n",
            "libtool: link: ranlib .libs/libmecab.a\n",
            "libtool: link: ( cd \".libs\" && rm -f \"libmecab.la\" && ln -s \"../libmecab.la\" \"libmecab.la\" )\n",
            "g++ -DHAVE_CONFIG_H -I. -I.. -DDIC_VERSION=102   -DMECAB_DEFAULT_RC=\"\\\"/usr/local/etc/mecabrc\\\"\"    -O3 -Wall  -c -o mecab.o mecab.cpp\n",
            "/bin/bash ../libtool --tag=CXX   --mode=link g++  -O3 -Wall    -o mecab mecab.o libmecab.la -lpthread -lpthread  -lstdc++ \n",
            "libtool: link: g++ -O3 -Wall -o .libs/mecab mecab.o  ./.libs/libmecab.so -lpthread -lstdc++\n",
            "g++ -DHAVE_CONFIG_H -I. -I.. -DDIC_VERSION=102   -DMECAB_DEFAULT_RC=\"\\\"/usr/local/etc/mecabrc\\\"\"    -O3 -Wall  -c -o mecab-dict-index.o mecab-dict-index.cpp\n",
            "/bin/bash ../libtool --tag=CXX   --mode=link g++  -O3 -Wall    -o mecab-dict-index mecab-dict-index.o libmecab.la -lpthread -lpthread  -lstdc++ \n",
            "libtool: link: g++ -O3 -Wall -o .libs/mecab-dict-index mecab-dict-index.o  ./.libs/libmecab.so -lpthread -lstdc++\n",
            "g++ -DHAVE_CONFIG_H -I. -I.. -DDIC_VERSION=102   -DMECAB_DEFAULT_RC=\"\\\"/usr/local/etc/mecabrc\\\"\"    -O3 -Wall  -c -o mecab-dict-gen.o mecab-dict-gen.cpp\n",
            "/bin/bash ../libtool --tag=CXX   --mode=link g++  -O3 -Wall    -o mecab-dict-gen mecab-dict-gen.o libmecab.la -lpthread -lpthread  -lstdc++ \n",
            "libtool: link: g++ -O3 -Wall -o .libs/mecab-dict-gen mecab-dict-gen.o  ./.libs/libmecab.so -lpthread -lstdc++\n",
            "g++ -DHAVE_CONFIG_H -I. -I.. -DDIC_VERSION=102   -DMECAB_DEFAULT_RC=\"\\\"/usr/local/etc/mecabrc\\\"\"    -O3 -Wall  -c -o mecab-cost-train.o mecab-cost-train.cpp\n",
            "/bin/bash ../libtool --tag=CXX   --mode=link g++  -O3 -Wall    -o mecab-cost-train mecab-cost-train.o libmecab.la -lpthread -lpthread  -lstdc++ \n",
            "libtool: link: g++ -O3 -Wall -o .libs/mecab-cost-train mecab-cost-train.o  ./.libs/libmecab.so -lpthread -lstdc++\n",
            "g++ -DHAVE_CONFIG_H -I. -I.. -DDIC_VERSION=102   -DMECAB_DEFAULT_RC=\"\\\"/usr/local/etc/mecabrc\\\"\"    -O3 -Wall  -c -o mecab-system-eval.o mecab-system-eval.cpp\n",
            "/bin/bash ../libtool --tag=CXX   --mode=link g++  -O3 -Wall    -o mecab-system-eval mecab-system-eval.o libmecab.la -lpthread -lpthread  -lstdc++ \n",
            "libtool: link: g++ -O3 -Wall -o .libs/mecab-system-eval mecab-system-eval.o  ./.libs/libmecab.so -lpthread -lstdc++\n",
            "g++ -DHAVE_CONFIG_H -I. -I.. -DDIC_VERSION=102   -DMECAB_DEFAULT_RC=\"\\\"/usr/local/etc/mecabrc\\\"\"    -O3 -Wall  -c -o mecab-test-gen.o mecab-test-gen.cpp\n",
            "/bin/bash ../libtool --tag=CXX   --mode=link g++  -O3 -Wall    -o mecab-test-gen mecab-test-gen.o libmecab.la -lpthread -lpthread  -lstdc++ \n",
            "libtool: link: g++ -O3 -Wall -o .libs/mecab-test-gen mecab-test-gen.o  ./.libs/libmecab.so -lpthread -lstdc++\n",
            "make[2]: Leaving directory '/tmp/mecab-0.996-ko-0.9.2/src'\n",
            "Making all in man\n",
            "make[2]: Entering directory '/tmp/mecab-0.996-ko-0.9.2/man'\n",
            "make[2]: Nothing to be done for 'all'.\n",
            "make[2]: Leaving directory '/tmp/mecab-0.996-ko-0.9.2/man'\n",
            "Making all in doc\n",
            "make[2]: Entering directory '/tmp/mecab-0.996-ko-0.9.2/doc'\n",
            "make[2]: Nothing to be done for 'all'.\n",
            "make[2]: Leaving directory '/tmp/mecab-0.996-ko-0.9.2/doc'\n",
            "Making all in tests\n",
            "make[2]: Entering directory '/tmp/mecab-0.996-ko-0.9.2/tests'\n",
            "make[2]: Nothing to be done for 'all'.\n",
            "make[2]: Leaving directory '/tmp/mecab-0.996-ko-0.9.2/tests'\n",
            "make[2]: Entering directory '/tmp/mecab-0.996-ko-0.9.2'\n",
            "make[2]: Leaving directory '/tmp/mecab-0.996-ko-0.9.2'\n",
            "make[1]: Leaving directory '/tmp/mecab-0.996-ko-0.9.2'\n",
            "+ make check\n",
            "Making check in src\n",
            "make[1]: Entering directory '/tmp/mecab-0.996-ko-0.9.2/src'\n",
            "make[1]: Nothing to be done for 'check'.\n",
            "make[1]: Leaving directory '/tmp/mecab-0.996-ko-0.9.2/src'\n",
            "Making check in man\n",
            "make[1]: Entering directory '/tmp/mecab-0.996-ko-0.9.2/man'\n",
            "make[1]: Nothing to be done for 'check'.\n",
            "make[1]: Leaving directory '/tmp/mecab-0.996-ko-0.9.2/man'\n",
            "Making check in doc\n",
            "make[1]: Entering directory '/tmp/mecab-0.996-ko-0.9.2/doc'\n",
            "make[1]: Nothing to be done for 'check'.\n",
            "make[1]: Leaving directory '/tmp/mecab-0.996-ko-0.9.2/doc'\n",
            "Making check in tests\n",
            "make[1]: Entering directory '/tmp/mecab-0.996-ko-0.9.2/tests'\n",
            "make  check-TESTS\n",
            "make[2]: Entering directory '/tmp/mecab-0.996-ko-0.9.2/tests'\n",
            "./pos-id.def is not found. minimum setting is used\n",
            "reading ./unk.def ... 2\n",
            "emitting double-array: 100% |###########################################| \n",
            "./model.def is not found. skipped.\n",
            "./pos-id.def is not found. minimum setting is used\n",
            "reading ./dic.csv ... 177\n",
            "emitting double-array: 100% |###########################################| \n",
            "reading ./matrix.def ... 178x178\n",
            "emitting matrix      : 100% |###########################################| \n",
            "\n",
            "done!\n",
            "./pos-id.def is not found. minimum setting is used\n",
            "reading ./unk.def ... 2\n",
            "emitting double-array: 100% |###########################################| \n",
            "./model.def is not found. skipped.\n",
            "./pos-id.def is not found. minimum setting is used\n",
            "reading ./dic.csv ... 83\n",
            "emitting double-array: 100% |###########################################| \n",
            "reading ./matrix.def ... 84x84\n",
            "emitting matrix      : 100% |###########################################| \n",
            "\n",
            "done!\n",
            "./pos-id.def is not found. minimum setting is used\n",
            "reading ./unk.def ... 2\n",
            "emitting double-array: 100% |###########################################| \n",
            "./model.def is not found. skipped.\n",
            "./pos-id.def is not found. minimum setting is used\n",
            "reading ./dic.csv ... 450\n",
            "emitting double-array: 100% |###########################################| \n",
            "reading ./matrix.def ... 1x1\n",
            "\n",
            "done!\n",
            "./pos-id.def is not found. minimum setting is used\n",
            "reading ./unk.def ... 2\n",
            "emitting double-array: 100% |###########################################| \n",
            "./model.def is not found. skipped.\n",
            "./pos-id.def is not found. minimum setting is used\n",
            "reading ./dic.csv ... 162\n",
            "emitting double-array: 100% |###########################################| \n",
            "reading ./matrix.def ... 3x3\n",
            "emitting matrix      : 100% |###########################################| \n",
            "\n",
            "done!\n",
            "./pos-id.def is not found. minimum setting is used\n",
            "reading ./unk.def ... 2\n",
            "emitting double-array: 100% |###########################################| \n",
            "./model.def is not found. skipped.\n",
            "./pos-id.def is not found. minimum setting is used\n",
            "reading ./dic.csv ... 4\n",
            "emitting double-array: 100% |###########################################| \n",
            "reading ./matrix.def ... 1x1\n",
            "\n",
            "done!\n",
            "./pos-id.def is not found. minimum setting is used\n",
            "reading ./unk.def ... 11\n",
            "emitting double-array: 100% |###########################################| \n",
            "./model.def is not found. skipped.\n",
            "./pos-id.def is not found. minimum setting is used\n",
            "reading ./dic.csv ... 1\n",
            "reading ./matrix.def ... 1x1\n",
            "\n",
            "done!\n",
            "./pos-id.def is not found. minimum setting is used\n",
            "reading ./unk.def ... 2\n",
            "emitting double-array: 100% |###########################################| \n",
            "./model.def is not found. skipped.\n",
            "./pos-id.def is not found. minimum setting is used\n",
            "reading ./dic.csv ... 1\n",
            "reading ./matrix.def ... 1x1\n",
            "\n",
            "done!\n",
            "PASS: run-dics.sh\n",
            "PASS: run-eval.sh\n",
            "seed/pos-id.def is not found. minimum setting is used\n",
            "reading seed/unk.def ... 40\n",
            "emitting double-array: 100% |###########################################| \n",
            "seed/model.def is not found. skipped.\n",
            "seed/pos-id.def is not found. minimum setting is used\n",
            "reading seed/dic.csv ... 4335\n",
            "emitting double-array: 100% |###########################################| \n",
            "reading seed/matrix.def ... 1x1\n",
            "\n",
            "done!\n",
            "reading corpus ...\n",
            "Number of sentences: 34\n",
            "Number of features:  64108\n",
            "eta:                 0.00005\n",
            "freq:                1\n",
            "eval-size:           6\n",
            "unk-eval-size:       4\n",
            "threads:             1\n",
            "charset:             EUC-JP\n",
            "C(sigma^2):          1.00000\n",
            "\n",
            "iter=0 err=1.00000 F=0.35771 target=2406.28355 diff=1.00000\n",
            "iter=1 err=0.97059 F=0.65652 target=1484.25231 diff=0.38318\n",
            "iter=2 err=0.91176 F=0.79331 target=863.32765 diff=0.41834\n",
            "iter=3 err=0.85294 F=0.89213 target=596.72480 diff=0.30881\n",
            "iter=4 err=0.61765 F=0.95467 target=336.30744 diff=0.43641\n",
            "iter=5 err=0.50000 F=0.96702 target=246.53039 diff=0.26695\n",
            "iter=6 err=0.35294 F=0.95472 target=188.93963 diff=0.23361\n",
            "iter=7 err=0.20588 F=0.99106 target=168.62665 diff=0.10751\n",
            "iter=8 err=0.05882 F=0.99777 target=158.64865 diff=0.05917\n",
            "iter=9 err=0.08824 F=0.99665 target=154.14530 diff=0.02839\n",
            "iter=10 err=0.08824 F=0.99665 target=151.94257 diff=0.01429\n",
            "iter=11 err=0.02941 F=0.99888 target=147.20825 diff=0.03116\n",
            "iter=12 err=0.00000 F=1.00000 target=147.34956 diff=0.00096\n",
            "iter=13 err=0.02941 F=0.99888 target=146.32592 diff=0.00695\n",
            "iter=14 err=0.00000 F=1.00000 target=145.77299 diff=0.00378\n",
            "iter=15 err=0.02941 F=0.99888 target=145.24641 diff=0.00361\n",
            "iter=16 err=0.00000 F=1.00000 target=144.96490 diff=0.00194\n",
            "iter=17 err=0.02941 F=0.99888 target=144.90246 diff=0.00043\n",
            "iter=18 err=0.00000 F=1.00000 target=144.75959 diff=0.00099\n",
            "iter=19 err=0.00000 F=1.00000 target=144.71727 diff=0.00029\n",
            "iter=20 err=0.00000 F=1.00000 target=144.66337 diff=0.00037\n",
            "iter=21 err=0.00000 F=1.00000 target=144.61349 diff=0.00034\n",
            "iter=22 err=0.00000 F=1.00000 target=144.62987 diff=0.00011\n",
            "iter=23 err=0.00000 F=1.00000 target=144.60060 diff=0.00020\n",
            "iter=24 err=0.00000 F=1.00000 target=144.59125 diff=0.00006\n",
            "iter=25 err=0.00000 F=1.00000 target=144.58619 diff=0.00004\n",
            "iter=26 err=0.00000 F=1.00000 target=144.58219 diff=0.00003\n",
            "iter=27 err=0.00000 F=1.00000 target=144.58059 diff=0.00001\n",
            "\n",
            "Done! writing model file ... \n",
            "model-ipadic.c1.0.f1.model is not a binary model. reopen it as text mode...\n",
            "reading seed/unk.def ... 40\n",
            "reading seed/dic.csv ... 4335\n",
            "emitting model-ipadic.c1.0.f1.dic/left-id.def/ model-ipadic.c1.0.f1.dic/right-id.def\n",
            "emitting model-ipadic.c1.0.f1.dic/unk.def ... 40\n",
            "emitting model-ipadic.c1.0.f1.dic/dic.csv ... 4335\n",
            "emitting matrix      : 100% |###########################################| \n",
            "copying seed/char.def to model-ipadic.c1.0.f1.dic/char.def\n",
            "copying seed/rewrite.def to model-ipadic.c1.0.f1.dic/rewrite.def\n",
            "copying seed/dicrc to model-ipadic.c1.0.f1.dic/dicrc\n",
            "copying seed/feature.def to model-ipadic.c1.0.f1.dic/feature.def\n",
            "copying model-ipadic.c1.0.f1.model to model-ipadic.c1.0.f1.dic/model.def\n",
            "\n",
            "done!\n",
            "model-ipadic.c1.0.f1.dic/pos-id.def is not found. minimum setting is used\n",
            "reading model-ipadic.c1.0.f1.dic/unk.def ... 40\n",
            "emitting double-array: 100% |###########################################| \n",
            "model-ipadic.c1.0.f1.dic/pos-id.def is not found. minimum setting is used\n",
            "reading model-ipadic.c1.0.f1.dic/dic.csv ... 4335\n",
            "emitting double-array: 100% |###########################################| \n",
            "reading model-ipadic.c1.0.f1.dic/matrix.def ... 346x346\n",
            "emitting matrix      : 100% |###########################################| \n",
            "\n",
            "done!\n",
            "              precision          recall         F\n",
            "LEVEL 0:    12.8959(57/442) 11.8998(57/479) 12.3779\n",
            "LEVEL 1:    12.2172(54/442) 11.2735(54/479) 11.7264\n",
            "LEVEL 2:    11.7647(52/442) 10.8559(52/479) 11.2921\n",
            "LEVEL 4:    11.7647(52/442) 10.8559(52/479) 11.2921\n",
            "PASS: run-cost-train.sh\n",
            "==================\n",
            "All 3 tests passed\n",
            "==================\n",
            "make[2]: Leaving directory '/tmp/mecab-0.996-ko-0.9.2/tests'\n",
            "make[1]: Leaving directory '/tmp/mecab-0.996-ko-0.9.2/tests'\n",
            "make[1]: Entering directory '/tmp/mecab-0.996-ko-0.9.2'\n",
            "make[1]: Leaving directory '/tmp/mecab-0.996-ko-0.9.2'\n",
            "+ sudo make install\n",
            "Making install in src\n",
            "make[1]: Entering directory '/tmp/mecab-0.996-ko-0.9.2/src'\n",
            "make[2]: Entering directory '/tmp/mecab-0.996-ko-0.9.2/src'\n",
            "test -z \"/usr/local/lib\" || /usr/bin/mkdir -p \"/usr/local/lib\"\n",
            " /bin/bash ../libtool   --mode=install /usr/bin/install -c   libmecab.la '/usr/local/lib'\n",
            "libtool: install: /usr/bin/install -c .libs/libmecab.so.2.0.0 /usr/local/lib/libmecab.so.2.0.0\n",
            "libtool: install: (cd /usr/local/lib && { ln -s -f libmecab.so.2.0.0 libmecab.so.2 || { rm -f libmecab.so.2 && ln -s libmecab.so.2.0.0 libmecab.so.2; }; })\n",
            "libtool: install: (cd /usr/local/lib && { ln -s -f libmecab.so.2.0.0 libmecab.so || { rm -f libmecab.so && ln -s libmecab.so.2.0.0 libmecab.so; }; })\n",
            "libtool: install: /usr/bin/install -c .libs/libmecab.lai /usr/local/lib/libmecab.la\n",
            "libtool: install: /usr/bin/install -c .libs/libmecab.a /usr/local/lib/libmecab.a\n",
            "libtool: install: chmod 644 /usr/local/lib/libmecab.a\n",
            "libtool: install: ranlib /usr/local/lib/libmecab.a\n",
            "libtool: finish: PATH=\"/usr/local/sbin:/usr/local/bin:/usr/sbin:/usr/bin:/sbin:/bin:/snap/bin:/sbin\" ldconfig -n /usr/local/lib\n",
            "----------------------------------------------------------------------\n",
            "Libraries have been installed in:\n",
            "   /usr/local/lib\n",
            "\n",
            "If you ever happen to want to link against installed libraries\n",
            "in a given directory, LIBDIR, you must either use libtool, and\n",
            "specify the full pathname of the library, or use the `-LLIBDIR'\n",
            "flag during linking and do at least one of the following:\n",
            "   - add LIBDIR to the `LD_LIBRARY_PATH' environment variable\n",
            "     during execution\n",
            "   - add LIBDIR to the `LD_RUN_PATH' environment variable\n",
            "     during linking\n",
            "   - use the `-Wl,-rpath -Wl,LIBDIR' linker flag\n",
            "   - have your system administrator add LIBDIR to `/etc/ld.so.conf'\n",
            "\n",
            "See any operating system documentation about shared libraries for\n",
            "more information, such as the ld(1) and ld.so(8) manual pages.\n",
            "----------------------------------------------------------------------\n",
            "test -z \"/usr/local/bin\" || /usr/bin/mkdir -p \"/usr/local/bin\"\n",
            "  /bin/bash ../libtool   --mode=install /usr/bin/install -c mecab '/usr/local/bin'\n",
            "libtool: install: /usr/bin/install -c .libs/mecab /usr/local/bin/mecab\n",
            "test -z \"/usr/local/libexec/mecab\" || /usr/bin/mkdir -p \"/usr/local/libexec/mecab\"\n",
            "  /bin/bash ../libtool   --mode=install /usr/bin/install -c mecab-dict-index mecab-dict-gen mecab-cost-train mecab-system-eval mecab-test-gen '/usr/local/libexec/mecab'\n",
            "libtool: install: /usr/bin/install -c .libs/mecab-dict-index /usr/local/libexec/mecab/mecab-dict-index\n",
            "libtool: install: /usr/bin/install -c .libs/mecab-dict-gen /usr/local/libexec/mecab/mecab-dict-gen\n",
            "libtool: install: /usr/bin/install -c .libs/mecab-cost-train /usr/local/libexec/mecab/mecab-cost-train\n",
            "libtool: install: /usr/bin/install -c .libs/mecab-system-eval /usr/local/libexec/mecab/mecab-system-eval\n",
            "libtool: install: /usr/bin/install -c .libs/mecab-test-gen /usr/local/libexec/mecab/mecab-test-gen\n",
            "test -z \"/usr/local/include\" || /usr/bin/mkdir -p \"/usr/local/include\"\n",
            " /usr/bin/install -c -m 644 mecab.h '/usr/local/include'\n",
            "make[2]: Leaving directory '/tmp/mecab-0.996-ko-0.9.2/src'\n",
            "make[1]: Leaving directory '/tmp/mecab-0.996-ko-0.9.2/src'\n",
            "Making install in man\n",
            "make[1]: Entering directory '/tmp/mecab-0.996-ko-0.9.2/man'\n",
            "make[2]: Entering directory '/tmp/mecab-0.996-ko-0.9.2/man'\n",
            "make[2]: Nothing to be done for 'install-exec-am'.\n",
            "test -z \"/usr/local/share/man/man1\" || /usr/bin/mkdir -p \"/usr/local/share/man/man1\"\n",
            " /usr/bin/install -c -m 644 mecab.1 '/usr/local/share/man/man1'\n",
            "make[2]: Leaving directory '/tmp/mecab-0.996-ko-0.9.2/man'\n",
            "make[1]: Leaving directory '/tmp/mecab-0.996-ko-0.9.2/man'\n",
            "Making install in doc\n",
            "make[1]: Entering directory '/tmp/mecab-0.996-ko-0.9.2/doc'\n",
            "make[2]: Entering directory '/tmp/mecab-0.996-ko-0.9.2/doc'\n",
            "make[2]: Nothing to be done for 'install-exec-am'.\n",
            "make[2]: Nothing to be done for 'install-data-am'.\n",
            "make[2]: Leaving directory '/tmp/mecab-0.996-ko-0.9.2/doc'\n",
            "make[1]: Leaving directory '/tmp/mecab-0.996-ko-0.9.2/doc'\n",
            "Making install in tests\n",
            "make[1]: Entering directory '/tmp/mecab-0.996-ko-0.9.2/tests'\n",
            "make[2]: Entering directory '/tmp/mecab-0.996-ko-0.9.2/tests'\n",
            "make[2]: Nothing to be done for 'install-exec-am'.\n",
            "make[2]: Nothing to be done for 'install-data-am'.\n",
            "make[2]: Leaving directory '/tmp/mecab-0.996-ko-0.9.2/tests'\n",
            "make[1]: Leaving directory '/tmp/mecab-0.996-ko-0.9.2/tests'\n",
            "make[1]: Entering directory '/tmp/mecab-0.996-ko-0.9.2'\n",
            "make[2]: Entering directory '/tmp/mecab-0.996-ko-0.9.2'\n",
            "test -z \"/usr/local/bin\" || /usr/bin/mkdir -p \"/usr/local/bin\"\n",
            " /usr/bin/install -c mecab-config '/usr/local/bin'\n",
            "test -z \"/usr/local/etc\" || /usr/bin/mkdir -p \"/usr/local/etc\"\n",
            " /usr/bin/install -c -m 644 mecabrc '/usr/local/etc'\n",
            "make[2]: Leaving directory '/tmp/mecab-0.996-ko-0.9.2'\n",
            "make[1]: Leaving directory '/tmp/mecab-0.996-ko-0.9.2'\n",
            "+ [[ -d /usr/local/lib/mecab/dic/mecab-ko-dic ]]\n",
            "+ echo 'Install mecab-ko-dic'\n",
            "Install mecab-ko-dic\n",
            "+ install_mecab_ko_dic\n",
            "+ echo 'Install mecab-ko-dic'\n",
            "Install mecab-ko-dic\n",
            "+ cd /tmp\n",
            "+ curl -LO https://bitbucket.org/eunjeon/mecab-ko-dic/downloads/mecab-ko-dic-2.1.1-20180720.tar.gz\n",
            "  % Total    % Received % Xferd  Average Speed   Time    Time     Time  Current\n",
            "                                 Dload  Upload   Total   Spent    Left  Speed\n",
            "  0     0    0     0    0     0      0      0 --:--:-- --:--:-- --:--:--     0\n",
            "100 47.4M  100 47.4M    0     0  17.7M      0  0:00:02  0:00:02 --:--:-- 27.4M\n",
            "+ tar -zxvf mecab-ko-dic-2.1.1-20180720.tar.gz\n",
            "mecab-ko-dic-2.1.1-20180720/\n",
            "mecab-ko-dic-2.1.1-20180720/configure\n",
            "mecab-ko-dic-2.1.1-20180720/COPYING\n",
            "mecab-ko-dic-2.1.1-20180720/autogen.sh\n",
            "mecab-ko-dic-2.1.1-20180720/Place-station.csv\n",
            "mecab-ko-dic-2.1.1-20180720/NNG.csv\n",
            "mecab-ko-dic-2.1.1-20180720/README\n",
            "mecab-ko-dic-2.1.1-20180720/EF.csv\n",
            "mecab-ko-dic-2.1.1-20180720/MAG.csv\n",
            "mecab-ko-dic-2.1.1-20180720/Preanalysis.csv\n",
            "mecab-ko-dic-2.1.1-20180720/NNB.csv\n",
            "mecab-ko-dic-2.1.1-20180720/Person-actor.csv\n",
            "mecab-ko-dic-2.1.1-20180720/VV.csv\n",
            "mecab-ko-dic-2.1.1-20180720/Makefile.in\n",
            "mecab-ko-dic-2.1.1-20180720/matrix.def\n",
            "mecab-ko-dic-2.1.1-20180720/EC.csv\n",
            "mecab-ko-dic-2.1.1-20180720/NNBC.csv\n",
            "mecab-ko-dic-2.1.1-20180720/clean\n",
            "mecab-ko-dic-2.1.1-20180720/ChangeLog\n",
            "mecab-ko-dic-2.1.1-20180720/J.csv\n",
            "mecab-ko-dic-2.1.1-20180720/.keep\n",
            "mecab-ko-dic-2.1.1-20180720/feature.def\n",
            "mecab-ko-dic-2.1.1-20180720/Foreign.csv\n",
            "mecab-ko-dic-2.1.1-20180720/XPN.csv\n",
            "mecab-ko-dic-2.1.1-20180720/EP.csv\n",
            "mecab-ko-dic-2.1.1-20180720/NR.csv\n",
            "mecab-ko-dic-2.1.1-20180720/left-id.def\n",
            "mecab-ko-dic-2.1.1-20180720/Place.csv\n",
            "mecab-ko-dic-2.1.1-20180720/Symbol.csv\n",
            "mecab-ko-dic-2.1.1-20180720/dicrc\n",
            "mecab-ko-dic-2.1.1-20180720/NP.csv\n",
            "mecab-ko-dic-2.1.1-20180720/ETM.csv\n",
            "mecab-ko-dic-2.1.1-20180720/IC.csv\n",
            "mecab-ko-dic-2.1.1-20180720/Place-address.csv\n",
            "mecab-ko-dic-2.1.1-20180720/Group.csv\n",
            "mecab-ko-dic-2.1.1-20180720/model.def\n",
            "mecab-ko-dic-2.1.1-20180720/XSN.csv\n",
            "mecab-ko-dic-2.1.1-20180720/INSTALL\n",
            "mecab-ko-dic-2.1.1-20180720/rewrite.def\n",
            "mecab-ko-dic-2.1.1-20180720/Inflect.csv\n",
            "mecab-ko-dic-2.1.1-20180720/configure.ac\n",
            "mecab-ko-dic-2.1.1-20180720/NNP.csv\n",
            "mecab-ko-dic-2.1.1-20180720/CoinedWord.csv\n",
            "mecab-ko-dic-2.1.1-20180720/XSV.csv\n",
            "mecab-ko-dic-2.1.1-20180720/pos-id.def\n",
            "mecab-ko-dic-2.1.1-20180720/Makefile.am\n",
            "mecab-ko-dic-2.1.1-20180720/unk.def\n",
            "mecab-ko-dic-2.1.1-20180720/missing\n",
            "mecab-ko-dic-2.1.1-20180720/VCP.csv\n",
            "mecab-ko-dic-2.1.1-20180720/install-sh\n",
            "mecab-ko-dic-2.1.1-20180720/Hanja.csv\n",
            "mecab-ko-dic-2.1.1-20180720/MAJ.csv\n",
            "mecab-ko-dic-2.1.1-20180720/XSA.csv\n",
            "mecab-ko-dic-2.1.1-20180720/Wikipedia.csv\n",
            "mecab-ko-dic-2.1.1-20180720/tools/\n",
            "mecab-ko-dic-2.1.1-20180720/tools/add-userdic.sh\n",
            "mecab-ko-dic-2.1.1-20180720/tools/mecab-bestn.sh\n",
            "mecab-ko-dic-2.1.1-20180720/tools/convert_for_using_store.sh\n",
            "mecab-ko-dic-2.1.1-20180720/user-dic/\n",
            "mecab-ko-dic-2.1.1-20180720/user-dic/nnp.csv\n",
            "mecab-ko-dic-2.1.1-20180720/user-dic/place.csv\n",
            "mecab-ko-dic-2.1.1-20180720/user-dic/person.csv\n",
            "mecab-ko-dic-2.1.1-20180720/user-dic/README.md\n",
            "mecab-ko-dic-2.1.1-20180720/NorthKorea.csv\n",
            "mecab-ko-dic-2.1.1-20180720/VX.csv\n",
            "mecab-ko-dic-2.1.1-20180720/right-id.def\n",
            "mecab-ko-dic-2.1.1-20180720/VA.csv\n",
            "mecab-ko-dic-2.1.1-20180720/char.def\n",
            "mecab-ko-dic-2.1.1-20180720/NEWS\n",
            "mecab-ko-dic-2.1.1-20180720/MM.csv\n",
            "mecab-ko-dic-2.1.1-20180720/ETN.csv\n",
            "mecab-ko-dic-2.1.1-20180720/AUTHORS\n",
            "mecab-ko-dic-2.1.1-20180720/Person.csv\n",
            "mecab-ko-dic-2.1.1-20180720/XR.csv\n",
            "mecab-ko-dic-2.1.1-20180720/VCN.csv\n",
            "+ cd mecab-ko-dic-2.1.1-20180720\n",
            "+ ./autogen.sh\n",
            "Looking in current directory for macros.\n",
            "configure.ac:2: warning: AM_INIT_AUTOMAKE: two- and three-arguments forms are deprecated.\n",
            "./lib/autoconf/general.m4:2434: AC_DIAGNOSE is expanded from...\n",
            "aclocal.m4:139: AM_INIT_AUTOMAKE is expanded from...\n",
            "configure.ac:2: the top level\n",
            "configure.ac:56: warning: AC_OUTPUT should be used without arguments.\n",
            "configure.ac:56: You should run autoupdate.\n",
            "configure.ac:2: warning: AM_INIT_AUTOMAKE: two- and three-arguments forms are deprecated.  For more info, see:\n",
            "configure.ac:2: https://www.gnu.org/software/automake/manual/automake.html#Modernize-AM_005fINIT_005fAUTOMAKE-invocation\n",
            "+ ./configure\n",
            "checking for a BSD-compatible install... /usr/bin/install -c\n",
            "checking whether build environment is sane... yes\n",
            "/tmp/mecab-ko-dic-2.1.1-20180720/missing: Unknown `--is-lightweight' option\n",
            "Try `/tmp/mecab-ko-dic-2.1.1-20180720/missing --help' for more information\n",
            "configure: WARNING: 'missing' script is too old or missing\n",
            "checking for a race-free mkdir -p... /usr/bin/mkdir -p\n",
            "checking for gawk... no\n",
            "checking for mawk... mawk\n",
            "checking whether make sets $(MAKE)... yes\n",
            "checking whether make supports nested variables... yes\n",
            "checking for mecab-config... /usr/local/bin/mecab-config\n",
            "checking that generated files are newer than configure... done\n",
            "configure: creating ./config.status\n",
            "config.status: creating Makefile\n",
            "+ [[ Linux == \\L\\i\\n\\u\\x ]]\n",
            "+ mecab-config --libs-only-L\n",
            "+ sudo tee /etc/ld.so.conf.d/mecab.conf\n",
            "/usr/local/lib\n",
            "+ sudo ldconfig\n",
            "+ make\n",
            "/usr/local/libexec/mecab/mecab-dict-index -d . -o . -f UTF-8 -t UTF-8\n",
            "reading ./unk.def ... 13\n",
            "emitting double-array: 100% |###########################################| \n",
            "reading ./VX.csv ... 125\n",
            "reading ./NP.csv ... 342\n",
            "reading ./XSA.csv ... 19\n",
            "reading ./Place-address.csv ... 19301\n",
            "reading ./IC.csv ... 1305\n",
            "reading ./EC.csv ... 2547\n",
            "reading ./J.csv ... 416\n",
            "reading ./XSN.csv ... 124\n",
            "reading ./NorthKorea.csv ... 3\n",
            "reading ./ETM.csv ... 133\n",
            "reading ./Place.csv ... 30303\n",
            "reading ./VA.csv ... 2360\n",
            "reading ./CoinedWord.csv ... 148\n",
            "reading ./EF.csv ... 1820\n",
            "reading ./VV.csv ... 7331\n",
            "reading ./Person-actor.csv ... 99230\n",
            "reading ./VCP.csv ... 9\n",
            "reading ./Inflect.csv ... 44820\n",
            "reading ./NNBC.csv ... 677\n",
            "reading ./NR.csv ... 482\n",
            "reading ./Hanja.csv ... 125750\n",
            "reading ./MM.csv ... 453\n",
            "reading ./NNP.csv ... 2371\n",
            "reading ./VCN.csv ... 7\n",
            "reading ./Preanalysis.csv ... 5\n",
            "reading ./EP.csv ... 51\n",
            "reading ./ETN.csv ... 14\n",
            "reading ./Person.csv ... 196459\n",
            "reading ./Group.csv ... 3176\n",
            "reading ./Wikipedia.csv ... 36762\n",
            "reading ./Foreign.csv ... 11690\n",
            "reading ./NNB.csv ... 140\n",
            "reading ./MAG.csv ... 14242\n",
            "reading ./XPN.csv ... 83\n",
            "reading ./Symbol.csv ... 16\n",
            "reading ./Place-station.csv ... 1145\n",
            "reading ./XSV.csv ... 23\n",
            "reading ./XR.csv ... 3637\n",
            "reading ./NNG.csv ... 208524\n",
            "reading ./MAJ.csv ... 240\n",
            "emitting double-array: 100% |###########################################| \n",
            "reading ./matrix.def ... 3822x2693\n",
            "emitting matrix      : 100% |###########################################| \n",
            "\n",
            "done!\n",
            "echo To enable dictionary, rewrite /usr/local/etc/mecabrc as \\\"dicdir = /usr/local/lib/mecab/dic/mecab-ko-dic\\\"\n",
            "To enable dictionary, rewrite /usr/local/etc/mecabrc as \"dicdir = /usr/local/lib/mecab/dic/mecab-ko-dic\"\n",
            "+ sudo sh -c 'echo \"dicdir=/usr/local/lib/mecab/dic/mecab-ko-dic\" > /usr/local/etc/mecabrc'\n",
            "+ sudo make install\n",
            "make[1]: Entering directory '/tmp/mecab-ko-dic-2.1.1-20180720'\n",
            "make[1]: Nothing to be done for 'install-exec-am'.\n",
            " /usr/bin/mkdir -p '/usr/local/lib/mecab/dic/mecab-ko-dic'\n",
            " /usr/bin/install -c -m 644 model.bin matrix.bin char.bin sys.dic unk.dic left-id.def right-id.def rewrite.def pos-id.def dicrc '/usr/local/lib/mecab/dic/mecab-ko-dic'\n",
            "make[1]: Leaving directory '/tmp/mecab-ko-dic-2.1.1-20180720'\n",
            "++ python3 -c 'import pkgutil; print(1 if pkgutil.find_loader(\"MeCab\") else 0)'\n",
            "+ [[ 0 == \\1 ]]\n",
            "+ echo 'Install mecab-python'\n",
            "Install mecab-python\n",
            "+ install_mecab_python\n",
            "+ pushd /tmp\n",
            "/tmp /tmp/mecab-ko-dic-2.1.1-20180720\n",
            "+ [[ ! -d mecab-python-0.996 ]]\n",
            "+ git clone https://bitbucket.org/eunjeon/mecab-python-0.996.git\n",
            "Cloning into 'mecab-python-0.996'...\n",
            "Unpacking objects: 100% (17/17), 59.65 KiB | 3.14 MiB/s, done.\n",
            "+ popd\n",
            "/tmp/mecab-ko-dic-2.1.1-20180720\n",
            "+ [[ Linux == \\D\\a\\r\\w\\i\\n ]]\n",
            "+ python3 -m pip install /tmp/mecab-python-0.996\n",
            "Processing /tmp/mecab-python-0.996\n",
            "  \u001b[1;31merror\u001b[0m: \u001b[1msubprocess-exited-with-error\u001b[0m\n",
            "  \n",
            "  \u001b[31m×\u001b[0m \u001b[32mpython setup.py egg_info\u001b[0m did not run successfully.\n",
            "  \u001b[31m│\u001b[0m exit code: \u001b[1;36m1\u001b[0m\n",
            "  \u001b[31m╰─>\u001b[0m See above for output.\n",
            "  \n",
            "  \u001b[1;35mnote\u001b[0m: This error originates from a subprocess, and is likely not a problem with pip.\n",
            "  Preparing metadata (setup.py) ... \u001b[?25l\u001b[?25herror\n",
            "\u001b[1;31merror\u001b[0m: \u001b[1mmetadata-generation-failed\u001b[0m\n",
            "\n",
            "\u001b[31m×\u001b[0m Encountered error while generating package metadata.\n",
            "\u001b[31m╰─>\u001b[0m See above for output.\n",
            "\n",
            "\u001b[1;35mnote\u001b[0m: This is an issue with the package mentioned above, not pip.\n",
            "\u001b[1;36mhint\u001b[0m: See above for details.\n"
          ]
        }
      ]
    },
    {
      "cell_type": "markdown",
      "metadata": {
        "id": "hJhzBOckvqr9"
      },
      "source": [
        "#### 단어 토큰화"
      ]
    },
    {
      "cell_type": "markdown",
      "metadata": {
        "id": "P-34oqwZwsC3"
      },
      "source": [
        "* 한국어는 공백으로 단어를 분리해도 조사, 접속사 등이 남아 분석에 어려움이 있음\n",
        "* 이를 해결해주는 한국어 토큰화는 조사, 접속사를 분리해주거나 제거\n",
        "* 한국어 토큰화를 사용하기 위해선 `konlpy`와 `mecab`이라는 라이브러리가 필요\n",
        "* window 환경은 `mecab` 설치가 불가"
      ]
    },
    {
      "cell_type": "code",
      "metadata": {
        "id": "8m9Inqu0wrd5"
      },
      "source": [
        "from konlpy.tag import Okt\n",
        "tagger = Okt()"
      ],
      "execution_count": null,
      "outputs": []
    },
    {
      "cell_type": "code",
      "metadata": {
        "id": "mwoU6RioB14R",
        "colab": {
          "base_uri": "https://localhost:8080/"
        },
        "outputId": "915a275b-7316-42a7-8a62-031aa037c719"
      },
      "source": [
        "sentence = \"언제나 현재에 집중할 수 있다면 행복할것이다.\"\n",
        "tagger.pos(sentence)"
      ],
      "execution_count": null,
      "outputs": [
        {
          "output_type": "execute_result",
          "data": {
            "text/plain": [
              "[('언제나', 'Adverb'),\n",
              " ('현재', 'Noun'),\n",
              " ('에', 'Josa'),\n",
              " ('집중', 'Noun'),\n",
              " ('할', 'Verb'),\n",
              " ('수', 'Noun'),\n",
              " ('있다면', 'Adjective'),\n",
              " ('행복할것이다', 'Adjective'),\n",
              " ('.', 'Punctuation')]"
            ]
          },
          "metadata": {},
          "execution_count": 79
        }
      ]
    },
    {
      "cell_type": "markdown",
      "metadata": {
        "id": "WKg9p-SlwyRe"
      },
      "source": [
        "* 토큰화만 실행할 때는 `tagger.morphs()`라는 함수를 이용"
      ]
    },
    {
      "cell_type": "code",
      "metadata": {
        "id": "ist7zW_RwvcO",
        "colab": {
          "base_uri": "https://localhost:8080/"
        },
        "outputId": "33e40122-97ea-462c-dff6-72ebb60c3253"
      },
      "source": [
        "tagger.morphs(sentence)"
      ],
      "execution_count": null,
      "outputs": [
        {
          "output_type": "execute_result",
          "data": {
            "text/plain": [
              "['언제나', '현재', '에', '집중', '할', '수', '있다면', '행복할것이다', '.']"
            ]
          },
          "metadata": {},
          "execution_count": 78
        }
      ]
    },
    {
      "cell_type": "markdown",
      "metadata": {
        "id": "Q7u6-78hw0gD"
      },
      "source": [
        "* 형태소만 사용하고 싶을 때는 `tagger.nouns()`라는 함수를 이용해 조사, 접속사 등을 제거 가능"
      ]
    },
    {
      "cell_type": "code",
      "metadata": {
        "id": "1D_Bg0gewwm9",
        "colab": {
          "base_uri": "https://localhost:8080/"
        },
        "outputId": "083ad9d4-3bc8-4c75-c56c-14cb08ccfcdf"
      },
      "source": [
        "tagger.nouns(sentence)"
      ],
      "execution_count": null,
      "outputs": [
        {
          "output_type": "execute_result",
          "data": {
            "text/plain": [
              "['현재', '집중', '수']"
            ]
          },
          "metadata": {},
          "execution_count": 80
        }
      ]
    },
    {
      "cell_type": "markdown",
      "metadata": {
        "id": "ThPaMDOGvsiW"
      },
      "source": [
        "#### 문장 토큰화"
      ]
    },
    {
      "cell_type": "markdown",
      "metadata": {
        "id": "okKRCWhdxMbH"
      },
      "source": [
        "* 한국어 문장을 토큰화할 때는 kss(korean sentence splitter) 라이브러리 이용"
      ]
    },
    {
      "cell_type": "code",
      "metadata": {
        "id": "dOKstGpcxv5-",
        "colab": {
          "base_uri": "https://localhost:8080/"
        },
        "outputId": "10d4c278-4747-45e9-f5e4-7daf6ea4c2c7"
      },
      "source": [
        "!pip install kss"
      ],
      "execution_count": null,
      "outputs": [
        {
          "output_type": "stream",
          "name": "stdout",
          "text": [
            "Collecting kss\n",
            "  Downloading kss-4.5.4.tar.gz (79 kB)\n",
            "\u001b[2K     \u001b[90m━━━━━━━━━━━━━━━━━━━━━━━━━━━━━━━━━━━━━━━━\u001b[0m \u001b[32m79.1/79.1 kB\u001b[0m \u001b[31m2.4 MB/s\u001b[0m eta \u001b[36m0:00:00\u001b[0m\n",
            "\u001b[?25h  Preparing metadata (setup.py) ... \u001b[?25l\u001b[?25hdone\n",
            "Collecting emoji==1.2.0 (from kss)\n",
            "  Downloading emoji-1.2.0-py3-none-any.whl (131 kB)\n",
            "\u001b[2K     \u001b[90m━━━━━━━━━━━━━━━━━━━━━━━━━━━━━━━━━━━━━━━\u001b[0m \u001b[32m131.3/131.3 kB\u001b[0m \u001b[31m7.2 MB/s\u001b[0m eta \u001b[36m0:00:00\u001b[0m\n",
            "\u001b[?25hRequirement already satisfied: regex in /usr/local/lib/python3.10/dist-packages (from kss) (2022.10.31)\n",
            "Collecting pecab (from kss)\n",
            "  Downloading pecab-1.0.8.tar.gz (26.4 MB)\n",
            "\u001b[2K     \u001b[90m━━━━━━━━━━━━━━━━━━━━━━━━━━━━━━━━━━━━━━━━\u001b[0m \u001b[32m26.4/26.4 MB\u001b[0m \u001b[31m42.7 MB/s\u001b[0m eta \u001b[36m0:00:00\u001b[0m\n",
            "\u001b[?25h  Preparing metadata (setup.py) ... \u001b[?25l\u001b[?25hdone\n",
            "Requirement already satisfied: networkx in /usr/local/lib/python3.10/dist-packages (from kss) (3.1)\n",
            "Requirement already satisfied: numpy in /usr/local/lib/python3.10/dist-packages (from pecab->kss) (1.22.4)\n",
            "Requirement already satisfied: pyarrow in /usr/local/lib/python3.10/dist-packages (from pecab->kss) (9.0.0)\n",
            "Requirement already satisfied: pytest in /usr/local/lib/python3.10/dist-packages (from pecab->kss) (7.2.2)\n",
            "Requirement already satisfied: attrs>=19.2.0 in /usr/local/lib/python3.10/dist-packages (from pytest->pecab->kss) (23.1.0)\n",
            "Requirement already satisfied: iniconfig in /usr/local/lib/python3.10/dist-packages (from pytest->pecab->kss) (2.0.0)\n",
            "Requirement already satisfied: packaging in /usr/local/lib/python3.10/dist-packages (from pytest->pecab->kss) (23.1)\n",
            "Requirement already satisfied: pluggy<2.0,>=0.12 in /usr/local/lib/python3.10/dist-packages (from pytest->pecab->kss) (1.2.0)\n",
            "Requirement already satisfied: exceptiongroup>=1.0.0rc8 in /usr/local/lib/python3.10/dist-packages (from pytest->pecab->kss) (1.1.2)\n",
            "Requirement already satisfied: tomli>=1.0.0 in /usr/local/lib/python3.10/dist-packages (from pytest->pecab->kss) (2.0.1)\n",
            "Building wheels for collected packages: kss, pecab\n",
            "  Building wheel for kss (setup.py) ... \u001b[?25l\u001b[?25hdone\n",
            "  Created wheel for kss: filename=kss-4.5.4-py3-none-any.whl size=54467 sha256=ef43772568f539b7dbe68e5f025107a33d882592887a1bef08a352295740a928\n",
            "  Stored in directory: /root/.cache/pip/wheels/61/7b/ba/e620ef5d96a61cdd83bdee4c2bb4aec8a74de5d72fcbb00e80\n",
            "  Building wheel for pecab (setup.py) ... \u001b[?25l\u001b[?25hdone\n",
            "  Created wheel for pecab: filename=pecab-1.0.8-py3-none-any.whl size=26646666 sha256=dcbeb3fc73b02b0129e0da23b01144c913db4e3bd063c9ea708580362c5de798\n",
            "  Stored in directory: /root/.cache/pip/wheels/5c/6f/b4/ab61b8863d7d8b1409def8ae31adcaa089fa91b8d022ec309d\n",
            "Successfully built kss pecab\n",
            "Installing collected packages: emoji, pecab, kss\n",
            "Successfully installed emoji-1.2.0 kss-4.5.4 pecab-1.0.8\n"
          ]
        }
      ]
    },
    {
      "cell_type": "markdown",
      "metadata": {
        "id": "A1VGyGg5yN-d"
      },
      "source": [
        "* 라이브러리를 이용해도 한국어에는 전치 표현이 존재해 제대로 토큰화가 안됨\n",
        "* 좀 더 나은 학습을 위해 사용자는 해당 부분을 따로 처리해주어야만 함"
      ]
    },
    {
      "cell_type": "code",
      "metadata": {
        "id": "VIlTDBv7xMg7",
        "colab": {
          "base_uri": "https://localhost:8080/"
        },
        "outputId": "cc602c35-8dc3-4bec-fac6-6b4b7a1d8cd6"
      },
      "source": [
        "import kss\n",
        "\n",
        "text = '진짜? 내일 뭐하지. 이렇게 애매모호한 문장도? 밥은 먹었어? 나는...'\n",
        "print(kss.split_sentences(text))\n",
        "#print(kss.split_morphemes(text))\n",
        "#print(kss.summarize_sentences(text))"
      ],
      "execution_count": null,
      "outputs": [
        {
          "output_type": "stream",
          "name": "stdout",
          "text": [
            "['진짜? 내일 뭐하지.', '이렇게 애매모호한 문장도?', '밥은 먹었어?', '나는...']\n"
          ]
        }
      ]
    },
    {
      "cell_type": "markdown",
      "metadata": {
        "id": "FAq7fR4r7cpA"
      },
      "source": [
        "#### 정규 표현식을 이용한 토큰화"
      ]
    },
    {
      "cell_type": "markdown",
      "metadata": {
        "id": "jkCInLL67l9M"
      },
      "source": [
        "* 한국어도 정규 표현식을 이용해 토큰화 가능"
      ]
    },
    {
      "cell_type": "code",
      "metadata": {
        "id": "Lyscjy5a7c4r",
        "colab": {
          "base_uri": "https://localhost:8080/"
        },
        "outputId": "ffca225f-6b24-4bae-a69a-4be2b3b5393a"
      },
      "source": [
        "from nltk.tokenize import RegexpTokenizer\n",
        "\n",
        "sentence = \"안녕하세요 ㅋㅋ 저는 자연어 처리(Natural Language Processing)를ㄹ!! 배우고 있습니다.\"\n",
        "\n",
        "tokenizer = RegexpTokenizer('[가-힣]+')\n",
        "tokens = tokenizer.tokenize(sentence)\n",
        "print(tokens)"
      ],
      "execution_count": null,
      "outputs": [
        {
          "output_type": "stream",
          "name": "stdout",
          "text": [
            "['안녕하세요', '저는', '자연어', '처리', '를', '배우고', '있습니다']\n"
          ]
        }
      ]
    },
    {
      "cell_type": "code",
      "metadata": {
        "id": "gmXhfXCC7c0u",
        "colab": {
          "base_uri": "https://localhost:8080/"
        },
        "outputId": "8eb52964-cf31-48d1-b9bf-352a7b65a083"
      },
      "source": [
        "sentence = \"안녕하세요 ㅋㅋ 저는 자연어 처리(Natural Language Processing)를ㄹ!! 배우고 있습니다.\"\n",
        "\n",
        "tokenizer = RegexpTokenizer('[ㄱ-ㅎ]+', gaps=True)\n",
        "tokens = tokenizer.tokenize(sentence)\n",
        "print(tokens)"
      ],
      "execution_count": null,
      "outputs": [
        {
          "output_type": "stream",
          "name": "stdout",
          "text": [
            "['안녕하세요 ', ' 저는 자연어 처리(Natural Language Processing)를', '!! 배우고 있습니다.']\n"
          ]
        }
      ]
    },
    {
      "cell_type": "markdown",
      "metadata": {
        "id": "sZdfxeFsn25k"
      },
      "source": [
        "#### 케라스를 이용한 토큰화"
      ]
    },
    {
      "cell_type": "code",
      "metadata": {
        "id": "-_Zn15pNn25o",
        "colab": {
          "base_uri": "https://localhost:8080/"
        },
        "outputId": "f95cce42-5102-430b-bb31-b3c8de5722cb"
      },
      "source": [
        "from keras.preprocessing.text import text_to_word_sequence\n",
        "\n",
        "sentence = \"성공의 비결은 단 한 가지, 잘할 수 있는 일에 광적으로 집중하는 것이다.\"\n",
        "text_to_word_sequence(sentence)"
      ],
      "execution_count": null,
      "outputs": [
        {
          "output_type": "execute_result",
          "data": {
            "text/plain": [
              "['성공의', '비결은', '단', '한', '가지', '잘할', '수', '있는', '일에', '광적으로', '집중하는', '것이다']"
            ]
          },
          "metadata": {},
          "execution_count": 88
        }
      ]
    },
    {
      "cell_type": "markdown",
      "metadata": {
        "id": "pzEFiZt7n25z"
      },
      "source": [
        "#### TextBlob을 이용한 토큰화"
      ]
    },
    {
      "cell_type": "code",
      "metadata": {
        "id": "tgzHxLPyn252",
        "colab": {
          "base_uri": "https://localhost:8080/"
        },
        "outputId": "b5268191-2670-42cc-81da-63ac67930970"
      },
      "source": [
        "from textblob import TextBlob\n",
        "\n",
        "blob = TextBlob(sentence)\n",
        "blob.words"
      ],
      "execution_count": null,
      "outputs": [
        {
          "output_type": "execute_result",
          "data": {
            "text/plain": [
              "WordList(['성공의', '비결은', '단', '한', '가지', '잘할', '수', '있는', '일에', '광적으로', '집중하는', '것이다'])"
            ]
          },
          "metadata": {},
          "execution_count": 89
        }
      ]
    },
    {
      "cell_type": "markdown",
      "metadata": {
        "id": "3xaQF79AaKiN"
      },
      "source": [
        "## Bag of Words(BoW)"
      ]
    },
    {
      "cell_type": "code",
      "metadata": {
        "id": "1-FpBEoS3CBY",
        "colab": {
          "base_uri": "https://localhost:8080/"
        },
        "outputId": "75c9a3b6-429e-4b45-ed3e-55bec861683b"
      },
      "source": [
        "from sklearn.feature_extraction.text import CountVectorizer\n",
        "\n",
        "corpus = [\"Think like a man of action and act like man of thought.\"]\n",
        "\n",
        "vector = CountVectorizer()\n",
        "bow = vector.fit_transform(corpus)\n",
        "\n",
        "print(bow.toarray())  # 단어 빈도수\n",
        "print(vector.vocabulary_)  # 단어의 인덱스"
      ],
      "execution_count": null,
      "outputs": [
        {
          "output_type": "stream",
          "name": "stdout",
          "text": [
            "[[1 1 1 2 2 2 1 1]]\n",
            "{'think': 6, 'like': 3, 'man': 4, 'of': 5, 'action': 1, 'and': 2, 'act': 0, 'thought': 7}\n"
          ]
        }
      ]
    },
    {
      "cell_type": "code",
      "metadata": {
        "id": "VIjY4WXr48FE",
        "colab": {
          "base_uri": "https://localhost:8080/"
        },
        "outputId": "1d198b70-3785-4b06-98c7-04455059dffb"
      },
      "source": [
        "from sklearn.feature_extraction.text import CountVectorizer\n",
        "\n",
        "corpus = [\"Think like a man of action and act like man of thought.\"]\n",
        "\n",
        "vector = CountVectorizer(stop_words='english')  # 자체 영어 불용어 사전 사용\n",
        "bow = vector.fit_transform(corpus)\n",
        "\n",
        "print(bow.toarray())  # 단어 빈도수\n",
        "print(vector.vocabulary_)  # 단어의 인덱스"
      ],
      "execution_count": null,
      "outputs": [
        {
          "output_type": "stream",
          "name": "stdout",
          "text": [
            "[[1 1 2 2 1 1]]\n",
            "{'think': 4, 'like': 2, 'man': 3, 'action': 1, 'act': 0, 'thought': 5}\n"
          ]
        }
      ]
    },
    {
      "cell_type": "code",
      "metadata": {
        "id": "OMeaVigC4eE6",
        "colab": {
          "base_uri": "https://localhost:8080/"
        },
        "outputId": "ca0897d2-5a04-4922-e096-3b90f230a21c"
      },
      "source": [
        "corpus = [\"평생 살 것처럼 꿈을 꾸어라. 그리고 내일 죽을 것처럼 오늘을 살아라.\"]\n",
        "\n",
        "vector = CountVectorizer()\n",
        "bow = vector.fit_transform(corpus)\n",
        "\n",
        "print(bow.toarray())\n",
        "print(vector.vocabulary_)"
      ],
      "execution_count": null,
      "outputs": [
        {
          "output_type": "stream",
          "name": "stdout",
          "text": [
            "[[2 1 1 1 1 1 1 1 1]]\n",
            "{'평생': 8, '것처럼': 0, '꿈을': 3, '꾸어라': 2, '그리고': 1, '내일': 4, '죽을': 7, '오늘을': 6, '살아라': 5}\n"
          ]
        }
      ]
    },
    {
      "cell_type": "code",
      "metadata": {
        "id": "z2ud_G3LqIpw",
        "colab": {
          "base_uri": "https://localhost:8080/"
        },
        "outputId": "df1bb351-1577-46c6-a577-1673c533b25b"
      },
      "source": [
        "import re\n",
        "from konlpy.tag import Okt\n",
        "\n",
        "tagger = Okt()\n",
        "\n",
        "corpus = \"평생 살 것처럼 꿈을 꾸어라. 그리고 내일 죽을 것처럼 오늘을 살아라.\"\n",
        "tokens = tagger.morphs(re.sub(\"[\\.]\", \"\", corpus))\n",
        "#print(tokens)\n",
        "vocab = {}\n",
        "bow = []\n",
        "\n",
        "for tok in tokens:\n",
        "    if tok not in vocab.keys():\n",
        "        vocab[tok] = len(vocab)\n",
        "        bow.insert(len(vocab)-1, 1)\n",
        "    else:\n",
        "        index = vocab.get(tok)\n",
        "        bow[index] = bow[index]+1\n",
        "\n",
        "print(bow)\n",
        "print(vocab)"
      ],
      "execution_count": null,
      "outputs": [
        {
          "output_type": "stream",
          "name": "stdout",
          "text": [
            "[1, 1, 2, 2, 1, 3, 1, 1, 1, 1, 1, 1]\n",
            "{'평생': 0, '살': 1, '것': 2, '처럼': 3, '꿈': 4, '을': 5, '꾸어라': 6, '그리고': 7, '내일': 8, '죽': 9, '오늘': 10, '살아라': 11}\n"
          ]
        }
      ]
    },
    {
      "cell_type": "markdown",
      "metadata": {
        "id": "5n2gkHk17NyC"
      },
      "source": [
        "## 문서 단어 행렬(DTM)"
      ]
    },
    {
      "cell_type": "markdown",
      "metadata": {
        "id": "F87rTUZs7S2p"
      },
      "source": [
        "* 문서 단어 행렬(Document-Term Matrix)은 문서에 등장하는 여러 단어들의 빈도를 행렬로 표현\n",
        "* 각 문서에 대한 BoW를 하나의 행렬로 표현한 것"
      ]
    },
    {
      "cell_type": "code",
      "metadata": {
        "id": "c4pNYz6V7SO9",
        "colab": {
          "base_uri": "https://localhost:8080/"
        },
        "outputId": "00ff7c5c-c299-498f-ed07-3717173d82f3"
      },
      "source": [
        "from sklearn.feature_extraction.text import CountVectorizer\n",
        "\n",
        "corpus = [\"Think like a man of action and act like man of thought.\",\n",
        "          \"Try not to become a man of success but rather try to become a man of value.\",\n",
        "          \"Give me liberty, of give me death\"]\n",
        "\n",
        "vector = CountVectorizer(stop_words='english')\n",
        "bow = vector.fit_transform(corpus)\n",
        "\n",
        "print(bow.toarray())  # DTM\n",
        "print(vector.vocabulary_)"
      ],
      "execution_count": null,
      "outputs": [
        {
          "output_type": "stream",
          "name": "stdout",
          "text": [
            "[[1 1 0 0 2 2 0 1 1 0 0]\n",
            " [0 0 0 0 0 2 1 0 0 2 1]\n",
            " [0 0 1 1 0 0 0 0 0 0 0]]\n",
            "{'think': 7, 'like': 4, 'man': 5, 'action': 1, 'act': 0, 'thought': 8, 'try': 9, 'success': 6, 'value': 10, 'liberty': 3, 'death': 2}\n"
          ]
        }
      ]
    },
    {
      "cell_type": "code",
      "source": [
        "import pandas as pd\n",
        "\n",
        "columns = []\n",
        "for k, v in sorted(vector.vocabulary_.items(), key=lambda item:item[1]):  # get_feature_name_out()으로 대체 가능\n",
        "    columns.append(k)\n",
        "\n",
        "df = pd.DataFrame(data = bow.toarray(),\n",
        "                  columns = columns)\n",
        "\n",
        "df"
      ],
      "metadata": {
        "colab": {
          "base_uri": "https://localhost:8080/",
          "height": 143
        },
        "id": "IzOvbyFlyEoS",
        "outputId": "61b621ae-ac46-4ac5-f7c4-9e058efc66e5"
      },
      "execution_count": null,
      "outputs": [
        {
          "output_type": "execute_result",
          "data": {
            "text/plain": [
              "   act  action  death  liberty  like  man  success  think  thought  try  value\n",
              "0    1       1      0        0     2    2        0      1        1    0      0\n",
              "1    0       0      0        0     0    2        1      0        0    2      1\n",
              "2    0       0      1        1     0    0        0      0        0    0      0"
            ],
            "text/html": [
              "\n",
              "\n",
              "  <div id=\"df-9215d79f-3a71-480b-a18c-59079833c649\">\n",
              "    <div class=\"colab-df-container\">\n",
              "      <div>\n",
              "<style scoped>\n",
              "    .dataframe tbody tr th:only-of-type {\n",
              "        vertical-align: middle;\n",
              "    }\n",
              "\n",
              "    .dataframe tbody tr th {\n",
              "        vertical-align: top;\n",
              "    }\n",
              "\n",
              "    .dataframe thead th {\n",
              "        text-align: right;\n",
              "    }\n",
              "</style>\n",
              "<table border=\"1\" class=\"dataframe\">\n",
              "  <thead>\n",
              "    <tr style=\"text-align: right;\">\n",
              "      <th></th>\n",
              "      <th>act</th>\n",
              "      <th>action</th>\n",
              "      <th>death</th>\n",
              "      <th>liberty</th>\n",
              "      <th>like</th>\n",
              "      <th>man</th>\n",
              "      <th>success</th>\n",
              "      <th>think</th>\n",
              "      <th>thought</th>\n",
              "      <th>try</th>\n",
              "      <th>value</th>\n",
              "    </tr>\n",
              "  </thead>\n",
              "  <tbody>\n",
              "    <tr>\n",
              "      <th>0</th>\n",
              "      <td>1</td>\n",
              "      <td>1</td>\n",
              "      <td>0</td>\n",
              "      <td>0</td>\n",
              "      <td>2</td>\n",
              "      <td>2</td>\n",
              "      <td>0</td>\n",
              "      <td>1</td>\n",
              "      <td>1</td>\n",
              "      <td>0</td>\n",
              "      <td>0</td>\n",
              "    </tr>\n",
              "    <tr>\n",
              "      <th>1</th>\n",
              "      <td>0</td>\n",
              "      <td>0</td>\n",
              "      <td>0</td>\n",
              "      <td>0</td>\n",
              "      <td>0</td>\n",
              "      <td>2</td>\n",
              "      <td>1</td>\n",
              "      <td>0</td>\n",
              "      <td>0</td>\n",
              "      <td>2</td>\n",
              "      <td>1</td>\n",
              "    </tr>\n",
              "    <tr>\n",
              "      <th>2</th>\n",
              "      <td>0</td>\n",
              "      <td>0</td>\n",
              "      <td>1</td>\n",
              "      <td>1</td>\n",
              "      <td>0</td>\n",
              "      <td>0</td>\n",
              "      <td>0</td>\n",
              "      <td>0</td>\n",
              "      <td>0</td>\n",
              "      <td>0</td>\n",
              "      <td>0</td>\n",
              "    </tr>\n",
              "  </tbody>\n",
              "</table>\n",
              "</div>\n",
              "      <button class=\"colab-df-convert\" onclick=\"convertToInteractive('df-9215d79f-3a71-480b-a18c-59079833c649')\"\n",
              "              title=\"Convert this dataframe to an interactive table.\"\n",
              "              style=\"display:none;\">\n",
              "\n",
              "  <svg xmlns=\"http://www.w3.org/2000/svg\" height=\"24px\"viewBox=\"0 0 24 24\"\n",
              "       width=\"24px\">\n",
              "    <path d=\"M0 0h24v24H0V0z\" fill=\"none\"/>\n",
              "    <path d=\"M18.56 5.44l.94 2.06.94-2.06 2.06-.94-2.06-.94-.94-2.06-.94 2.06-2.06.94zm-11 1L8.5 8.5l.94-2.06 2.06-.94-2.06-.94L8.5 2.5l-.94 2.06-2.06.94zm10 10l.94 2.06.94-2.06 2.06-.94-2.06-.94-.94-2.06-.94 2.06-2.06.94z\"/><path d=\"M17.41 7.96l-1.37-1.37c-.4-.4-.92-.59-1.43-.59-.52 0-1.04.2-1.43.59L10.3 9.45l-7.72 7.72c-.78.78-.78 2.05 0 2.83L4 21.41c.39.39.9.59 1.41.59.51 0 1.02-.2 1.41-.59l7.78-7.78 2.81-2.81c.8-.78.8-2.07 0-2.86zM5.41 20L4 18.59l7.72-7.72 1.47 1.35L5.41 20z\"/>\n",
              "  </svg>\n",
              "      </button>\n",
              "\n",
              "\n",
              "\n",
              "    <div id=\"df-f9f125b3-1140-4cbb-bdf2-2b9dc296cd56\">\n",
              "      <button class=\"colab-df-quickchart\" onclick=\"quickchart('df-f9f125b3-1140-4cbb-bdf2-2b9dc296cd56')\"\n",
              "              title=\"Suggest charts.\"\n",
              "              style=\"display:none;\">\n",
              "\n",
              "<svg xmlns=\"http://www.w3.org/2000/svg\" height=\"24px\"viewBox=\"0 0 24 24\"\n",
              "     width=\"24px\">\n",
              "    <g>\n",
              "        <path d=\"M19 3H5c-1.1 0-2 .9-2 2v14c0 1.1.9 2 2 2h14c1.1 0 2-.9 2-2V5c0-1.1-.9-2-2-2zM9 17H7v-7h2v7zm4 0h-2V7h2v10zm4 0h-2v-4h2v4z\"/>\n",
              "    </g>\n",
              "</svg>\n",
              "      </button>\n",
              "    </div>\n",
              "\n",
              "<style>\n",
              "  .colab-df-quickchart {\n",
              "    background-color: #E8F0FE;\n",
              "    border: none;\n",
              "    border-radius: 50%;\n",
              "    cursor: pointer;\n",
              "    display: none;\n",
              "    fill: #1967D2;\n",
              "    height: 32px;\n",
              "    padding: 0 0 0 0;\n",
              "    width: 32px;\n",
              "  }\n",
              "\n",
              "  .colab-df-quickchart:hover {\n",
              "    background-color: #E2EBFA;\n",
              "    box-shadow: 0px 1px 2px rgba(60, 64, 67, 0.3), 0px 1px 3px 1px rgba(60, 64, 67, 0.15);\n",
              "    fill: #174EA6;\n",
              "  }\n",
              "\n",
              "  [theme=dark] .colab-df-quickchart {\n",
              "    background-color: #3B4455;\n",
              "    fill: #D2E3FC;\n",
              "  }\n",
              "\n",
              "  [theme=dark] .colab-df-quickchart:hover {\n",
              "    background-color: #434B5C;\n",
              "    box-shadow: 0px 1px 3px 1px rgba(0, 0, 0, 0.15);\n",
              "    filter: drop-shadow(0px 1px 2px rgba(0, 0, 0, 0.3));\n",
              "    fill: #FFFFFF;\n",
              "  }\n",
              "</style>\n",
              "\n",
              "    <script>\n",
              "      async function quickchart(key) {\n",
              "        const containerElement = document.querySelector('#' + key);\n",
              "        const charts = await google.colab.kernel.invokeFunction(\n",
              "            'suggestCharts', [key], {});\n",
              "      }\n",
              "    </script>\n",
              "\n",
              "      <script>\n",
              "\n",
              "function displayQuickchartButton(domScope) {\n",
              "  let quickchartButtonEl =\n",
              "    domScope.querySelector('#df-f9f125b3-1140-4cbb-bdf2-2b9dc296cd56 button.colab-df-quickchart');\n",
              "  quickchartButtonEl.style.display =\n",
              "    google.colab.kernel.accessAllowed ? 'block' : 'none';\n",
              "}\n",
              "\n",
              "        displayQuickchartButton(document);\n",
              "      </script>\n",
              "      <style>\n",
              "    .colab-df-container {\n",
              "      display:flex;\n",
              "      flex-wrap:wrap;\n",
              "      gap: 12px;\n",
              "    }\n",
              "\n",
              "    .colab-df-convert {\n",
              "      background-color: #E8F0FE;\n",
              "      border: none;\n",
              "      border-radius: 50%;\n",
              "      cursor: pointer;\n",
              "      display: none;\n",
              "      fill: #1967D2;\n",
              "      height: 32px;\n",
              "      padding: 0 0 0 0;\n",
              "      width: 32px;\n",
              "    }\n",
              "\n",
              "    .colab-df-convert:hover {\n",
              "      background-color: #E2EBFA;\n",
              "      box-shadow: 0px 1px 2px rgba(60, 64, 67, 0.3), 0px 1px 3px 1px rgba(60, 64, 67, 0.15);\n",
              "      fill: #174EA6;\n",
              "    }\n",
              "\n",
              "    [theme=dark] .colab-df-convert {\n",
              "      background-color: #3B4455;\n",
              "      fill: #D2E3FC;\n",
              "    }\n",
              "\n",
              "    [theme=dark] .colab-df-convert:hover {\n",
              "      background-color: #434B5C;\n",
              "      box-shadow: 0px 1px 3px 1px rgba(0, 0, 0, 0.15);\n",
              "      filter: drop-shadow(0px 1px 2px rgba(0, 0, 0, 0.3));\n",
              "      fill: #FFFFFF;\n",
              "    }\n",
              "  </style>\n",
              "\n",
              "      <script>\n",
              "        const buttonEl =\n",
              "          document.querySelector('#df-9215d79f-3a71-480b-a18c-59079833c649 button.colab-df-convert');\n",
              "        buttonEl.style.display =\n",
              "          google.colab.kernel.accessAllowed ? 'block' : 'none';\n",
              "\n",
              "        async function convertToInteractive(key) {\n",
              "          const element = document.querySelector('#df-9215d79f-3a71-480b-a18c-59079833c649');\n",
              "          const dataTable =\n",
              "            await google.colab.kernel.invokeFunction('convertToInteractive',\n",
              "                                                     [key], {});\n",
              "          if (!dataTable) return;\n",
              "\n",
              "          const docLinkHtml = 'Like what you see? Visit the ' +\n",
              "            '<a target=\"_blank\" href=https://colab.research.google.com/notebooks/data_table.ipynb>data table notebook</a>'\n",
              "            + ' to learn more about interactive tables.';\n",
              "          element.innerHTML = '';\n",
              "          dataTable['output_type'] = 'display_data';\n",
              "          await google.colab.output.renderOutput(dataTable, element);\n",
              "          const docLink = document.createElement('div');\n",
              "          docLink.innerHTML = docLinkHtml;\n",
              "          element.appendChild(docLink);\n",
              "        }\n",
              "      </script>\n",
              "    </div>\n",
              "  </div>\n"
            ]
          },
          "metadata": {},
          "execution_count": 97
        }
      ]
    },
    {
      "cell_type": "markdown",
      "metadata": {
        "id": "_z-bPw94FTGb"
      },
      "source": [
        "## 어휘 빈도-문서 역빈도(TF-IDF) 분석"
      ]
    },
    {
      "cell_type": "markdown",
      "metadata": {
        "id": "k-0f-hz5Fgai"
      },
      "source": [
        "* 어휘 빈도-문서 역빈도(TF-IDF; Term Frequency-Inverse Docunment Frequency)는 단순히 빈도수가 높은 단어가 핵심어가 아닌, 특정 문서에서만 집중적으로 등장할 때 해당 단어가 문서의 주제를 잘 담고 있는 핵심어라고 가정"
      ]
    },
    {
      "cell_type": "markdown",
      "metadata": {
        "id": "Z3kEwiZBJSSB"
      },
      "source": [
        "* 특정 문서에서 특정단어가 많이 등장하고 그 단어가 다른 문서에서 적게 등장할 때, 그 단어를 특정 문서의 핵심어로 간주\n",
        "* 어휘 빈도-문서 역빈도는 어휘 빈도와 역문서 빈도를 곱해 계산 가능"
      ]
    },
    {
      "cell_type": "markdown",
      "metadata": {
        "id": "s7wTnMY8JEDC"
      },
      "source": [
        "* **어휘 빈도**는 특정 문서에서 특정 단어가 많이 등장하는 것을 의미\n",
        "\n",
        "$$ tf_{x,y} $$"
      ]
    },
    {
      "cell_type": "markdown",
      "metadata": {
        "id": "R8289-mSJF1p"
      },
      "source": [
        "* **역문서 빈도**는 다른 문서에서 등장하지 않는 단어 빈도를 의미\n",
        "\n",
        "$$ log(N/df_x) $$      "
      ]
    },
    {
      "cell_type": "markdown",
      "metadata": {
        "id": "3MyZYLgRJH8R"
      },
      "source": [
        "* **어휘 빈도-문서 역빈도**는 다음과 같이 표현\n",
        "\n",
        "$$ W_{x,y} = tf_{x,y} * log(N/df_x) $$"
      ]
    },
    {
      "cell_type": "markdown",
      "metadata": {
        "id": "cv_23ugcKMjS"
      },
      "source": [
        "* tf-idf를 편리하게 계산하기 위해 `scikit-learn`의 `tfidfvectorizer`를 이용\n",
        "* 앞서 계산한 단어 빈도 수를 입력하여 tf-idf로 변환"
      ]
    },
    {
      "cell_type": "code",
      "metadata": {
        "id": "JH25kuy-J8cj",
        "colab": {
          "base_uri": "https://localhost:8080/"
        },
        "outputId": "0ed760ba-55bc-49a6-99a6-b0df6ce6c4be"
      },
      "source": [
        "from sklearn.feature_extraction.text import TfidfVectorizer\n",
        "\n",
        "corpus = [\"Think like a man of action and act like man of thought.\",\n",
        "          \"Try not to become a man of success but rather try to become a man of value.\",\n",
        "          \"Give me liberty, of give me death\"]\n",
        "\n",
        "tfidf = TfidfVectorizer(stop_words = 'english').fit(corpus)\n",
        "\n",
        "print(tfidf.transform(corpus).toarray())\n",
        "print(tfidf.vocabulary_)"
      ],
      "execution_count": null,
      "outputs": [
        {
          "output_type": "stream",
          "name": "stdout",
          "text": [
            "[[0.311383   0.311383   0.         0.         0.62276601 0.4736296\n",
            "  0.         0.311383   0.311383   0.         0.        ]\n",
            " [0.         0.         0.         0.         0.         0.52753275\n",
            "  0.34682109 0.         0.         0.69364217 0.34682109]\n",
            " [0.         0.         0.70710678 0.70710678 0.         0.\n",
            "  0.         0.         0.         0.         0.        ]]\n",
            "{'think': 7, 'like': 4, 'man': 5, 'action': 1, 'act': 0, 'thought': 8, 'try': 9, 'success': 6, 'value': 10, 'liberty': 3, 'death': 2}\n"
          ]
        }
      ]
    },
    {
      "cell_type": "code",
      "source": [
        "tfidf.get_feature_names_out()"
      ],
      "metadata": {
        "colab": {
          "base_uri": "https://localhost:8080/"
        },
        "id": "BtkxXeMl1Xgm",
        "outputId": "951d53a7-9ac8-49d9-8d3f-d61d3cdc3e31"
      },
      "execution_count": null,
      "outputs": [
        {
          "output_type": "execute_result",
          "data": {
            "text/plain": [
              "array(['act', 'action', 'death', 'liberty', 'like', 'man', 'success',\n",
              "       'think', 'thought', 'try', 'value'], dtype=object)"
            ]
          },
          "metadata": {},
          "execution_count": 3
        }
      ]
    },
    {
      "cell_type": "markdown",
      "metadata": {
        "id": "eoGurU81KqYD"
      },
      "source": [
        "* 좀 더 편리하게 확인하기 위해 데이터프레임으로 변환"
      ]
    },
    {
      "cell_type": "code",
      "metadata": {
        "id": "uSjYYeDBKGEr",
        "colab": {
          "base_uri": "https://localhost:8080/",
          "height": 143
        },
        "outputId": "2608635c-d506-4fe0-b38b-ba12babd91f1"
      },
      "source": [
        "import pandas as pd\n",
        "\n",
        "df = pd.DataFrame(data = tfidf.transform(corpus).toarray(),\n",
        "                  columns = tfidf.get_feature_names_out())\n",
        "\n",
        "df"
      ],
      "execution_count": null,
      "outputs": [
        {
          "output_type": "execute_result",
          "data": {
            "text/plain": [
              "        act    action     death   liberty      like       man   success  \\\n",
              "0  0.311383  0.311383  0.000000  0.000000  0.622766  0.473630  0.000000   \n",
              "1  0.000000  0.000000  0.000000  0.000000  0.000000  0.527533  0.346821   \n",
              "2  0.000000  0.000000  0.707107  0.707107  0.000000  0.000000  0.000000   \n",
              "\n",
              "      think   thought       try     value  \n",
              "0  0.311383  0.311383  0.000000  0.000000  \n",
              "1  0.000000  0.000000  0.693642  0.346821  \n",
              "2  0.000000  0.000000  0.000000  0.000000  "
            ],
            "text/html": [
              "\n",
              "\n",
              "  <div id=\"df-50c3f9ef-2b84-42e3-b275-81d3229be2d4\">\n",
              "    <div class=\"colab-df-container\">\n",
              "      <div>\n",
              "<style scoped>\n",
              "    .dataframe tbody tr th:only-of-type {\n",
              "        vertical-align: middle;\n",
              "    }\n",
              "\n",
              "    .dataframe tbody tr th {\n",
              "        vertical-align: top;\n",
              "    }\n",
              "\n",
              "    .dataframe thead th {\n",
              "        text-align: right;\n",
              "    }\n",
              "</style>\n",
              "<table border=\"1\" class=\"dataframe\">\n",
              "  <thead>\n",
              "    <tr style=\"text-align: right;\">\n",
              "      <th></th>\n",
              "      <th>act</th>\n",
              "      <th>action</th>\n",
              "      <th>death</th>\n",
              "      <th>liberty</th>\n",
              "      <th>like</th>\n",
              "      <th>man</th>\n",
              "      <th>success</th>\n",
              "      <th>think</th>\n",
              "      <th>thought</th>\n",
              "      <th>try</th>\n",
              "      <th>value</th>\n",
              "    </tr>\n",
              "  </thead>\n",
              "  <tbody>\n",
              "    <tr>\n",
              "      <th>0</th>\n",
              "      <td>0.311383</td>\n",
              "      <td>0.311383</td>\n",
              "      <td>0.000000</td>\n",
              "      <td>0.000000</td>\n",
              "      <td>0.622766</td>\n",
              "      <td>0.473630</td>\n",
              "      <td>0.000000</td>\n",
              "      <td>0.311383</td>\n",
              "      <td>0.311383</td>\n",
              "      <td>0.000000</td>\n",
              "      <td>0.000000</td>\n",
              "    </tr>\n",
              "    <tr>\n",
              "      <th>1</th>\n",
              "      <td>0.000000</td>\n",
              "      <td>0.000000</td>\n",
              "      <td>0.000000</td>\n",
              "      <td>0.000000</td>\n",
              "      <td>0.000000</td>\n",
              "      <td>0.527533</td>\n",
              "      <td>0.346821</td>\n",
              "      <td>0.000000</td>\n",
              "      <td>0.000000</td>\n",
              "      <td>0.693642</td>\n",
              "      <td>0.346821</td>\n",
              "    </tr>\n",
              "    <tr>\n",
              "      <th>2</th>\n",
              "      <td>0.000000</td>\n",
              "      <td>0.000000</td>\n",
              "      <td>0.707107</td>\n",
              "      <td>0.707107</td>\n",
              "      <td>0.000000</td>\n",
              "      <td>0.000000</td>\n",
              "      <td>0.000000</td>\n",
              "      <td>0.000000</td>\n",
              "      <td>0.000000</td>\n",
              "      <td>0.000000</td>\n",
              "      <td>0.000000</td>\n",
              "    </tr>\n",
              "  </tbody>\n",
              "</table>\n",
              "</div>\n",
              "      <button class=\"colab-df-convert\" onclick=\"convertToInteractive('df-50c3f9ef-2b84-42e3-b275-81d3229be2d4')\"\n",
              "              title=\"Convert this dataframe to an interactive table.\"\n",
              "              style=\"display:none;\">\n",
              "\n",
              "  <svg xmlns=\"http://www.w3.org/2000/svg\" height=\"24px\"viewBox=\"0 0 24 24\"\n",
              "       width=\"24px\">\n",
              "    <path d=\"M0 0h24v24H0V0z\" fill=\"none\"/>\n",
              "    <path d=\"M18.56 5.44l.94 2.06.94-2.06 2.06-.94-2.06-.94-.94-2.06-.94 2.06-2.06.94zm-11 1L8.5 8.5l.94-2.06 2.06-.94-2.06-.94L8.5 2.5l-.94 2.06-2.06.94zm10 10l.94 2.06.94-2.06 2.06-.94-2.06-.94-.94-2.06-.94 2.06-2.06.94z\"/><path d=\"M17.41 7.96l-1.37-1.37c-.4-.4-.92-.59-1.43-.59-.52 0-1.04.2-1.43.59L10.3 9.45l-7.72 7.72c-.78.78-.78 2.05 0 2.83L4 21.41c.39.39.9.59 1.41.59.51 0 1.02-.2 1.41-.59l7.78-7.78 2.81-2.81c.8-.78.8-2.07 0-2.86zM5.41 20L4 18.59l7.72-7.72 1.47 1.35L5.41 20z\"/>\n",
              "  </svg>\n",
              "      </button>\n",
              "\n",
              "\n",
              "\n",
              "    <div id=\"df-33ef5b92-7813-494c-b48f-5011951e6bb6\">\n",
              "      <button class=\"colab-df-quickchart\" onclick=\"quickchart('df-33ef5b92-7813-494c-b48f-5011951e6bb6')\"\n",
              "              title=\"Suggest charts.\"\n",
              "              style=\"display:none;\">\n",
              "\n",
              "<svg xmlns=\"http://www.w3.org/2000/svg\" height=\"24px\"viewBox=\"0 0 24 24\"\n",
              "     width=\"24px\">\n",
              "    <g>\n",
              "        <path d=\"M19 3H5c-1.1 0-2 .9-2 2v14c0 1.1.9 2 2 2h14c1.1 0 2-.9 2-2V5c0-1.1-.9-2-2-2zM9 17H7v-7h2v7zm4 0h-2V7h2v10zm4 0h-2v-4h2v4z\"/>\n",
              "    </g>\n",
              "</svg>\n",
              "      </button>\n",
              "    </div>\n",
              "\n",
              "<style>\n",
              "  .colab-df-quickchart {\n",
              "    background-color: #E8F0FE;\n",
              "    border: none;\n",
              "    border-radius: 50%;\n",
              "    cursor: pointer;\n",
              "    display: none;\n",
              "    fill: #1967D2;\n",
              "    height: 32px;\n",
              "    padding: 0 0 0 0;\n",
              "    width: 32px;\n",
              "  }\n",
              "\n",
              "  .colab-df-quickchart:hover {\n",
              "    background-color: #E2EBFA;\n",
              "    box-shadow: 0px 1px 2px rgba(60, 64, 67, 0.3), 0px 1px 3px 1px rgba(60, 64, 67, 0.15);\n",
              "    fill: #174EA6;\n",
              "  }\n",
              "\n",
              "  [theme=dark] .colab-df-quickchart {\n",
              "    background-color: #3B4455;\n",
              "    fill: #D2E3FC;\n",
              "  }\n",
              "\n",
              "  [theme=dark] .colab-df-quickchart:hover {\n",
              "    background-color: #434B5C;\n",
              "    box-shadow: 0px 1px 3px 1px rgba(0, 0, 0, 0.15);\n",
              "    filter: drop-shadow(0px 1px 2px rgba(0, 0, 0, 0.3));\n",
              "    fill: #FFFFFF;\n",
              "  }\n",
              "</style>\n",
              "\n",
              "    <script>\n",
              "      async function quickchart(key) {\n",
              "        const containerElement = document.querySelector('#' + key);\n",
              "        const charts = await google.colab.kernel.invokeFunction(\n",
              "            'suggestCharts', [key], {});\n",
              "      }\n",
              "    </script>\n",
              "\n",
              "      <script>\n",
              "\n",
              "function displayQuickchartButton(domScope) {\n",
              "  let quickchartButtonEl =\n",
              "    domScope.querySelector('#df-33ef5b92-7813-494c-b48f-5011951e6bb6 button.colab-df-quickchart');\n",
              "  quickchartButtonEl.style.display =\n",
              "    google.colab.kernel.accessAllowed ? 'block' : 'none';\n",
              "}\n",
              "\n",
              "        displayQuickchartButton(document);\n",
              "      </script>\n",
              "      <style>\n",
              "    .colab-df-container {\n",
              "      display:flex;\n",
              "      flex-wrap:wrap;\n",
              "      gap: 12px;\n",
              "    }\n",
              "\n",
              "    .colab-df-convert {\n",
              "      background-color: #E8F0FE;\n",
              "      border: none;\n",
              "      border-radius: 50%;\n",
              "      cursor: pointer;\n",
              "      display: none;\n",
              "      fill: #1967D2;\n",
              "      height: 32px;\n",
              "      padding: 0 0 0 0;\n",
              "      width: 32px;\n",
              "    }\n",
              "\n",
              "    .colab-df-convert:hover {\n",
              "      background-color: #E2EBFA;\n",
              "      box-shadow: 0px 1px 2px rgba(60, 64, 67, 0.3), 0px 1px 3px 1px rgba(60, 64, 67, 0.15);\n",
              "      fill: #174EA6;\n",
              "    }\n",
              "\n",
              "    [theme=dark] .colab-df-convert {\n",
              "      background-color: #3B4455;\n",
              "      fill: #D2E3FC;\n",
              "    }\n",
              "\n",
              "    [theme=dark] .colab-df-convert:hover {\n",
              "      background-color: #434B5C;\n",
              "      box-shadow: 0px 1px 3px 1px rgba(0, 0, 0, 0.15);\n",
              "      filter: drop-shadow(0px 1px 2px rgba(0, 0, 0, 0.3));\n",
              "      fill: #FFFFFF;\n",
              "    }\n",
              "  </style>\n",
              "\n",
              "      <script>\n",
              "        const buttonEl =\n",
              "          document.querySelector('#df-50c3f9ef-2b84-42e3-b275-81d3229be2d4 button.colab-df-convert');\n",
              "        buttonEl.style.display =\n",
              "          google.colab.kernel.accessAllowed ? 'block' : 'none';\n",
              "\n",
              "        async function convertToInteractive(key) {\n",
              "          const element = document.querySelector('#df-50c3f9ef-2b84-42e3-b275-81d3229be2d4');\n",
              "          const dataTable =\n",
              "            await google.colab.kernel.invokeFunction('convertToInteractive',\n",
              "                                                     [key], {});\n",
              "          if (!dataTable) return;\n",
              "\n",
              "          const docLinkHtml = 'Like what you see? Visit the ' +\n",
              "            '<a target=\"_blank\" href=https://colab.research.google.com/notebooks/data_table.ipynb>data table notebook</a>'\n",
              "            + ' to learn more about interactive tables.';\n",
              "          element.innerHTML = '';\n",
              "          dataTable['output_type'] = 'display_data';\n",
              "          await google.colab.output.renderOutput(dataTable, element);\n",
              "          const docLink = document.createElement('div');\n",
              "          docLink.innerHTML = docLinkHtml;\n",
              "          element.appendChild(docLink);\n",
              "        }\n",
              "      </script>\n",
              "    </div>\n",
              "  </div>\n"
            ]
          },
          "metadata": {},
          "execution_count": 5
        }
      ]
    },
    {
      "cell_type": "code",
      "source": [],
      "metadata": {
        "id": "aZqIIQuh1lvE"
      },
      "execution_count": null,
      "outputs": []
    }
  ]
}