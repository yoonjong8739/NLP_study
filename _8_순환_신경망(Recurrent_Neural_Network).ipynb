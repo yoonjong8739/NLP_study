{
  "nbformat": 4,
  "nbformat_minor": 0,
  "metadata": {
    "colab": {
      "provenance": [],
      "gpuType": "T4",
      "include_colab_link": true
    },
    "kernelspec": {
      "name": "python3",
      "display_name": "Python 3"
    },
    "accelerator": "GPU"
  },
  "cells": [
    {
      "cell_type": "markdown",
      "metadata": {
        "id": "view-in-github",
        "colab_type": "text"
      },
      "source": [
        "<a href=\"https://colab.research.google.com/github/yoonjong8739/NLP_study/blob/master/_8_%EC%88%9C%ED%99%98_%EC%8B%A0%EA%B2%BD%EB%A7%9D(Recurrent_Neural_Network).ipynb\" target=\"_parent\"><img src=\"https://colab.research.google.com/assets/colab-badge.svg\" alt=\"Open In Colab\"/></a>"
      ]
    },
    {
      "cell_type": "markdown",
      "metadata": {
        "id": "jacLnynuqUXZ"
      },
      "source": [
        "# 순환 신경망 (Recurrent Neural Network, RNN)\n",
        "\n",
        "- **순서가 있는 데이터**를 입력으로 받음\n",
        "\n",
        "- 변화하는 입력에 대한 출력을 얻음\n",
        "\n",
        "- 시계열(날씨, 주가 등), 자연어와 같이 **시간의 흐름에 따라 변화하고, 그 변화가 의미를 갖는 데이터**"
      ]
    },
    {
      "cell_type": "markdown",
      "metadata": {
        "id": "3P0gpo4gqWUz"
      },
      "source": [
        "## Feed Forward Network vs Recurrent Network\n",
        "\n",
        "- Feed Forward Net (앞먹임 구조)\n",
        "  - 일반적인 구조의 신경망\n",
        "\n",
        "  - 입력 → 은닉 → 출력층 으로 이어지는 단방향 구조\n",
        "\n",
        "  - 이전 스텝의 출력의 영향을 받지 않음\n",
        "\n",
        "- Recurrent Net (되먹임 구조)\n",
        "  - 이전 층(Layer), 또는 스텝의 출력이 다시 입력으로 연결되는 신경망 구조\n",
        "\n",
        "  - 각 스텝마다 이전 상태를 기억 시스템(Memory System)  \n",
        "\n",
        "  - 현재 상태가 이전 상태에 종속\n",
        "\n",
        "  <br>\n",
        "\n",
        "  <img src=\"https://www.researchgate.net/profile/Engin_Pekel/publication/315111480/figure/fig1/AS:472548166115333@1489675670530/Feed-forward-and-recurrent-ANN-architecture.png\">\n",
        "\n",
        "  <sub>출처: https://www.researchgate.net/figure/Feed-forward-and-recurrent-ANN-architecture_fig1_315111480</sub>\n",
        "\n"
      ]
    },
    {
      "cell_type": "markdown",
      "metadata": {
        "id": "2h5HFH0BqYho"
      },
      "source": [
        "## 순환 신경망 구조\n",
        "\n",
        "<img src=\"https://colah.github.io/posts/2015-08-Understanding-LSTMs/img/RNN-unrolled.png\" width=\"700\">\n",
        "\n",
        "<br>\n",
        "\n",
        "- 입력 $x_t$에서 $t$는 시각을 뜻함\n",
        "\n",
        "- $X_0$에 대한 출력 $Y_0$이 다음 레이어에 전달\n",
        "\n",
        "- 각각의 입력에 대해 출력은 해당 레이어대로 출력값을 반환"
      ]
    },
    {
      "cell_type": "markdown",
      "metadata": {
        "id": "kowOGfSLqbSn"
      },
      "source": [
        "## 순환 신경망의 다양한 구조\n",
        "\n",
        "<img src=\"https://static.packt-cdn.com/products/9781789346640/graphics/2d4a64ef-9cf9-4b4a-9049-cb9de7a07f89.png\">\n",
        "  \n",
        "  <sub>출처: https://subscription.packtpub.com/book/big_data_and_business_intelligence/9781789346640/11/ch11lvl1sec80/introduction</sub>\n",
        "\n",
        "- one to one\n",
        "  - RNN\n",
        "\n",
        "- one to many\n",
        "  - Image Captioning\n",
        "\n",
        "  - 이미지에 대한 설명 생성\n",
        "\n",
        "- many to one\n",
        "  - Sentiment Classification\n",
        "\n",
        "  - 문장의 긍정/부정을 판단하는 감정 분석\n",
        "\n",
        "- many to many\n",
        "  - Machine Translation\n",
        "\n",
        "  - 하나의 언어를 다른 언어로 번역하는 기계 번역\n",
        "\n",
        "- many to many\n",
        "  - Video Classification(Frame Level)\n",
        "\n",
        "\n"
      ]
    },
    {
      "cell_type": "markdown",
      "metadata": {
        "id": "uiIA4Ue7-G5B"
      },
      "source": [
        "## 두 가지 정보(현재 입력, 이전 시각의 출력)을 처리하는 수식\n",
        "$\\qquad h_t = tanh ( \\ h_{t-1} W_h \\ + \\ x_t W_x + b) $\n",
        "\n",
        "- $W_x$ : 입력 $x$를 출력 $h$로 변환하기 위한 가중치\n",
        "\n",
        "- $W_h$ : 다음 시각의 출력으로 변환하기 위한 가중치\n",
        "\n",
        "- $h$는 '상태'를 기억\n",
        "\n",
        "- $h_t \\ $를 은닉 상태(hidden state) 또는 은닉 상태 벡터(hidden state vector)라고도 불림\n",
        "\n",
        "  <sub>출처: https://colah.github.io/posts/2015-08-Understanding-LSTMs/</sub>"
      ]
    },
    {
      "cell_type": "markdown",
      "metadata": {
        "id": "lp3_sVIjHk0F"
      },
      "source": [
        "## 순환 신경망 레이어 (RNN Layer)\n",
        "\n",
        "- 입력: `(timesteps, input_features)`\n",
        "\n",
        "- 출력: `(timesteps, output_features)`"
      ]
    },
    {
      "cell_type": "code",
      "metadata": {
        "id": "n08yr0aAIbFD"
      },
      "source": [
        "import numpy as np"
      ],
      "execution_count": null,
      "outputs": []
    },
    {
      "cell_type": "code",
      "metadata": {
        "id": "ZKIInEEZIcBj"
      },
      "source": [
        "timesteps = 100\n",
        "input_features = 32\n",
        "output_features = 64\n",
        "\n",
        "inputs = np.random.random((timesteps, input_features))\n",
        "state_t = np.zeros((output_features, ))\n",
        "\n",
        "W = np.random.random((output_features, input_features))\n",
        "U = np.random.random((output_features, output_features))\n",
        "b = np.random.random((output_features, ))\n",
        "\n",
        "successive_outputs = []\n",
        "\n",
        "for input_t in inputs:\n",
        "    output_t = np.tanh(np.dot(W, input_t) + np.dot(U, state_t) + b)\n",
        "    successive_outputs.append(output_t)\n",
        "    state_t = output_t\n",
        "\n",
        "final_output_sequence = np.stack(successive_outputs, axis=0)"
      ],
      "execution_count": null,
      "outputs": []
    },
    {
      "cell_type": "markdown",
      "metadata": {
        "id": "bEZ8dQEEKxlQ"
      },
      "source": [
        "## 케라스의 순환층\n",
        "- `SimpleRNN` layer\n",
        "\n",
        "- 입력: `(batch_size, timesteps, input_features)`\n",
        "\n",
        "- 출력\n",
        "  - `return_sequences`로 결정할 수 있음\n",
        "  \n",
        "  - 3D 텐서\n",
        "    - 타임스텝의 출력을 모은 전체 시퀀스를 반환\n",
        "\n",
        "    - `(batch_size, timesteps, output_features)`\n",
        "\n",
        "  - 2D 텐서\n",
        "    - 입력 시퀀스에 대한 마지막 출력만 반환\n",
        "\n",
        "    - `(batch_size, output_features)`\n"
      ]
    },
    {
      "cell_type": "code",
      "metadata": {
        "id": "lZ1YCi1iKMC8"
      },
      "source": [
        "from keras.layers import SimpleRNN, Embedding\n",
        "from keras.models import Sequential"
      ],
      "execution_count": null,
      "outputs": []
    },
    {
      "cell_type": "code",
      "metadata": {
        "id": "GQ9LbTgoKxIl",
        "colab": {
          "base_uri": "https://localhost:8080/"
        },
        "outputId": "42b1678d-1075-44df-e652-ae37543f9046"
      },
      "source": [
        "model = Sequential()\n",
        "model.add(Embedding(input_dim=10000, output_dim=32))\n",
        "model.add(SimpleRNN(32))\n",
        "model.summary()"
      ],
      "execution_count": null,
      "outputs": [
        {
          "output_type": "stream",
          "name": "stdout",
          "text": [
            "Model: \"sequential\"\n",
            "_________________________________________________________________\n",
            " Layer (type)                Output Shape              Param #   \n",
            "=================================================================\n",
            " embedding (Embedding)       (None, None, 32)          320000    \n",
            "                                                                 \n",
            " simple_rnn (SimpleRNN)      (None, 32)                2080      \n",
            "                                                                 \n",
            "=================================================================\n",
            "Total params: 322,080\n",
            "Trainable params: 322,080\n",
            "Non-trainable params: 0\n",
            "_________________________________________________________________\n"
          ]
        }
      ]
    },
    {
      "cell_type": "code",
      "metadata": {
        "id": "KDxE5Jv0Kc7O",
        "colab": {
          "base_uri": "https://localhost:8080/"
        },
        "outputId": "a989f993-3bb9-4b48-d866-b3d3d885807c"
      },
      "source": [
        "model = Sequential()\n",
        "model.add(Embedding(input_dim=10000, output_dim=32))\n",
        "model.add(SimpleRNN(32, return_sequences=True))  # 층을 여러 개 쌓을 때 사용\n",
        "model.summary()"
      ],
      "execution_count": null,
      "outputs": [
        {
          "output_type": "stream",
          "name": "stdout",
          "text": [
            "Model: \"sequential_1\"\n",
            "_________________________________________________________________\n",
            " Layer (type)                Output Shape              Param #   \n",
            "=================================================================\n",
            " embedding_1 (Embedding)     (None, None, 32)          320000    \n",
            "                                                                 \n",
            " simple_rnn_1 (SimpleRNN)    (None, None, 32)          2080      \n",
            "                                                                 \n",
            "=================================================================\n",
            "Total params: 322,080\n",
            "Trainable params: 322,080\n",
            "Non-trainable params: 0\n",
            "_________________________________________________________________\n"
          ]
        }
      ]
    },
    {
      "cell_type": "code",
      "source": [
        "model = Sequential()\n",
        "model.add(Embedding(input_dim=10000, output_dim=32))\n",
        "model.add(SimpleRNN(32, return_sequences=True))  # 층을 여러 개 쌓을 때 사용\n",
        "model.add(SimpleRNN(16))\n",
        "model.summary()"
      ],
      "metadata": {
        "colab": {
          "base_uri": "https://localhost:8080/"
        },
        "id": "37YRl8q5T1Ne",
        "outputId": "ce8490a8-c849-4299-d3d9-a600dfe0b971"
      },
      "execution_count": null,
      "outputs": [
        {
          "output_type": "stream",
          "name": "stdout",
          "text": [
            "Model: \"sequential_3\"\n",
            "_________________________________________________________________\n",
            " Layer (type)                Output Shape              Param #   \n",
            "=================================================================\n",
            " embedding_3 (Embedding)     (None, None, 32)          320000    \n",
            "                                                                 \n",
            " simple_rnn_4 (SimpleRNN)    (None, None, 32)          2080      \n",
            "                                                                 \n",
            " simple_rnn_5 (SimpleRNN)    (None, 16)                784       \n",
            "                                                                 \n",
            "=================================================================\n",
            "Total params: 322,864\n",
            "Trainable params: 322,864\n",
            "Non-trainable params: 0\n",
            "_________________________________________________________________\n"
          ]
        }
      ]
    },
    {
      "cell_type": "markdown",
      "metadata": {
        "id": "E-MDIz1zcIyP"
      },
      "source": [
        "- 네트워크의 표현력을 증가시키기 위해 여러 개의 순환층을 차례대로 쌓는 것이 유용할 때가 있음\n",
        "\n",
        "  - 이런 설정에서는 중간층들이 전체 출력 시퀀스를 반환하도록 설정"
      ]
    },
    {
      "cell_type": "code",
      "metadata": {
        "id": "E1tUaIe2L7GZ",
        "colab": {
          "base_uri": "https://localhost:8080/"
        },
        "outputId": "00378422-542f-4490-8efa-5b897fd65762"
      },
      "source": [
        "model = Sequential()\n",
        "model.add(Embedding(input_dim=10000, output_dim=32))\n",
        "model.add(SimpleRNN(32, return_sequences=True))  # 층을 여러 개 쌓을 때 사용\n",
        "model.add(SimpleRNN(32, return_sequences=True))\n",
        "model.add(SimpleRNN(32, return_sequences=True))\n",
        "model.add(SimpleRNN(32))\n",
        "\n",
        "model.summary()"
      ],
      "execution_count": null,
      "outputs": [
        {
          "output_type": "stream",
          "name": "stdout",
          "text": [
            "Model: \"sequential_4\"\n",
            "_________________________________________________________________\n",
            " Layer (type)                Output Shape              Param #   \n",
            "=================================================================\n",
            " embedding_4 (Embedding)     (None, None, 32)          320000    \n",
            "                                                                 \n",
            " simple_rnn_6 (SimpleRNN)    (None, None, 32)          2080      \n",
            "                                                                 \n",
            " simple_rnn_7 (SimpleRNN)    (None, None, 32)          2080      \n",
            "                                                                 \n",
            " simple_rnn_8 (SimpleRNN)    (None, None, 32)          2080      \n",
            "                                                                 \n",
            " simple_rnn_9 (SimpleRNN)    (None, 32)                2080      \n",
            "                                                                 \n",
            "=================================================================\n",
            "Total params: 328,320\n",
            "Trainable params: 328,320\n",
            "Non-trainable params: 0\n",
            "_________________________________________________________________\n"
          ]
        }
      ]
    },
    {
      "cell_type": "markdown",
      "metadata": {
        "id": "j0CNAzN_deXE"
      },
      "source": [
        "## IMDB 데이터 적용"
      ]
    },
    {
      "cell_type": "markdown",
      "metadata": {
        "id": "W1SbNYRdmVTY"
      },
      "source": [
        "### 데이터 로드"
      ]
    },
    {
      "cell_type": "code",
      "metadata": {
        "id": "-27Tkihbcei2"
      },
      "source": [
        "from keras.datasets import imdb\n",
        "from keras.utils import pad_sequences"
      ],
      "execution_count": null,
      "outputs": []
    },
    {
      "cell_type": "code",
      "metadata": {
        "id": "KL-_piPIdms6",
        "colab": {
          "base_uri": "https://localhost:8080/"
        },
        "outputId": "0eaf3c52-a48d-4551-dfda-674ac0d8ca7d"
      },
      "source": [
        "num_words = 10000\n",
        "max_len = 500\n",
        "batch_size = 32\n",
        "\n",
        "(input_train, y_train), (input_test, y_test) = imdb.load_data(num_words=num_words)\n",
        "print(len(input_train))\n",
        "print(len(input_test))\n",
        "\n",
        "input_train = pad_sequences(input_train, maxlen=max_len)\n",
        "input_test = pad_sequences(input_test, maxlen=max_len)\n",
        "print(input_train.shape)\n",
        "print(input_test.shape)"
      ],
      "execution_count": null,
      "outputs": [
        {
          "output_type": "stream",
          "name": "stdout",
          "text": [
            "Downloading data from https://storage.googleapis.com/tensorflow/tf-keras-datasets/imdb.npz\n",
            "17464789/17464789 [==============================] - 1s 0us/step\n",
            "25000\n",
            "25000\n",
            "(25000, 500)\n",
            "(25000, 500)\n"
          ]
        }
      ]
    },
    {
      "cell_type": "markdown",
      "metadata": {
        "id": "uf2EVnzceS4R"
      },
      "source": [
        "### 모델 구성"
      ]
    },
    {
      "cell_type": "code",
      "metadata": {
        "id": "d7dfeDC5eMdj"
      },
      "source": [
        "from keras.layers import Dense"
      ],
      "execution_count": null,
      "outputs": []
    },
    {
      "cell_type": "code",
      "metadata": {
        "id": "KnAUijOReWGu",
        "colab": {
          "base_uri": "https://localhost:8080/"
        },
        "outputId": "95957605-7b78-4d9b-b908-7a10e9f47ca8"
      },
      "source": [
        "model = Sequential()\n",
        "\n",
        "model.add(Embedding(input_dim=num_words, output_dim=32))\n",
        "model.add(SimpleRNN(32))\n",
        "model.add(Dense(1, activation='sigmoid'))\n",
        "\n",
        "model.compile(\n",
        "    optimizer = 'rmsprop',\n",
        "    loss = 'binary_crossentropy',\n",
        "    metrics = ['acc']\n",
        ")\n",
        "\n",
        "model.summary()"
      ],
      "execution_count": null,
      "outputs": [
        {
          "output_type": "stream",
          "name": "stdout",
          "text": [
            "Model: \"sequential_5\"\n",
            "_________________________________________________________________\n",
            " Layer (type)                Output Shape              Param #   \n",
            "=================================================================\n",
            " embedding_5 (Embedding)     (None, None, 32)          320000    \n",
            "                                                                 \n",
            " simple_rnn_10 (SimpleRNN)   (None, 32)                2080      \n",
            "                                                                 \n",
            " dense (Dense)               (None, 1)                 33        \n",
            "                                                                 \n",
            "=================================================================\n",
            "Total params: 322,113\n",
            "Trainable params: 322,113\n",
            "Non-trainable params: 0\n",
            "_________________________________________________________________\n"
          ]
        }
      ]
    },
    {
      "cell_type": "markdown",
      "metadata": {
        "id": "pU_9-Hu7mcMa"
      },
      "source": [
        "### 모델 학습"
      ]
    },
    {
      "cell_type": "code",
      "metadata": {
        "id": "XdPtzPwNeonA",
        "colab": {
          "base_uri": "https://localhost:8080/"
        },
        "outputId": "9ac2aa3d-ec5d-4579-9540-df8bc596a545"
      },
      "source": [
        "history = model.fit(\n",
        "    input_train, y_train,\n",
        "    epochs = 10,\n",
        "    batch_size = 128,\n",
        "    validation_split = 0.2\n",
        ")"
      ],
      "execution_count": null,
      "outputs": [
        {
          "output_type": "stream",
          "name": "stdout",
          "text": [
            "Epoch 1/10\n",
            "157/157 [==============================] - 124s 751ms/step - loss: 0.5929 - acc: 0.6728 - val_loss: 0.4829 - val_acc: 0.7758\n",
            "Epoch 2/10\n",
            "157/157 [==============================] - 110s 703ms/step - loss: 0.3885 - acc: 0.8350 - val_loss: 0.3959 - val_acc: 0.8228\n",
            "Epoch 3/10\n",
            "157/157 [==============================] - 106s 677ms/step - loss: 0.3062 - acc: 0.8751 - val_loss: 0.4613 - val_acc: 0.8120\n",
            "Epoch 4/10\n",
            "157/157 [==============================] - 98s 627ms/step - loss: 0.2401 - acc: 0.9081 - val_loss: 0.3770 - val_acc: 0.8402\n",
            "Epoch 5/10\n",
            "157/157 [==============================] - 100s 634ms/step - loss: 0.1778 - acc: 0.9348 - val_loss: 0.4073 - val_acc: 0.8404\n",
            "Epoch 6/10\n",
            "157/157 [==============================] - 94s 596ms/step - loss: 0.1252 - acc: 0.9557 - val_loss: 0.4097 - val_acc: 0.8554\n",
            "Epoch 7/10\n",
            "157/157 [==============================] - 97s 615ms/step - loss: 0.0865 - acc: 0.9725 - val_loss: 0.4786 - val_acc: 0.8250\n",
            "Epoch 8/10\n",
            "157/157 [==============================] - 94s 599ms/step - loss: 0.0499 - acc: 0.9853 - val_loss: 0.4892 - val_acc: 0.8394\n",
            "Epoch 9/10\n",
            "157/157 [==============================] - 93s 595ms/step - loss: 0.0344 - acc: 0.9900 - val_loss: 0.5101 - val_acc: 0.8446\n",
            "Epoch 10/10\n",
            "157/157 [==============================] - 93s 594ms/step - loss: 0.0249 - acc: 0.9930 - val_loss: 0.6455 - val_acc: 0.8182\n"
          ]
        }
      ]
    },
    {
      "cell_type": "markdown",
      "metadata": {
        "id": "afIyKdLsmj6N"
      },
      "source": [
        "### 시각화"
      ]
    },
    {
      "cell_type": "code",
      "metadata": {
        "id": "sendhEujeu8S"
      },
      "source": [
        "import matplotlib.pyplot as plt\n",
        "plt.style.use('ggplot')"
      ],
      "execution_count": null,
      "outputs": []
    },
    {
      "cell_type": "code",
      "metadata": {
        "id": "3rjMFpiBe4Fa",
        "colab": {
          "base_uri": "https://localhost:8080/",
          "height": 453
        },
        "outputId": "bb3bf67b-db20-4267-cd64-3dd6ca57a3a1"
      },
      "source": [
        "loss = history.history['loss']\n",
        "val_loss = history.history['val_loss']\n",
        "acc = history.history['acc']\n",
        "val_acc = history.history['val_acc']\n",
        "\n",
        "epochs = range(1, len(loss)+1)\n",
        "\n",
        "fig = plt.figure(figsize = (9,6))\n",
        "ax1 = fig.add_subplot(1,2,1)\n",
        "ax2 = fig.add_subplot(1,2,2)\n",
        "\n",
        "ax1.plot(epochs, loss, 'b--', label = 'training loss')\n",
        "ax1.plot(epochs, val_loss, 'r:', label = 'validation loss')\n",
        "ax1.legend()\n",
        "ax1.set_xlabel('Epoch')\n",
        "ax1.set_ylabel('Loss')\n",
        "ax1.set_title('Training Loss vs Validation Loss')\n",
        "\n",
        "ax2.plot(epochs, acc, 'b--', label = 'training accuracy')\n",
        "ax2.plot(epochs, val_acc, 'r:', label = 'validation accuracy')\n",
        "ax2.legend()\n",
        "ax2.set_xlabel('Epoch')\n",
        "ax2.set_ylabel('Accuracy')\n",
        "ax2.set_title('Training Accuracy vs Validation Accuracy')\n",
        "\n",
        "plt.show();"
      ],
      "execution_count": null,
      "outputs": [
        {
          "output_type": "display_data",
          "data": {
            "text/plain": [
              "<Figure size 900x600 with 2 Axes>"
            ],
            "image/png": "[encoded data removed]"
          },
          "metadata": {}
        }
      ]
    },
    {
      "cell_type": "code",
      "metadata": {
        "id": "YLO526Sgf-U_",
        "colab": {
          "base_uri": "https://localhost:8080/"
        },
        "outputId": "0b15d425-89dc-43d3-cf43-9db9d9cdc712"
      },
      "source": [
        "model.evaluate(input_test, y_test)"
      ],
      "execution_count": null,
      "outputs": [
        {
          "output_type": "stream",
          "name": "stdout",
          "text": [
            "782/782 [==============================] - 38s 48ms/step - loss: 0.6494 - acc: 0.8166\n"
          ]
        },
        {
          "output_type": "execute_result",
          "data": {
            "text/plain": [
              "[0.6494050025939941, 0.8166400194168091]"
            ]
          },
          "metadata": {},
          "execution_count": 22
        }
      ]
    },
    {
      "cell_type": "markdown",
      "metadata": {
        "id": "VTmZ_XiZguM5"
      },
      "source": [
        "- 전체 시퀀스가 아니라 순서대로 500개의 단어만 입력했기 때문에 성능이 낮게 나옴\n",
        "\n",
        "- SimpleRNN은 긴 시퀀스를 처리하는데 적합하지 않음\n",
        "\n",
        "- SimpleRNN은 실전에 사용하기엔 너무 단순\n",
        "\n",
        "- SimpleRNN은 이론적으로 시간 $t$ 에서 이전의 모든 타임스텝의 정보를 유지할 수 있지만, 실제로는 긴 시간에 걸친 의존성은 학습할 수 없음\n",
        "\n",
        "- 그래디언트 소실 문제(vanishing gradient problem)\n",
        "  - 이를 방지하기 위해 LSTM, GRU 같은 레이어 등장\n",
        "\n"
      ]
    },
    {
      "cell_type": "markdown",
      "metadata": {
        "id": "oZXJIdDai7sV"
      },
      "source": [
        "# LSTM(Long Short-Term Memory)\n",
        "- 장단기 메모리 알고리즘\n",
        "\n",
        "- 나중을 위해 정보를 저장함으로써 오래된 시그널이 점차 소실되는 것을 막아줌\n",
        "\n",
        "  <img src=\"https://colah.github.io/posts/2015-08-Understanding-LSTMs/img/LSTM3-chain.png\">\n",
        "\n",
        "  <sub>출처: https://colah.github.io/posts/2015-08-Understanding-LSTMs/</sub>"
      ]
    },
    {
      "cell_type": "markdown",
      "metadata": {
        "id": "j3afhQOUlqG9"
      },
      "source": [
        "## IMDB 데이터"
      ]
    },
    {
      "cell_type": "markdown",
      "metadata": {
        "id": "tZOCK6EQl1QI"
      },
      "source": [
        "### 데이터 로드"
      ]
    },
    {
      "cell_type": "code",
      "metadata": {
        "id": "00ZS9v3YmT_H"
      },
      "source": [
        "from keras.datasets import imdb\n",
        "from keras.utils import pad_sequences"
      ],
      "execution_count": null,
      "outputs": []
    },
    {
      "cell_type": "code",
      "metadata": {
        "id": "UW-VG35_gwmt",
        "colab": {
          "base_uri": "https://localhost:8080/"
        },
        "outputId": "8ca41e3a-8b44-4648-8d42-4b106598b753"
      },
      "source": [
        "num_words = 10000\n",
        "max_len = 500\n",
        "batch_size = 32\n",
        "\n",
        "(input_train, y_train), (input_test, y_test) = imdb.load_data(num_words=num_words)\n",
        "print(len(input_train))\n",
        "print(len(input_test))\n",
        "\n",
        "pad_x_train = pad_sequences(input_train, maxlen=max_len)\n",
        "pad_x_test = pad_sequences(input_test, maxlen=max_len)\n",
        "print(input_train.shape)\n",
        "print(input_test.shape)"
      ],
      "execution_count": null,
      "outputs": [
        {
          "output_type": "stream",
          "name": "stdout",
          "text": [
            "25000\n",
            "25000\n",
            "(25000,)\n",
            "(25000,)\n"
          ]
        }
      ]
    },
    {
      "cell_type": "markdown",
      "metadata": {
        "id": "uo8uhFyBl2k-"
      },
      "source": [
        "### 모델 구성"
      ]
    },
    {
      "cell_type": "code",
      "metadata": {
        "id": "tFkAN2Dzl3GC"
      },
      "source": [
        "from keras.models import Sequential\n",
        "from keras.layers import Dense, LSTM, GRU, Embedding"
      ],
      "execution_count": null,
      "outputs": []
    },
    {
      "cell_type": "code",
      "metadata": {
        "id": "TPr9Ec-El50W",
        "colab": {
          "base_uri": "https://localhost:8080/"
        },
        "outputId": "fa24b9e1-8835-4bd8-83a5-1046d3ba282e"
      },
      "source": [
        "model = Sequential()\n",
        "\n",
        "model.add(Embedding(input_dim = num_words, output_dim = 32))\n",
        "model.add(LSTM(32))\n",
        "model.add(Dense(1, activation='sigmoid'))\n",
        "\n",
        "model.compile(\n",
        "    optimizer = 'rmsprop',\n",
        "    loss = 'binary_crossentropy',\n",
        "    metrics = ['acc']\n",
        ")\n",
        "\n",
        "model.summary()"
      ],
      "execution_count": null,
      "outputs": [
        {
          "output_type": "stream",
          "name": "stdout",
          "text": [
            "Model: \"sequential_7\"\n",
            "_________________________________________________________________\n",
            " Layer (type)                Output Shape              Param #   \n",
            "=================================================================\n",
            " embedding_7 (Embedding)     (None, None, 32)          320000    \n",
            "                                                                 \n",
            " lstm_1 (LSTM)               (None, 32)                8320      \n",
            "                                                                 \n",
            " dense_2 (Dense)             (None, 1)                 33        \n",
            "                                                                 \n",
            "=================================================================\n",
            "Total params: 328,353\n",
            "Trainable params: 328,353\n",
            "Non-trainable params: 0\n",
            "_________________________________________________________________\n"
          ]
        }
      ]
    },
    {
      "cell_type": "markdown",
      "metadata": {
        "id": "vAPnX6ACmenz"
      },
      "source": [
        "### 모델 학습"
      ]
    },
    {
      "cell_type": "code",
      "metadata": {
        "id": "FGWhqX5GmNeR",
        "colab": {
          "base_uri": "https://localhost:8080/"
        },
        "outputId": "e7935db3-2a2f-493f-f4d6-6bf65ca2081e"
      },
      "source": [
        "history = model.fit(\n",
        "    pad_x_train, y_train,\n",
        "    epochs = 10,\n",
        "    batch_size = 128,\n",
        "    validation_split = 0.2\n",
        ")"
      ],
      "execution_count": null,
      "outputs": [
        {
          "output_type": "stream",
          "name": "stdout",
          "text": [
            "Epoch 1/10\n",
            "157/157 [==============================] - 24s 133ms/step - loss: 0.5909 - acc: 0.6812 - val_loss: 0.4450 - val_acc: 0.8100\n",
            "Epoch 2/10\n",
            "157/157 [==============================] - 18s 113ms/step - loss: 0.3634 - acc: 0.8479 - val_loss: 0.3753 - val_acc: 0.8438\n",
            "Epoch 3/10\n",
            "157/157 [==============================] - 13s 81ms/step - loss: 0.2753 - acc: 0.8936 - val_loss: 0.2952 - val_acc: 0.8812\n",
            "Epoch 4/10\n",
            "157/157 [==============================] - 15s 95ms/step - loss: 0.2277 - acc: 0.9127 - val_loss: 0.2891 - val_acc: 0.8818\n",
            "Epoch 5/10\n",
            "157/157 [==============================] - 17s 111ms/step - loss: 0.2015 - acc: 0.9260 - val_loss: 0.3522 - val_acc: 0.8604\n",
            "Epoch 6/10\n",
            "157/157 [==============================] - 8s 49ms/step - loss: 0.1832 - acc: 0.9335 - val_loss: 0.3138 - val_acc: 0.8660\n",
            "Epoch 7/10\n",
            "157/157 [==============================] - 7s 44ms/step - loss: 0.1604 - acc: 0.9436 - val_loss: 0.3482 - val_acc: 0.8678\n",
            "Epoch 8/10\n",
            "157/157 [==============================] - 6s 37ms/step - loss: 0.1477 - acc: 0.9481 - val_loss: 0.4017 - val_acc: 0.8522\n",
            "Epoch 9/10\n",
            "157/157 [==============================] - 7s 43ms/step - loss: 0.1352 - acc: 0.9553 - val_loss: 0.3350 - val_acc: 0.8794\n",
            "Epoch 10/10\n",
            "157/157 [==============================] - 6s 39ms/step - loss: 0.1187 - acc: 0.9590 - val_loss: 0.3940 - val_acc: 0.8628\n"
          ]
        }
      ]
    },
    {
      "cell_type": "markdown",
      "metadata": {
        "id": "gFiE5SpPmh_x"
      },
      "source": [
        "### 시각화"
      ]
    },
    {
      "cell_type": "code",
      "metadata": {
        "id": "jwQ6ZYHTyXHS",
        "colab": {
          "base_uri": "https://localhost:8080/",
          "height": 453
        },
        "outputId": "a10230e0-b06f-43d9-ecf7-2f50331dea6a"
      },
      "source": [
        "loss = history.history['loss']\n",
        "val_loss = history.history['val_loss']\n",
        "acc = history.history['acc']\n",
        "val_acc = history.history['val_acc']\n",
        "\n",
        "epochs = range(1, len(loss)+1)\n",
        "\n",
        "fig = plt.figure(figsize = (9,6))\n",
        "ax1 = fig.add_subplot(1,2,1)\n",
        "ax2 = fig.add_subplot(1,2,2)\n",
        "\n",
        "ax1.plot(epochs, loss, 'b--', label = 'training loss')\n",
        "ax1.plot(epochs, val_loss, 'r:', label = 'validation loss')\n",
        "ax1.legend()\n",
        "ax1.set_xlabel('Epoch')\n",
        "ax1.set_ylabel('Loss')\n",
        "ax1.set_title('Training Loss vs Validation Loss')\n",
        "\n",
        "ax2.plot(epochs, acc, 'b--', label = 'training accuracy')\n",
        "ax2.plot(epochs, val_acc, 'r:', label = 'validation accuracy')\n",
        "ax2.legend()\n",
        "ax2.set_xlabel('Epoch')\n",
        "ax2.set_ylabel('Accuracy')\n",
        "ax2.set_title('Training Accuracy vs Validation Accuracy')\n",
        "\n",
        "plt.show();"
      ],
      "execution_count": null,
      "outputs": [
        {
          "output_type": "display_data",
          "data": {
            "text/plain": [
              "<Figure size 900x600 with 2 Axes>"
            ],
            "image/png": "[encoded data removed]"
          },
          "metadata": {}
        }
      ]
    },
    {
      "cell_type": "markdown",
      "metadata": {
        "id": "NiZ6uiUPyXHN"
      },
      "source": [
        "### 모델 평가"
      ]
    },
    {
      "cell_type": "code",
      "metadata": {
        "id": "DZjW6iOV3k-J",
        "colab": {
          "base_uri": "https://localhost:8080/"
        },
        "outputId": "14f87bd5-8dae-473b-a70e-3fbe0e64dfda"
      },
      "source": [
        "model.evaluate(pad_x_test, y_test)"
      ],
      "execution_count": null,
      "outputs": [
        {
          "output_type": "stream",
          "name": "stdout",
          "text": [
            "782/782 [==============================] - 6s 8ms/step - loss: 0.4050 - acc: 0.8582\n"
          ]
        },
        {
          "output_type": "execute_result",
          "data": {
            "text/plain": [
              "[0.4049951136112213, 0.858240008354187]"
            ]
          },
          "metadata": {},
          "execution_count": 31
        }
      ]
    },
    {
      "cell_type": "markdown",
      "metadata": {
        "id": "Dc0wuvArGHgD"
      },
      "source": [
        "# GRU (Gated Recurrent Unit)\n",
        "- LSTM을 더 단순하게 만든 구조\n",
        "\n",
        "- 기억 셀은 없고, 시간방향으로 전파하는 것은 은닉 상태만 있음\n",
        "\n",
        "- reset gate\n",
        "  - 과거의 은닉 상태를 얼마나 무시할지 결정\n",
        "\n",
        "  - $r$ 값이 결정\n",
        "\n",
        "- update gate\n",
        "  -  은닉 상태를 갱신하는 게이트  \n",
        "\n",
        "  - LSTM의 forget, input gate 역할을 동시에 함\n",
        "  \n",
        "  <img src=\"https://miro.medium.com/max/1400/1*jhi5uOm9PvZfmxvfaCektw.png\" width=\"500\">\n",
        "\n",
        "<sub>출처: https://towardsdatascience.com/illustrated-guide-to-lstms-and-gru-s-a-step-by-step-explanation-44e9eb85bf21</sub>\n",
        "\n",
        "  ### $\\qquad z = \\sigma (x_t W^{(z)}_x + h_{t-1} W^{(z)}_h + b^{(z)} \\\\\n",
        "  \\qquad r = \\sigma (x_t W^{(r)}_x + h_{t-1} W^{(r)}_h + b^{(r)}) \\\\\n",
        "  \\qquad \\tilde{i} = tanh (x_t W^{(i)}_x + (r \\odot h_{t-1}) W^{(i)}_h + b ) \\\\\n",
        "  \\qquad h_t = (1 - z) \\odot h_{t-1} + z \\odot \\tilde{h}$\n"
      ]
    },
    {
      "cell_type": "markdown",
      "metadata": {
        "id": "TvnFLeqSsOSh"
      },
      "source": [
        "## Reuters 데이터\n",
        "\n",
        "- IMDB와 유사한 데이터셋(텍스트 데이터)\n",
        "\n",
        "- 46개의 상호 배타적인 토픽으로 이루어진 데이터셋\n",
        "  - 다중 분류 문제\n"
      ]
    },
    {
      "cell_type": "markdown",
      "metadata": {
        "id": "ONPaMDFEsftq"
      },
      "source": [
        "### 데이터셋 로드"
      ]
    },
    {
      "cell_type": "code",
      "metadata": {
        "id": "sFyvFVizsUVD"
      },
      "source": [
        "from tensorflow.keras.datasets import reuters"
      ],
      "execution_count": null,
      "outputs": []
    },
    {
      "cell_type": "code",
      "metadata": {
        "id": "C234q3AVsUSp",
        "colab": {
          "base_uri": "https://localhost:8080/"
        },
        "outputId": "f5792ec1-126a-4022-b1f0-8c5f42f4664d"
      },
      "source": [
        "num_words = 10000\n",
        "\n",
        "(x_train, y_train), (x_test, y_test) = reuters.load_data(num_words = num_words)\n",
        "print(x_train.shape)\n",
        "print(y_train.shape)\n",
        "print(x_test.shape)\n",
        "print(y_test.shape)"
      ],
      "execution_count": null,
      "outputs": [
        {
          "output_type": "stream",
          "name": "stdout",
          "text": [
            "Downloading data from https://storage.googleapis.com/tensorflow/tf-keras-datasets/reuters.npz\n",
            "2110848/2110848 [==============================] - 1s 0us/step\n",
            "(8982,)\n",
            "(8982,)\n",
            "(2246,)\n",
            "(2246,)\n"
          ]
        }
      ]
    },
    {
      "cell_type": "markdown",
      "metadata": {
        "id": "VioYGD8Ms4zH"
      },
      "source": [
        "### 데이터 전처리 및 확인"
      ]
    },
    {
      "cell_type": "code",
      "metadata": {
        "id": "2Sb0OxNlsUQT"
      },
      "source": [
        "from keras.utils import pad_sequences"
      ],
      "execution_count": null,
      "outputs": []
    },
    {
      "cell_type": "code",
      "metadata": {
        "id": "rNUkve6-sUN6"
      },
      "source": [
        "max_len = 300"
      ],
      "execution_count": null,
      "outputs": []
    },
    {
      "cell_type": "code",
      "metadata": {
        "id": "jBxQZtOJsULl",
        "colab": {
          "base_uri": "https://localhost:8080/"
        },
        "outputId": "0c775fcd-7113-4788-af74-0f09f269dc8b"
      },
      "source": [
        "pad_x_train = pad_sequences(x_train, maxlen=max_len)\n",
        "pad_x_test = pad_sequences(x_test, maxlen=max_len)\n",
        "\n",
        "print(len(pad_x_train[0]))"
      ],
      "execution_count": null,
      "outputs": [
        {
          "output_type": "stream",
          "name": "stdout",
          "text": [
            "300\n"
          ]
        }
      ]
    },
    {
      "cell_type": "code",
      "metadata": {
        "id": "a6hwQtn_sUJN",
        "colab": {
          "base_uri": "https://localhost:8080/"
        },
        "outputId": "178de556-e38c-4dd4-cd46-94cfb69a60d6"
      },
      "source": [
        "pad_x_train[5]"
      ],
      "execution_count": null,
      "outputs": [
        {
          "output_type": "execute_result",
          "data": {
            "text/plain": [
              "array([   0,    0,    0,    0,    0,    0,    0,    0,    0,    0,    0,\n",
              "          0,    0,    0,    0,    0,    0,    0,    0,    0,    0,    0,\n",
              "          0,    0,    0,    0,    0,    0,    0,    0,    0,    0,    0,\n",
              "          0,    0,    0,    0,    0,    0,    0,    0,    0,    0,    0,\n",
              "          0,    0,    0,    0,    0,    0,    0,    0,    0,    0,    0,\n",
              "          0,    0,    0,    0,    0,    0,    0,    0,    0,    0,    0,\n",
              "          0,    0,    0,    0,    0,    0,    0,    0,    0,    0,    0,\n",
              "          0,    0,    0,    0,    0,    0,    0,    0,    0,    0,    0,\n",
              "          0,    0,    0,    0,    0,    0,    0,    0,    0,    0,    0,\n",
              "          0,    0,    0,    0,    0,    0,    0,    0,    0,    0,    0,\n",
              "          0,    0,    0,    0,    0,    0,    0,    0,    0,    0,    0,\n",
              "          0,    0,    0,    0,    0,    0,    0,    0,    0,    0,    0,\n",
              "          0,    0,    0,    0,    0,    0,    0,    0,    0,    0,    0,\n",
              "          0,    0,    0,    0,    0,    0,    0,    0,    0,    0,    0,\n",
              "          0,    0,    0,    0,    0,    0,    0,    0,    0,    0,    0,\n",
              "          0,    0,    0,    0,    0,    0,    0,    0,    0,    0,    0,\n",
              "          0,    0,    0,    0,    0,    0,    0,    0,    1,    4,   37,\n",
              "         38,  309,  213,  349, 1632,   48,  193,  229,  463,   28,  156,\n",
              "        635,   11,   82,   14,  156,  635,   11,   82,   54,  139,   16,\n",
              "        349,  105,  462,  311,   28,  296,  147,   11,   82,   14,  296,\n",
              "        147,   11,   54,  139,  342,   48,  193, 3234,  361,  122,   23,\n",
              "       1332,   28,  318,  942,   11,   82,   14,  318,  942,   11,   82,\n",
              "         54,  139,  122,    7,  105,  462,   23,  349,   28,  296,  767,\n",
              "         11,   82,   14,  296,  767,   11,   54,  139,  342,  229,  162,\n",
              "          7,   48,  193,   55,  408,   28,  258,  557,   11,   82,   14,\n",
              "        196,  557,   11,   82,   54,  139,  162,    7,  105,  462,   55,\n",
              "        349,   28,  191,  968,   11,   82,   14,  191,  785,   11,   54,\n",
              "        139,   17,   12], dtype=int32)"
            ]
          },
          "metadata": {},
          "execution_count": 38
        }
      ]
    },
    {
      "cell_type": "markdown",
      "metadata": {
        "id": "_P_JxBFntQOP"
      },
      "source": [
        "### 모델 구성\n",
        "- LSTM 레이어도 SimpleRNN과 같이 `return_sequences` 인자 사용가능"
      ]
    },
    {
      "cell_type": "code",
      "metadata": {
        "id": "1vG3ZGSksUG5"
      },
      "source": [
        "from keras.models import Sequential\n",
        "from keras.layers import GRU, LSTM, Embedding"
      ],
      "execution_count": null,
      "outputs": []
    },
    {
      "cell_type": "code",
      "metadata": {
        "id": "K_uMdxmysUEg",
        "colab": {
          "base_uri": "https://localhost:8080/"
        },
        "outputId": "0d16bb3a-7117-4eb1-cac4-d4bb3976225a"
      },
      "source": [
        "model = Sequential()\n",
        "\n",
        "model.add(Embedding(input_dim=num_words, output_dim=256))\n",
        "\n",
        "model.add(GRU(256, return_sequences=True))\n",
        "model.add(GRU(128))\n",
        "model.add(Dense(46, activation='softmax'))\n",
        "\n",
        "model.compile(optimizer = 'adam',\n",
        "              loss = 'sparse_categorical_crossentropy',\n",
        "              metrics = ['acc'])\n",
        "\n",
        "model.summary()"
      ],
      "execution_count": null,
      "outputs": [
        {
          "output_type": "stream",
          "name": "stdout",
          "text": [
            "Model: \"sequential_8\"\n",
            "_________________________________________________________________\n",
            " Layer (type)                Output Shape              Param #   \n",
            "=================================================================\n",
            " embedding_8 (Embedding)     (None, None, 256)         2560000   \n",
            "                                                                 \n",
            " gru (GRU)                   (None, None, 256)         394752    \n",
            "                                                                 \n",
            " gru_1 (GRU)                 (None, 128)               148224    \n",
            "                                                                 \n",
            " dense_3 (Dense)             (None, 46)                5934      \n",
            "                                                                 \n",
            "=================================================================\n",
            "Total params: 3,108,910\n",
            "Trainable params: 3,108,910\n",
            "Non-trainable params: 0\n",
            "_________________________________________________________________\n"
          ]
        }
      ]
    },
    {
      "cell_type": "markdown",
      "metadata": {
        "id": "qjgupW2puHXA"
      },
      "source": [
        "### 모델 학습"
      ]
    },
    {
      "cell_type": "code",
      "metadata": {
        "id": "T22YsRQ8sUBg",
        "colab": {
          "base_uri": "https://localhost:8080/"
        },
        "outputId": "992e8354-0446-44aa-ca2a-419dfb8cf8f2"
      },
      "source": [
        "history = model.fit(\n",
        "        pad_x_train, y_train,\n",
        "        batch_size = 32,\n",
        "        epochs = 20,\n",
        "        validation_split = 0.2\n",
        ")"
      ],
      "execution_count": null,
      "outputs": [
        {
          "output_type": "stream",
          "name": "stdout",
          "text": [
            "Epoch 1/20\n",
            "225/225 [==============================] - 63s 260ms/step - loss: 2.1998 - acc: 0.4328 - val_loss: 2.3463 - val_acc: 0.3450\n",
            "Epoch 2/20\n",
            "225/225 [==============================] - 34s 150ms/step - loss: 1.7303 - acc: 0.5548 - val_loss: 1.5657 - val_acc: 0.6138\n",
            "Epoch 3/20\n",
            "225/225 [==============================] - 25s 111ms/step - loss: 1.3265 - acc: 0.6619 - val_loss: 1.3554 - val_acc: 0.6578\n",
            "Epoch 4/20\n",
            "225/225 [==============================] - 21s 91ms/step - loss: 1.0105 - acc: 0.7439 - val_loss: 1.2317 - val_acc: 0.7051\n",
            "Epoch 5/20\n",
            "225/225 [==============================] - 16s 71ms/step - loss: 0.7689 - acc: 0.8035 - val_loss: 1.2359 - val_acc: 0.7179\n",
            "Epoch 6/20\n",
            "225/225 [==============================] - 11s 50ms/step - loss: 0.5837 - acc: 0.8547 - val_loss: 1.2756 - val_acc: 0.7095\n",
            "Epoch 7/20\n",
            "225/225 [==============================] - 12s 52ms/step - loss: 0.4568 - acc: 0.8870 - val_loss: 1.3224 - val_acc: 0.7006\n",
            "Epoch 8/20\n",
            "225/225 [==============================] - 11s 51ms/step - loss: 0.3618 - acc: 0.9140 - val_loss: 1.2948 - val_acc: 0.7223\n",
            "Epoch 9/20\n",
            "225/225 [==============================] - 10s 44ms/step - loss: 0.2871 - acc: 0.9314 - val_loss: 1.3969 - val_acc: 0.7162\n",
            "Epoch 10/20\n",
            "225/225 [==============================] - 11s 48ms/step - loss: 0.2348 - acc: 0.9439 - val_loss: 1.3594 - val_acc: 0.7234\n",
            "Epoch 11/20\n",
            "225/225 [==============================] - 10s 45ms/step - loss: 0.1976 - acc: 0.9513 - val_loss: 1.4568 - val_acc: 0.7106\n",
            "Epoch 12/20\n",
            "225/225 [==============================] - 10s 44ms/step - loss: 0.1671 - acc: 0.9582 - val_loss: 1.4645 - val_acc: 0.7184\n",
            "Epoch 13/20\n",
            "225/225 [==============================] - 10s 45ms/step - loss: 0.1518 - acc: 0.9555 - val_loss: 1.4863 - val_acc: 0.7245\n",
            "Epoch 14/20\n",
            "225/225 [==============================] - 9s 42ms/step - loss: 0.1371 - acc: 0.9619 - val_loss: 1.4881 - val_acc: 0.7268\n",
            "Epoch 15/20\n",
            "225/225 [==============================] - 9s 38ms/step - loss: 0.1235 - acc: 0.9599 - val_loss: 1.5789 - val_acc: 0.7106\n",
            "Epoch 16/20\n",
            "225/225 [==============================] - 10s 43ms/step - loss: 0.1136 - acc: 0.9626 - val_loss: 1.6250 - val_acc: 0.7190\n",
            "Epoch 17/20\n",
            "225/225 [==============================] - 9s 38ms/step - loss: 0.1089 - acc: 0.9621 - val_loss: 1.6374 - val_acc: 0.7168\n",
            "Epoch 18/20\n",
            "225/225 [==============================] - 9s 41ms/step - loss: 0.1000 - acc: 0.9638 - val_loss: 1.6447 - val_acc: 0.7062\n",
            "Epoch 19/20\n",
            "225/225 [==============================] - 9s 39ms/step - loss: 0.0965 - acc: 0.9620 - val_loss: 1.6890 - val_acc: 0.7106\n",
            "Epoch 20/20\n",
            "225/225 [==============================] - 9s 40ms/step - loss: 0.0929 - acc: 0.9608 - val_loss: 1.7110 - val_acc: 0.7051\n"
          ]
        }
      ]
    },
    {
      "cell_type": "markdown",
      "metadata": {
        "id": "JGZhIiYeuSCD"
      },
      "source": [
        "### 시각화"
      ]
    },
    {
      "cell_type": "code",
      "metadata": {
        "id": "INJu0-itsT_T",
        "colab": {
          "base_uri": "https://localhost:8080/",
          "height": 453
        },
        "outputId": "67ce66a0-3945-4f83-caa9-218cab9fcb33"
      },
      "source": [
        "loss = history.history['loss']\n",
        "val_loss = history.history['val_loss']\n",
        "acc = history.history['acc']\n",
        "val_acc = history.history['val_acc']\n",
        "\n",
        "epochs = range(1, len(loss)+1)\n",
        "\n",
        "fig = plt.figure(figsize = (9,6))\n",
        "ax1 = fig.add_subplot(1,2,1)\n",
        "ax2 = fig.add_subplot(1,2,2)\n",
        "\n",
        "ax1.plot(epochs, loss, 'b--', label = 'training loss')\n",
        "ax1.plot(epochs, val_loss, 'r:', label = 'validation loss')\n",
        "ax1.legend()\n",
        "ax1.set_xlabel('Epoch')\n",
        "ax1.set_ylabel('Loss')\n",
        "ax1.set_title('Training Loss vs Validation Loss')\n",
        "\n",
        "ax2.plot(epochs, acc, 'b--', label = 'training accuracy')\n",
        "ax2.plot(epochs, val_acc, 'r:', label = 'validation accuracy')\n",
        "ax2.legend()\n",
        "ax2.set_xlabel('Epoch')\n",
        "ax2.set_ylabel('Accuracy')\n",
        "ax2.set_title('Training Accuracy vs Validation Accuracy')\n",
        "\n",
        "plt.show();"
      ],
      "execution_count": null,
      "outputs": [
        {
          "output_type": "display_data",
          "data": {
            "text/plain": [
              "<Figure size 900x600 with 2 Axes>"
            ],
            "image/png": "[encoded data removed]"
          },
          "metadata": {}
        }
      ]
    },
    {
      "cell_type": "markdown",
      "metadata": {
        "id": "dLZLATDBuTtj"
      },
      "source": [
        "### 모델 평가\n"
      ]
    },
    {
      "cell_type": "code",
      "metadata": {
        "id": "SVxVV-kmsT6D",
        "colab": {
          "base_uri": "https://localhost:8080/"
        },
        "outputId": "6b19c243-d64f-43ce-be5c-1ca87bb062fc"
      },
      "source": [
        "model.evaluate(pad_x_test, y_test)"
      ],
      "execution_count": null,
      "outputs": [
        {
          "output_type": "stream",
          "name": "stdout",
          "text": [
            "71/71 [==============================] - 1s 14ms/step - loss: 1.7509 - acc: 0.7035\n"
          ]
        },
        {
          "output_type": "execute_result",
          "data": {
            "text/plain": [
              "[1.7509499788284302, 0.7034728527069092]"
            ]
          },
          "metadata": {},
          "execution_count": 44
        }
      ]
    }
  ]
}